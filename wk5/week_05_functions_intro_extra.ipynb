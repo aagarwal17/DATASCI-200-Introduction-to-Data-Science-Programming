{
 "cells": [
  {
   "cell_type": "markdown",
   "metadata": {},
   "source": [
    "<h2>Functions &amp; Recursion Extra Notebook Demos</h2>\n",
    "<hr />\n",
    "<p>This extra, optional notebook has scripts to demonstrate a variety of activities: working from pseudocode to actual code, looking at functions; creating lambda functions and more.\n",
    "</p>\n",
    "<hr />\n",
    "<p>In the first example, we want to combine skills with lists, parsing, and pseudocoding to create a nice function-based solution to validate characters in a password.</p>\n",
    "<hr />\n",
    "<p>Pseudocode:<blockquote>\n",
    "valid_password function:\n",
    "    <ul><li>set the <code style=\"color:cornflowerblue\">correct_length</code> var to <code style=\"color:red\">false</code></li>\n",
    "        <li>set the <code style=\"color:cornflowerblue\">has_uppercase</code> var to <code style=\"color:red\">false</code></li>\n",
    "        <li>set the <code style=\"color:cornflowerblue\">has_lowercase</code> variable to <code style=\"color:red\">false</code></li>\n",
    "        <li>set the <code style=\"color:cornflowerblue\">has_digital</code> var to <code style=\"color:red\">false</code></li>\n",
    "        <li>If the password&rsquo;s length is 7 chars or greater:\n",
    "            <ul><li>Set the <code style=\"color:cornflowerblue\">correct_length</code> to <code style=\"color:green\">true</code></li>\n",
    "                <li>for each character in the password:\n",
    "                    <ul><li>if the character is uppercase:\n",
    "                        <ul><li>set the <code style=\"color:cornflowerblue\">has_uppercase</code> to <code style=\"color:green\">true</code>\n",
    "                            </li>\n",
    "                        </ul>\n",
    "                        </li>\n",
    "                    </ul>\n",
    "                    <ul>\n",
    "                        <li>if the char is a lowercase letter:\n",
    "                            <ul><li>set the <code style=\"color:cornflowerblue\">has_lowercase</code> to <code style=\"color:green\">true</code></li></ul>\n",
    "                        </li>\n",
    "                    </ul>\n",
    "                    <ul><li>if the character is a digit<ul>\n",
    "                        <li>set the <code style=\"color:cornflowerblue\">has_digit</code> variable to <code style=\"color:green\">true</code>\n",
    "                        </li>\n",
    "                        </ul>\n",
    "                    </ul>\n",
    "                </li>\n",
    "            </ul>\n",
    "        <li>if <code style=\"color:cornflowerblue\">correct_length</code> and <code style=\"color:cornflowerblue\">has_uppercase</code> and <code style=\"color:cornflowerblue\">has_lowercase</code> and <code style=\"color:cornflowerblue\">has_digit</code>:\n",
    "            <ul><li>set the <code style=\"color:cornflowerblue\">is_valid</code> variable to <code style=\"color:green\">true</code></li>\n",
    "                <li>else set the <code style=\"color:cornflowerblue\">is_valid</code> variable to <code style=\"color:red\">false</code></li>\n",
    "            </ul>\n",
    "        </li>\n",
    "        <li>Return the is_valid variable</li>\n",
    "    </ul>\n",
    "                            \n",
    "                        \n",
    "    "
   ]
  },
  {
   "cell_type": "code",
   "execution_count": null,
   "metadata": {},
   "outputs": [],
   "source": [
    "\"\"\" Input: the get_login_name function accepts a first name, a last name, and ID as arguments.\n",
    "    Return: a system login name. \"\"\"\n",
    "\n",
    "\"\"\" NOTE: if you save this code in a separate file, say login.py, \n",
    "    you can later <strong>import</strong> it as a module.  See below. \"\"\"\n",
    "\n",
    "def get_login_name(first, last, idno):\n",
    "    # get the first 3 letters of the first name.\n",
    "    # if the name is less than 3 chars, the slide will return entire first name.\n",
    "    set1 = first[0:3]\n",
    "    \n",
    "    # get the first three of last name ... \n",
    "    set2 = last[0:3]\n",
    "    \n",
    "    # get ID, if < 3, return entire ID\n",
    "    set3 = idno[-3:]\n",
    "    \n",
    "    # concatenate\n",
    "    login_name = set1 + set2 + set3\n",
    "    \n",
    "    # return the login_name\n",
    "    return login_name\n",
    "\n",
    "\"\"\" The valid_password function accepts a passwor as an argument and returns either true or false. \n",
    "    The password must have at least 7 letters, at least one upper case and one lower case, and \n",
    "    one digit.\n",
    "\"\"\"\n",
    "def valid_password(password):\n",
    "    # set the boolean vars to false to get ready ...\n",
    "    correct_length = False\n",
    "    has_uppercase = False\n",
    "    has_lowercase = False\n",
    "    has_digit = False\n",
    "    \n",
    "    # begin validation test:\n",
    "    if len(password) >= 7:\n",
    "        correct_length = True\n",
    "        \n",
    "        \"\"\" Test each char and set appropriate flag when required char is found \"\"\"\n",
    "        for ch in password:\n",
    "            if ch.isupper():\n",
    "                has_uppercase = True\n",
    "            if ch.islower():\n",
    "                has_lowercase = True\n",
    "            if ch.isdigit():\n",
    "                has_digit = True\n",
    "        \n",
    "        \"\"\" are all requirements met?  if so, set is_valid to true \"\"\"\n",
    "        if correct_length and has_uppercase and \\\n",
    "            has_lowercase and has_digit:\n",
    "            is_valid = True\n",
    "        else:\n",
    "            is_valid = False\n",
    "            \n",
    "        return is_valid"
   ]
  },
  {
   "cell_type": "markdown",
   "metadata": {},
   "source": [
    "<p>Now we want to write a little code to validate the password.  Notice the import statement.  It&rsquo;s not used here in the notebook, but if you had a separate .py file, say \"validate_password.py\", you could import the code from the above as a module.</p>\n",
    "<p>Note line 10 below: if we imported the login module, we would write <code>while not  login.valid_password(password)</code>"
   ]
  },
  {
   "cell_type": "code",
   "execution_count": 2,
   "metadata": {},
   "outputs": [
    {
     "name": "stdout",
     "output_type": "stream",
     "text": [
      "Enter your password: fishlips##\n",
      "Sorry, that's not a valid password.\n",
      "Enter your password again: FishSticks99\n",
      "---------------------------------------- Thanks. The password seems legit.\n"
     ]
    }
   ],
   "source": [
    "# this program gets the password from the user and validates it.\n",
    "\n",
    "# import login \"\"\" this is a reference to the above snippet if used as a separate .py file \"\"\"\n",
    "\n",
    "def main():\n",
    "    # get the password from the enduser\n",
    "    password = input(\"Enter your password: \")\n",
    "    \n",
    "    # validate - notice we could use while not login.valid_password(password)\n",
    "    while not valid_password(password):\n",
    "        print(\"Sorry, that's not a valid password.\")\n",
    "        password = input(\"Enter your password again: \")\n",
    "    \n",
    "    print(f\"-\"*40,\"Thanks. The password seems legit.\")\n",
    "\n",
    "# call the main function\n",
    "main()"
   ]
  },
  {
   "cell_type": "markdown",
   "metadata": {},
   "source": [
    "<hr />Here's another example of functions for discussion.  \n",
    "Note the features: <ul><li>importing a library</li>\n",
    "    <li>demo'ing a global variable and local variables</li>\n",
    "    <li>several functions with different number of arguments</li>\n",
    "    <li>using the defined functions in the order we wish, controlling 'em in a <code>main()</code> function</li>\n",
    "    <li>calling the functions when we wish by invoking the main()</li></ul>\n",
    "<p>Review the code.  Ignore the display commands - they're just for the notebook."
   ]
  },
  {
   "cell_type": "code",
   "execution_count": 1,
   "metadata": {},
   "outputs": [
    {
     "name": "stdout",
     "output_type": "stream",
     "text": [
      "\n",
      "Here's your new easy-to-break password: Jaclin666\n",
      "\n",
      "Were there any parameters?  2\n",
      "Here are the arguments from the command line: /Library/Frameworks/Python.framework/Versions/3.8/lib/python3.8/site-packages/ipykernel_launcher.py\n",
      "\n",
      "* Oh, no! An IndexError was thrown 'cause there aren't enough data passed.\n"
     ]
    },
    {
     "data": {
      "text/markdown": [
       "\n",
       "<text style=color:orange>\n",
       "------------------------------------------------------------\n",
       "That's it.</text> Notice the use of main() to start the show!\n"
      ],
      "text/plain": [
       "<IPython.core.display.Markdown object>"
      ]
     },
     "metadata": {},
     "output_type": "display_data"
    },
    {
     "data": {
      "text/markdown": [
       "\n",
       "<text style=color:red>About this script: demo of different functions.</text>\n"
      ],
      "text/plain": [
       "<IPython.core.display.Markdown object>"
      ]
     },
     "metadata": {},
     "output_type": "display_data"
    },
    {
     "data": {
      "text/markdown": [
       "\n",
       "<text style=color:red>\n",
       "No Parameters</text>: \n",
       "\tThis is a demo function that accepts no parameters and it does not return anything."
      ],
      "text/plain": [
       "<IPython.core.display.Markdown object>"
      ]
     },
     "metadata": {},
     "output_type": "display_data"
    },
    {
     "data": {
      "text/markdown": [
       "\n",
       "<text style=color:red>\n",
       "One parameter:</text> \n",
       "\tWelcome, to the function, Tom."
      ],
      "text/plain": [
       "<IPython.core.display.Markdown object>"
      ]
     },
     "metadata": {},
     "output_type": "display_data"
    },
    {
     "data": {
      "text/markdown": [
       "\n",
       "<text style=color:red>\n",
       "Parameter with two values - one default</text> (language).\n",
       "\tHey, Fifi.  Today we'll study EN."
      ],
      "text/plain": [
       "<IPython.core.display.Markdown object>"
      ]
     },
     "metadata": {},
     "output_type": "display_data"
    },
    {
     "data": {
      "text/markdown": [
       "\n",
       "<text style=color:red>Finding the highest value of two lists</text>; lists passed as parameters</text>.\n"
      ],
      "text/plain": [
       "<IPython.core.display.Markdown object>"
      ]
     },
     "metadata": {},
     "output_type": "display_data"
    },
    {
     "name": "stdout",
     "output_type": "stream",
     "text": [
      "\n",
      "\tThe maximum value in this list is: 明娃\n",
      "\n",
      "\tAnd the max for this one of integers is: 9\n"
     ]
    }
   ],
   "source": [
    "from IPython.display import Markdown, display\n",
    "import html\n",
    "\n",
    "\n",
    "\"\"\" Week 05: Functions:\n",
    " this script is for in-class discussion of the features and anatomy of a function\n",
    "\"\"\"\n",
    "\n",
    "import sys   # a demo for calling tools for the operating system\n",
    "\n",
    "\n",
    "# demo a global var and local versions\n",
    "l1 = [\"Tom\", \"Stan\", \"明娃\", \"Rex\", \"लक़समी\", \"Geraldo\"]\n",
    "\n",
    "# define functions demo'ing different approaches\n",
    "def about_me():\n",
    "    display(Markdown((f\"\\n<text style=color:red>About this script: demo of different functions.</text>\\n\")))\n",
    "\n",
    "def no_parameters():\n",
    "    display(Markdown((f\"\\n<text style=color:red>\\nNo Parameters</text>: \\n\\tThis is a demo function that accepts no parameters and it does not return anything.\")))\n",
    "\n",
    "\n",
    "def parameter_one(s):\n",
    "    display(Markdown((f\"\\n<text style=color:red>\\nOne parameter:</text> \\n\\tWelcome, to the function, {s}.\")))\n",
    "\n",
    "\n",
    "def parameter_two_with_default(name, lang = 'EN'):\n",
    "    \"\"\" note that the default follows other arguments \"\"\"\n",
    "    display(Markdown((f\"\\n<text style=color:red>\\nParameter with two values - one default</text> (language).\\n\\tHey, {name}.  Today we'll study {lang}.\")))\n",
    "\n",
    "def find_highest_value(l1, l2):\n",
    "    \"\"\" printing the highest values in two strings, passed as parameters\n",
    "        NOTE that l1 has global scope and l2 has local scope.\n",
    "    \"\"\"\n",
    "\n",
    "    display(Markdown((f\"\\n<text style=color:red>Finding the highest value of two lists</text>; lists passed as parameters</text>.\\n\")))\n",
    "    print(f\"\\n\\tThe maximum value in this list is: {max(l1)}\")\n",
    "    print(f\"\\n\\tAnd the max for this one of integers is: {max(l2)}\")\n",
    "    \n",
    "def return_string(f, l, id):\n",
    "    \"\"\" This function accepts a first name, last name, and an ID - and returns a password\n",
    "        takes the first 3 letters of each and jumbles 'em. \"\"\"\n",
    "    # for fun will test if id is int or string - we want to use a string\n",
    "    id = str(id)\n",
    "    # the first 3 characters of firstname are returned\n",
    "    # the 4 chars starting with the second letter and then \n",
    "    # ID will be less than 3 characters, else the entire ID\n",
    "    return f[0:3]+l[1:4]+id[-3:]\n",
    "\n",
    "\n",
    "def all_done():\n",
    "    display(Markdown((f\"\\n<text style=color:orange>\\n\"+\"-\"*60 + \"\\nThat's it.</text> Notice the use of main() to start the show!\\n\")))\n",
    "\n",
    "def main():\n",
    "    about_me()\n",
    "\n",
    "    # demos for class\n",
    "    no_parameters()\n",
    "    parameter_one(\"Tom\")\n",
    "    parameter_two_with_default(\"Fifi\")\n",
    "\n",
    "    # passing objects (two lists)\n",
    "    l2 = [5,3,1,4,2,6,6,9]\n",
    "    find_highest_value(l1, l2)\n",
    "\n",
    "# returning a value: passing data to the call to the function and wrapping back the answer\n",
    "print(f\"\\nHere's your new easy-to-break password: {return_string('Jack','Kline',6666)}\")\n",
    "\n",
    "# when starting the script you entered data from the command line, called system argument vector\n",
    "# the data are captured from the input in a variable called argv and accessed thru the library sys\n",
    "# note that we *could* use an if statement to \tif len(sys.argv)-1 > 0:\t\n",
    "\n",
    "try:\n",
    "    print(\"\\nWere there any parameters? \", len(sys.argv)-1)\n",
    "    print(\"Here are the arguments from the command line: \"+sys.argv[0])\n",
    "    print(f\"\\nHere's your new easy-to-break password: {return_string(sys.argv[1], sys.argv[2], sys.argv[3])}\")\n",
    "except IndexError:\n",
    "    print(\"\\n* Oh, no! An IndexError was thrown 'cause there aren't enough data passed.\")\n",
    "\n",
    "    # close up the script.\n",
    "    all_done()\n",
    "\n",
    "# call the main function\n",
    "main()"
   ]
  },
  {
   "cell_type": "markdown",
   "metadata": {},
   "source": [
    "<h2>Getting ready: using functions and file serialization</h2>\n",
    "    <p>This optional snippet is to demo data being saved and shared and the use of dictionaries with our imported data</p>\n",
    "    <i>Saving data, such as dictionaries, to a file should be <strong>serialized</strong>.  This means the data are converted to a stream of bytes that \n",
    "    are easier to save, retrieve, share. In python, the process of serialization is called <strong>pickling</strong>.  [Yeah, nerdy.]\n",
    "    Once you import the pickle module, you'll ...\n",
    "    <ul><li>open a file for binary writing, using the \"wb\" argument, for write-binary</li>\n",
    "    <li>call the pickle module's <code>dump</code> method to pickle the object and write it to the selected file</li>\n",
    "    <li>close the pickle jar (grin).\n",
    "        </li>\n",
    "    </ul>"
   ]
  },
  {
   "cell_type": "code",
   "execution_count": 1,
   "metadata": {},
   "outputs": [
    {
     "data": {
      "text/plain": [
       "' check your harddrive for your phonebook file. '"
      ]
     },
     "execution_count": 1,
     "metadata": {},
     "output_type": "execute_result"
    }
   ],
   "source": [
    "\"\"\" demo 1 for pickling \"\"\"\n",
    "import pickle\n",
    "\n",
    "phonebook = {'Chris': \"617-555-1212\",\n",
    "            'Tracy': \"408-123-4444\",\n",
    "            'Gunnar': \"510-333-9292\"}\n",
    "\n",
    "output_file = open(\"phonebook.dat\", \"wb\")\n",
    "pickle.dump(phonebook, output_file)\n",
    "output_file.close()\n",
    "\n",
    "\"\"\" check your harddrive for your phonebook file. \"\"\""
   ]
  },
  {
   "cell_type": "code",
   "execution_count": null,
   "metadata": {},
   "outputs": [],
   "source": [
    "\"\"\" demo 2 for pickling object \"\"\"\n",
    "import pickle\n",
    "\n",
    "# main function\n",
    "def main():\n",
    "    again = 'y'\n",
    "    \n",
    "    # open a file for binary writing.\n",
    "    output_file = open('catinfo.dat', 'wb')\n",
    "    \n",
    "    # accept data 'til user wants to stop. \n",
    "    while again.lower() == \"y\":\n",
    "        # get the data and save 'em (yes, \"data\" are plural; \"datum\" is the singular.)\n",
    "        save_data(output_file)\n",
    "        \n",
    "        # more data?\n",
    "        again = input(\"Enter more data [y/n]: \")\n",
    "    \n",
    "    # close the file.\n",
    "    output_file.close()\n",
    "\n",
    "# save_data function gets data and stores them in a dictionary.\n",
    "# then the dictionary is pickled to the file.\n",
    "def save_data(file):\n",
    "    # create an empty dictionary\n",
    "    cat = {}\n",
    "    \n",
    "    # get the data for the person and store 'em.\n",
    "    cat['name'] = input(\"Name: \")\n",
    "    cat['age']  = int(input(\"Age: \"))\n",
    "    cat['weight'] = float(input(\"Weight: \"))\n",
    "    \n",
    "    # pickle the dictionary\n",
    "    pickle.dump(cat, file)\n",
    "\n",
    "# now start the show by calling the main function\n",
    "main()"
   ]
  },
  {
   "cell_type": "markdown",
   "metadata": {},
   "source": [
    "<h1><hr />Playing with lambda and other functions</h1>"
   ]
  },
  {
   "cell_type": "code",
   "execution_count": 6,
   "metadata": {},
   "outputs": [
    {
     "name": "stdout",
     "output_type": "stream",
     "text": [
      "\n",
      "NOT sorted:\n",
      "Berkeley        / Oakland        \n",
      "San Francisco   / San José       \n",
      "Sacramento      / Stockton       \n",
      "San José        / Hayward        \n",
      "Merced          / Stockton       \n",
      "Los Feliz       / Santa Monica   \n",
      "Bakersfield     / Mojave         \n",
      "Long Beach      / Crenshaw       \n",
      "\n",
      "Sorted by KEY:\n",
      "Bakersfield     / Mojave         \n",
      "Berkeley        / Oakland        \n",
      "Long Beach      / Crenshaw       \n",
      "Los Feliz       / Santa Monica   \n",
      "Merced          / Stockton       \n",
      "Sacramento      / Stockton       \n",
      "San Francisco   / San José       \n",
      "San José        / Hayward        \n",
      "\n",
      "Sorted by VALUE:\n",
      "Long Beach      / Crenshaw       \n",
      "San José        / Hayward        \n",
      "Bakersfield     / Mojave         \n",
      "Berkeley        / Oakland        \n",
      "San Francisco   / San José       \n",
      "Los Feliz       / Santa Monica   \n",
      "Sacramento      / Stockton       \n",
      "Merced          / Stockton       \n"
     ]
    }
   ],
   "source": [
    "# Python 3 - sorting a list\n",
    "\n",
    "counties = {\n",
    "        \"Berkeley\":\"Oakland\", \"San Francisco\":\"San José\",\n",
    "        \"Sacramento\":\"Stockton\", \"San José\":\"Hayward\",\n",
    "        \"Merced\":\"Stockton\", \"Los Feliz\":\"Santa Monica\",\n",
    "        \"Bakersfield\":\"Mojave\",\"Long Beach\":\"Crenshaw\"}\n",
    "\n",
    "print(\"\\nNOT sorted:\")\n",
    "for town in counties.keys():\n",
    "        print (\"{:15s} / {:15s}\".format(town,counties[town]))\n",
    "\n",
    "print(\"\\nSorted by KEY:\")\n",
    "towns = list(counties.keys())\n",
    "towns.sort()\n",
    "for town in towns:\n",
    "    print (\"{:15s} / {:15s}\".format(town,counties[town]))\n",
    "\n",
    "print(\"\\nSorted by VALUE:\")\n",
    "towns = list(counties.keys())\n",
    "towns.sort(key = lambda x:counties[x])\n",
    "for town in towns:\n",
    "    print (\"{:15s} / {:15s}\".format(town,counties[town]))\n",
    "\n"
   ]
  },
  {
   "cell_type": "markdown",
   "metadata": {},
   "source": [
    "<hr /><h3><font color='red'>Another sort by key, but demo'ing lambda and integers versus numbers as strings.</font></h3>"
   ]
  },
  {
   "cell_type": "code",
   "execution_count": null,
   "metadata": {},
   "outputs": [],
   "source": [
    "\n",
    "\"\"\"\n",
    "* You cannot sort a dict\n",
    "* If you sort a list of strings that are digits, you don't get a numeric sort by default\n",
    "\n",
    "Solutions\n",
    "* Sort a list of keys\n",
    "* Specifiy a sort lambda (Python 2 comparator, Python 3 key function) for that list\n",
    "\n",
    "\"\"\"\n",
    "\n",
    "stuff = {'9': 36, '10': 26, '8': 25, '6': 2}\n",
    "\n",
    "print(\"Sorting in NUMERIC order ----------------------- \")\n",
    "names = list(stuff.keys())\n",
    "names.sort(key = lambda x: int(x))\n",
    "\n",
    "print(\"Output in NUMERIC order ----------------------- \")\n",
    "for name in names:\n",
    "        print(name,stuff[name])\n",
    "\n",
    "# Following code fills in the gaps for missing keys\n",
    "\n",
    "print(\"Filling the 'gaps' ---------------------------- \")\n",
    "for want in range(int(names[0]),int(names[-1])+1):\n",
    "        stuff[str(want)] = stuff.get(str(want),0)\n",
    "\n",
    "print(\"Output in NUMERIC order ----------------------- \")\n",
    "for name in range(int(names[0]),int(names[-1])+1):\n",
    "        print(name,stuff[str(name)])\n"
   ]
  },
  {
   "cell_type": "markdown",
   "metadata": {},
   "source": [
    "<hr />\n",
    "<h2><font color='maroon'>In this example we have mutible and immutible [list, tuple, dict].</font></h2>"
   ]
  },
  {
   "cell_type": "code",
   "execution_count": null,
   "metadata": {},
   "outputs": [],
   "source": [
    "# list - mutable (i.e. changable within itself)\n",
    "names = [\"Pierre\",\"Ryan\",\"Barrette\",\"Cruella\"]\n",
    "\n",
    "# tuple - immutable (i.e. once set up, changes mean rebuilding whole thing)\n",
    "days = (\"Monday\",\"Tuesday\",\"Nextday\",\"Thursday\")\n",
    "\n",
    "# dict - mutable and keyed by name\n",
    "routes = {\"X72\":\"Berkeley - Oakland\",\"272\":\"San José - Fremont\",\n",
    "        \"Zigzag\":\"Santa Clara - Livermore the pretty way\"}\n",
    "\n",
    "# string can be treated as a list of letters\n",
    "place = \"Triple Rock Brewery\"\n",
    "\n",
    "print(names[1])\n",
    "print(days[1])\n",
    "print(place[1])\n",
    "print(routes[\"272\"])\n",
    "\n",
    "names[2] = \"Graham\"; names[3] = \"Lisa\"\n",
    "for name in names:\n",
    "    print(\"Give some cavier to\",name)\n",
    "\n",
    "# days[3] = \"Wednesday\"\n",
    "# Can't assign to tuple member - previous line is a comment\n",
    "for dau in days:\n",
    "    print(\"We will learn on\",dau)\n",
    "\n",
    "# place[0] = \"B\"\n",
    "# Can't assign to string member - previous line is a comment\n",
    "for letter in place:\n",
    "    print(\"Gimme a\",letter)\n",
    "\n",
    "routes[\"C\"] = \"Boston - Cambridge\"  # Adds new - new key\n",
    "routes[\"272\"] = \"Modesto - Santa Barbara\"  # Replaces - key exists\n",
    "for route in routes.keys():\n",
    "    print(route,\"goes between\",routes[route])"
   ]
  },
  {
   "cell_type": "markdown",
   "metadata": {},
   "source": [
    "<hr />\n",
    "<h3>Looking ahead:</h3> counting data and making subsets by some criteria are important activities. In this example, we import the re (regular expressions) library and use it to parse a file.  The test source file could be replaced in real life with data from a live stream, another collection prepared by your team, etc."
   ]
  },
  {
   "cell_type": "code",
   "execution_count": 2,
   "metadata": {},
   "outputs": [
    {
     "name": "stdout",
     "output_type": "stream",
     "text": [
      "you\t7\n",
      "blogs\t6\n",
      "to\t5\n",
      "can\t4\n",
      "and\t4\n",
      "in\t4\n",
      "topic\t3\n",
      "that\t3\n",
      "blog\t3\n",
      "find\t3\n",
      "are\t2\n",
      "be\t2\n",
      "if\t2\n",
      "have\t2\n",
      "an\t2\n",
      "do\t2\n",
      "is\t2\n",
      "the\t2\n",
      "re\t2\n",
      "there\t2\n",
      "ll\t2\n",
      "topics\t2\n",
      "how\t2\n",
      "vary\t2\n",
      "your\t2\n",
      "on\t2\n",
      "everywhere\t1\n",
      "this\t1\n",
      "both\t1\n",
      "wonderful\t1\n",
      "overwhelming\t1\n",
      "interest\t1\n",
      "all\t1\n",
      "search\t1\n",
      "for\t1\n",
      "plus\t1\n",
      "word\t1\n",
      "likely\t1\n",
      "some\t1\n",
      "excellent\t1\n",
      "out\t1\n",
      "below\t1\n",
      "sample\t1\n",
      "cover\t1\n",
      "like\t1\n",
      "food\t1\n",
      "education\t1\n",
      "nursing\t1\n",
      "video\t1\n",
      "games\t1\n",
      "these\t1\n",
      "just\t1\n",
      "four\t1\n",
      "samples\t1\n",
      "but\t1\n",
      "will\t1\n",
      "give\t1\n",
      "opportunity\t1\n",
      "see\t1\n",
      "theme\t1\n",
      "style\t1\n",
      "scope\t1\n",
      "entries\t1\n",
      "length\t1\n",
      "no\t1\n",
      "limit\t1\n",
      "covered\t1\n",
      "working\t1\n",
      "create\t1\n",
      "own\t1\n",
      "little\t1\n",
      "research\t1\n",
      "other\t1\n",
      "think\t1\n",
      "about\t1\n",
      "way\t1\n",
      "different\t1\n"
     ]
    }
   ],
   "source": [
    "import os.path\n",
    "from os import path   # demoing os imports\n",
    "\n",
    "import re     # for regular expressions\n",
    "word = re.compile(r'[A-Z]{2,}',re.I)\n",
    "wordcount = {}\n",
    "\n",
    "filename = \"blog.txt\"\n",
    "\n",
    "\"\"\" check if there's a file to process \"\"\"\n",
    "if path.exists(filename):\n",
    "    \n",
    "    \"\"\" the text is from \"\"\"\n",
    "    for line in open(filename):\n",
    "        words = word.findall(line)\n",
    "        for item in words:\n",
    "            i2 = item.lower()\n",
    "            wordcount[i2] = wordcount.get(i2,0) + 1\n",
    "\n",
    "    used = list(wordcount.keys())\n",
    "    try:\n",
    "        used.sort(lambda y,x:wordcount[x]-wordcount[y])\n",
    "    except:\n",
    "        used.sort(key = lambda y:-wordcount[y])\n",
    "\n",
    "    # 'sample' variable used just for testing / truncating output\n",
    "\n",
    "    sample = 0\n",
    "    for item in used:\n",
    "        print(item + \"\\t\" + str( wordcount[item]))\n",
    "        sample += 1\n",
    "        # if sample > 50: break\n",
    "\n",
    "else:\n",
    "    print(f\"Sorry the file {filename} is not available.\")\n"
   ]
  },
  {
   "cell_type": "markdown",
   "metadata": {},
   "source": [
    "<hr /><h3>Thinking about functions and planning for OOD. </h3>\n",
    "<p>There's lots of way to run a python script.  Consider this OOD-feeling approach of calling main() if there's a python magic method (<code>__name__</code>) that's been set to <code>__main__</code> ... \n",
    "</p>"
   ]
  },
  {
   "cell_type": "code",
   "execution_count": null,
   "metadata": {},
   "outputs": [],
   "source": [
    "import os.path\n",
    "\n",
    "def doesFileExist(fileToFind):\n",
    "    returnValue = path.exists(filename)\n",
    "    return returnValue\n",
    "\n",
    "def printContents(fileToFind):\n",
    "    print(f\"Here are the contents of {fileToFind}.\")\n",
    "\n",
    "def getFileName():\n",
    "    return input(\"Enter the file name: \")\n",
    "\n",
    "def genericErrorMsg(i):\n",
    "    if i == 1:\n",
    "        return \"Sorry, the file is not found\"\n",
    "    else:\n",
    "        return \"An exception has been logged.  Cannot go on.\"\n",
    "\n",
    "def main():\n",
    "    userFileName = getFileName()\n",
    "    lineNo = 1\n",
    "    \n",
    "    if doesFileExist(userFileName):\n",
    "        printContents(userFileName)\n",
    "        print(f\"-\"*40,\"\\n\\tNow trying line by line\\n\")\n",
    "        f = open(userFileName, \"r\")\n",
    "        for line in f:\n",
    "            print(f\"\\nLine: {lineNo} = {line} \\n\")\n",
    "            lineNo += 1\n",
    "    else:\n",
    "        genericErrorMsg(1)\n",
    "\n",
    "if __name__ == \"__main__\":\n",
    "    main()"
   ]
  },
  {
   "cell_type": "code",
   "execution_count": null,
   "metadata": {},
   "outputs": [],
   "source": [
    "--------------\n",
    "make a function that becomes a class ...\n",
    "input\n",
    "    [data in files\n",
    "    [data online using a URL ]]\n",
    "output\n",
    "    [to other computers - networked\n",
    "    to error reports\n",
    "    to end-users \n",
    "    to special purposes ... like further anlaysis - piping it downstream to another system]\n",
    "error_checking\n",
    "print_to_(X) [to file, to end-user]"
   ]
  }
 ],
 "metadata": {
  "kernelspec": {
   "display_name": "Python 3",
   "language": "python",
   "name": "python3"
  },
  "language_info": {
   "codemirror_mode": {
    "name": "ipython",
    "version": 3
   },
   "file_extension": ".py",
   "mimetype": "text/x-python",
   "name": "python",
   "nbconvert_exporter": "python",
   "pygments_lexer": "ipython3",
   "version": "3.8.5"
  }
 },
 "nbformat": 4,
 "nbformat_minor": 4
}
