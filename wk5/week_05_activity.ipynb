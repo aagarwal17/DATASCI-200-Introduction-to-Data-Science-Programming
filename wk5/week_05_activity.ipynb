{
 "cells": [
  {
   "cell_type": "markdown",
   "metadata": {},
   "source": [
    "# Unit 5 Live Session - Breakout Activities\n",
    "\n",
    "## Activity 1 - Function Practice\n"
   ]
  },
  {
   "cell_type": "markdown",
   "metadata": {},
   "source": [
    "### 1-A\n",
    "\n",
    "You are performing an analysis of text from different authors. As part of this, you decide to write some functions that assign numerical scores to words.\n",
    "\n",
    "Create three functions:\n",
    "\n",
    "1. The first should be called \"doubly\". It should take in a word and return the number of repeated letters (e.g. oo or ee) in the word.\n",
    "\n",
    "2. The second should be called \"vowel_density\". It should take in a word and a vowel and return the number of time that vowel appears in the word, divided by the total number of letters.\n",
    "\n",
    "3. The third function should be one you design to create a score for a word.\n",
    "\n",
    "Use a \"doc string\" to create help documentation for each function.\n",
    "\n",
    "Sample Output:\n",
    "\n",
    "```python\n",
    "print(doubly('beer'))\n",
    "print(vowel_density('beer', 'e'))\n",
    "1\n",
    "0.5\n",
    "```\n"
   ]
  },
  {
   "cell_type": "code",
   "execution_count": 9,
   "metadata": {},
   "outputs": [
    {
     "name": "stdout",
     "output_type": "stream",
     "text": [
      "3\n"
     ]
    }
   ],
   "source": [
    "def doubly(word):\n",
    "    count = 0\n",
    "    for i,letter in enumerate(word[:-1]):\n",
    "        if word[i] == word[i+1]:\n",
    "            count += 1\n",
    "    return count\n",
    "print(doubly(\"committee\"))"
   ]
  },
  {
   "cell_type": "code",
   "execution_count": 6,
   "metadata": {},
   "outputs": [
    {
     "name": "stdout",
     "output_type": "stream",
     "text": [
      "0.14285714285714285\n"
     ]
    }
   ],
   "source": [
    "def vowel_density(word, vowel):\n",
    "    count = 0\n",
    "    for letter in word:\n",
    "        if letter == vowel:\n",
    "            count+=1\n",
    "    return count/len(word)\n",
    "print(vowel_density(\"balloon\",\"a\"))"
   ]
  },
  {
   "cell_type": "code",
   "execution_count": 11,
   "metadata": {},
   "outputs": [
    {
     "name": "stdout",
     "output_type": "stream",
     "text": [
      "2.6666666666666665\n"
     ]
    }
   ],
   "source": [
    "def word_score(word):\n",
    "    vowel_score = 0\n",
    "    for letter in word:\n",
    "        if letter in \"aeiou\":\n",
    "            vowel_score += vowel_density(word, letter)\n",
    "    return (doubly(word)*vowel_score)\n",
    "print(word_score(\"beeroo\"))"
   ]
  },
  {
   "cell_type": "code",
   "execution_count": 12,
   "metadata": {},
   "outputs": [
    {
     "name": "stdout",
     "output_type": "stream",
     "text": [
      "1\n",
      "0.5\n"
     ]
    }
   ],
   "source": [
    "print(doubly('beer'))\n",
    "print(vowel_density('beer', 'e'))"
   ]
  },
  {
   "cell_type": "markdown",
   "metadata": {},
   "source": [
    "Below, you will see some tests for the functions you are writing. Add at least two tests for the third function that you're writing.\n",
    "\n",
    "In fact, a good practice is to write these tests _first_, before you attempt to write your function. This is part of a process that developers call _test-driven development_.\n"
   ]
  },
  {
   "cell_type": "code",
   "execution_count": null,
   "metadata": {},
   "outputs": [],
   "source": [
    "assert(doubly('beer') == 1)\n",
    "assert(vowel_density('beer','e') == 0.5)"
   ]
  },
  {
   "cell_type": "code",
   "execution_count": null,
   "metadata": {},
   "outputs": [],
   "source": [
    "# This should call a useful message\n",
    "help(vowel_density)"
   ]
  },
  {
   "cell_type": "markdown",
   "metadata": {},
   "source": [
    "### 1-B\n",
    "\n",
    "Add a default parameter to the function vowel_density, set to \"e\". Add a test to see if this functionality is working.\n"
   ]
  },
  {
   "cell_type": "code",
   "execution_count": null,
   "metadata": {},
   "outputs": [],
   "source": []
  },
  {
   "cell_type": "markdown",
   "metadata": {},
   "source": [
    "### 1-C\n",
    "\n",
    "Great! Now for a fun trick. As you learned in Async, functions are really just objects! Prove this to yourself by printing the type of your functions.\n",
    "\n",
    "```python\n",
    "print(type(multiply))\n",
    "print(type(addify))\n",
    "<class 'function'>\n",
    "<class 'function'>\n",
    "```\n"
   ]
  },
  {
   "cell_type": "code",
   "execution_count": null,
   "metadata": {},
   "outputs": [],
   "source": []
  },
  {
   "cell_type": "markdown",
   "metadata": {},
   "source": [
    "Because your functions are objects, they can serve as inputs to other functions! Create a new function, called \"best_word()\". This function should take two parameters.\n",
    "\n",
    "1. The first parameter will be a function. The argument you pass for the parameter will be one of the functions you wrote above.\n",
    "2. The second parameter will be a list of words.\n",
    "\n",
    "Your function should generate a score for each word using the first parameter and then output the word with the highest score.\n",
    "\n",
    "If this is unclear, see the sample output below:\n",
    "\n",
    "```python\n",
    "best_word(vowelly, ['beer', 'balloon'])\n",
    "beer\n",
    "best_word(doubly, ['beer', 'balloon'])\n",
    "balloon\n",
    "```\n"
   ]
  },
  {
   "cell_type": "code",
   "execution_count": 7,
   "metadata": {
    "collapsed": true
   },
   "outputs": [],
   "source": [
    "### Functions as Objects - Create a function that takes functions\n",
    "### Remember your Doc_String"
   ]
  },
  {
   "cell_type": "markdown",
   "metadata": {},
   "source": [
    "### 1-D\n",
    "\n",
    "Show that you know how to call parameters \"out of order\" by including positional arguments in your function call.\n",
    "\n",
    "Call your \"best_word\" function, but include the list as the first argument, and your function as the second. Do not modify any of your functions when completing this step.\n"
   ]
  },
  {
   "cell_type": "code",
   "execution_count": 2,
   "metadata": {},
   "outputs": [],
   "source": [
    "### Use positional vs. non-positional arguments\n"
   ]
  },
  {
   "cell_type": "markdown",
   "metadata": {},
   "source": [
    "## Activity 2 - Using Try/Except with your Function\n",
    "\n",
    "Now let's use your functions in a bigger program and see how Exceptions work.\n",
    "\n",
    "### 2-A\n",
    "\n",
    "Write a script that asks the user for a word and a vowel, then calls the vowel_density function and prints a message about the result to the user.\n",
    "\n",
    "```\n",
    "Enter a word: tuba\n",
    "Enter a vowel: a\n",
    "0.25 of the letters in tuba are a.\n",
    "```\n"
   ]
  },
  {
   "cell_type": "code",
   "execution_count": 11,
   "metadata": {},
   "outputs": [],
   "source": [
    "### Try and Except (and Raise)  Enter an Integer Into your program..\n"
   ]
  },
  {
   "cell_type": "markdown",
   "metadata": {},
   "source": [
    "### 2-B\n",
    "\n",
    "What happens if you enter the empty string at the word prompt (hit return without typing any text)? Make sure you get an error when this happens.\n",
    "\n",
    "Let's handle this error by wrapping your function call in a \"try/except\" framework. Your try/except should catch the error you see above and print something to help the user understand the problem.\n",
    "\n",
    "```\n",
    "Enter a word:\n",
    "Enter a vowel: a\n",
    "You have entered zero letters so a vowel density cannot be computed.\n",
    "```\n"
   ]
  },
  {
   "cell_type": "code",
   "execution_count": null,
   "metadata": {},
   "outputs": [],
   "source": []
  },
  {
   "cell_type": "markdown",
   "metadata": {},
   "source": [
    "### 2-C\n",
    "\n",
    "Now, we're going to provide some error messages of our own.\n",
    "\n",
    "1A. Update your vowel_density function to make sure that the vowel parameter is really a vowel. If it is not, raise an exception. Your raise statement should be inside the function.\n",
    "\n",
    "1B. In your main script, catch the new exception that your function raises, and print a message to the user about entering a vowel.\n",
    "\n",
    "2A. Update your vowel_density function to check that the word is really made up of letters (and not numbers or other symbols). Raise an Exception if this is not the case.\n",
    "\n",
    "2B. In your main script, catch the new exception that your function raises, and print a message to the user about the word not being valid.\n",
    "\n",
    "```\n",
    "Enter a word: beer\n",
    "Enter a vowel: x\n",
    "x is not a vowel.\n",
    "\n",
    "Enter a word: 143\n",
    "Enter a vowel: e\n",
    "143 is not a valid word.\n",
    "```\n"
   ]
  },
  {
   "cell_type": "code",
   "execution_count": 13,
   "metadata": {
    "collapsed": true
   },
   "outputs": [],
   "source": []
  },
  {
   "cell_type": "markdown",
   "metadata": {},
   "source": [
    "### 2-D\n",
    "\n",
    "Notice how all exceptions are raised inside the vowel_density function. On the other hand, the main script only catches exceptions and the main script contains all the print statements. In own words, explain why this is a sensible design.\n"
   ]
  },
  {
   "cell_type": "markdown",
   "metadata": {},
   "source": [
    "## Activity 3 - Namespace and The Stack!\n",
    "\n",
    "### 3-A Finding an Error in the Stack Trace\n",
    "\n",
    "Please analyze the stack trace below.\n",
    "\n",
    "In what function has an error occured? How do you know?\n"
   ]
  },
  {
   "cell_type": "code",
   "execution_count": 9,
   "metadata": {},
   "outputs": [],
   "source": [
    "### The Stack -- Give an example of something wrong they need to fix.  Use the stack trace to find the issue.\n",
    "def function_1(parameter_1, parameter_2):\n",
    "    return(parameter_1 / parameter_2)\n",
    "\n",
    "def function_2(parameter_1, parameter_2):\n",
    "    res_1 = function_1(parameter_1, parameter_2)\n",
    "    return(res_1 * parameter_2)\n",
    "\n",
    "def function_3(parameter_1):\n",
    "    res_1 = function_2(parameter_1, parameter_1)\n",
    "    res_2 = function_1(parameter_1, parameter_1)\n",
    "    return(res_1 / res_2)\n",
    "\n",
    "def function_4(parameter_1, parameter_2):\n",
    "    res_1 = function_3(parameter_1)\n",
    "    res_2 = function_2(parameter_1, parameter_2)\n",
    "    apples = res_1 + res_2\n",
    "    return(apples)"
   ]
  },
  {
   "cell_type": "code",
   "execution_count": 18,
   "metadata": {},
   "outputs": [
    {
     "data": {
      "text/plain": [
       "200.0"
      ]
     },
     "execution_count": 18,
     "metadata": {},
     "output_type": "execute_result"
    }
   ],
   "source": [
    "function_4(100, 3)"
   ]
  },
  {
   "cell_type": "code",
   "execution_count": 19,
   "metadata": {},
   "outputs": [
    {
     "ename": "ZeroDivisionError",
     "evalue": "division by zero",
     "output_type": "error",
     "traceback": [
      "\u001b[1;31m---------------------------------------------------------------------------\u001b[0m",
      "\u001b[1;31mZeroDivisionError\u001b[0m                         Traceback (most recent call last)",
      "\u001b[1;32m<ipython-input-19-5162d4a6d460>\u001b[0m in \u001b[0;36m<module>\u001b[1;34m()\u001b[0m\n\u001b[1;32m----> 1\u001b[1;33m \u001b[0mfunction_4\u001b[0m\u001b[1;33m(\u001b[0m\u001b[1;36m100\u001b[0m\u001b[1;33m,\u001b[0m \u001b[1;36m0\u001b[0m\u001b[1;33m)\u001b[0m\u001b[1;33m\u001b[0m\u001b[0m\n\u001b[0m",
      "\u001b[1;32m<ipython-input-17-b9a5bc986b48>\u001b[0m in \u001b[0;36mfunction_4\u001b[1;34m(parameter_1, parameter_2)\u001b[0m\n\u001b[0;32m     14\u001b[0m \u001b[1;32mdef\u001b[0m \u001b[0mfunction_4\u001b[0m\u001b[1;33m(\u001b[0m\u001b[0mparameter_1\u001b[0m\u001b[1;33m,\u001b[0m \u001b[0mparameter_2\u001b[0m\u001b[1;33m)\u001b[0m\u001b[1;33m:\u001b[0m\u001b[1;33m\u001b[0m\u001b[0m\n\u001b[0;32m     15\u001b[0m     \u001b[0mres_1\u001b[0m \u001b[1;33m=\u001b[0m \u001b[0mfunction_3\u001b[0m\u001b[1;33m(\u001b[0m\u001b[0mparameter_1\u001b[0m\u001b[1;33m)\u001b[0m\u001b[1;33m\u001b[0m\u001b[0m\n\u001b[1;32m---> 16\u001b[1;33m     \u001b[0mres_2\u001b[0m \u001b[1;33m=\u001b[0m \u001b[0mfunction_2\u001b[0m\u001b[1;33m(\u001b[0m\u001b[0mparameter_1\u001b[0m\u001b[1;33m,\u001b[0m \u001b[0mparameter_2\u001b[0m\u001b[1;33m)\u001b[0m\u001b[1;33m\u001b[0m\u001b[0m\n\u001b[0m\u001b[0;32m     17\u001b[0m     \u001b[0mapples\u001b[0m \u001b[1;33m=\u001b[0m \u001b[0mres_1\u001b[0m \u001b[1;33m+\u001b[0m \u001b[0mres_2\u001b[0m\u001b[1;33m\u001b[0m\u001b[0m\n\u001b[0;32m     18\u001b[0m     \u001b[1;32mreturn\u001b[0m\u001b[1;33m(\u001b[0m\u001b[0mapples\u001b[0m\u001b[1;33m)\u001b[0m\u001b[1;33m\u001b[0m\u001b[0m\n",
      "\u001b[1;32m<ipython-input-17-b9a5bc986b48>\u001b[0m in \u001b[0;36mfunction_2\u001b[1;34m(parameter_1, parameter_2)\u001b[0m\n\u001b[0;32m      4\u001b[0m \u001b[1;33m\u001b[0m\u001b[0m\n\u001b[0;32m      5\u001b[0m \u001b[1;32mdef\u001b[0m \u001b[0mfunction_2\u001b[0m\u001b[1;33m(\u001b[0m\u001b[0mparameter_1\u001b[0m\u001b[1;33m,\u001b[0m \u001b[0mparameter_2\u001b[0m\u001b[1;33m)\u001b[0m\u001b[1;33m:\u001b[0m\u001b[1;33m\u001b[0m\u001b[0m\n\u001b[1;32m----> 6\u001b[1;33m     \u001b[0mres_1\u001b[0m \u001b[1;33m=\u001b[0m \u001b[0mfunction_1\u001b[0m\u001b[1;33m(\u001b[0m\u001b[0mparameter_1\u001b[0m\u001b[1;33m,\u001b[0m \u001b[0mparameter_2\u001b[0m\u001b[1;33m)\u001b[0m\u001b[1;33m\u001b[0m\u001b[0m\n\u001b[0m\u001b[0;32m      7\u001b[0m     \u001b[1;32mreturn\u001b[0m\u001b[1;33m(\u001b[0m\u001b[0mres_1\u001b[0m \u001b[1;33m*\u001b[0m \u001b[0mparameter_2\u001b[0m\u001b[1;33m)\u001b[0m\u001b[1;33m\u001b[0m\u001b[0m\n\u001b[0;32m      8\u001b[0m \u001b[1;33m\u001b[0m\u001b[0m\n",
      "\u001b[1;32m<ipython-input-17-b9a5bc986b48>\u001b[0m in \u001b[0;36mfunction_1\u001b[1;34m(parameter_1, parameter_2)\u001b[0m\n\u001b[0;32m      1\u001b[0m \u001b[1;31m### The Stack -- Give an example of something wrong they need to fix.  Use the stack trace to find the issue.\u001b[0m\u001b[1;33m\u001b[0m\u001b[1;33m\u001b[0m\u001b[0m\n\u001b[0;32m      2\u001b[0m \u001b[1;32mdef\u001b[0m \u001b[0mfunction_1\u001b[0m\u001b[1;33m(\u001b[0m\u001b[0mparameter_1\u001b[0m\u001b[1;33m,\u001b[0m \u001b[0mparameter_2\u001b[0m\u001b[1;33m)\u001b[0m\u001b[1;33m:\u001b[0m\u001b[1;33m\u001b[0m\u001b[0m\n\u001b[1;32m----> 3\u001b[1;33m     \u001b[1;32mreturn\u001b[0m\u001b[1;33m(\u001b[0m\u001b[0mparameter_1\u001b[0m \u001b[1;33m/\u001b[0m \u001b[0mparameter_2\u001b[0m\u001b[1;33m)\u001b[0m\u001b[1;33m\u001b[0m\u001b[0m\n\u001b[0m\u001b[0;32m      4\u001b[0m \u001b[1;33m\u001b[0m\u001b[0m\n\u001b[0;32m      5\u001b[0m \u001b[1;32mdef\u001b[0m \u001b[0mfunction_2\u001b[0m\u001b[1;33m(\u001b[0m\u001b[0mparameter_1\u001b[0m\u001b[1;33m,\u001b[0m \u001b[0mparameter_2\u001b[0m\u001b[1;33m)\u001b[0m\u001b[1;33m:\u001b[0m\u001b[1;33m\u001b[0m\u001b[0m\n",
      "\u001b[1;31mZeroDivisionError\u001b[0m: division by zero"
     ]
    }
   ],
   "source": [
    "function_4(100, 0)"
   ]
  },
  {
   "cell_type": "markdown",
   "metadata": {},
   "source": [
    "### 3-B\n",
    "\n",
    "What functions ran successfully before the error occured? Talk your group through the stack trace from top to bottom to explain it.\n"
   ]
  },
  {
   "cell_type": "markdown",
   "metadata": {},
   "source": [
    "## Activity 4 - Bonus in Lamdba Function\n",
    "\n",
    "### 4-A\n",
    "\n",
    "Write a lambda function that cubes a single number\n",
    "\n",
    "```python\n",
    "imma_function(4)\n",
    "64\n",
    "```\n"
   ]
  },
  {
   "cell_type": "code",
   "execution_count": 20,
   "metadata": {},
   "outputs": [],
   "source": [
    "imma_function ..."
   ]
  },
  {
   "cell_type": "code",
   "execution_count": 21,
   "metadata": {},
   "outputs": [
    {
     "data": {
      "text/plain": [
       "64"
      ]
     },
     "execution_count": 21,
     "metadata": {},
     "output_type": "execute_result"
    }
   ],
   "source": [
    "imma_function(4)"
   ]
  },
  {
   "cell_type": "markdown",
   "metadata": {},
   "source": [
    "### 4-B\n",
    "\n",
    "Write a lambda function that cubes a list of numbers\n",
    "\n",
    "```python\n",
    "imma_notherfunction(range(1,10))\n",
    "[1, 8, 27, 64, 125, 216, 343, 512, 729]\n",
    "```\n"
   ]
  },
  {
   "cell_type": "code",
   "execution_count": 22,
   "metadata": {
    "collapsed": true
   },
   "outputs": [],
   "source": []
  },
  {
   "cell_type": "code",
   "execution_count": 23,
   "metadata": {},
   "outputs": [
    {
     "data": {
      "text/plain": [
       "[1, 8, 27, 64, 125, 216, 343, 512, 729]"
      ]
     },
     "execution_count": 23,
     "metadata": {},
     "output_type": "execute_result"
    }
   ],
   "source": []
  },
  {
   "cell_type": "code",
   "execution_count": 21,
   "metadata": {},
   "outputs": [],
   "source": [
    "def add_total(order_list=[]):\n",
    "    total=sum([quantity for name, quantity in order_list])\n",
    "    order_list.append((\"Total\", total))\n",
    "    print(order_list)"
   ]
  },
  {
   "cell_type": "code",
   "execution_count": 24,
   "metadata": {},
   "outputs": [
    {
     "name": "stdout",
     "output_type": "stream",
     "text": [
      "[('Total', 0), ('Total', 0), ('Total', 0)]\n"
     ]
    }
   ],
   "source": [
    "add_total()"
   ]
  },
  {
   "cell_type": "code",
   "execution_count": null,
   "metadata": {},
   "outputs": [],
   "source": []
  },
  {
   "cell_type": "code",
   "execution_count": null,
   "metadata": {
    "collapsed": true
   },
   "outputs": [],
   "source": []
  },
  {
   "cell_type": "code",
   "execution_count": null,
   "metadata": {
    "collapsed": true
   },
   "outputs": [],
   "source": []
  }
 ],
 "metadata": {
  "anaconda-cloud": {},
  "kernelspec": {
   "display_name": "Python 3 (ipykernel)",
   "language": "python",
   "name": "python3"
  },
  "language_info": {
   "codemirror_mode": {
    "name": "ipython",
    "version": 3
   },
   "file_extension": ".py",
   "mimetype": "text/x-python",
   "name": "python",
   "nbconvert_exporter": "python",
   "pygments_lexer": "ipython3",
   "version": "3.11.4"
  },
  "widgets": {
   "state": {},
   "version": "1.1.2"
  }
 },
 "nbformat": 4,
 "nbformat_minor": 2
}
