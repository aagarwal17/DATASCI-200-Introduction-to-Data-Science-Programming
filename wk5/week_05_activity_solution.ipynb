{
 "cells": [
  {
   "cell_type": "markdown",
   "metadata": {},
   "source": [
    "# Unit 5 Live Session - Breakout Activities\n",
    "\n",
    "## Activity 1 -  Function Practice\n"
   ]
  },
  {
   "cell_type": "markdown",
   "metadata": {},
   "source": [
    "### 1-A\n",
    "\n",
    "You are performing an analysis of text from different authors.  As part of this, you decide to write some functions that assign numerical scores to words.\n",
    "\n",
    "Create three functions:\n",
    "\n",
    "1. The first should be called \"doubly\".  It should take in a word and return the number of repeated letters (e.g. oo or ee) in the word.\n",
    "\n",
    "2. The second should be called \"vowel_density\".  It should take in a word and a vowel and return the number of time that vowel appears in the word, divided by the total number of letters.\n",
    "\n",
    "3. The third function should be one you design to create a score for a word.\n",
    "\n",
    "Use a \"doc string\" to create help documentation for each function.\n",
    "\n",
    "Sample Output:\n",
    "```python\n",
    "print(doubly('beer'))\n",
    "print(vowel_density('beer', 'e'))\n",
    "1\n",
    "0.5\n",
    "```\n"
   ]
  },
  {
   "cell_type": "code",
   "execution_count": 35,
   "metadata": {},
   "outputs": [],
   "source": [
    "def doubly(word):\n",
    "    \"\"\"Return the number of times a character appears twice in succession.\"\"\"\n",
    "    return sum([word[i] == word[i+1] for i in range(0,len(word)-1)])"
   ]
  },
  {
   "cell_type": "code",
   "execution_count": 34,
   "metadata": {},
   "outputs": [],
   "source": [
    "def vowel_density(word, vowel):\n",
    "    \"\"\"Return fraction of characters within string that match a certain vowel.\"\"\"\n",
    "    return sum([word[i] == vowel for i in range(0,len(word))])/len(word)"
   ]
  },
  {
   "cell_type": "code",
   "execution_count": 33,
   "metadata": {},
   "outputs": [],
   "source": [
    "def word_score(word):\n",
    "    \"\"\"Return 10 times the length of a word.\"\"\"  \n",
    "    return len(word)*10"
   ]
  },
  {
   "cell_type": "code",
   "execution_count": 37,
   "metadata": {},
   "outputs": [
    {
     "name": "stdout",
     "output_type": "stream",
     "text": [
      "1\n",
      "0.5\n",
      "40\n"
     ]
    }
   ],
   "source": [
    "print(doubly('beer'))\n",
    "print(vowel_density('beer', 'e'))\n",
    "print(word_score(\"beer\"))"
   ]
  },
  {
   "cell_type": "markdown",
   "metadata": {},
   "source": [
    "Below, you will see some tests for the functions you are writing.  Add at least two tests for the third function that you're writing.\n",
    "\n",
    "In fact, a good practice is to write these tests *first*, before you attempt to write your function.  This is part of a process that developers call *test-driven development*."
   ]
  },
  {
   "cell_type": "code",
   "execution_count": 46,
   "metadata": {},
   "outputs": [],
   "source": [
    "assert(doubly('beer') == 1)\n",
    "assert(vowel_density('beer','e') == 0.5)\n",
    "assert(word_score(\"beer\") == 40)\n",
    "assert(word_score(\"beer\") > doubly(\"beer\"))"
   ]
  },
  {
   "cell_type": "code",
   "execution_count": 47,
   "metadata": {},
   "outputs": [
    {
     "name": "stdout",
     "output_type": "stream",
     "text": [
      "Help on function vowel_density in module __main__:\n",
      "\n",
      "vowel_density(word, vowel)\n",
      "    Return fraction of characters within string that match a certain vowel.\n",
      "\n"
     ]
    }
   ],
   "source": [
    "# This should call a useful message\n",
    "help(vowel_density)"
   ]
  },
  {
   "cell_type": "markdown",
   "metadata": {},
   "source": [
    "### 1-B\n",
    "Add a default parameter to the function vowel_density, set to \"e\".  Add a test to see if this functionality is working.\n"
   ]
  },
  {
   "cell_type": "code",
   "execution_count": 50,
   "metadata": {},
   "outputs": [],
   "source": [
    "def vowel_density(word, vowel=\"e\"):\n",
    "    \"\"\"Return fraction of characters within string that match a certain vowel.\"\"\"\n",
    "    return sum([word[i] == vowel for i in range(0,len(word))])/len(word)"
   ]
  },
  {
   "cell_type": "code",
   "execution_count": 54,
   "metadata": {},
   "outputs": [],
   "source": [
    "assert(vowel_density(\"beer\") == 0.5)"
   ]
  },
  {
   "cell_type": "markdown",
   "metadata": {},
   "source": [
    "### 1-C\n",
    "\n",
    "Great! Now for a fun trick.  As you learned in Async, functions are really just objects!  Prove this to yourself by printing the type of your functions.\n",
    "\n",
    "```python\n",
    "print(type(doubly))\n",
    "print(type(vowel_density))\n",
    "<class 'function'>\n",
    "<class 'function'>\n",
    "```"
   ]
  },
  {
   "cell_type": "code",
   "execution_count": 56,
   "metadata": {},
   "outputs": [
    {
     "name": "stdout",
     "output_type": "stream",
     "text": [
      "<class 'function'>\n",
      "<class 'function'>\n",
      "<class 'function'>\n"
     ]
    }
   ],
   "source": [
    "print(type(doubly))\n",
    "print(type(vowel_density))\n",
    "print(type(word_score))"
   ]
  },
  {
   "cell_type": "markdown",
   "metadata": {},
   "source": [
    "Because your functions are objects, they can serve as inputs to other functions!  Create a new function, called \"best_word()\".  This function should take two parameters.\n",
    "1. The first parameter will be a function.  The argument you pass for the parameter will be one of the functions you wrote above.\n",
    "2. The second parameter will be a list of words.\n",
    "\n",
    "Your function should generate a score for each word using the first parameter and then output the word with the highest score.\n",
    "\n",
    "If this is unclear, see the sample output below:\n",
    "```python\n",
    "best_word(vowel_density, ['beer', 'balloon'])\n",
    "beer\n",
    "best_word(doubly, ['beer', 'balloon'])\n",
    "balloon\n",
    "```"
   ]
  },
  {
   "cell_type": "code",
   "execution_count": 70,
   "metadata": {},
   "outputs": [
    {
     "data": {
      "text/plain": [
       "'balloon'"
      ]
     },
     "execution_count": 70,
     "metadata": {},
     "output_type": "execute_result"
    },
    {
     "data": {
      "text/plain": [
       "'beer'"
      ]
     },
     "execution_count": 70,
     "metadata": {},
     "output_type": "execute_result"
    },
    {
     "data": {
      "text/plain": [
       "'balloon'"
      ]
     },
     "execution_count": 70,
     "metadata": {},
     "output_type": "execute_result"
    }
   ],
   "source": [
    "### Functions as Objects - Create a function that takes functions\n",
    "### Remember your Doc_String\n",
    "\n",
    "def best_word(f, word_list):\n",
    "    \"\"\"Use provided function to determine best word from a list of words.\"\"\"\n",
    "    scores = [f(word) for word in word_list]\n",
    "    return word_list[scores.index(max(scores))]\n",
    "\n",
    "best_word(doubly, [\"beer\", \"balloon\"])\n",
    "best_word(vowel_density, [\"beer\", \"balloon\"])\n",
    "best_word(word_score, [\"beer\", \"balloon\"])"
   ]
  },
  {
   "cell_type": "markdown",
   "metadata": {},
   "source": [
    "### 1-D\n",
    "Show that you know how to call parameters \"out of order\" by including positional arguments in your function call.\n",
    "\n",
    "Call your \"best_word\" function, but include the list as the first argument, and your function as the second.  Do not modify any of your functions when completing this step."
   ]
  },
  {
   "cell_type": "code",
   "execution_count": 71,
   "metadata": {},
   "outputs": [
    {
     "data": {
      "text/plain": [
       "'balloon'"
      ]
     },
     "execution_count": 71,
     "metadata": {},
     "output_type": "execute_result"
    }
   ],
   "source": [
    "### Use positional vs. non-positional arguments\n",
    "best_word(word_list=[\"beer\", \"balloon\"], f=doubly)"
   ]
  },
  {
   "cell_type": "markdown",
   "metadata": {},
   "source": [
    "## Activity 2 - Using Try/Except with your Function\n",
    "\n",
    "Now let's use your functions in a bigger program and see how Exceptions work.\n",
    "\n",
    "### 2-A\n",
    "\n",
    "Write a script that asks the user for a word and a vowel, then calls the vowel_density function and prints a message about the result to the user.\n",
    "\n",
    "```\n",
    "Enter a word: tuba\n",
    "Enter a vowel: a\n",
    "0.25 of the letters in tuba are a.\n",
    "```"
   ]
  },
  {
   "cell_type": "code",
   "execution_count": 80,
   "metadata": {},
   "outputs": [
    {
     "name": "stdout",
     "output_type": "stream",
     "text": [
      "Enter a word: baar\n",
      "Enter a vowel: a\n",
      "0.50 of the letters in baar are a\n"
     ]
    }
   ],
   "source": [
    "### Try and Except (and Raise)  Enter an Integer Into your program..\n",
    "word = input(\"Enter a word: \")\n",
    "vowel = input(\"Enter a vowel: \")\n",
    "print(\"{:.2f} of the letters in {} are {}\".format(vowel_density(word, vowel), word, vowel))"
   ]
  },
  {
   "cell_type": "markdown",
   "metadata": {},
   "source": [
    "### 2-B\n",
    "\n",
    "What happens if you enter the empty string at the word prompt (hit return without typing any text)?  Make sure you get an error when this happens.\n",
    "\n",
    "Let's handle this error by wrapping your function call in a \"try/except\" framework.  Your try/except should catch the error you see above and print something to help the user understand the problem.\n",
    "\n",
    "```\n",
    "Enter a word:\n",
    "Enter a vowel: a\n",
    "You have entered zero letters so a vowel density cannot be computed.\n",
    "```"
   ]
  },
  {
   "cell_type": "code",
   "execution_count": 82,
   "metadata": {},
   "outputs": [
    {
     "name": "stdout",
     "output_type": "stream",
     "text": [
      "Enter a word: \n",
      "Enter a vowel: a\n",
      "You have entered zero letters so a vowel density cannot be computed.\n"
     ]
    }
   ],
   "source": [
    "try:\n",
    "    word = input(\"Enter a word: \")\n",
    "    vowel = input(\"Enter a vowel: \")\n",
    "    print(\"{:.2f} of the letters in {} are {}\".format(vowel_density(word, vowel), word, vowel))\n",
    "except:\n",
    "    print(\"You have entered zero letters so a vowel density cannot be computed.\")"
   ]
  },
  {
   "cell_type": "markdown",
   "metadata": {},
   "source": [
    "### 2-C\n",
    "\n",
    "Now, we're going to provide some error messages of our own.  \n",
    "\n",
    "1A. Update your vowel_density function to make sure that the vowel parameter is really a vowel.  If it is not, raise an exception.  Your raise statement should be inside the function.\n",
    "\n",
    "1B. In your main script, catch the new exception that your function raises, and print a message to the user about entering a vowel.\n",
    "\n",
    "2A. Update your vowel_density function to check that the word is really made up of letters (and not numbers or other symbols).  Raise an Exception if this is not the case.\n",
    "\n",
    "2B. In your main script, catch the new exception that your function raises, and print a message to the user about the word not being valid.\n",
    "\n",
    "```\n",
    "Enter a word: beer\n",
    "Enter a vowel: x\n",
    "x is not a vowel.\n",
    "\n",
    "Enter a word: 143\n",
    "Enter a vowel: e\n",
    "143 is not a valid word.\n",
    "```\n",
    "\n"
   ]
  },
  {
   "cell_type": "code",
   "execution_count": 109,
   "metadata": {},
   "outputs": [],
   "source": [
    "def vowel_density(word, vowel=\"e\"):\n",
    "    \"\"\"Return fraction of characters within string that match a certain vowel.\"\"\"\n",
    "    \n",
    "    if vowel not in \"aeiou\":\n",
    "        raise Exception(vowel + \" is not a vowel.\")\n",
    "    \n",
    "    if not all([word[i] in \"abcdefghijklmnopqrstuvwxyz\" for i in range(0,len(word))]):\n",
    "        raise Exception(word + \" is not a valid word.\")\n",
    "    \n",
    "    return sum([word[i] == vowel for i in range(0,len(word))])/len(word)"
   ]
  },
  {
   "cell_type": "code",
   "execution_count": 110,
   "metadata": {},
   "outputs": [
    {
     "name": "stdout",
     "output_type": "stream",
     "text": [
      "Enter a word: beer\n",
      "Enter a vowel: q\n",
      "q is not a vowel.\n"
     ]
    }
   ],
   "source": [
    "word = input(\"Enter a word: \").lower()\n",
    "vowel = input(\"Enter a vowel: \").lower()\n",
    "\n",
    "try:\n",
    "    print(\"{:.2f} of the letters in {} are {}\".format(vowel_density(word, vowel), word, vowel))\n",
    "except Exception as e:\n",
    "    print(e)"
   ]
  },
  {
   "cell_type": "markdown",
   "metadata": {},
   "source": [
    "### 2-D\n",
    "\n",
    "Notice how all exceptions are raised inside the vowel_density function.  On the other hand, the main script only catches exceptions and the main script contains all the print statements.  In own words, explain why this is a sensible design."
   ]
  },
  {
   "cell_type": "markdown",
   "metadata": {},
   "source": [
    "## Activity 3 - Namespace and The Stack!\n",
    "\n",
    "### 3-A Finding an Error in the Stack Trace\n",
    "Please analyze the stack trace below.  \n",
    "\n",
    "In what function has an error occured?  How do you know?"
   ]
  },
  {
   "cell_type": "code",
   "execution_count": 111,
   "metadata": {},
   "outputs": [],
   "source": [
    "### The Stack -- Give an example of something wrong they need to fix.  Use the stack trace to find the issue.\n",
    "def function_1(parameter_1, parameter_2):\n",
    "    return(parameter_1 / parameter_2)\n",
    "\n",
    "def function_2(parameter_1, parameter_2):\n",
    "    res_1 = function_1(parameter_1, parameter_2)\n",
    "    return(res_1 * parameter_2)\n",
    "\n",
    "def function_3(parameter_1):\n",
    "    res_1 = function_2(parameter_1, parameter_1)\n",
    "    res_2 = function_1(parameter_1, parameter_1)\n",
    "    return(res_1 / res_2)\n",
    "\n",
    "def function_4(parameter_1, parameter_2):\n",
    "    res_1 = function_3(parameter_1)\n",
    "    res_2 = function_2(parameter_1, parameter_2)\n",
    "    apples = res_1 + res_2\n",
    "    return(apples)"
   ]
  },
  {
   "cell_type": "code",
   "execution_count": 112,
   "metadata": {},
   "outputs": [
    {
     "data": {
      "text/plain": [
       "200.0"
      ]
     },
     "execution_count": 112,
     "metadata": {},
     "output_type": "execute_result"
    }
   ],
   "source": [
    "function_4(100, 3)"
   ]
  },
  {
   "cell_type": "code",
   "execution_count": 113,
   "metadata": {},
   "outputs": [
    {
     "ename": "ZeroDivisionError",
     "evalue": "division by zero",
     "output_type": "error",
     "traceback": [
      "\u001b[1;31m---------------------------------------------------------------------------\u001b[0m",
      "\u001b[1;31mZeroDivisionError\u001b[0m                         Traceback (most recent call last)",
      "\u001b[1;32m<ipython-input-113-953d9bbaf9e3>\u001b[0m in \u001b[0;36m<module>\u001b[1;34m()\u001b[0m\n\u001b[1;32m----> 1\u001b[1;33m \u001b[0mfunction_4\u001b[0m\u001b[1;33m(\u001b[0m\u001b[1;36m100\u001b[0m\u001b[1;33m,\u001b[0m \u001b[1;36m0\u001b[0m\u001b[1;33m)\u001b[0m\u001b[1;33m\u001b[0m\u001b[0m\n\u001b[0m",
      "\u001b[1;32m<ipython-input-111-4a1254a764ac>\u001b[0m in \u001b[0;36mfunction_4\u001b[1;34m(parameter_1, parameter_2)\u001b[0m\n\u001b[0;32m     14\u001b[0m \u001b[1;32mdef\u001b[0m \u001b[0mfunction_4\u001b[0m\u001b[1;33m(\u001b[0m\u001b[0mparameter_1\u001b[0m\u001b[1;33m,\u001b[0m \u001b[0mparameter_2\u001b[0m\u001b[1;33m)\u001b[0m\u001b[1;33m:\u001b[0m\u001b[1;33m\u001b[0m\u001b[0m\n\u001b[0;32m     15\u001b[0m     \u001b[0mres_1\u001b[0m \u001b[1;33m=\u001b[0m \u001b[0mfunction_3\u001b[0m\u001b[1;33m(\u001b[0m\u001b[0mparameter_1\u001b[0m\u001b[1;33m)\u001b[0m\u001b[1;33m\u001b[0m\u001b[0m\n\u001b[1;32m---> 16\u001b[1;33m     \u001b[0mres_2\u001b[0m \u001b[1;33m=\u001b[0m \u001b[0mfunction_2\u001b[0m\u001b[1;33m(\u001b[0m\u001b[0mparameter_1\u001b[0m\u001b[1;33m,\u001b[0m \u001b[0mparameter_2\u001b[0m\u001b[1;33m)\u001b[0m\u001b[1;33m\u001b[0m\u001b[0m\n\u001b[0m\u001b[0;32m     17\u001b[0m     \u001b[0mapples\u001b[0m \u001b[1;33m=\u001b[0m \u001b[0mres_1\u001b[0m \u001b[1;33m+\u001b[0m \u001b[0mres_2\u001b[0m\u001b[1;33m\u001b[0m\u001b[0m\n\u001b[0;32m     18\u001b[0m     \u001b[1;32mreturn\u001b[0m\u001b[1;33m(\u001b[0m\u001b[0mapples\u001b[0m\u001b[1;33m)\u001b[0m\u001b[1;33m\u001b[0m\u001b[0m\n",
      "\u001b[1;32m<ipython-input-111-4a1254a764ac>\u001b[0m in \u001b[0;36mfunction_2\u001b[1;34m(parameter_1, parameter_2)\u001b[0m\n\u001b[0;32m      4\u001b[0m \u001b[1;33m\u001b[0m\u001b[0m\n\u001b[0;32m      5\u001b[0m \u001b[1;32mdef\u001b[0m \u001b[0mfunction_2\u001b[0m\u001b[1;33m(\u001b[0m\u001b[0mparameter_1\u001b[0m\u001b[1;33m,\u001b[0m \u001b[0mparameter_2\u001b[0m\u001b[1;33m)\u001b[0m\u001b[1;33m:\u001b[0m\u001b[1;33m\u001b[0m\u001b[0m\n\u001b[1;32m----> 6\u001b[1;33m     \u001b[0mres_1\u001b[0m \u001b[1;33m=\u001b[0m \u001b[0mfunction_1\u001b[0m\u001b[1;33m(\u001b[0m\u001b[0mparameter_1\u001b[0m\u001b[1;33m,\u001b[0m \u001b[0mparameter_2\u001b[0m\u001b[1;33m)\u001b[0m\u001b[1;33m\u001b[0m\u001b[0m\n\u001b[0m\u001b[0;32m      7\u001b[0m     \u001b[1;32mreturn\u001b[0m\u001b[1;33m(\u001b[0m\u001b[0mres_1\u001b[0m \u001b[1;33m*\u001b[0m \u001b[0mparameter_2\u001b[0m\u001b[1;33m)\u001b[0m\u001b[1;33m\u001b[0m\u001b[0m\n\u001b[0;32m      8\u001b[0m \u001b[1;33m\u001b[0m\u001b[0m\n",
      "\u001b[1;32m<ipython-input-111-4a1254a764ac>\u001b[0m in \u001b[0;36mfunction_1\u001b[1;34m(parameter_1, parameter_2)\u001b[0m\n\u001b[0;32m      1\u001b[0m \u001b[1;31m### The Stack -- Give an example of something wrong they need to fix.  Use the stack trace to find the issue.\u001b[0m\u001b[1;33m\u001b[0m\u001b[1;33m\u001b[0m\u001b[0m\n\u001b[0;32m      2\u001b[0m \u001b[1;32mdef\u001b[0m \u001b[0mfunction_1\u001b[0m\u001b[1;33m(\u001b[0m\u001b[0mparameter_1\u001b[0m\u001b[1;33m,\u001b[0m \u001b[0mparameter_2\u001b[0m\u001b[1;33m)\u001b[0m\u001b[1;33m:\u001b[0m\u001b[1;33m\u001b[0m\u001b[0m\n\u001b[1;32m----> 3\u001b[1;33m     \u001b[1;32mreturn\u001b[0m\u001b[1;33m(\u001b[0m\u001b[0mparameter_1\u001b[0m \u001b[1;33m/\u001b[0m \u001b[0mparameter_2\u001b[0m\u001b[1;33m)\u001b[0m\u001b[1;33m\u001b[0m\u001b[0m\n\u001b[0m\u001b[0;32m      4\u001b[0m \u001b[1;33m\u001b[0m\u001b[0m\n\u001b[0;32m      5\u001b[0m \u001b[1;32mdef\u001b[0m \u001b[0mfunction_2\u001b[0m\u001b[1;33m(\u001b[0m\u001b[0mparameter_1\u001b[0m\u001b[1;33m,\u001b[0m \u001b[0mparameter_2\u001b[0m\u001b[1;33m)\u001b[0m\u001b[1;33m:\u001b[0m\u001b[1;33m\u001b[0m\u001b[0m\n",
      "\u001b[1;31mZeroDivisionError\u001b[0m: division by zero"
     ]
    }
   ],
   "source": [
    "function_4(100, 0)"
   ]
  },
  {
   "cell_type": "markdown",
   "metadata": {},
   "source": [
    "### 3-B\n",
    "\n",
    "Which functions ran successfully before the error occured?  Talk your group through the stack trace from top to bottom to explain it."
   ]
  },
  {
   "cell_type": "markdown",
   "metadata": {},
   "source": [
    "## Activity 4 - Bonus in Lamdba Function\n",
    "\n",
    "### 4-A\n",
    "\n",
    "Write a lambda function that cubes a single number\n",
    "\n",
    "```python\n",
    "imma_function(4)\n",
    "64\n",
    "```"
   ]
  },
  {
   "cell_type": "code",
   "execution_count": 114,
   "metadata": {},
   "outputs": [],
   "source": [
    "imma_function = lambda x: x**3"
   ]
  },
  {
   "cell_type": "code",
   "execution_count": 115,
   "metadata": {},
   "outputs": [
    {
     "data": {
      "text/plain": [
       "64"
      ]
     },
     "execution_count": 115,
     "metadata": {},
     "output_type": "execute_result"
    }
   ],
   "source": [
    "imma_function(4)"
   ]
  },
  {
   "cell_type": "markdown",
   "metadata": {},
   "source": [
    "### 4-B\n",
    "\n",
    "Write a lambda function that cubes a list of numbers\n",
    "\n",
    "```python\n",
    "imma_notherfunction(range(1,10))\n",
    "[1, 8, 27, 64, 125, 216, 343, 512, 729]\n",
    "```"
   ]
  },
  {
   "cell_type": "code",
   "execution_count": 122,
   "metadata": {},
   "outputs": [
    {
     "name": "stdout",
     "output_type": "stream",
     "text": [
      "[1, 8, 27, 64, 125, 216, 343, 512, 729]\n"
     ]
    }
   ],
   "source": [
    "def imma_notherfunction(NumLs):\n",
    "    return list(map(lambda x: x**3, NumLs))\n",
    "\n",
    "print(imma_notherfunction(range(1,10)))"
   ]
  },
  {
   "cell_type": "code",
   "execution_count": 123,
   "metadata": {},
   "outputs": [
    {
     "name": "stdout",
     "output_type": "stream",
     "text": [
      "[1, 8, 27, 64, 125, 216, 343, 512, 729]\n"
     ]
    }
   ],
   "source": [
    "imma_notherfunction = lambda x: [i**3 for i in x] \n",
    "\n",
    "print(imma_notherfunction(range(1,10)))"
   ]
  }
 ],
 "metadata": {
  "anaconda-cloud": {},
  "hide_input": false,
  "kernelspec": {
   "display_name": "Python 3 (ipykernel)",
   "language": "python",
   "name": "python3"
  },
  "language_info": {
   "codemirror_mode": {
    "name": "ipython",
    "version": 3
   },
   "file_extension": ".py",
   "mimetype": "text/x-python",
   "name": "python",
   "nbconvert_exporter": "python",
   "pygments_lexer": "ipython3",
   "version": "3.11.4"
  },
  "latex_envs": {
   "LaTeX_envs_menu_present": false,
   "autocomplete": true,
   "bibliofile": "biblio.bib",
   "cite_by": "apalike",
   "current_citInitial": 1,
   "eqLabelWithNumbers": false,
   "eqNumInitial": 1,
   "hotkeys": {
    "equation": "Ctrl-E",
    "itemize": "Ctrl-I"
   },
   "labels_anchors": false,
   "latex_user_defs": false,
   "report_style_numbering": false,
   "user_envs_cfg": true
  },
  "widgets": {
   "state": {},
   "version": "1.1.2"
  }
 },
 "nbformat": 4,
 "nbformat_minor": 2
}
