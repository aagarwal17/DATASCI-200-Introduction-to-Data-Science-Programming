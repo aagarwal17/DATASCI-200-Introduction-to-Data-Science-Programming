{
 "cells": [
  {
   "cell_type": "markdown",
   "metadata": {},
   "source": [
    "# Unit 4 Live Session - Breakout Activities"
   ]
  },
  {
   "cell_type": "markdown",
   "metadata": {},
   "source": [
    "## Activity 1 - Psudocoding\n",
    "\n",
    "In class, your instructor walked you through how to psudocode the first part of the Palindrome problem from homework.  For reference, that problem asked you:\n",
    "\n",
    "Pascal's triangle is a triangle of numbers that is computed as follows.  The first row contains a 1.  Each row after that begins and ends with a 1, and every other number is the sum of the two numbers above it.  The first six rows of Pascal's triangle are shown below.\n",
    "```\n",
    "      1\n",
    "     1 1\n",
    "    1 2 1\n",
    "  1  3 3  1\n",
    " 1 4  6  4 1\n",
    "1 5 10 10 5 1\n",
    "```\n",
    "Write a script to compute and print the *n*th row of Pascal's triangle. Do not spend time trying to print the entire triangle in the format above (it is for illustrative purposes only).\n",
    "\n"
   ]
  },
  {
   "cell_type": "markdown",
   "metadata": {},
   "source": [
    "#### Question 1-1:\n",
    "Below is the Psudocode started in class.  This code, for any row \"last_row\", can calculate the next row of Pascal's triangle.  Please update the psudocode to explain how to print the *n*th of Pascal's triangle, instead of just getting the \"next\" row."
   ]
  },
  {
   "cell_type": "code",
   "execution_count": 1,
   "metadata": {},
   "outputs": [],
   "source": [
    "## We will use two arrays, one for the \"last row\" one for \"current row\"\n",
    "## Insight: Each pass through the loop, we can set \"current row\" to \"last row\". Then we can build a new \"current row\".\n",
    "## We first initialize the two arrays to [1] and [1,1] for rows 1 and 2\n",
    "## We then loop through an algorythim as follows:\n",
    "\n",
    "## 1. Replace \"last_row\" with the contents of \"current_row\" so we can create a new \"current_row\".\n",
    "## 2. Clear out \"current_row\" to have nothing in it.\n",
    "## 3. The 0 digit in current_row is 1\n",
    "## 4. Start a \"While\" loop that iterates until len(current_row) == len(last_row)\n",
    "    ## 5. Use a counter (n) that starts at 1 and increments by 1 each time through the loop\n",
    "    ## 6. Use \"append\" to set current_row[n] = last_row[n] + last_row[n-1]\n",
    "## 7. After exiting the loop, add the final \"1\"\n",
    "\n",
    "## Now wait, what is the problem? This only builds one row. Go into breakouts and, starting with\n",
    "    ## this psudocode, update the psudocode to find the \"N\"th line, as required in the problem. "
   ]
  },
  {
   "cell_type": "markdown",
   "metadata": {},
   "source": [
    "#### Question 1-2:\n",
    "Below is an implementation of the psudocode explained in class. Please update this code to include the steps you added above.  The code below does not have psudocode as comments for clarity, but feel free to use your psudocode as the comments in your solution.   "
   ]
  },
  {
   "cell_type": "code",
   "execution_count": 2,
   "metadata": {},
   "outputs": [
    {
     "name": "stdout",
     "output_type": "stream",
     "text": [
      "[1]\n",
      "[1, 1]\n",
      "[1, 2, 1]\n"
     ]
    }
   ],
   "source": [
    "# Initalize\n",
    "print ([1])\n",
    "last_row = [1, 1]\n",
    "current_row = []\n",
    "\n",
    "# First digit of any row is 1\n",
    "current_row.append(1)\n",
    "n = 1\n",
    "# Calculate values of next row\n",
    "while len(current_row) < len(last_row):\n",
    "    current_row.append(last_row[n] + last_row[n-1])\n",
    "    \n",
    "    n += 1\n",
    "# Last digit of any row is 1\n",
    "current_row.append(1)\n",
    "\n",
    "print(last_row)\n",
    "print(current_row)"
   ]
  },
  {
   "cell_type": "code",
   "execution_count": 3,
   "metadata": {},
   "outputs": [
    {
     "name": "stdout",
     "output_type": "stream",
     "text": [
      "[1, 2, 1]\n",
      "[1, 3, 3, 1]\n",
      "[1, 4, 6, 4, 1]\n",
      "[1, 5, 10, 10, 5, 1]\n"
     ]
    }
   ],
   "source": [
    "last_row = [1, 1]\n",
    "current_row = []\n",
    "\n",
    "iteration = 0\n",
    "while iteration < 4:\n",
    "    current_row.append(1)\n",
    "    n = 1\n",
    "    while len(current_row) < len(last_row):\n",
    "        current_row.append(last_row[n] + last_row[n-1])\n",
    "        n += 1\n",
    "    current_row.append(1)\n",
    "\n",
    "    print(current_row)\n",
    "    \n",
    "    last_row = current_row.copy()\n",
    "    current_row = []\n",
    "    iteration += 1\n"
   ]
  },
  {
   "cell_type": "markdown",
   "metadata": {
    "collapsed": true
   },
   "source": [
    "### Activity 2 - \"For\" vs. \"While\" loops\n",
    "\n",
    "#### Question 2-1: \"For\" Loop\n",
    "The list \"basket\" below is made up of fruit and pokemon.  Using a **for** loop, please iterate through the list and print, once per object, if it is a pokemon or a fruit.\n",
    "\n",
    "Sample output:\n",
    ">`apple is a fruit!\n",
    "jigglypuff is a pokemon!\n",
    "grape is a fruit!\n",
    "pineapple is a fruit!\n",
    "pikachu is a pokemon!`"
   ]
  },
  {
   "cell_type": "code",
   "execution_count": null,
   "metadata": {},
   "outputs": [],
   "source": []
  },
  {
   "cell_type": "code",
   "execution_count": 4,
   "metadata": {},
   "outputs": [],
   "source": [
    "basket = ['apple', 'jigglypuff', 'grape', 'pineapple', 'pikachu']\n",
    "fruit = ['apple', 'grape', 'pineapple']\n",
    "pokemon = ['jigglypuff', 'pikachu']"
   ]
  },
  {
   "cell_type": "code",
   "execution_count": 5,
   "metadata": {},
   "outputs": [
    {
     "name": "stdout",
     "output_type": "stream",
     "text": [
      "apple is a fruit\n",
      "jigglypuff is a pokemon\n",
      "grape is a fruit\n",
      "pineapple is a fruit\n",
      "pikachu is a pokemon\n"
     ]
    }
   ],
   "source": [
    "for item in basket:\n",
    "    if item in fruit:\n",
    "        print (item + ' is a fruit')\n",
    "    elif item in pokemon:\n",
    "        print (item + ' is a pokemon')\n",
    "    else:\n",
    "        print (item + \" is of an unknown type\")\n",
    "         "
   ]
  },
  {
   "cell_type": "markdown",
   "metadata": {},
   "source": [
    "#### Question 2-2: \"While\" Loop\n",
    "\n",
    "Now, please try to implement the same program using a **while** loop.  Again, your output should be:\n",
    "\n",
    "Sample output:\n",
    ">`apple is a fruit!\n",
    "jigglypuff is a pokemon!\n",
    "grape is a fruit!\n",
    "pineapple is a fruit!\n",
    "pikachu is a pokemon!`"
   ]
  },
  {
   "cell_type": "code",
   "execution_count": 6,
   "metadata": {},
   "outputs": [],
   "source": [
    "basket = ['apple', 'jigglypuff', 'grape', 'pineapple', 'pikachu']\n",
    "fruit = ['apple', 'grape', 'pineapple']\n",
    "pokemon = ['jigglypuff', 'pikachu']"
   ]
  },
  {
   "cell_type": "code",
   "execution_count": 7,
   "metadata": {},
   "outputs": [
    {
     "name": "stdout",
     "output_type": "stream",
     "text": [
      "pikachu is a pokemon\n",
      "pineapple is a fruit\n",
      "grape is a fruit\n",
      "jigglypuff is a pokemon\n",
      "apple is a fruit\n"
     ]
    }
   ],
   "source": [
    "while len(basket) > 0:\n",
    "    item = basket.pop()\n",
    "    if item in fruit:\n",
    "        print (item + ' is a fruit')\n",
    "    elif item in pokemon:\n",
    "        print (item + ' is a pokemon')\n",
    "    else:\n",
    "        print (item + \" is of an unknown type\")\n",
    "\n"
   ]
  },
  {
   "cell_type": "markdown",
   "metadata": {},
   "source": [
    "#### Question 2-3\n",
    "In your own words, when is it better to use a \"for\" loop than a \"while\" loop?  When is it better to use a \"while\" loop?"
   ]
  },
  {
   "cell_type": "markdown",
   "metadata": {},
   "source": [
    "for loop if you know when it is going to end \n",
    "while loop when some stop condition must be met."
   ]
  },
  {
   "cell_type": "markdown",
   "metadata": {},
   "source": [
    "### Activity 3 - Comprehensions"
   ]
  },
  {
   "cell_type": "markdown",
   "metadata": {},
   "source": [
    "**Question 3-1**\n",
    "\n",
    "Build list comprehensions to do the following:\n",
    "\n",
    "1. Create a list 'a' that multiplies each element of the sample_list by itself (x^2).\n",
    "2. Create a list 'b' that multiplies each element of the sample_list by itself, if the number is less than or equal to 4.\n",
    "2. Create a list 'b2' that multiplies each element of the sample_list by itself, if the number is less than or equal to 4 ELSE leave it the same.\n",
    "3. Create a list 'c' of tuples (x^2, x^3) for each element of the sample_list.\n",
    "4. Create a list 'd' that extracts the second element from each tuple in list 'c'.\n",
    "\n",
    "### expected output\n",
    "\n",
    "[1, 4, 9, 16, 25, 36]\n",
    "\n",
    "[1, 4, 9, 16]\n",
    "\n",
    "[1, 4, 9, 16, 5, 6]\n",
    "\n",
    "[(1, 1), (4, 8), (9, 27), (16, 64), (25, 125), (36, 216)]\n",
    "\n",
    "[1, 8, 27, 64, 125, 216]\n"
   ]
  },
  {
   "cell_type": "code",
   "execution_count": 8,
   "metadata": {},
   "outputs": [
    {
     "name": "stdout",
     "output_type": "stream",
     "text": [
      "[1, 4, 9, 16, 25, 36]\n",
      "[1, 4, 9, 16]\n",
      "[1, 4, 9, 16, 5, 6]\n",
      "[(1, 1), (4, 8), (9, 27), (16, 64), (25, 125), (36, 216)]\n",
      "[1, 8, 27, 64, 125, 216]\n"
     ]
    }
   ],
   "source": [
    "sample_list = [1, 2, 3, 4, 5, 6]\n",
    "\n",
    "a = [x**2 for x in sample_list]\n",
    "b = [x**2 for x in sample_list if x <= 4]\n",
    "b2 = [x**2 if x <= 4 else x for x in sample_list ]\n",
    "c = [(x**2, x**3) for x in sample_list]\n",
    "d = [x[1] for x in c]\n",
    "\n",
    "print(a)\n",
    "print(b)\n",
    "print(b2)\n",
    "print(c)\n",
    "print(d)"
   ]
  },
  {
   "cell_type": "markdown",
   "metadata": {
    "collapsed": true
   },
   "source": [
    "**Question 3-2** \n",
    "\n",
    "Load in the data that is available in this repository! Here's how to get started with loading in the data.\n",
    "\n",
    "```python\n",
    "import json\n",
    "\n",
    "with open(\"data.json\") as f:\n",
    "     temp = json.load(f)\n",
    "     data = temp['data']\n",
    "     cols = temp['cols']\n",
    "```"
   ]
  },
  {
   "cell_type": "code",
   "execution_count": 2,
   "metadata": {},
   "outputs": [
    {
     "ename": "FileNotFoundError",
     "evalue": "[Errno 2] No such file or directory: 'data.json'",
     "output_type": "error",
     "traceback": [
      "\u001b[0;31m---------------------------------------------------------------------------\u001b[0m",
      "\u001b[0;31mFileNotFoundError\u001b[0m                         Traceback (most recent call last)",
      "Cell \u001b[0;32mIn[2], line 3\u001b[0m\n\u001b[1;32m      1\u001b[0m \u001b[38;5;28;01mimport\u001b[39;00m \u001b[38;5;21;01mjson\u001b[39;00m\n\u001b[0;32m----> 3\u001b[0m \u001b[38;5;28;01mwith\u001b[39;00m \u001b[38;5;28;43mopen\u001b[39;49m\u001b[43m(\u001b[49m\u001b[38;5;124;43m\"\u001b[39;49m\u001b[38;5;124;43mdata.json\u001b[39;49m\u001b[38;5;124;43m\"\u001b[39;49m\u001b[43m)\u001b[49m \u001b[38;5;28;01mas\u001b[39;00m f:\n\u001b[1;32m      4\u001b[0m      temp \u001b[38;5;241m=\u001b[39m json\u001b[38;5;241m.\u001b[39mload(f)\n\u001b[1;32m      5\u001b[0m      data \u001b[38;5;241m=\u001b[39m temp[\u001b[38;5;124m'\u001b[39m\u001b[38;5;124mdata\u001b[39m\u001b[38;5;124m'\u001b[39m]\n",
      "File \u001b[0;32m/Library/Frameworks/Python.framework/Versions/3.11/lib/python3.11/site-packages/IPython/core/interactiveshell.py:284\u001b[0m, in \u001b[0;36m_modified_open\u001b[0;34m(file, *args, **kwargs)\u001b[0m\n\u001b[1;32m    277\u001b[0m \u001b[38;5;28;01mif\u001b[39;00m file \u001b[38;5;129;01min\u001b[39;00m {\u001b[38;5;241m0\u001b[39m, \u001b[38;5;241m1\u001b[39m, \u001b[38;5;241m2\u001b[39m}:\n\u001b[1;32m    278\u001b[0m     \u001b[38;5;28;01mraise\u001b[39;00m \u001b[38;5;167;01mValueError\u001b[39;00m(\n\u001b[1;32m    279\u001b[0m         \u001b[38;5;124mf\u001b[39m\u001b[38;5;124m\"\u001b[39m\u001b[38;5;124mIPython won\u001b[39m\u001b[38;5;124m'\u001b[39m\u001b[38;5;124mt let you open fd=\u001b[39m\u001b[38;5;132;01m{\u001b[39;00mfile\u001b[38;5;132;01m}\u001b[39;00m\u001b[38;5;124m by default \u001b[39m\u001b[38;5;124m\"\u001b[39m\n\u001b[1;32m    280\u001b[0m         \u001b[38;5;124m\"\u001b[39m\u001b[38;5;124mas it is likely to crash IPython. If you know what you are doing, \u001b[39m\u001b[38;5;124m\"\u001b[39m\n\u001b[1;32m    281\u001b[0m         \u001b[38;5;124m\"\u001b[39m\u001b[38;5;124myou can use builtins\u001b[39m\u001b[38;5;124m'\u001b[39m\u001b[38;5;124m open.\u001b[39m\u001b[38;5;124m\"\u001b[39m\n\u001b[1;32m    282\u001b[0m     )\n\u001b[0;32m--> 284\u001b[0m \u001b[38;5;28;01mreturn\u001b[39;00m \u001b[43mio_open\u001b[49m\u001b[43m(\u001b[49m\u001b[43mfile\u001b[49m\u001b[43m,\u001b[49m\u001b[43m \u001b[49m\u001b[38;5;241;43m*\u001b[39;49m\u001b[43margs\u001b[49m\u001b[43m,\u001b[49m\u001b[43m \u001b[49m\u001b[38;5;241;43m*\u001b[39;49m\u001b[38;5;241;43m*\u001b[39;49m\u001b[43mkwargs\u001b[49m\u001b[43m)\u001b[49m\n",
      "\u001b[0;31mFileNotFoundError\u001b[0m: [Errno 2] No such file or directory: 'data.json'"
     ]
    }
   ],
   "source": [
    "import json\n",
    "\n",
    "with open(\"data.json\") as f:\n",
    "     temp = json.load(f)\n",
    "     data = temp['data']\n",
    "     cols = temp['cols']"
   ]
  },
  {
   "cell_type": "markdown",
   "metadata": {},
   "source": [
    "- Write a comprehension that will extract out all the names and removes duplicates in doing so. The resulting data structure may be a list or a set.\n"
   ]
  },
  {
   "cell_type": "code",
   "execution_count": 8,
   "metadata": {},
   "outputs": [
    {
     "data": {
      "text/plain": [
       "[['Clark',\n",
       "  '757-2680',\n",
       "  'P.O. Box 220, 8838 Ligula Street',\n",
       "  'Jacksonville',\n",
       "  'FL',\n",
       "  '43572'],\n",
       " ['Demetrius',\n",
       "  '1-707-814-6484',\n",
       "  '282-6791 Lorem Rd.',\n",
       "  'Reading',\n",
       "  'PA',\n",
       "  '80187']]"
      ]
     },
     "execution_count": 8,
     "metadata": {},
     "output_type": "execute_result"
    }
   ],
   "source": [
    "data [1:3]"
   ]
  },
  {
   "cell_type": "code",
   "execution_count": 43,
   "metadata": {
    "scrolled": true
   },
   "outputs": [
    {
     "name": "stdout",
     "output_type": "stream",
     "text": [
      "There are 100 names\n",
      "There are 88 Unique names\n"
     ]
    }
   ],
   "source": [
    "print ('There are ' + str(len([row[0] for row in data])) + ' names')\n",
    "UniqNms =list({row[0] for row in data}) # use set comprehension to get unique names\n",
    "print ('There are ' + str(len(UniqNms)) + ' Unique names')\n"
   ]
  },
  {
   "cell_type": "code",
   "execution_count": null,
   "metadata": {
    "collapsed": true
   },
   "outputs": [],
   "source": []
  },
  {
   "cell_type": "markdown",
   "metadata": {},
   "source": [
    "- Count the number of people in each state. There are several ways of doing this so I won't give any tips!"
   ]
  },
  {
   "cell_type": "code",
   "execution_count": 33,
   "metadata": {},
   "outputs": [
    {
     "name": "stdout",
     "output_type": "stream",
     "text": [
      "{u'Mississippi': 1, u'WA': 2, u'MI': 2, u'Oklahoma': 1, u'Wyoming': 1, u'Minnesota': 4, u'Illinois': 1, u'HI': 1, u'Maryland': 1, u'FL': 3, u'Texas': 2, u'WY': 1, u'Wisconsin': 1, u'Iowa': 2, u'TX': 3, u'LA': 2, u'Louisiana': 1, u'Michigan': 2, u'Kansas': 2, u'Utah': 2, u'NE': 1, u'Oregon': 1, u'TN': 1, u'PA': 1, u'California': 1, u'Massachusetts': 2, u'VA': 2, u'Vermont': 1, u'Georgia': 2, u'CO': 2, u'Pennsylvania': 2, u'AK': 2, u'Alaska': 2, u'Kentucky': 1, u'Hawaii': 3, u'Nebraska': 2, u'VT': 1, u'IL': 6, u'GA': 1, u'IA': 1, u'Ohio': 3, u'AZ': 1, u'ID': 1, u'CT': 1, u'ME': 2, u'MA': 3, u'Colorado': 1, u'UT': 1, u'MO': 1, u'MN': 1, u'Washington': 1, u'Maine': 1, u'KS': 3, u'MT': 1, u'AR': 2, u'Montana': 2, u'MS': 2, u'Nevada': 1, u'OR': 2}\n"
     ]
    }
   ],
   "source": [
    "# we have to collapse the state names obviously...\n",
    "StateLs=[row[4] for row in data]\n",
    "stateDict={state: StateLs.count(state) for state in StateLs}\n",
    "\n",
    "# we can do this ,,, or provide a key and run it as a function\n",
    "stateDict['AK'] = stateDict['AK'] + stateDict['Arkansas']\n",
    "del stateDict['Arkansas']\n",
    "print (stateDict)"
   ]
  },
  {
   "cell_type": "markdown",
   "metadata": {},
   "source": [
    "- Write a comprehension that will end up with a key of name and value of phone number. The result should be a dictionary."
   ]
  },
  {
   "cell_type": "code",
   "execution_count": 35,
   "metadata": {
    "scrolled": true
   },
   "outputs": [
    {
     "data": {
      "text/plain": [
       "{u'Aidan': u'1-984-711-9462',\n",
       " u'Alec': u'750-5753',\n",
       " u'Alexander': u'827-5102',\n",
       " u'Ali': u'1-133-956-0980',\n",
       " u'Amery': u'271-7596',\n",
       " u'Armando': u'552-1617',\n",
       " u'Arsenio': u'1-118-744-0704',\n",
       " u'Austin': u'1-526-554-4190',\n",
       " u'Avram': u'261-1266',\n",
       " u'Beck': u'1-322-605-5384',\n",
       " u'Benjamin': u'1-149-920-6553',\n",
       " u'Bert': u'315-6071',\n",
       " u'Brady': u'1-210-344-3611',\n",
       " u'Brian': u'621-4923',\n",
       " u'Brody': u'295-4026',\n",
       " u'Burton': u'537-4363',\n",
       " u'Carter': u'474-8060',\n",
       " u'Christian': u'279-2636',\n",
       " u'Clark': u'701-9509',\n",
       " u'Clayton': u'1-310-760-5764',\n",
       " u'Connor': u'1-853-856-0196',\n",
       " u'Cyrus': u'224-1676',\n",
       " u'Dalton': u'1-554-675-1599',\n",
       " u'David': u'1-967-307-7419',\n",
       " u'Davis': u'1-769-482-8286',\n",
       " u'Dean': u'1-251-143-2893',\n",
       " u'Demetrius': u'1-707-814-6484',\n",
       " u'Derek': u'456-5056',\n",
       " u'Devin': u'500-2505',\n",
       " u'Dillon': u'921-1181',\n",
       " u'Drake': u'1-384-930-7825',\n",
       " u'Drew': u'1-569-640-0785',\n",
       " u'Driscoll': u'1-686-258-4283',\n",
       " u'Dylan': u'1-596-569-0803',\n",
       " u'Emery': u'1-312-628-6993',\n",
       " u'Ferdinand': u'1-393-182-6231',\n",
       " u'Galvin': u'1-220-754-5143',\n",
       " u'George': u'1-755-579-5717',\n",
       " u'Giacomo': u'228-3039',\n",
       " u'Hammett': u'1-718-960-0437',\n",
       " u'Harlan': u'1-854-959-2526',\n",
       " u'Hoyt': u'383-4839',\n",
       " u'Hu': u'291-5467',\n",
       " u'Ian': u'1-540-597-1825',\n",
       " u'Ivor': u'123-7017',\n",
       " u'Jamal': u'961-4557',\n",
       " u'James': u'1-367-530-4094',\n",
       " u'Jarrod': u'100-1188',\n",
       " u'Jerry': u'1-807-896-0508',\n",
       " u'Joel': u'1-912-417-3765',\n",
       " u'Joseph': u'526-5432',\n",
       " u'Joshua': u'1-829-779-4013',\n",
       " u'Kaseem': u'873-6790',\n",
       " u'Keith': u'1-382-215-8999',\n",
       " u'Kennedy': u'527-3998',\n",
       " u'Kenyon': u'1-323-359-1986',\n",
       " u'Lane': u'1-374-935-1437',\n",
       " u'Lester': u'510-1730',\n",
       " u'Lionel': u'1-138-741-7479',\n",
       " u'Logan': u'1-274-570-4439',\n",
       " u'Lucas': u'1-523-649-1350',\n",
       " u'Macaulay': u'1-502-585-1019',\n",
       " u'Marsden': u'203-3348',\n",
       " u'Marshall': u'1-754-686-8473',\n",
       " u'Neil': u'903-5893',\n",
       " u'Noah': u'898-6101',\n",
       " u'Nolan': u'829-2667',\n",
       " u'Norman': u'1-414-646-2244',\n",
       " u'Philip': u'828-3727',\n",
       " u'Phillip': u'1-540-873-0092',\n",
       " u'Quentin': u'121-5941',\n",
       " u'Ralph': u'1-194-996-7310',\n",
       " u'Reed': u'1-186-988-9663',\n",
       " u'Reese': u'1-308-432-7528',\n",
       " u'Roth': u'1-258-998-7158',\n",
       " u'Sean': u'692-2058',\n",
       " u'Steven': u'1-846-872-4914',\n",
       " u'Talon': u'709-8727',\n",
       " u'Thomas': u'386-9355',\n",
       " u'Thor': u'760-7789',\n",
       " u'Tobias': u'353-4286',\n",
       " u'Ulysses': u'1-587-815-1654',\n",
       " u'Vance': u'1-661-742-0429',\n",
       " u'Vladimir': u'1-260-313-0585',\n",
       " u'Warren': u'751-3918',\n",
       " u'Xanthus': u'939-9238',\n",
       " u'Yasir': u'737-8338',\n",
       " u'Yoshio': u'1-860-795-5519'}"
      ]
     },
     "execution_count": 35,
     "metadata": {},
     "output_type": "execute_result"
    }
   ],
   "source": [
    "{row[0]:row[1] for row in data}"
   ]
  },
  {
   "cell_type": "markdown",
   "metadata": {},
   "source": [
    "- Write a comprehension to find which letters of the alphabet (if any) are not used as the first letter in their names. Don't just list which ones we have, but which ones we are missing.\n",
    "\n",
    "Hint for this last one use:\n",
    "```python\n",
    "import string\n",
    "string.ascii_lowercase\n",
    "```"
   ]
  },
  {
   "cell_type": "code",
   "execution_count": 55,
   "metadata": {},
   "outputs": [
    {
     "name": "stdout",
     "output_type": "stream",
     "text": [
      "The letters that are missing from the first names\n",
      "set(['z', 'o'])\n"
     ]
    }
   ],
   "source": [
    "import string\n",
    "\n",
    "#make a set for all of the first letter of the first names \n",
    "LettersInLs = set([item[0][0].lower() for item in data])\n",
    "print ('The letters that are missing from the first names')\n",
    "print (str(set(string.ascii_lowercase) - LettersInLs))"
   ]
  },
  {
   "cell_type": "code",
   "execution_count": null,
   "metadata": {
    "collapsed": true
   },
   "outputs": [],
   "source": []
  },
  {
   "cell_type": "code",
   "execution_count": 37,
   "metadata": {},
   "outputs": [
    {
     "data": {
      "text/plain": [
       "['a vowel', 'e vowel', 'i vowel', 'o vowel', 'u vowel']"
      ]
     },
     "execution_count": 37,
     "metadata": {},
     "output_type": "execute_result"
    }
   ],
   "source": [
    "## notes for class ##\n",
    "import string\n",
    "\n",
    "word = '2345-Nessie ate-YOU_TOO!!@#'.lower()\n",
    "\n",
    "[i + ' vowel' for i in 'aeiou' if i in word]"
   ]
  },
  {
   "cell_type": "code",
   "execution_count": null,
   "metadata": {
    "collapsed": true
   },
   "outputs": [],
   "source": [
    "## HW1  \n",
    "1)\n",
    "# you can efficently make directories and manipulate files using relative paths. \n",
    "# * This will make your code more portable\n",
    "# * If you stay one working folder you can write clearer code.\n",
    "\n",
    "2)\n",
    "# chmod +x  make_tree.sh  #is called from the command line to change the file permissions"
   ]
  },
  {
   "cell_type": "code",
   "execution_count": null,
   "metadata": {
    "collapsed": true
   },
   "outputs": [],
   "source": [
    "#!/bin/bash\n",
    "\n",
    "mkdir s1\n",
    "mkdir s1/s3\n",
    "mkdir s1/s2\n",
    "echo \"I love bash scripting\" > s1/s3/conf.txt\n",
    "echo \"A Whole new world\" >> s1/s2/text_chunk1.txt\n",
    "echo \"A new fantastic point of view\" >> s1/s2/text_chunk1.txt\n",
    "mkdir s1/s2/Advanced\n",
    "touch s1/s2/Advanced/text_chunk2.txt\n",
    "cat s1/s2/text_chunk1.txt >> s1/s2/Advanced/text_chunk2.txt\n",
    "echo \"Do you want to build a snowman?\" >> s1/s2/Advanced/text_chunk2.txt"
   ]
  },
  {
   "cell_type": "code",
   "execution_count": 36,
   "metadata": {
    "collapsed": true
   },
   "outputs": [],
   "source": [
    "### notes for HW2 ##"
   ]
  },
  {
   "cell_type": "code",
   "execution_count": null,
   "metadata": {
    "collapsed": true
   },
   "outputs": [],
   "source": [
    "# averages UI issues\n",
    "# from a UI standpoint you need to tell your user which values are \n",
    "# acceptable\n",
    "\n",
    "# you could have imported math.sqrt (not covered) or use **0.5 to get the square root\""
   ]
  },
  {
   "cell_type": "code",
   "execution_count": 1,
   "metadata": {},
   "outputs": [
    {
     "name": "stdout",
     "output_type": "stream",
     "text": [
      "Please enter your income:40000\n",
      "Your taxes are $5,850.00\n"
     ]
    }
   ],
   "source": [
    "\n",
    "income = int(input(\"Please enter your income:\"))\n",
    "if income <= 1000:\n",
    "    tax = income *.05\n",
    "elif 1000 < income <= 2000:    ### In some cases I found: elif 1000 > income >= 2000:  \n",
    "    tax = (1000*.05) + ((income-1000)*.10)\n",
    "elif income > 2000:\n",
    "    tax = (1000*.05)+(1000*.1)+((income-2000)*.15)\n",
    "else:\n",
    "    print(\"Unable to calculate your taxes\")\n",
    "\n",
    "print ('Your taxes are ${:,.2f}'.format(tax))"
   ]
  },
  {
   "cell_type": "code",
   "execution_count": 1,
   "metadata": {},
   "outputs": [
    {
     "name": "stdout",
     "output_type": "stream",
     "text": [
      "Please enter your name: 美好马？\n",
      "？马好美"
     ]
    }
   ],
   "source": [
    "# the palandrome exercise\n",
    "name = str(input(\"Please enter your name: \"))\n",
    "\n",
    "letterCt = len(name) ### Make sure to initalize the count\n",
    "                    ### rev_name = (name[::-1])\n",
    "word = ''               #make the empty string sequence\n",
    "\n",
    "while letterCt > 0:                        \n",
    "    ### for every position apend the new letter and \n",
    "    if letterCt == len(name):\n",
    "        ltr=name[letterCt-1].upper()\n",
    "        print(ltr, end=\"\")\n",
    "    else:\n",
    "        ltr=name[letterCt-1].lower()\n",
    "        print(ltr, end=\"\")\n",
    "    word = word + ltr\n",
    "    letterCt -= 1\n",
    "if name == word:\n",
    "    print (\"\\nPalindrome!\")"
   ]
  },
  {
   "cell_type": "markdown",
   "metadata": {
    "collapsed": true
   },
   "source": [
    "<h2>Note</h2>key:value pairs are extremely useful and commonly employed. Practice locating items by key and by value; practice iterating over key,value in a comprehension.\n",
    "<br />\n",
    "Note, too, <strong>single bytes</strong>: prefatory to data cleansing, often we need to convert data to UTF-8 and check individual bytes, not just words, including checking whitespaces."
   ]
  },
  {
   "cell_type": "code",
   "execution_count": null,
   "metadata": {
    "collapsed": true
   },
   "outputs": [],
   "source": []
  }
 ],
 "metadata": {
  "kernelspec": {
   "display_name": "Python 3 (ipykernel)",
   "language": "python",
   "name": "python3"
  },
  "language_info": {
   "codemirror_mode": {
    "name": "ipython",
    "version": 3
   },
   "file_extension": ".py",
   "mimetype": "text/x-python",
   "name": "python",
   "nbconvert_exporter": "python",
   "pygments_lexer": "ipython3",
   "version": "3.11.4"
  }
 },
 "nbformat": 4,
 "nbformat_minor": 1
}
