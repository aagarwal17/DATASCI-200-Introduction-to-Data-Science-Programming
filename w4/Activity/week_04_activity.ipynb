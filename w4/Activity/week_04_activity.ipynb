{
 "cells": [
  {
   "cell_type": "markdown",
   "metadata": {},
   "source": [
    "# Unit 4 Live Session - Breakout Activities\n",
    "\n",
    "\n",
    "###  1. Psudocoding"
   ]
  },
  {
   "cell_type": "markdown",
   "metadata": {},
   "source": [
    "## Activity 1 - Psudocoding\n",
    "\n",
    "In class, your instructor walked you through how to psudocode the first part of the Palindrome problem from homework.  For reference, that problem asked you:\n",
    "\n",
    "Pascal's triangle is a triangle of numbers that is computed as follows.  The first row contains a 1.  Each row after that begins and ends with a 1, and every other number is the sum of the two numbers above it.  The first six rows of Pascal's triangle are shown below.\n",
    "```\n",
    "      1\n",
    "     1 1\n",
    "    1 2 1\n",
    "  1  3 3  1\n",
    " 1 4  6  4 1\n",
    "1 5 10 10 5 1\n",
    "```\n",
    "Write a script to compute and print the *n*th row of Pascal's triangle. Do not spend time trying to print the entire triangle in the format above (it is for illustrative purposes only).\n",
    "\n"
   ]
  },
  {
   "cell_type": "markdown",
   "metadata": {},
   "source": [
    "#### Question 1-1:\n",
    "Below is the Psudocode started in class.  This code, for any row \"last_row\", can calculate the next row of Pascal's triangle.  Please update the psudocode to explain how to print the *n*th of Pascal's triangle, instead of just getting the \"next\" row."
   ]
  },
  {
   "cell_type": "code",
   "execution_count": null,
   "metadata": {
    "collapsed": true
   },
   "outputs": [],
   "source": [
    "## We will use two arrays, one for the \"last row\" one for \"current row\"\n",
    "## Insight: Each pass through the loop, we can set \"current row\" to \"last row\". Then we can build a new \"current row\".\n",
    "## We first initialize the two arrays to [1] and [1,1] for rows 1 and 2\n",
    "## We then loop through an algorythem as follows:\n",
    "\n",
    "## 1. Replace \"last_row\" with the contents of \"current_row\" so we can create a new \"current_row\".\n",
    "## 2. Clear out \"current_row\" to have nothing in it.\n",
    "## 3. The 0 digit in current_row is 1\n",
    "## 4. Start a \"While\" loop that iterates until len(current_row) == len(last_row)\n",
    "    ## 5. Use a counter (n) that starts at 1 and increments by 1 each time through the loop\n",
    "    ## 6. Use \"append\" to set current_row[n] = last_row[n] + last_row[n-1]\n",
    "## 7. After exiting the loop, add the final \"1\"\n",
    "\n",
    "## Now wait, what is the problem? This only builds one row. Go into breakouts and, starting with\n",
    "    ## this psudocode, update the psudocode to find the \"N\"th line, as required in the problem. "
   ]
  },
  {
   "cell_type": "markdown",
   "metadata": {},
   "source": [
    "#### Question 1-2:\n",
    "Below is an implementation of the psudocode explained in class. Please update this code to include the steps you added above.  The code below does not have psudocode as comments for clarity, but feel free to use your psudocode as the comments in your solution.   "
   ]
  },
  {
   "cell_type": "code",
   "execution_count": null,
   "metadata": {},
   "outputs": [],
   "source": [
    "# Initalize\n",
    "last_row = [1, 1]\n",
    "current_row = []\n",
    "\n",
    "# First digit of any row is 1\n",
    "current_row.append(1)\n",
    "n = 1\n",
    "# Calculate values of next row\n",
    "while len(current_row) < len(last_row):\n",
    "    current_row.append(last_row[n] + last_row[n-1])\n",
    "    n += 1\n",
    "# Last digit of any row is 1\n",
    "current_row.append(1)\n",
    "\n",
    "print(last_row)\n",
    "print(current_row)"
   ]
  },
  {
   "cell_type": "markdown",
   "metadata": {
    "collapsed": true
   },
   "source": [
    "### Activity 2 - \"For\" vs. \"While\" loops\n",
    "\n",
    "#### Question 2-1: \"For\" Loop\n",
    "The list \"basket\" below is made up of fruit and pokemon.  Using a **for** loop, please iterate through the list and print, once per object, if it is a pokemon or a fruit.\n",
    "\n",
    "Sample output:\n",
    ">`apple is a fruit!\n",
    "jigglypuff is a pokemon!\n",
    "grape is a fruit!\n",
    "pineapple is a fruit!\n",
    "pikachu is a pokemon!`"
   ]
  },
  {
   "cell_type": "code",
   "execution_count": null,
   "metadata": {
    "collapsed": true
   },
   "outputs": [],
   "source": [
    "basket = ['apple', 'jigglypuff', 'grape', 'pineapple', 'pikachu']\n",
    "fruit = ['apple', 'grape', 'pineapple']\n",
    "pokemon = ['jigglypuff', 'pikachu']"
   ]
  },
  {
   "cell_type": "code",
   "execution_count": null,
   "metadata": {},
   "outputs": [],
   "source": []
  },
  {
   "cell_type": "markdown",
   "metadata": {},
   "source": [
    "#### Question 2-2: \"While\" Loop\n",
    "\n",
    "Now, please try to implement the same program using a **while** loop.  Again, your output should be:\n",
    "\n",
    "Sample output:\n",
    ">`apple is a fruit!\n",
    "jigglypuff is a pokemon!\n",
    "grape is a fruit!\n",
    "pineapple is a fruit!\n",
    "pikachu is a pokemon!`"
   ]
  },
  {
   "cell_type": "code",
   "execution_count": null,
   "metadata": {
    "collapsed": true
   },
   "outputs": [],
   "source": [
    "basket = ['apple', 'jigglypuff', 'grape', 'pineapple', 'pikachu']\n",
    "fruit = ['apple', 'grape', 'pineapple']\n",
    "pokemon = ['jigglypuff', 'pikachu']"
   ]
  },
  {
   "cell_type": "code",
   "execution_count": null,
   "metadata": {
    "collapsed": true
   },
   "outputs": [],
   "source": []
  },
  {
   "cell_type": "markdown",
   "metadata": {},
   "source": [
    "#### Question 2-3\n",
    "In your own words, when is it better to use a \"for\" loop than a \"while\" loop?  When is it better to use a \"while\" loop?"
   ]
  },
  {
   "cell_type": "markdown",
   "metadata": {},
   "source": [
    "[Put answer here]"
   ]
  },
  {
   "cell_type": "markdown",
   "metadata": {},
   "source": [
    "### Activity 3 - Comprehensions"
   ]
  },
  {
   "cell_type": "markdown",
   "metadata": {},
   "source": [
    "**Question 3-1**\n",
    "\n",
    "Build list comprehensions to do the following:\n",
    "\n",
    "1. Create a list 'a' that multiplies each element of the sample_list by itself (x^2).\n",
    "2. Create a list 'b' that multiplies each element of the sample_list by itself, if the number is less than or equal to 4.\n",
    "2. Create a list 'b2' that multiplies each element of the sample_list by itself, if the number is less than or equal to 4 ELSE leave it the same.\n",
    "3. Create a list 'c' of tuples (x^2, x^3) for each element of the sample_list.\n",
    "4. Create a list 'd' that extracts the second element from each tuple in list 'c'.\n",
    "\n",
    "### expected output\n",
    "\n",
    "[1, 4, 9, 16, 25, 36]\n",
    "\n",
    "[1, 4, 9, 16]\n",
    "\n",
    "[1, 4, 9, 16, 5, 6]\n",
    "\n",
    "[(1, 1), (4, 8), (9, 27), (16, 64), (25, 125), (36, 216)]\n",
    "\n",
    "[1, 8, 27, 64, 125, 216]\n"
   ]
  },
  {
   "cell_type": "code",
   "execution_count": null,
   "metadata": {
    "collapsed": true
   },
   "outputs": [],
   "source": [
    "sample_list = [1, 2, 3, 4, 5, 6]\n",
    "\n",
    "a = # Code Here\n",
    "b = # Code Here\n",
    "b2 = # Code Here\n",
    "c = # Code Here\n",
    "d = # Code Here\n",
    "\n",
    "print(a)\n",
    "print(b)\n",
    "print(b2)\n",
    "print(c)\n",
    "print(d)"
   ]
  },
  {
   "cell_type": "markdown",
   "metadata": {
    "collapsed": true
   },
   "source": [
    "**Question 3-2** \n",
    "\n",
    "Load in the data that is available in this repository! Here's how to get started with loading in the data.\n",
    "\n",
    "```python\n",
    "import json\n",
    "\n",
    "with open(\"data.json\") as f:\n",
    "    temp = json.load(f)\n",
    "    data = temp['data']\n",
    "    cols = temp['cols']\n",
    "```"
   ]
  },
  {
   "cell_type": "markdown",
   "metadata": {},
   "source": [
    "- Write a comprehension that will extract out all the names and removes duplicates in doing so. The resulting data structure may be a list or a set.\n"
   ]
  },
  {
   "cell_type": "code",
   "execution_count": null,
   "metadata": {
    "collapsed": true
   },
   "outputs": [],
   "source": []
  },
  {
   "cell_type": "markdown",
   "metadata": {},
   "source": [
    "- Count the number of people in each state. There are several ways of doing this so I won't give any tips!"
   ]
  },
  {
   "cell_type": "code",
   "execution_count": null,
   "metadata": {
    "collapsed": true
   },
   "outputs": [],
   "source": []
  },
  {
   "cell_type": "markdown",
   "metadata": {},
   "source": [
    "- Write a comprehension that will end up with a key of name and value of phone number. The result should be a dictionary."
   ]
  },
  {
   "cell_type": "code",
   "execution_count": null,
   "metadata": {
    "collapsed": true
   },
   "outputs": [],
   "source": []
  },
  {
   "cell_type": "markdown",
   "metadata": {},
   "source": [
    "- Write a comprehension to find which letters of the alphabet (if any) are not used as the first letter in their names. Don't just list which ones we have, but which ones we are missing.\n",
    "\n",
    "Hint for this last one use:\n",
    "```python\n",
    "import string\n",
    "string.ascii_lowercase\n",
    "```"
   ]
  },
  {
   "cell_type": "code",
   "execution_count": null,
   "metadata": {
    "collapsed": true
   },
   "outputs": [],
   "source": []
  }
 ],
 "metadata": {
  "anaconda-cloud": {},
  "kernelspec": {
   "display_name": "Python 3 (ipykernel)",
   "language": "python",
   "name": "python3"
  },
  "language_info": {
   "codemirror_mode": {
    "name": "ipython",
    "version": 3
   },
   "file_extension": ".py",
   "mimetype": "text/x-python",
   "name": "python",
   "nbconvert_exporter": "python",
   "pygments_lexer": "ipython3",
   "version": "3.11.4"
  }
 },
 "nbformat": 4,
 "nbformat_minor": 1
}
