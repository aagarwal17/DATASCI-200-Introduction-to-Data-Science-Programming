{
 "cells": [
  {
   "cell_type": "markdown",
   "id": "995d12f5",
   "metadata": {},
   "source": [
    "<p style=\"padding:10px;border-radius:4px;background-color:cornflowerblue;color:white;font-size: 28px;line-height:33px;\">A compendium of comprehensions: an instructive review notebook.</p>\n",
    "<hr />\n",
    "<p style=\"font-size: 9px;\">GB Feb 01, 2023</p>\n",
    "<p>The purpose of this notebook is to work sequentially through the fundamentals of comprehensions, with sidepoints along the way.  Experienced students may end-up skipping parts &lsquo;cause they know the topic already; others may want to work each cell.  In any case here&rsquo;s a compendium of comprehensions.</p>\n",
    "<hr />\n",
    "<h2>Table of Contents</h2>\n",
    "<ul>\n",
    "    <li>List and List Comprehensions</li>\n",
    "    <li>Tuples</li>\n",
    "    <li>Sets</li>\n",
    "    <li>Dictionaries</li>\n",
    "</ul>\n",
    "<hr />"
   ]
  },
  {
   "cell_type": "markdown",
   "id": "234e332e",
   "metadata": {},
   "source": [
    "<p style=\"color:red;font-family:Baskerville;font-size:30px;\">\n",
    "    List Comprehensions</p>\n",
    " <blockquote>A list is rather the equivalent of other languages' <i>array</i>, a mutable data structure that can hold a variety of data types in a single block - the list.<br /><br />\n",
    "    A vital point ultimately is to <i>iterate</i> (or loop thru) all elements of the list; and build versions to select data that meet some criterion.\n",
    "<br /><br />Examples:\n",
    "</blockquote>"
   ]
  },
  {
   "cell_type": "code",
   "execution_count": 103,
   "id": "e1eae369",
   "metadata": {},
   "outputs": [
    {
     "name": "stdout",
     "output_type": "stream",
     "text": [
      "[] type: <class 'list'>  id: 4549616384\n"
     ]
    }
   ],
   "source": [
    "students = [] # an empty list\n",
    "print(f\"{students} type: {type(students)}  id: {id(students)}\")"
   ]
  },
  {
   "cell_type": "code",
   "execution_count": 4,
   "id": "6c7befd1",
   "metadata": {},
   "outputs": [
    {
     "name": "stdout",
     "output_type": "stream",
     "text": [
      "['Tom', 25, 'Ming', 32, 'Toby', 18] \n",
      " type: <class 'list'>  id: 4427492096\n"
     ]
    }
   ],
   "source": [
    "students = ['Tom', 25, 'Ming', 32, 'Toby', 18] # list created with elements\n",
    "print(f\"{students} \\n type: {type(students)}  id: {id(students)}\")"
   ]
  },
  {
   "cell_type": "markdown",
   "id": "2e153caf",
   "metadata": {},
   "source": [
    "<p style=\"color:red;font-family:Baskerville;font-size:16px;\">\n",
    "    Iterations: for loop and comprehension examples</p>"
   ]
  },
  {
   "cell_type": "code",
   "execution_count": 5,
   "id": "416566b1",
   "metadata": {},
   "outputs": [
    {
     "name": "stdout",
     "output_type": "stream",
     "text": [
      "Tom\n",
      "25\n",
      "Ming\n",
      "32\n",
      "Toby\n",
      "18\n",
      "------------------------------\n",
      "Ming\n"
     ]
    }
   ],
   "source": [
    "for student in students:\n",
    "    print(student)\n",
    "    \n",
    "print(\"-\"*30)\n",
    "# let's find Ming:\n",
    "for student in students:\n",
    "    if student == \"Ming\":\n",
    "        print(student)"
   ]
  },
  {
   "cell_type": "markdown",
   "id": "ca191c2d",
   "metadata": {},
   "source": [
    "<p style=\"color:red;font-family:Baskerville;font-size:16px;\">\n",
    "Creating a new list: namespace and object space\n",
    "</p>\n",
    "<blockquote>We want to use more than 1 list and think about whether that list and copies <i>point</i> to the same object (in RAM; aka object space) and what happens to that object when we manipulate it.\n",
    "<br /><br />\n",
    "Do any of these list objects share the same space in RAM/object space, even tho they have different &ldquo;name spaces&rdquo;?  Notice the result of the new_students list - a new object with new name &amp; object spaces.<br /><br />\n",
    "Here is a baseline syntax: <br />\n",
    "    <code>the_list = [expression <span style=\"color:green;\">for</span> item <span style=\"color:green;\">in</span> iterable <span style=\"color:green;\">if</span> condition == True]</code>\n",
    "</blockquote>"
   ]
  },
  {
   "cell_type": "code",
   "execution_count": 6,
   "id": "3185f4e5",
   "metadata": {},
   "outputs": [
    {
     "name": "stdout",
     "output_type": "stream",
     "text": [
      "------------------------------\n",
      "students: ['Tom', 25, 'Ming', 32, 'Toby', 18] \n",
      " type: <class 'list'>  id: 4427492096\n",
      "\n",
      "all_students: ['Tom', 25, 'Ming', 32, 'Toby', 18] \n",
      " type: <class 'list'>  id: 4427492096\n",
      "\n",
      "new_students: ['Tom', 25, 'Ming', 32, 'Toby', 18] \n",
      " type: <class 'list'>  id: 4427465536\n"
     ]
    }
   ],
   "source": [
    "# let's find Ming and if we do, add to a new list\n",
    "all_students = []\n",
    "new_students = []\n",
    "\n",
    "all_students = students\n",
    "\n",
    "for student in students:\n",
    "    if \"Ming\" in students: # notice the 'in' returns True/False\n",
    "        new_students.append(student)\n",
    "        \n",
    "print(\"-\"*30)\n",
    "print(f\"students: {students} \\n type: {type(students)}  id: {id(students)}\\n\")\n",
    "print(f\"all_students: {all_students} \\n type: {type(all_students)}  id: {id(all_students)}\\n\")\n",
    "print(f\"new_students: {new_students} \\n type: {type(new_students)}  id: {id(new_students)}\")"
   ]
  },
  {
   "cell_type": "markdown",
   "id": "26a7622b",
   "metadata": {},
   "source": [
    "<p style=\"color:red;font-family:Baskerville;font-size:16px;\">Working from a <i>for loop</i> to a <i>list comprehension</i>.</p>"
   ]
  },
  {
   "cell_type": "code",
   "execution_count": 7,
   "id": "3f11daff",
   "metadata": {},
   "outputs": [
    {
     "name": "stdout",
     "output_type": "stream",
     "text": [
      "all_students: ['Ming', 'かちとくに', 'סר', 'Tom', 'José', 'Maria', 'Lynne', 'Dave'] \n",
      " type: <class 'list'>  id: 4427425792\n",
      "\n",
      "new_student_list: ['סר'] \n",
      " type: <class 'list'>  id: 4427431744\n",
      "\n",
      "not_student_list: ['Ming', 'かちとくに', 'סר', 'Tom', 'José', 'Maria', 'Dave'] \n",
      " type: <class 'list'>  id: 4427425472\n",
      "\n"
     ]
    }
   ],
   "source": [
    "all_students = ['Ming', 'かちとくに', 'סר', 'Tom', 'José', 'Maria', 'Lynne', 'Dave']\n",
    "\n",
    "new_student_list = [student for student in all_students if \"סר\" in student]\n",
    "\n",
    "not_student_list = [student for student in all_students if student != 'Lynne']\n",
    "\n",
    "\n",
    "new_student_list\n",
    "print(f\"all_students: {all_students} \\n type: {type(all_students)}  id: {id(all_students)}\\n\")\n",
    "print(f\"new_student_list: {new_student_list} \\n type: {type(new_student_list)}  id: {id(new_student_list)}\\n\")\n",
    "print(f\"not_student_list: {not_student_list} \\n type: {type(not_student_list)}  id: {id(not_student_list)}\\n\")\n"
   ]
  },
  {
   "cell_type": "markdown",
   "id": "994f3498",
   "metadata": {},
   "source": [
    "<p style=\"font-size:24; color:red; font-family:Baskerville;\">Affecting the extracted data: the temp variable (e.g., \"student\") is its own object so let's change it - such as rendering the output in upper case.  Using the model of .upper(), we can practice all the other string manipulation methods.</p>"
   ]
  },
  {
   "cell_type": "code",
   "execution_count": 8,
   "id": "28ca2038",
   "metadata": {},
   "outputs": [
    {
     "name": "stdout",
     "output_type": "stream",
     "text": [
      "['MING', 'かちとくに', 'סר', 'TOM', 'JOSÉ', 'MARIA', 'LYNNE', 'DAVE']\n"
     ]
    }
   ],
   "source": [
    "upper_case_output = [s.upper() for s in all_students]\n",
    "print(upper_case_output)"
   ]
  },
  {
   "cell_type": "markdown",
   "id": "bfa452be",
   "metadata": {},
   "source": [
    "<p style='font-size:24px;color:red;font-family:Baskerville;'>\n",
    "More conditions: integrating the <i>if ... else</i> in a comprehension:</p>\n",
    "<p>Compare how 'Tom' is replaced with 'José' - compare the original students list - notice the \"25\" was preceeded by 'Tom', but now José.</p>"
   ]
  },
  {
   "cell_type": "code",
   "execution_count": 11,
   "id": "facfceaf",
   "metadata": {},
   "outputs": [
    {
     "data": {
      "text/plain": [
       "['José', 25, 'Ming', 32, 'Toby', 18]"
      ]
     },
     "execution_count": 11,
     "metadata": {},
     "output_type": "execute_result"
    }
   ],
   "source": [
    "# hmmm. \n",
    "test_list = [student if student != 'Tom' else 'José' for student in students]\n",
    "#test_list = [student if student != 'Tom' for student in students]\n",
    "test_list"
   ]
  },
  {
   "cell_type": "markdown",
   "id": "9df60c3a",
   "metadata": {},
   "source": [
    "<p style=\"font-size:32; color:red; font-family:Baskerville;\">Using integers example</p>"
   ]
  },
  {
   "cell_type": "code",
   "execution_count": 145,
   "id": "7615447f",
   "metadata": {},
   "outputs": [
    {
     "data": {
      "text/plain": [
       "[0, 1, 2, 3, 4, 5, 6, 7, 8, 9, 10, 11]"
      ]
     },
     "execution_count": 145,
     "metadata": {},
     "output_type": "execute_result"
    }
   ],
   "source": [
    "# very common to use the range() object for testing - especially when running algorithm complexity tests.\n",
    "\n",
    "my_ints = [i for i in range(12)] # notice the \"12\" is not included.\n",
    "my_ints"
   ]
  },
  {
   "cell_type": "markdown",
   "id": "5f297c77",
   "metadata": {},
   "source": [
    "<p style=\"font-size:24; color:red; font-family:Baskerville;\">Using integers example: adding conditions</p>"
   ]
  },
  {
   "cell_type": "code",
   "execution_count": 146,
   "id": "623178f1",
   "metadata": {},
   "outputs": [
    {
     "name": "stdout",
     "output_type": "stream",
     "text": [
      "[0, 1, 2, 3, 4, 5, 6]\n"
     ]
    }
   ],
   "source": [
    "# we want numbers that are &lt; 7\n",
    "low_ints = [i for i in range(10) if i < 7]\n",
    "print(low_ints)"
   ]
  },
  {
   "cell_type": "markdown",
   "id": "960e1da5",
   "metadata": {},
   "source": [
    "<p><b>Experiment &amp; Practice</b>  Please be sure you can create and use <i>if</i> ... statements in list comprehensions.  Once you have a solid foundation, you&rsquo;ll be confident with the variations python will offer.  Practice each of the cells: make variations, deliberately try to cause an error [to learn what kinds of errors (aka &rsquo;exceptions&rsquo;) can be created] and how to address them.  Once you have a set of skills that work for you, it&rsquo;s recommended that you start to keep a record of them - that&rsquo;s both the beginning of your own how-to manual and your own library of code to import for your future projects.</p>\n",
    "<hr />"
   ]
  },
  {
   "cell_type": "markdown",
   "id": "2eb17642",
   "metadata": {},
   "source": [
    "<p style=\"color:red;font-size:36px;font-family:Baskerville;line-height:40px;\">Sort and Sorting</p>\n",
    "<blockquote><p>In real practice, it's common to get data [from a file, from a life stream, from a URL, from an SQL server ... doesn't matter - it's all just data] ... once you have access to data, you need to store them someplace in order to (a) remove data that aren't applicable, (b) check the domain and range of the data, (c) ensure the encoding of the data are the same (for integration, sorting, testing, whatever else you'll do), (d) address missing values, (e) and that the amount of data coming in don't overwhelm your computer.  Consequently, depending on what you're doing, the rule-of-thumb is to grab a chunk of data (from something called <i>chunking theory</i>) and &ldquo;clean&rdquo; the data [as suggested above] so we look for ways to explore the data, manipulate them and when we're satisfied the data set is ready for real analysis, then we'll copy those data to a new object.</p>\n",
    "<p>This means (a) we'll probably have some <i>original</i> data, say \"A\".  And we'll make a copy of A into B.  If B = A, then what happens to A will happen to B and vice verse.  Important note: how the original data are stored in RAM is one thing; how those data are presented <i>on the screen</i> can be entirely different - the source data may not be affected at all - it's just their presentation that appears different.  That's why we'll manipulate the list (and other data structures) for our exploration of the data - then we can copy the manipulated data output to a <i>new</i> structure - a new object with its own new name (in name space) and in object space.</blockquote>\n",
    "<p>Tech side note: if you studied CS you know we're looking at SNL (singly linked lists) and DLL (doubly linked lists) and considerable byte-level shifting.</p>"
   ]
  },
  {
   "cell_type": "markdown",
   "id": "03a39b3b",
   "metadata": {},
   "source": [
    "<p style='font-size:24px;color:red;font-family:Baskerville;'>\n",
    "    Sort versus Sorted\n",
    "</p>"
   ]
  },
  {
   "cell_type": "code",
   "execution_count": 147,
   "id": "da1109ff",
   "metadata": {},
   "outputs": [
    {
     "name": "stdout",
     "output_type": "stream",
     "text": [
      "List 1: ['a', 'b', 4, 'cat', 'alpha', 0, '99'] \n",
      " 4569243648\n"
     ]
    }
   ],
   "source": [
    "# let's experiment: a list then sort it ... with sort()\n",
    "list1 = ['a', 'b', 4, 'cat', 'alpha', 0, '99']\n",
    "print(f\"List 1: {list1} \\n {id(list1)}\")"
   ]
  },
  {
   "cell_type": "code",
   "execution_count": 148,
   "id": "f6c2d074",
   "metadata": {},
   "outputs": [
    {
     "ename": "TypeError",
     "evalue": "'<' not supported between instances of 'int' and 'str'",
     "output_type": "error",
     "traceback": [
      "\u001b[0;31m---------------------------------------------------------------------------\u001b[0m",
      "\u001b[0;31mTypeError\u001b[0m                                 Traceback (most recent call last)",
      "Input \u001b[0;32mIn [148]\u001b[0m, in \u001b[0;36m<cell line: 3>\u001b[0;34m()\u001b[0m\n\u001b[1;32m      1\u001b[0m \u001b[38;5;66;03m# NOTE! trying to *sort()* a list that combines different data types will\u001b[39;00m\n\u001b[1;32m      2\u001b[0m \u001b[38;5;66;03m# throw an exception... not what we want.\u001b[39;00m\n\u001b[0;32m----> 3\u001b[0m \u001b[43mlist1\u001b[49m\u001b[38;5;241;43m.\u001b[39;49m\u001b[43msort\u001b[49m\u001b[43m(\u001b[49m\u001b[43m)\u001b[49m\n",
      "\u001b[0;31mTypeError\u001b[0m: '<' not supported between instances of 'int' and 'str'"
     ]
    }
   ],
   "source": [
    "# NOTE! trying to *sort()* a list that combines different data types will\n",
    "# throw an exception... not what we want.\n",
    "list1.sort()\n",
    "\n",
    "# could you write a list comprehension that'd convert \n",
    "# the ints to strings before sorting?"
   ]
  },
  {
   "cell_type": "code",
   "execution_count": 149,
   "id": "1791c7d5",
   "metadata": {},
   "outputs": [
    {
     "name": "stdout",
     "output_type": "stream",
     "text": [
      "List 1: ['a', 'b', 'f', 'z', '6'] \n",
      " 4569440704\n",
      "List 1: ['6', 'a', 'b', 'f', 'z'] \n",
      " 4569440704\n"
     ]
    }
   ],
   "source": [
    "# let's try this again....\n",
    "list1 = ['a', 'b', 'f', 'z', '6']\n",
    "print(f\"List 1: {list1} \\n {id(list1)}\")\n",
    "\n",
    "list1.sort()\n",
    "print(f\"List 1: {list1} \\n {id(list1)}\")"
   ]
  },
  {
   "cell_type": "code",
   "execution_count": 150,
   "id": "0fd4331c",
   "metadata": {},
   "outputs": [
    {
     "name": "stdout",
     "output_type": "stream",
     "text": [
      "['6', 'a', 'b', 'f', 'z']\n",
      "4569248896, Same data, same sort - but a different object, confirmed by the id()\n"
     ]
    }
   ],
   "source": [
    "list1_sorted = sorted(list1)\n",
    "print(list1_sorted)\n",
    "print(f\"{id(list1_sorted)}, Same data, same sort - but a different object, confirmed by the id()\")"
   ]
  },
  {
   "cell_type": "markdown",
   "id": "1f74a35e",
   "metadata": {},
   "source": [
    "<p style='font-size:24px;color:red;font-family:Baskerville;'>\n",
    "Planning for more complicated list manipulations: adding a function.\n",
    "</p>\n",
    "<p>Here we're anticipating the use of more than 1 list, the lambda and the map() methods.</p>\n",
    "<p>Before moving to working with more than 1 list, sometimes we need to do more \n",
    "    preparation or have some criterion we want to use to include or exclude some data.  Here's the idea of adding a function to a sort, as a parameter.  When we move to 2+ lists, we'll want to use the map() method.</p>"
   ]
  },
  {
   "cell_type": "code",
   "execution_count": 151,
   "id": "884a7db9",
   "metadata": {},
   "outputs": [
    {
     "name": "stdout",
     "output_type": "stream",
     "text": [
      "new_list (before reversing) = ['z', 'b', 'e', '3', '99', 'o', 'f'], id = 4569249088\n"
     ]
    }
   ],
   "source": [
    "# okay, so we can use ints and strings and whatnot ... \n",
    "# how we treat the -output- can be a method or a function.\n",
    "# here are two examples with string (to upper), reverse\n",
    "\n",
    "new_list = ['z','b','e','3','99','o','f']\n",
    "print(f\"new_list (before reversing) = {new_list}, id = {id(new_list)}\")"
   ]
  },
  {
   "cell_type": "code",
   "execution_count": 152,
   "id": "8c5d42ca",
   "metadata": {},
   "outputs": [
    {
     "name": "stdout",
     "output_type": "stream",
     "text": [
      "Reversed list: ['f', 'o', '99', '3', 'e', 'b', 'z'], id 4569249088\n"
     ]
    }
   ],
   "source": [
    "new_list.reverse()\n",
    "print(f\"Reversed list: {new_list}, id {id(new_list)}\")"
   ]
  },
  {
   "cell_type": "code",
   "execution_count": 153,
   "id": "d72c790b",
   "metadata": {},
   "outputs": [
    {
     "name": "stdout",
     "output_type": "stream",
     "text": [
      " changing data at 0: ['000A', 'o', '99', '3', 'e', 'b', 'z'], id 4569249088\n"
     ]
    }
   ],
   "source": [
    "new_list[0] = '000A'\n",
    "print(f\" changing data at 0: {new_list}, id {id(new_list)}\")"
   ]
  },
  {
   "cell_type": "markdown",
   "id": "35b267a1",
   "metadata": {},
   "source": [
    "<p style='font-size:24px;color:red;font-family:Baskerville;'>"
   ]
  },
  {
   "cell_type": "markdown",
   "id": "d2f600f0",
   "metadata": {},
   "source": [
    "<hr />\n",
    "<p style='font-size:24px;color:red;font-family:Baskerville;'>Copying, Joining, and other List Methods</p>\n",
    "<p>In this section we consider real-world practices.  Say you're to integrate data from different data sets (for instance, there are various offices, labs, companies, whose data you have to inspect and later integrate for analysis.</p>\n",
    "<p style=\"font-size:18px;color:red;font-family:Baskerville;\">Using the + sign.</p>"
   ]
  },
  {
   "cell_type": "code",
   "execution_count": 154,
   "id": "e24332c0",
   "metadata": {},
   "outputs": [
    {
     "name": "stdout",
     "output_type": "stream",
     "text": [
      "Lab_1 id is 4568768064 and the copy is 4568825792\n",
      "\n",
      "Cool.  Now we have 3 different list objects.  Let's explore ... \n",
      "\n",
      "lab_1: [1, 5, 3, 2, 4, 1, 2], id = 4568768064\n",
      "\n",
      "lab_2: [9, 10, 30, 1, 4, 2, 1], id = 4568772288\n",
      "\n",
      "all_labs: [1, 5, 3, 2, 4, 1, 2, 9, 10, 30, 1, 4, 2, 1], id = 4556374208\n",
      "\n"
     ]
    }
   ],
   "source": [
    "lab_1 = [1, 5, 3, 2, 4, 1, 2]\n",
    "lab_2 = [9, 10, 30, 1, 4, 2, 1]\n",
    "\n",
    "# let's test ...\n",
    "lab_1_copy = lab_1.copy()\n",
    "print(f\"Lab_1 id is {id(lab_1)} and the copy is {id(lab_1_copy)}\")\n",
    "\n",
    "print(f\"\\nCool.  Now we have 3 different list objects.  Let's explore ... \")\n",
    "\n",
    "# USING THE + SIGN\n",
    "all_labs = lab_1 + lab_2\n",
    "print(f\"\\nlab_1: {lab_1}, id = {id(lab_1)}\")\n",
    "print(f\"\\nlab_2: {lab_2}, id = {id(lab_2)}\")\n",
    "print(f\"\\nall_labs: {all_labs}, id = {id(all_labs)}\\n\")"
   ]
  },
  {
   "cell_type": "markdown",
   "id": "e8086e19",
   "metadata": {},
   "source": [
    "<p style=\"font-size:18px;color:red;font-family:Baskerville;\">Using the extend() method.</p>"
   ]
  },
  {
   "cell_type": "code",
   "execution_count": 155,
   "id": "b4f521d0",
   "metadata": {},
   "outputs": [
    {
     "name": "stdout",
     "output_type": "stream",
     "text": [
      "berkeley_labs = None with id 4515636896\n",
      "lab_1 = [1, 5, 3, 2, 4, 1, 2, 9, 10, 30, 1, 4, 2, 1] with id 4568768064\n",
      "lab_2 = [9, 10, 30, 1, 4, 2, 1] with id 4568772288\n"
     ]
    }
   ],
   "source": [
    "berkeley_labs = lab_1.extend(lab_2)\n",
    "print(f\"berkeley_labs = {berkeley_labs} with id {id(berkeley_labs)}\")\n",
    "\n",
    "print(f\"lab_1 = {lab_1} with id {id(lab_1)}\")\n",
    "print(f\"lab_2 = {lab_2} with id {id(lab_2)}\")"
   ]
  },
  {
   "cell_type": "code",
   "execution_count": 156,
   "id": "037d9a92",
   "metadata": {},
   "outputs": [
    {
     "name": "stdout",
     "output_type": "stream",
     "text": [
      "A different technique - just extending lab_1 with lab_2's contents... \n",
      "lab_1 = [1, 5, 3, 2, 4, 1, 2, 9, 10, 30, 1, 4, 2, 1] with id 4568768064\n",
      "lab_2 = [9, 10, 30, 1, 4, 2, 1] with id 4568772288\n",
      "\n",
      "\n",
      "Applying the .extend() to lab_1: [1, 5, 3, 2, 4, 1, 2, 9, 10, 30, 1, 4, 2, 1, 9, 10, 30, 1, 4, 2, 1], id 4568768064\n"
     ]
    }
   ],
   "source": [
    "print(\"A different technique - just extending lab_1 with lab_2's contents... \")\n",
    "print(f\"lab_1 = {lab_1} with id {id(lab_1)}\")\n",
    "print(f\"lab_2 = {lab_2} with id {id(lab_2)}\")\n",
    "\n",
    "lab_1.extend(lab_2)\n",
    "\n",
    "print(f\"\\n\\nApplying the .extend() to lab_1: {lab_1}, id {id(lab_1)}\")"
   ]
  },
  {
   "cell_type": "markdown",
   "id": "5b781ab7",
   "metadata": {},
   "source": [
    "<p>Pay attention, then, to the creation of a <i>new</i> object that combines/extends two lists versus a single list that is extended by a different list.  Notice that all elements in both lists are considered \"siblings\" - they're all in the same dimension and can be accessed by their location (index) number).</p>"
   ]
  },
  {
   "cell_type": "markdown",
   "id": "30b5c27b",
   "metadata": {},
   "source": [
    "<p style=\"font-size:18px;color:red;font-family:Baskerville;\">Using the append() method.</p>\n",
    "<p>What do you do when you want to integrate data from 2+ sets <i>but</i> want to preserve the integrity of the added lists?  In other words, you'll end up with a single list object - but that object with contain \"sub-lists\" - a multidimensional list.</p>"
   ]
  },
  {
   "cell_type": "code",
   "execution_count": 157,
   "id": "4da21373",
   "metadata": {},
   "outputs": [
    {
     "name": "stdout",
     "output_type": "stream",
     "text": [
      "list_a = ['Paris', 'Antibes', 'Nice', 'Menton'].  id 4569267776\n",
      "list_b = ['Rome', 'Naples', 'Bari'].  id 4556347008\n",
      "\n",
      "Now appending ... \n",
      "list_a = ['Paris', 'Antibes', 'Nice', 'Menton', ['Rome', 'Naples', 'Bari']]. \n",
      "\t id 4569267776\n",
      "Rome\n"
     ]
    }
   ],
   "source": [
    "list_a = ['Paris', 'Antibes', 'Nice', 'Menton']\n",
    "list_b = ['Rome', 'Naples', 'Bari']\n",
    "print(f\"list_a = {list_a}.  id {id(list_a)}\")\n",
    "print(f\"list_b = {list_b}.  id {id(list_b)}\\n\\nNow appending ... \")\n",
    "\n",
    "list_a.append(list_b)\n",
    "print(f\"list_a = {list_a}. \\n\\t id {id(list_a)}\")\n",
    "\n",
    "print(list_a[4][0])"
   ]
  },
  {
   "cell_type": "markdown",
   "id": "fe4e7de6",
   "metadata": {},
   "source": [
    "<p>A note about indexing styles ... Notice that the resulting list_a has a \"sub-list\" at position 4.  That means if we use multidimensional indexing (e.g. [4][0]) we'll return \"Rome\"; but if we use this on a non-sub-list (like elements 0-3), then using [3][0] will return the letter 'M'.</p>"
   ]
  },
  {
   "cell_type": "code",
   "execution_count": 158,
   "id": "abc08127",
   "metadata": {},
   "outputs": [
    {
     "name": "stdout",
     "output_type": "stream",
     "text": [
      "Rome\n",
      "M\n"
     ]
    }
   ],
   "source": [
    "print(list_a[4][0])\n",
    "print(list_a[3][0])"
   ]
  },
  {
   "cell_type": "markdown",
   "id": "379f63b0",
   "metadata": {},
   "source": [
    "<p style='font-size:24px;color:red;font-family:Baskerville;'>Other useful methods</p>\n",
    "<p>We&rsquo;re still using the list object as our foundation.  So let&rsquo;s look at a few other options and discuss why they&rsquo;re useful.</p>\n",
    "<ol>\n",
    "    <li>How many items in my list? <code><i>my_list</i>.count()</code></li>\n",
    "    <li>How many times does 'x' appear in my list? <code><i>my_list</i>.count('x')</code></li>\n",
    "    <li>Where <i>is</i> 'x' in my list? <code><i>my_list</i>.index('x')</code></li>\n",
    "    <li>But now I need to insert 'y' <i>before</i> 'x'. <code><i>my_list</i>.insert(<i>index</i>, 'x')</code>.  Notice we have to know what the value of index is first.  So to save a step, use the index() as the parameter (see below)</li>\n",
    "    <li>Hmmm, I don't like Y there.  Let's remove it.  <code><i>my_list</i>.remove('Y')</code>  Notice we don't need to find the index.  Python searches, and if found (then True) the index is known (but not shown to us) and the element at that index is removed.</li>\n",
    "    <li>pop() is your friend.  Pop() with no parameter removes the <i>final</i> element; pass it an index number and that's your target ... <code><i>my_list</i>.pop(<i>index</i>)</code></li>\n",
    "</ol>"
   ]
  },
  {
   "cell_type": "code",
   "execution_count": 159,
   "id": "36b0a1e9",
   "metadata": {},
   "outputs": [
    {
     "name": "stdout",
     "output_type": "stream",
     "text": [
      "['a', 'b', 'x', 'z']\n",
      "['a', 'b', 'Y', 'x', 'z']\n",
      "------------------------------\n",
      "i = 0, ['a', 'b', 'Y', 'x']\n",
      "i = 1, ['a', 'b', 'Y']\n",
      "i = 2, ['a', 'b']\n",
      "i = 3, ['a']\n",
      "i = 4, []\n"
     ]
    }
   ],
   "source": [
    "testo = ['a','b','x','z']\n",
    "print(testo)\n",
    "testo.insert( testo.index('x'), 'Y')\n",
    "print(testo)\n",
    "\n",
    "print(\"-\"*30)\n",
    "for i in range(0, len(testo)):\n",
    "    testo.pop()\n",
    "    print(f\"i = {i}, {testo}\")"
   ]
  },
  {
   "cell_type": "markdown",
   "id": "8fdbc772",
   "metadata": {},
   "source": [
    "<p>&nbsp;&nbsp;&nbsp;</p>\n",
    "    <hr />\n",
    "<p style=\"color:red;font-size:36px;line-height:40px;font-family:Baskerville, serif;\">\n",
    "    Tuples</p>\n",
    "<p>Tuples use the <code>( )</code> parentheses to create and are intended to store multiple items ... and are <b>unchangeable</b> ... but if you stick a list (a mutable object) into a tuple, you <i>can</i> change the list's contents but <i>not</i> any of the tuple's.</p>\n",
    "<p>Important: once a tuple has been created, it cannot be changed - no additions, no changes, no removals.  [This has to do with where and how the tuple object is stored in the heap in RAM.]  But since tuples use indexing (as lists do) then we <b>duplicate values are ok</b>.</p>\n"
   ]
  },
  {
   "cell_type": "code",
   "execution_count": 160,
   "id": "1472d0ef",
   "metadata": {},
   "outputs": [
    {
     "name": "stdout",
     "output_type": "stream",
     "text": [
      "('Dianna Ross', 12, 'Bee-Gees', 15, 'Donna Summer', 4)\n"
     ]
    }
   ],
   "source": [
    "# number of times this artist hit #1 in 1980\n",
    "music_tuple = (\"Dianna Ross\", 12, \"Bee-Gees\", 15, \"Donna Summer\", 4)\n",
    "print(music_tuple)"
   ]
  },
  {
   "cell_type": "markdown",
   "id": "58233989",
   "metadata": {},
   "source": [
    "<p style=\"font-family:Baskerville; color:red; font-size:18px;\">\n",
    "    Use indexing (including negative indexing (remember string splicing?); as well as <code>in</code> ... notice the Python syntax pattern emerging?)</p>"
   ]
  },
  {
   "cell_type": "code",
   "execution_count": 161,
   "id": "2afd3938",
   "metadata": {},
   "outputs": [
    {
     "name": "stdout",
     "output_type": "stream",
     "text": [
      "Can you believe she's still performing?\n"
     ]
    }
   ],
   "source": [
    "if ('Dianna Ross') in music_tuple:\n",
    "    print(\"Can you believe she's still performing?\")"
   ]
  },
  {
   "cell_type": "code",
   "execution_count": 162,
   "id": "337125fe",
   "metadata": {},
   "outputs": [
    {
     "name": "stdout",
     "output_type": "stream",
     "text": [
      "What's the lowest number of hits for this group?  4\n"
     ]
    }
   ],
   "source": [
    "print(f\"What's the lowest number of hits for this group?  {music_tuple[-1]}\")"
   ]
  },
  {
   "cell_type": "code",
   "execution_count": 163,
   "id": "fcc4353c",
   "metadata": {},
   "outputs": [
    {
     "name": "stdout",
     "output_type": "stream",
     "text": [
      "But who is that?  Donna Summer\n",
      "But who is that with name?  ('Donna Summer', 4)\n",
      "What is the range of the #s?  (4, 15, 12)\n"
     ]
    }
   ],
   "source": [
    "print(f\"But who is that?  {music_tuple[-2]}\") \n",
    "print(f\"But who is that with name?  {music_tuple[-2:]}\")\n",
    "\n",
    "print(f\"What is the range of the #s?  {music_tuple[::-2]}\")"
   ]
  },
  {
   "cell_type": "markdown",
   "id": "60f68f28",
   "metadata": {},
   "source": [
    "<p style=\"font-family:Baskerville; color:red; font-size:18px;\">\n",
    "Adding data to a tuple?</p>\n",
    "<p>Yes, by converting an immutable object to a mutable one ... tuple to list and then back to tuple.  Note that this is computationally pretty expensive.</p>\n",
    "<p>Or, incestiously it seems, you can <b>add a tuple to a tuple</b> [it's actually a SLL.]"
   ]
  },
  {
   "cell_type": "code",
   "execution_count": 164,
   "id": "8ecf1415",
   "metadata": {},
   "outputs": [
    {
     "name": "stdout",
     "output_type": "stream",
     "text": [
      "('Switzerland', 'Greece', 'Russia', 'Austria', 'Denmark')\n"
     ]
    }
   ],
   "source": [
    "tuple_a = (\"Switzerland\",\"Greece\",\"Russia\",\"Austria\") #places where too much smoking\n",
    "tuple_b = (\"Denmark\",) # notice that tuples *must* have pair idea ... \n",
    "\n",
    "tuple_a += tuple_b\n",
    "\n",
    "print(tuple_a)"
   ]
  },
  {
   "cell_type": "markdown",
   "id": "b971b162",
   "metadata": {},
   "source": [
    "<p style=\"font-family:Baskerville; color:red; font-size:18px;\">\n",
    "&ldquo;Unpacking&rdquo; or &ldquo;Right Tuples&rdquo; - attaching names to our data for easier access.\n",
    "</p>\n",
    "<p>Important to note, oddly, that the packed tuple names <i>cannot</i> have quotes.  They're not really strings but <i>references</i> (like pointers) to the data in the tuple.  Weird.</p>"
   ]
  },
  {
   "cell_type": "code",
   "execution_count": 168,
   "id": "0e6522ff",
   "metadata": {},
   "outputs": [
    {
     "name": "stdout",
     "output_type": "stream",
     "text": [
      "BabyKitty\n"
     ]
    }
   ],
   "source": [
    "# start with a tuple\n",
    "cats = (\"Bix\", \"Bunny\", \"BabyKitty\", \"Suky\") # yes, my actual cats\n",
    "\n",
    "(tabby, siamese, orange_tabby, calico) = cats  # notice the name (cat)\n",
    "\n",
    "print(orange_tabby)"
   ]
  },
  {
   "cell_type": "markdown",
   "id": "0e874f7c",
   "metadata": {},
   "source": [
    "<p>Clearly I'm trying to draw parallels to what you know about Strings and python's interesting way of viewing data.  If we can use + for two string vars, why not use other math symbols for tuples?</p>"
   ]
  },
  {
   "cell_type": "code",
   "execution_count": 171,
   "id": "0dfac2ac",
   "metadata": {},
   "outputs": [
    {
     "name": "stdout",
     "output_type": "stream",
     "text": [
      "Using the + sign - for curious additions!\n",
      "('Bix', 'Bunny', 'BabyKitty', 'Suky', 'Switzerland', 'Greece', 'Russia', 'Austria', 'Denmark')\n",
      "\n",
      "Like the Time Warp ... \n",
      "Let's do the ('Time', 'Warp', 'Time', 'Warp', 'Time', 'Warp') one more time!\n"
     ]
    }
   ],
   "source": [
    "print(f\"Using the + sign - for curious additions!\")\n",
    "print((cats + tuple_a))\n",
    "\n",
    "print(f\"\\nLike the Time Warp ... \")\n",
    "rockyhorror = (\"Time\", \"Warp\")\n",
    "\n",
    "print(f\"Let's do the {rockyhorror * 3} one more time!\")"
   ]
  },
  {
   "cell_type": "markdown",
   "id": "b26671ef",
   "metadata": {},
   "source": [
    "<p>&nbsp;&nbsp;&nbsp;</p>\n",
    "    <hr />\n",
    "<p style=\"color:red;font-size:36px;line-height:40px;font-family:Baskerville, serif;\">\n",
    "    Sets</p>"
   ]
  },
  {
   "cell_type": "markdown",
   "id": "bb23a1d5",
   "metadata": {},
   "source": [
    "<p>Sets are <b>immutable</b>, unordered (which means displaying them the data may appear in different order each time), <b>unindexed</b>, which means they cannot have duplicates because data are located by their unique values.</p>\n",
    "<p>So if you have a list of lots of data and want to identify each unique value, convert your list into a set and there you go!</p>\n",
    "<p>Sets use <code>{ }</code> as their constructor.</p>"
   ]
  },
  {
   "cell_type": "code",
   "execution_count": 1,
   "id": "3a2a560f",
   "metadata": {},
   "outputs": [
    {
     "name": "stdout",
     "output_type": "stream",
     "text": [
      "{'Wein', 'vin', 'French', 'German', 'wine', 'vino', 'English', 'Italian'}\n",
      "Wein\n",
      "vin\n",
      "French\n",
      "German\n",
      "wine\n",
      "vino\n",
      "English\n",
      "Italian\n",
      "Wein\n",
      "vin\n",
      "French\n",
      "German\n",
      "Polish\n",
      "wine\n",
      "Wino\n",
      "vino\n",
      "English\n",
      "Italian\n"
     ]
    }
   ],
   "source": [
    "set_1 = {'vino', 'Italian', 'vin', 'French', 'wine', 'English', 'Wein', 'German'}\n",
    "print(set_1)\n",
    "\n",
    "for drinks in set_1:\n",
    "    print(drinks)\n",
    "    \n",
    "\n",
    "# rats, forgot Polish\n",
    "set_1.add(\"Wino\")\n",
    "set_1.add(\"Polish\")\n",
    "for drinks in set_1:\n",
    "    print(drinks)"
   ]
  },
  {
   "cell_type": "markdown",
   "id": "6880c3fc",
   "metadata": {},
   "source": [
    "<p>Note that set uses slightly different commands: <code>discard()</code> for <b>deleting an element</b>.  Tho like its sibling data structures, you can use <code>pop()</code> to remove items.  <br />\n",
    "    To <b>delete a set</b> use <code>del</code>, e.g., del my_set\n",
    "    </p>\n",
    "<hr />\n",
    "<p style=\"color:red;font-size:16px;font-family: Baskerville;\">Examples</p>\n",
    "<p>Here we want to explore sets and converting sets to other data types to address the mutability concern.  Note that <code>set</code> has features that are more akin in SQL and set theory (examples further below).</p>"
   ]
  },
  {
   "cell_type": "code",
   "execution_count": 2,
   "id": "f34ab341",
   "metadata": {},
   "outputs": [
    {
     "name": "stdout",
     "output_type": "stream",
     "text": [
      "<generator object <genexpr> at 0x10496b840>\n"
     ]
    }
   ],
   "source": [
    "print(x for x in drinks)"
   ]
  },
  {
   "cell_type": "code",
   "execution_count": 5,
   "id": "0ec6d179",
   "metadata": {},
   "outputs": [
    {
     "name": "stdout",
     "output_type": "stream",
     "text": [
      "['I', 't', 'a', 'l', 'i', 'a', 'n']\n",
      "['I']\n"
     ]
    }
   ],
   "source": [
    "new_set = [x for x in drinks] # if \"סר\" in student]\n",
    "print(new_set)\n",
    "\n",
    "new_set_2 = [x for x in drinks[0]] # if \"סר\" in student]\n",
    "print(new_set_2)\n"
   ]
  },
  {
   "cell_type": "code",
   "execution_count": 6,
   "id": "740bae68",
   "metadata": {},
   "outputs": [
    {
     "name": "stdout",
     "output_type": "stream",
     "text": [
      "new set and type: {'t', 'I', 'l', 'n', 'i', 'a'}, <class 'set'>\n"
     ]
    }
   ],
   "source": [
    "new_set_3 = {x for x in drinks}\n",
    "print(f\"new set and type: {new_set_3}, {type(new_set_3)}\")\n"
   ]
  },
  {
   "cell_type": "code",
   "execution_count": 15,
   "id": "aa1b55d8",
   "metadata": {},
   "outputs": [
    {
     "name": "stdout",
     "output_type": "stream",
     "text": [
      "<class 'tuple'>\n",
      "<class 'list'>\n"
     ]
    },
    {
     "ename": "AttributeError",
     "evalue": "'tuple' object has no attribute 'add'",
     "output_type": "error",
     "traceback": [
      "\u001b[0;31m---------------------------------------------------------------------------\u001b[0m",
      "\u001b[0;31mAttributeError\u001b[0m                            Traceback (most recent call last)",
      "Input \u001b[0;32mIn [15]\u001b[0m, in \u001b[0;36m<cell line: 9>\u001b[0;34m()\u001b[0m\n\u001b[1;32m      8\u001b[0m \u001b[38;5;66;03m# this won't work - tuples aren't mutiple\u001b[39;00m\n\u001b[1;32m      9\u001b[0m \u001b[38;5;28;01mfor\u001b[39;00m x \u001b[38;5;129;01min\u001b[39;00m a_set:\n\u001b[0;32m---> 10\u001b[0m     \u001b[43mnew_tuple_from_set\u001b[49m\u001b[38;5;241;43m.\u001b[39;49m\u001b[43madd\u001b[49m(x)\n",
      "\u001b[0;31mAttributeError\u001b[0m: 'tuple' object has no attribute 'add'"
     ]
    }
   ],
   "source": [
    "a_set = {1, 2, 3, 4, 5, 6, 7, 8, 9, 10}\n",
    "new_tuple_from_set = () # a tuple\n",
    "new_list_from_set = [] # a list\n",
    "\n",
    "print(type(new_tuple_from_set))\n",
    "print(type(new_list_from_set))\n",
    "\n",
    "# this won't work - tuples aren't mutiple\n",
    "for x in a_set:\n",
    "    new_tuple_from_set.add(x)\n",
    "    "
   ]
  },
  {
   "cell_type": "code",
   "execution_count": 19,
   "id": "a700c7e9",
   "metadata": {},
   "outputs": [
    {
     "name": "stdout",
     "output_type": "stream",
     "text": [
      "new_list_from_set [1, 2, 3, 4, 5, 6, 7, 8, 9, 10, 1, 2, 3, 4, 5, 6, 7, 8, 9, 10, 1, 2, 3, 4, 5, 6, 7, 8, 9, 10, 1, 2, 3, 4, 5, 6, 7, 8, 9, 10] \n",
      "<class 'list'>\n",
      "new_a_set {1, 2, 3, 4, 5, 6, 7, 8, 9, 10} \n",
      "<class 'set'>\n"
     ]
    }
   ],
   "source": [
    "for x in a_set:\n",
    "    new_list_from_set.append(x)\n",
    "print(f\"new_list_from_set {new_list_from_set} \\n{type(new_list_from_set)}\")\n",
    "\n",
    "new_a_set = set(new_list_from_set)\n",
    "print(f\"new_a_set {new_a_set} \\n{type(new_a_set)}\")"
   ]
  },
  {
   "cell_type": "markdown",
   "id": "2b8dd796",
   "metadata": {},
   "source": [
    "<hr >\n",
    "<p style=\"font-family:Baskerville; color:red; font-size:18px;\">Set Comprehensions</p>"
   ]
  },
  {
   "cell_type": "code",
   "execution_count": 34,
   "id": "40adb04d",
   "metadata": {},
   "outputs": [
    {
     "name": "stdout",
     "output_type": "stream",
     "text": [
      "Output for creating a new set with condition: {90, 59, 42, 62}\n",
      "\n",
      "\n",
      "Output for creating a new set from two lists with condition:\n",
      " {(42, 'Fifi'), (42, 'Pine'), (59, 'Fifi'), (59, 'Pine'), (42, 'Ming'), (59, 'Ming'), (62, 'Ming'), (90, 'Ming'), (42, 'Tom'), (59, 'Tom'), (62, 'Fifi'), (90, 'Fifi'), (90, 'Pine'), (62, 'Pine'), (62, 'Tom'), (90, 'Tom')}\n"
     ]
    }
   ],
   "source": [
    "# start off with some lists ... \n",
    "students = ['Tom', 'Ming', 'Fifi', 'Pine']  # lists from some output source ... \n",
    "grades = [90,59,62,42]\n",
    "\n",
    "print(f\"Output for creating a new set with condition: {test1}\\n\")\n",
    "test1 =  {i for i in grades if i > 0}\n",
    "\n",
    "test2 =  {(i,j) for i in grades for j in students if i > 0}\n",
    "print(f\"\\nOutput for creating a new set from two lists with condition:\\n {test2}\")"
   ]
  },
  {
   "cell_type": "markdown",
   "id": "2c47edd9",
   "metadata": {},
   "source": [
    "<hr >\n",
    "<p style=\"font-family:Baskerville; color:red; font-size:18px;\">Set Intersection</p>\n",
    "<p>intersection is unique among our data structures.  Here&rsquo;s an example that returns a set that contains the similarity of 2 or more sets.  It's worth using this example and experimenting with other set methods.</p>"
   ]
  },
  {
   "cell_type": "code",
   "execution_count": 44,
   "id": "ab23ac7f",
   "metadata": {},
   "outputs": [
    {
     "name": "stdout",
     "output_type": "stream",
     "text": [
      "how many options in my set? 6, 4377424416\n",
      "{'Newport'}\n",
      "\n",
      "Well, I guess we're off to destination {'Newport'}\n",
      "\n",
      "The only shared item is: {'Newport'}\n",
      "\n",
      "\n",
      "But notice the status now of my_vacation_opts: {'Newport'}\n",
      " 1\n",
      "Now how many options in my set? 1, 4377424416\n"
     ]
    }
   ],
   "source": [
    "my_vacation_opts = {\"Newport\", \"Antibes\", \"München\", \"Calabria\", \"Lake Como\", \"Monterey\"}\n",
    "daves_vacation_opts = {\"St. John\", \"Québec\", \"Hong Kong\", \"Perth\", \"Newport\"}\n",
    "lynns_vacation_opts = {\"Québec\", \"Warsaw\", \"München\", \"Newport\"}\n",
    "\n",
    "# a little pre-work test:\n",
    "print(f\"how many options in my set? {len(my_vacation_opts)}, {id(my_vacation_opts)}\")\n",
    "\n",
    "destination = my_vacation_opts.intersection(daves_vacation_opts)\n",
    "print(destination)\n",
    "\n",
    "final_dest = my_vacation_opts.intersection(daves_vacation_opts, lynns_vacation_opts)\n",
    "\n",
    "print(f\"\\nWell, I guess we're off to destination {final_dest}\\n\")\n",
    "\n",
    "# and a little housekeeping - clean-up unwanted data\n",
    "my_vacation_opts.intersection_update(daves_vacation_opts, lynns_vacation_opts)\n",
    "print(f\"The only shared item is: {my_vacation_opts}\\n\")\n",
    "\n",
    "print(f\"\\nBut notice the status now of my_vacation_opts: {my_vacation_opts}\\n {len(my_vacation_opts)}\")\n",
    "\n",
    "# a little post-work test:\n",
    "print(f\"Now how many options in my set? {len(my_vacation_opts)}, {id(my_vacation_opts)}\")\n",
    "# so we see the original set is altered.  "
   ]
  },
  {
   "cell_type": "markdown",
   "id": "360f42b3",
   "metadata": {},
   "source": [
    "<p>&nbsp;&nbsp;&nbsp;</p>\n",
    "    <hr />\n",
    "<p style=\"color:red;font-size:36px;line-height:40px;font-family:Baskerville, serif;\">\n",
    "Dictionaries</p>\n",
    "<p>By this point, you&rsquo;re probably tired of these variations and slight differences in syntax.  So let&rsquo;s focus on dictionaries - ultra important feature.</p>\n",
    "<p>The Dictionary <code>key:value</code> pair is the equivalent of the name:value pair used on the web - because sending data over a network usually means we can't preserve the data type.  So, we need to provide some means of associating a key (or variable name) with the data.  That's why in search enginines you'll see ?q=xxx  in the URL search address.  The ? is the delimiter between the URL and the name/value pair; usually \"q\" is used for \"query\" and then the value to be sought follows the = sign.</p>\n",
    "<p>Dictionaries are used <i>a lot</i> for sharing data between systems: data are exported from SQL into json (Excel, too?); python scripts then read the .json file into a dictionary and we're off!</p>"
   ]
  },
  {
   "cell_type": "markdown",
   "id": "70c4fe64",
   "metadata": {},
   "source": [
    "new_dict = {<b>key:value</b> <span style=\"color:green;\">for</span> (<b>key, value</b>) in iterable}\n",
    "\n",
    "new_dict_conditions = {<b>key:value</b> for (<b>key, value</b>) in iterable <span style=\"color:green;\">if</span> (key, value satisfy a condition)}"
   ]
  },
  {
   "cell_type": "code",
   "execution_count": 51,
   "id": "cdc58cbc",
   "metadata": {},
   "outputs": [
    {
     "name": "stdout",
     "output_type": "stream",
     "text": [
      "{'Tom': 90, 'Jane': 90, 'Ming': 90, 'BabyKitty': 100}\n",
      "What is BabyKitty's score? 100\n"
     ]
    }
   ],
   "source": [
    "# creating a dictionary - and get familiar with its : , syntax:\n",
    "students = { \n",
    "    \"Tom\": 90,\n",
    "    \"Jane\": 90,\n",
    "    \"Ming\": 90,\n",
    "    \"BabyKitty\": 100\n",
    "}\n",
    "print(students)\n",
    "\n",
    "# my cat, BabyKitty, is pretty smart.  How well is she doing?\n",
    "# cannot use \" \" in both places in this line - and cannot escape \\\" here.\n",
    "print(f\"What is BabyKitty's score? {students['BabyKitty']}\")"
   ]
  },
  {
   "cell_type": "code",
   "execution_count": 52,
   "id": "af6fd0a2",
   "metadata": {},
   "outputs": [
    {
     "name": "stdout",
     "output_type": "stream",
     "text": [
      "for version of adding data to {0: 0, 1: 2, 2: 4, 3: 6, 4: 8, 5: 10, 6: 12, 7: 14, 8: 16, 9: 18}\n"
     ]
    }
   ],
   "source": [
    "dict_1 = {} # create a dictionary\n",
    "\n",
    "# adding data using the loop approach\n",
    "for i in range(0, 10):\n",
    "    # Note the first i is from line 4 i as key - need a value, too, \n",
    "    # so add one for convenience, just squaring the value of i\n",
    "    dict_1[i] = i*2\n",
    "print(f\"for version of adding data to {dict_1}\")\n",
    "    "
   ]
  },
  {
   "cell_type": "code",
   "execution_count": 53,
   "id": "fadb0af1",
   "metadata": {},
   "outputs": [
    {
     "name": "stdout",
     "output_type": "stream",
     "text": [
      "{0: 0, 1: 2, 2: 4, 3: 6, 4: 8, 5: 10, 6: 12, 7: 14, 8: 16, 9: 18}\n",
      "{2: 4, 3: 6, 5: 10, 7: 14, 9: 18}\n"
     ]
    }
   ],
   "source": [
    "# comprehension version:\n",
    "dict_1 = {}\n",
    "\n",
    "dict_1 = {i: i*2 for i in range(0, 10)}\n",
    "print(dict_1)\n",
    "\n",
    "# comprehnsion version WITH CONDITION:  using the \"in\" command\n",
    "primes = [2, 3, 5, 7, 9, 11, 13]\n",
    "\n",
    "dict_2 = {i: i*2 for i in range(0, 10) if i in primes}\n",
    "print(dict_2)"
   ]
  },
  {
   "cell_type": "markdown",
   "id": "baa49384",
   "metadata": {},
   "source": [
    "<hr />\n",
    "<p style=\"font-family:Baskerville; color:red; font-size:18px;\">Using inputs: 2 lists (for keys and values) <code>zip</code> to create a new dictionary.\n",
    "</p>"
   ]
  },
  {
   "cell_type": "code",
   "execution_count": 89,
   "id": "6a59ab45",
   "metadata": {},
   "outputs": [
    {
     "name": "stdout",
     "output_type": "stream",
     "text": [
      "Here are the grades for course X100:\n",
      " {'Tom': '90', 'Ming': '89', 'Fifi': '92', 'Pine': '100'}\n"
     ]
    }
   ],
   "source": [
    "students = ['Tom', 'Ming', 'Fifi', 'Pine']  # lists from some output source ... \n",
    "grades = ['90','89','92','100']\n",
    "\n",
    "students_and_grades = {} # EMPTY dictionary\n",
    "for (key, value) in zip(students, grades):\n",
    "    students_and_grades[key] = value\n",
    "    \n",
    "# now imagine we're printing a Registrar's grade list ... \n",
    "print(f\"Here are the grades for course X100:\\n {students_and_grades}\")"
   ]
  },
  {
   "cell_type": "markdown",
   "id": "47154422",
   "metadata": {},
   "source": [
    "<hr />\n",
    "<p style=\"font-family:Baskerville; color:red; font-size:18px;\">Understanding access to items.\n",
    "</p>"
   ]
  },
  {
   "cell_type": "code",
   "execution_count": 58,
   "id": "07f571c4",
   "metadata": {},
   "outputs": [
    {
     "name": "stdout",
     "output_type": "stream",
     "text": [
      "300\n",
      "300\n"
     ]
    }
   ],
   "source": [
    "# equivalent commands - notice the symbol differences [ ] versus get()\n",
    "stocks = {\"APPL\": 300,\n",
    "         \"UBER\": 3,\n",
    "         \"TSLR\": 2,\n",
    "         \"NCPL\": 500}\n",
    "\n",
    "\n",
    "print(stocks[\"APPL\"])\n",
    "print(stocks.get(\"APPL\"))"
   ]
  },
  {
   "cell_type": "code",
   "execution_count": 60,
   "id": "dc376a02",
   "metadata": {},
   "outputs": [
    {
     "name": "stdout",
     "output_type": "stream",
     "text": [
      "dict_keys(['APPL', 'UBER', 'TSLR', 'NCPL'])\n",
      "{'APPL': 100, 'UBER': 3, 'TSLR': 2, 'NCPL': 500}\n"
     ]
    }
   ],
   "source": [
    "# inspect my data by UNIQUE keys:\n",
    "print(stocks.keys())\n",
    "\n",
    "# hmmm... let's fix one of the values\n",
    "stocks[\"APPL\"] = 100\n",
    "print(stocks)"
   ]
  },
  {
   "cell_type": "markdown",
   "id": "24edf187",
   "metadata": {},
   "source": [
    "<hr />\n",
    "<p style=\"font-family:Baskerville; color:red; font-size:18px;\">building on the access issue... all <i>values</i>, all <i>keys</i>, and both\n",
    "</p>"
   ]
  },
  {
   "cell_type": "code",
   "execution_count": 69,
   "id": "04fbc9cf",
   "metadata": {},
   "outputs": [
    {
     "name": "stdout",
     "output_type": "stream",
     "text": [
      "The values are 100\n",
      "The values are 3\n",
      "The values are 2\n",
      "The values are 500\n",
      "\n",
      "\n",
      "Remind me, Smithers, of my investments: APPL\n",
      "Remind me, Smithers, of my investments: UBER\n",
      "Remind me, Smithers, of my investments: TSLR\n",
      "Remind me, Smithers, of my investments: NCPL\n",
      "\n",
      "\n",
      "The SEC is here! What do we got? ('APPL', 100)\n",
      "The SEC is here! What do we got? ('UBER', 3)\n",
      "The SEC is here! What do we got? ('TSLR', 2)\n",
      "The SEC is here! What do we got? ('NCPL', 500)\n"
     ]
    }
   ],
   "source": [
    "# ALL VALUES\n",
    "for money in stocks.values():\n",
    "    print(f\"The values are {money}\")\n",
    "    \n",
    "# what stocks do I have?\n",
    "print(\"\\n\")\n",
    "for companies in stocks.keys():\n",
    "    print(f\"Remind me, Smithers, of my investments: {companies}\")\n",
    "    \n",
    "# how are my investments doing {pretty badly, actually}\n",
    "print(\"\\n\")\n",
    "for company, money in stocks.items():\n",
    "    print(f\"The SEC is here! What do we got? {company, money}\")"
   ]
  },
  {
   "cell_type": "markdown",
   "id": "c817fd46",
   "metadata": {},
   "source": [
    "<hr />\n",
    "<p style=\"font-family:Baskerville;font-size:20px;color:red;\">\n",
    "    Preparing for .json and data integration: nested dictionaries</p>\n",
    "    <p>Here we imagine a library book catalogue of checked out items:</p>"
   ]
  },
  {
   "cell_type": "code",
   "execution_count": 64,
   "id": "be908388",
   "metadata": {},
   "outputs": [
    {
     "name": "stdout",
     "output_type": "stream",
     "text": [
      "{'book1': {'name': 'Hamlet', 'year': 1559, 'author': 'Shakespeare'}, 'book2': {'name': 'La vie en rose', 'year': 1977, 'author': 'Piaf, Edith'}, 'book3': {'name': 'Italian Riviera', 'year': 2002, 'author': 'Rick Steeves'}}\n"
     ]
    }
   ],
   "source": [
    "onloan = {\n",
    "  \"book1\" : {\n",
    "    \"name\" : \"Hamlet\",\n",
    "    \"year\" : 1559,\n",
    "    \"author\": \"Shakespeare\"\n",
    "  },\n",
    "  \"book2\" : {\n",
    "    \"name\" : \"La vie en rose\",\n",
    "    \"year\" : 1977,\n",
    "    \"author\": \"Piaf, Edith\"\n",
    "  },\n",
    "  \"book3\" : {\n",
    "    \"name\" : \"Italian Riviera\",\n",
    "    \"year\" : 2002,\n",
    "    \"author\": \"Rick Steeves\"\n",
    "  }\n",
    "}\n",
    "\n",
    "print(onloan)"
   ]
  },
  {
   "cell_type": "markdown",
   "id": "3595e6fd",
   "metadata": {},
   "source": [
    "<p><code>pop</code> goes the dictionary ... Dictionaries share some methods, like clear(), copy(), pop() but different with <b>fromkeys()</b>, <b>get()</b>, <b>items</b>, <b>keys()</b>, <b>popitem()</b>, <b>setdefault()</b>, <b>update()</b> and finally <b>values()</b>.  This makes sense 'cause dictionaires require <i>unique</i> keys so before manipulating data we must locate it by <i>key</i> not by index ... and so require usually a known key and a new/updated value.</p>"
   ]
  },
  {
   "cell_type": "code",
   "execution_count": 68,
   "id": "0ca797c1",
   "metadata": {},
   "outputs": [
    {
     "name": "stdout",
     "output_type": "stream",
     "text": [
      "\n",
      "Properly updated nested dictionary: {'book1': {'name': 'Hamlet', 'year': 1559, 'author': 'Shakespeare, William'}, 'book2': {'name': 'La vie en rose', 'year': 1977, 'author': 'Piaf, Edith'}, 'book3': {'name': 'Italian Riviera', 'year': 2002, 'author': 'Rick Steeves'}, 'author': 'Shakespeare, William'}\n"
     ]
    }
   ],
   "source": [
    "onloan.update({\"author\":\"Shakespeare, William\"})\n",
    "onloan\n",
    "\n",
    "# but note!  the author must be disambiguated...\n",
    "onloan['book1']['author'] = \"Shakespeare, William\"\n",
    "print(f\"\\nProperly updated nested dictionary: {onloan}\")"
   ]
  },
  {
   "cell_type": "markdown",
   "id": "d0387d3c",
   "metadata": {},
   "source": [
    "<hr />\n",
    "<p style=\"font-family:Baskerville; color:red; font-size:22px;\">Dictionary Comprehensions\n",
    "</p>"
   ]
  },
  {
   "cell_type": "code",
   "execution_count": 83,
   "id": "07b7257e",
   "metadata": {},
   "outputs": [
    {
     "name": "stdout",
     "output_type": "stream",
     "text": [
      "{0: True, 1: True, 2: True, 3: True}\n"
     ]
    }
   ],
   "source": [
    "# since we have keys/values, we need 2 temp vars:\n",
    "# using the example from the zip above ...\n",
    "some_students = dict.fromkeys(range(4), True)\n",
    "print(some_students)"
   ]
  },
  {
   "cell_type": "code",
   "execution_count": 86,
   "id": "38ecbce2",
   "metadata": {},
   "outputs": [
    {
     "name": "stdout",
     "output_type": "stream",
     "text": [
      "Here's the score report {'Tom': 50, 'Ming': 49, 'Fifi': 45, 'Pine': 52} \n",
      "\n",
      "Here's the score report {'Tom': 50, 'Ming': 49, 'Fifi': 45, 'Pine': 52}\n"
     ]
    }
   ],
   "source": [
    "students = ['Tom', 'Ming', 'Fifi', 'Pine']  # lists from some output source ... \n",
    "grades = [50, 49, 45, 52]\n",
    "\n",
    "report = {person:score for (person, score) in zip(students, grades)}\n",
    "print(f\"Here's the score report {report} \\n\")\n",
    "\n",
    "\n",
    "# this effort seems logical but won't yield the top score ... see below.\n",
    "new_report = {} # EMPTY dictionary\n",
    "for (key, value) in zip(students, grades):\n",
    "    new_report[key] = value\n",
    "    \n",
    "finalreport = {person:score for (person,score) in new_report.items() if score > 50}\n",
    "print(f\"Here's the score report {new_report}\")\n"
   ]
  },
  {
   "cell_type": "markdown",
   "id": "281b9286",
   "metadata": {},
   "source": [
    "<hr />\n",
    "<p style=\"font-family:Baskerville;font-size:20px;color:red;\">Finding the highest value in a dictionary; or other conditions you need.\n",
    "</p>"
   ]
  },
  {
   "cell_type": "code",
   "execution_count": 88,
   "id": "c522bd42",
   "metadata": {},
   "outputs": [
    {
     "name": "stdout",
     "output_type": "stream",
     "text": [
      "{'Fifi': 83}\n"
     ]
    }
   ],
   "source": [
    "students_test = {'Tom': 50, 'Ming': 49, 'Fifi': 83, 'Pine': 21, 'Dave': 38, 'Toby': 47}\n",
    "\n",
    "last_one = {person:score for (person, score) in students_test.items() if score > 50}\n",
    "\n",
    "print(last_one)"
   ]
  },
  {
   "cell_type": "markdown",
   "id": "89f50f67",
   "metadata": {},
   "source": [
    "<hr />Done. Feb 2, 2023, GB"
   ]
  },
  {
   "cell_type": "code",
   "execution_count": null,
   "id": "8321677d",
   "metadata": {},
   "outputs": [],
   "source": []
  }
 ],
 "metadata": {
  "kernelspec": {
   "display_name": "Python 3 (ipykernel)",
   "language": "python",
   "name": "python3"
  },
  "language_info": {
   "codemirror_mode": {
    "name": "ipython",
    "version": 3
   },
   "file_extension": ".py",
   "mimetype": "text/x-python",
   "name": "python",
   "nbconvert_exporter": "python",
   "pygments_lexer": "ipython3",
   "version": "3.11.4"
  }
 },
 "nbformat": 4,
 "nbformat_minor": 5
}
