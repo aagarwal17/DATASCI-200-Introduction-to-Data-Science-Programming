{
 "cells": [
  {
   "cell_type": "markdown",
   "metadata": {},
   "source": [
    "<div style=\"background-color:cornflowerblue;padding:10%;border-radius:4px;\">\n",
    "    <h3>DATASCI 200: Computing for Data Science</h3>\n",
    "    <h1 style=\"color:white;\">Topic 4: Algorithms, Libraries</h1>\n",
    "    <h1 style=\"color:white;\">Part 1</h1>\n",
    "    <hr />\n",
    "    <p style=\"font-size: 9px;\">&copy;Jan 28, 2023, GB</p>"
   ]
  },
  {
   "cell_type": "markdown",
   "metadata": {},
   "source": [
    "<img src=\"images/tree.png\" width=\"500\" height=\"250\"/>"
   ]
  },
  {
   "cell_type": "markdown",
   "metadata": {},
   "source": [
    "<h1>Table of Contents:</h1> (with anchor links)\n",
    "<ul>\n",
    "    <li><a href=\"#prefatory\">Prefatory</a></li>\n",
    "    <li><a href=\"#codeexamples\">Code Examples</a></li>\n",
    "    <li><a href=\"#discussion\">Discussion introduction</a></li>\n",
    "    <li><a href=\"#modularization\">Modularization</a>: process- and data-flows</li>\n",
    "    <li><a href=\"#chessboard\">Chessboard Example</a></li>\n",
    "    <li><a href=\"#bisection\">Bisection example</a></li>\n",
    "    <li><a href=\"#pascal\">Pascal&rsquo;s Triangle</a> Example: 3 versions</li>\n",
    "</ul>\n",
    "Main Topics:\n",
    "<ul>\n",
    "    <li><a href=\"#list\">List Comprehensions</a></li>\n",
    "    <li><a href=\"#generating\">Generating Tuples in List Comprehensions</a></li>\n",
    "    <li><a href=\"#match\">Match Demo - implementing the chess board example</a></li>\n",
    "    <li><a href=\"#dictionary\">Dictionary Comprehensions</a></li>\n",
    "    <li><a href=\"#set\">Set comprehensions</a></li>\n",
    "</ul>\n",
    "Optional demos & other examples\n",
    "<ul>\n",
    "    <li><a href=\"#converting\">Converting python/json and back again</a></li>\n",
    "    <li><a href=\"#datetime\">Datetime and stat example</a></li>\n",
    "    <li><a href=\"#searching\">Searching Examples</a>:\n",
    "\t\t<ul>\n",
    "\t\t\t<li>exhaustive</li>\n",
    "\t\t\t<li>selection</li>\n",
    "\t\t\t<li>bubble</li>\n",
    "\t\t\t<li>sequential</li>\n",
    "\t\t\t<li>brute-force matching</li>\n",
    "\t\t\t<li>closest pair problem</li>\n",
    "\t\t</ul>\n",
    "\t</li>\n",
    "</ul>\n",
    "<hr />"
   ]
  },
  {
   "cell_type": "markdown",
   "metadata": {},
   "source": [
    "<p style=\"font-family:Baskerville, Palatino, serif; font-size: 24px; line-height:27px;\">\n",
    "<i style=\"color:red;\">Main points of this lesson:</i></p>\n",
    "    \n",
    "<b>Prefatory Background to the Lesson</b>\n",
    "    <ul>\n",
    "        <li><b>Prefatory</b>:  algorithm design (process and data decompositions</li>\n",
    "        <li>Using visuals in problem-solving; math versions of the problem</li>\n",
    "        <li>Planning ahead: using data visualizations as part of Exploratory Data Analysis</li>\n",
    "        <li>Pseudocoding (aka Structured English)</li>\n",
    "    </ul>\n",
    "</p>\n",
    "<hr />\n",
    "    <b>Lesson Points:</b>\n",
    "    <ol>\n",
    "    <li>Functions leading to Objects: for/while</li>\n",
    "    <li>Importing data: progessing from files to data streams</li>\n",
    "    <li>Evolving from if/for to comprehensions and map()</li>\n",
    "    <li>Algorithm Performance</li>\n",
    "</ol>"
   ]
  },
  {
   "cell_type": "markdown",
   "metadata": {},
   "source": [
    "<p style=\"font-family:Baskerville, Palatino, serif; font-size: 24px; line-height:27px;\">\n",
    "    <i style=\"color:red;\" id=\"#prefatory\">Prefatory</a></i>\n",
    "<blockquote>\n",
    "    <p>These materials collectively build on the themes discussed in the asynch. Don&rsquo;t stress over the volume - focus on the main points listed in the async lesson.  <u>This notebook has many optional features that you may skip in your section</u>: they&rsquo;re offered for in-class discussion when possible and for your own explorations outside of class.</p>\n",
    "    <p>This notebook expands greatly on those themes by contextualizing them from different perspectives - introducing visualizations, modularization, process and data flow analysis, and some fundamental CS ideas about sorting and searching.</p>\n",
    "    <p>This is a bridge, too, to week 6&rsquo;s Big O (and Big &Theta;)  algorithm complexity discussion.\n",
    "</p>\n",
    "    <p>Remember - focus on using the for, while, iterations, comprehensions, etc., for our course - then build on the bigger picture as your needs and interests grow.  The main points today are to introduce the idea of <u>problem-solving through modularization</u> using the tools you have; modularization brings us to the edge of larger system design, data-flow and process-flow analysis, and ultimately to making efficient code as the volume and types of data get ever larger.</p>\n",
    "    <p>\n",
    "        See also the <a href=\"bridgeWeek4to6.ipynb\" target=\"new\">Bridge notebook</a> for more examples of Big O, Big &Theta; and Algorithm Design, topic we review in Week 5.</p>\n",
    "</blockquote>\n",
    "\n",
    "<div style=\"height:225px;\">\n",
    "<img style=\"width:222x; float:left;text-align: text-top; padding:10px;\" src=\"images/babylon.gif\"/>This is a great visualization: the first proof of the square root of numbers, the Babylonian Proof.\n",
    "</div>\n",
    "<p>&nbsp;</p>\n",
    "<p>&nbsp;</p>\n",
    "<hr />\n",
    "<p style=\"font-family:Baskerville, Palatino, serif; font-size: 24px; line-height:27px;\">\n",
    "<i style=\"color:red;\" id=\"codeexamples\">Code Examples for the lesson:</i></p>\n",
    "<ul>\n",
    "    <li>For Loops</li>\n",
    "    <li>&ldquo;Fancy&rdquo; For Loops</li>\n",
    "    <li>Exhaustive Search</li>\n",
    "    <li>Bisection Search</li>\n",
    "    <li>Heron&rsquo;s Method</li>\n",
    "    <li>Comprehensions</li>\n",
    "    <li>Adv. Comprehensions.</li>\n",
    "</ul>\n",
    "\n",
    "<p>Since backgrounds vary tremendously, let&rsquo;s take a moment with this optional discussion notebook to examine some of this week&rsquo;s points.</p>\n",
    "    </div>\n",
    "<hr />\n",
    "\n",
    "<p style=\"font-family:Baskerville, Palatino, serif; font-size: 24px; line-height:27px;\">\n",
    "<i style=\"color:red;\" id=\"discussion\">Discussion Introduction: what does it mean to sketch out solutions?</i>\n",
    "\n",
    "<ul>\n",
    "    <li>Optional prefatory discussion: <b>modularization</b>\n",
    "    <ul>\n",
    "        <li>Sketch out the answer; Chessboard visual demo </li>\n",
    "        <li>Variabilize</li>\n",
    "        <li>Bisection example</li>\n",
    "    </ul>\n",
    "    </li>\n",
    "<li>Pascal&rsquo;s Triangle\n",
    "    <ul>\n",
    "        <li>Seeding our vars (last_row, current_row)</li>\n",
    "        <li>3 versions - two whiles and a range</li>\n",
    "        <li>pop()</li>\n",
    "        <li>Full example - input the # of rows</li>\n",
    "    </ul>\n",
    "</li>\n",
    "<li>List Comprehensions\n",
    "    <ul><li>syntax of <code>if ... else ... for</code> in a comprehension</li>\n",
    "    </ul>\n",
    "</li>\n",
    "<li>Tuples in list comprehensions\n",
    "    <ul>\n",
    "        <li>Chesspiece example - can you change of elif to match?</li>\n",
    "         <li>Quick mention of '\\uxxxx'</li>\n",
    "    </ul>\n",
    "</li>\n",
    "<li>Dictionary Comprehension\n",
    "<ul><li>Example with .json</li>\n",
    "<li>Reading data line by line</li>\n",
    "</ul>\n",
    "<li>Set comprehension</li>\n",
    "<li>Breakout Room</li>\n",
    "<li>Optional Examples\n",
    "    <ul>\n",
    "        <li>Chess board: using ranges</li>\n",
    "    <li>Guessing square room (Babelonian)</li>\n",
    "    <li>dictionary to json; json to dictionary: difference between \n",
    "    <code>load()</code> and <code>loads()</code></li>\n",
    "    <li>Fun examples with formatting, datetime, prefatory I/O stuff</li>\n",
    "    </ul>\n",
    "</li>\n",
    "<li>Exhautive Search Examples</li>\n",
    "</ul>"
   ]
  },
  {
   "cell_type": "markdown",
   "metadata": {},
   "source": [
    "<hr/>\n",
    "<p style=\"font-family:Baskerville, Palatino, serif; font-size: 24px; line-height:27px;\" id=\"modularization\">\n",
    "<i style=\"color:red;\">In real-practice: problem-solving by breaking down the work processes and how the data move through the sub-processes; what <i>action</i> causes the data to move?</i>\n",
    "<blockquote>\n",
    "    <p>Plan your scripts by breaking down a problem into smaller pieces, that logically go together (like accounts payable versus accounts receivable).  How to do these <i>modules</i> collectively form a whole new computing system?</p>\n",
    "    <p>Note the verbs that move the data through the system: we note only processes that transform the data: these verbs become the names of our functions and classes/methods (aka Software Development Lifecycle SDLC).  This helps to identify the data, their types, whether required or optional, number of allowed instances (0, 1, many).</p>\n",
    "\n",
    "<p>Processes in a system<br />\n",
    "    <a href=\"images/level-n.jpg\" target=\"new\"><img src=\"images/level-n.jpg\"/></a><br />\n",
    "    Data moving around the system<br />\n",
    "    <a href=\"images/dfd-1.jpg\" target=\"new\">\n",
    "        <img src=\"images/dfd-1.jpg\"/></a>\n",
    "</p>\n",
    "</blockquote>\n",
    "<hr />\n",
    "<hr/>\n",
    "<p style=\"font-family:Baskerville, Palatino, serif; font-size: 24px; line-height:27px;\">\n",
    "    <i style=\"color:red;\">Visual Demo: chessboard analysis</i></p>\n",
    "<p>Look at this chessboard - notice we can visualize the set up of a game ... notice, too, the hard-coded row and column names. How would you decompose a problem?</p>"
   ]
  },
  {
   "cell_type": "markdown",
   "metadata": {},
   "source": [
    "<p>Draw out your solution: identify the variables</p>\n",
    "<code>     ROW  0.           1.      2.       3.       4.\n",
    "COL       0  [0][0]  [0][1]  [0][2]   [0][3]   [0][4]\n",
    "          1  [1][0]  [1][1]  [1][2]   [1][3]   [1][4]\n",
    "          2  [2][0]  [2][1]. and so on ... \n",
    "          3\n",
    "          4 ... \n",
    "</code>\n",
    "Convert to vars; i for row; j for column\n",
    "<pre>\n",
    "i = 0\n",
    "j = 0\n",
    "\n",
    "[i][j]\n",
    "      0.         1.          2.         3.            4.\n",
    "j    [i][j]    [i]  [j+1]  [i]  [j+2]   [i]  [j+3]  [i]  [j+4]\n",
    "j    [i+1][j]  [i+1][j+1]  [i+1][j+2]   [i+1][j+3]  [i+1][j+4]\n",
    "j    [i+2][j]  [i+2][j+1]. and so on ... \n",
    "j  \n",
    "...</pre>"
   ]
  },
  {
   "cell_type": "markdown",
   "metadata": {},
   "source": [
    "<ul><li>What goes into the layout (i.e., sort of the background of the game)?</li>\n",
    "    <li>Hard-code the values to make sure the script performs correctly; then variablize</li>\n",
    "    <li>What are the components of the game - the pieces</li>\n",
    "    <li>What kind of movement can the pieces make?</li>\n",
    "    <li>What kind of object - like a list or tuple - would hold the piece's locations?</li></ul>"
   ]
  },
  {
   "cell_type": "markdown",
   "metadata": {},
   "source": [
    "<img src=\"images/chess.png\" width=\"250\" height=\"250\" id=\"chessboard\">\n",
    "<br />\n",
    "<a href=\"chess.py\" target=\"new\">Object-oriented chess game python code</a>"
   ]
  },
  {
   "cell_type": "markdown",
   "metadata": {},
   "source": [
    "<hr />\n",
    "<p style=\"font-family:Baskerville, Palatino, serif; font-size: 24px; line-height:27px;\" id=\"bisection\">\n",
    "    <i style=\"color:red;\">Optional: Bisection and other searching algorithms ... </i>\n",
    "    </p>\n",
    "<p>By dividing the size of the data set into the smaller chunks, we reduce the amount of data to be searched (making things faster) and ultimately finding an answer.  But there are limits: when do we know when to stop?  Work out the logic of the algorithm, then code it ... then find python shortcuts.</p>\n",
    "<p>Given an &ldquo;alphabet&rdquo; of letters a-z, what is the position of letter &ldquo;g&rdquo;?</p>"
   ]
  },
  {
   "cell_type": "markdown",
   "metadata": {},
   "source": [
    "<hr />\n",
    "<blockquote>\n",
    "    <p>Turning to a common math/cs questions, by dividing the size of the data set into the smaller chunks, we reduce the amount of data to be searched (making things faster) and ultimately finding an answer.  But there are limits: when do we know when to stop?  Work out the logic of the algorithm, then code it ... then find python shortcuts.</p>\n",
    "<p>Given an &ldquo;alphabet&rdquo; of letters a-z, what is the position of letter &ldquo;g&rdquo;?</p>\n",
    "    "
   ]
  },
  {
   "cell_type": "code",
   "execution_count": 2,
   "metadata": {},
   "outputs": [
    {
     "name": "stdout",
     "output_type": "stream",
     "text": [
      "start 0 letter 4  mid 3  end 5\n",
      "start 3 letter 4  mid 4  end 5\n"
     ]
    }
   ],
   "source": [
    "import math\n",
    "\n",
    "start = 0\n",
    "end = 10\n",
    "\n",
    "mid = math.ceil(end/2)\n",
    "letter = 4\n",
    "\n",
    "\n",
    "while letter != mid:  \n",
    "    if letter < mid:   # 4 < 5\n",
    "        end = mid      # end (10) is now midpoint, 5\n",
    "    else:              # 4 > 5, e.g., letter is 8\n",
    "                       # 8 > 5, so \n",
    "        start = mid    # start (0) is now mid (5)\n",
    "        \n",
    "    mid = math.ceil((end+start)/2)  # get the new start/end range of values\n",
    "    print(\"start\", start, \"letter\",letter, \" mid\",mid, \" end\",end)\n"
   ]
  },
  {
   "cell_type": "markdown",
   "metadata": {},
   "source": [
    "<hr/>\n",
    "<p style=\"font-family:Baskerville, Palatino, serif; font-size: 24px; line-height:27px;\">\n",
    "<i style=\"color:red;\">Optional: a &ldquo;math&rdquo; version</i>\n",
    "</p>\n",
    "    <p>For a given function <i>f(x)</i>,the Bisection Method algorithm works as follows:</p>\n",
    "<ul><li>two values a and b are chosen for which <i>f(a) &gt; 0</i> and <i>f(b) &lt; 0</i> (or the other way around)\n",
    "    </li>\n",
    "    <li>\n",
    "interval halving: a midpoint c is calculated as the arithmetic mean between a and b, <i>c = (a + b) / 2</i></li>\n",
    "    <li>the function <i>f</i> is evaluated for the value of <i>c</i></li>\n",
    "    <li>if f(c) = 0 means that we found the root of the function, which is c</li>\n",
    "<li>if f(c) ≠ 0 we check the sign of f(c):</li>\n",
    "<li>if f(c) has the same sign as f(a) we replace a with c and we keep the same value for b</li>\n",
    "<li>if f(c) has the same sign as f(b), we replace b with c and we keep the same value for a\n",
    " we go back to step 2. and recalculate c with the new value of a or b</li>\n",
    "<li>The algorithm ends when the values of f(c) is less than a defined tolerance (e.g. 0.001). In this case we say that c is close enough to be the root of the function for which f(c) ~= 0.</li></ul>\n",
    "<p>\n",
    "In order to avoid too many iterations, we can set a maximum number of iterations (e.g. 1000) and even if we are above the defined tolerance, we keep the last value of c as the root of our function.</p>\n",
    "<p>Example</p>\n",
    "<p>The best way of understanding how the algorithm work is by looking at an example.\n",
    "</p>\n",
    "    <p>For the function <i>f(x)</i> below find the best approximation of the root given the tolerance of TOL = 0.01 and a maximum of NMAX = 1000 iterations.</p>\n",
    "<p><i>𝑓</i>(𝑥)=10–𝑥2</p>\n",
    "</blockquote>"
   ]
  },
  {
   "cell_type": "markdown",
   "metadata": {},
   "source": [
    "<table>\n",
    "    <tr><td><p>Draw out the solution; start to variabilize</p>\n",
    "        <br /><img src=\"images/bisection.jpg\"/></td>\n",
    "        <td><img src=\"images/bisection2.png\"/></td>\n",
    "    </tr>\n",
    "    <tr>\n",
    "        <td colspan=\"2\"><img src=\"images/bisection3.png\"/>\n",
    "    </td></tr>\n",
    "</table>"
   ]
  },
  {
   "cell_type": "markdown",
   "metadata": {},
   "source": [
    "<hr/>\n",
    "<p style=\"font-family:Baskerville, Palatino, serif; font-size: 18px; line-height:22px;color:red;\">\n",
    "    <i>Look for options, and weigh them by their algorithming speed</i><p>Think about when to <i>stop</i> your script: \n",
    "Brute Force &amp; Heron&rsquo;s Method</p>"
   ]
  },
  {
   "cell_type": "markdown",
   "metadata": {},
   "source": [
    "<img src=\"images/brute-and-heron.jpg\"/>"
   ]
  },
  {
   "cell_type": "markdown",
   "metadata": {},
   "source": [
    "<hr />\n",
    "<p style=\"font-family:Baskerville, Palatino, serif; font-size: 24px; line-height:27px;color:red;\" id=\"pascal\">Pascal&rsquo;s Triangle Example: 3 versions</p>\n",
    "<p>Notice we can find the visual way (lines &amp; rows); or the math approach (the sum of the values); and then how to code it with variables.</p>\n",
    "<p>\n",
    "    <b>Side note about algorithmic complexity (prefatory for next week)</b>: \n",
    "    After it works, how can we improve it?  Meaning how to improve the algorithm&rsquo;s preformance?  This notion we&rsquo;ll see as Big O - a measure of worst-case performance.</p>\n",
    "    <p>We&rsquo;ll review a companion measure called Big &Theta; later this term.  Each command is 1, so a single print() statement is O(1).  If we have lots of print() statements, say <i>n</i>, then O(n).  Nested <code>while</code> loops are O(n<sup>2</sup>). As you know python has lots of helper methods, like join(), intersect() and so on.</p>"
   ]
  },
  {
   "cell_type": "markdown",
   "metadata": {},
   "source": [
    "<img src=\"images/triangle1.jpg\">"
   ]
  },
  {
   "cell_type": "markdown",
   "metadata": {},
   "source": [
    "<img src=\"images/triangle2.jpg\">"
   ]
  },
  {
   "cell_type": "markdown",
   "metadata": {},
   "source": [
    "<img src=\"images/triangle3.jpg\">"
   ]
  },
  {
   "cell_type": "markdown",
   "metadata": {},
   "source": [
    "<img src=\"images/triangle4.jpg\">"
   ]
  },
  {
   "cell_type": "markdown",
   "metadata": {},
   "source": [
    "<blockquote>\n",
    "<p style=\"font-family:Baskerville, Palatino, serif; font-size: 24px; line-height:27px; color:red;\">Thinking about the idea - how to build up from idea, testing, final  ...</p>\n",
    "    <p>The next few cells built-up the idea of rows and columns and altering their values.  Precursor to Pascal&rsquo;s Triangle.\n",
    "</p>\n",
    "</blockquote>"
   ]
  },
  {
   "cell_type": "code",
   "execution_count": 3,
   "metadata": {},
   "outputs": [
    {
     "name": "stdout",
     "output_type": "stream",
     "text": [
      "-------------------------------------------------- \n",
      "Version 1: \n",
      "[1]\n",
      "N = 1\n",
      "[1, 1]\n",
      "[1, 2, 1]\n"
     ]
    }
   ],
   "source": [
    "#week 4 - question 1-2:\n",
    "print(\"-\"*50,\"\\nVersion 1: \")\n",
    "print ([1])\n",
    "last_row = [1, 1]\n",
    "current_row = []\n",
    "\n",
    "# First digit of any row is 1\n",
    "current_row.append(1)\n",
    "n = 1\n",
    "\n",
    "# Calculate values of next row\n",
    "while len(current_row) < len(last_row):\n",
    "    current_row.append(last_row[n] + last_row[n-1])\n",
    "    print(\"N =\",n)\n",
    "    n += 1\n",
    "    \n",
    "# Last digit of any row is 1\n",
    "current_row.append(1)\n",
    "\n",
    "print(last_row)\n",
    "print(current_row)"
   ]
  },
  {
   "cell_type": "code",
   "execution_count": 4,
   "metadata": {},
   "outputs": [
    {
     "name": "stdout",
     "output_type": "stream",
     "text": [
      "-------------------------------------------------- \n",
      "Version 2:\n",
      "[1, 2, 1]\n",
      "[1, 3, 3, 1]\n",
      "[1, 4, 6, 4, 1]\n",
      "[1, 5, 10, 10, 5, 1]\n"
     ]
    }
   ],
   "source": [
    "# Another way of doing the job ... \n",
    "print(\"-\"*50,\"\\nVersion 2:\")\n",
    "lr = [1,1]\n",
    "cr = []\n",
    "\n",
    "iteration = 0\n",
    "while iteration < 4:\n",
    "    cr.append(1)\n",
    "    n = 1\n",
    "    while len(cr) < len(lr):\n",
    "        cr.append(lr[n] + lr[n-1])\n",
    "        n += 1\n",
    "    cr.append(1)\n",
    "\n",
    "    print(cr)\n",
    "\n",
    "    lr = cr.copy()\n",
    "    cr = []\n",
    "    iteration += 1\n",
    "\n"
   ]
  },
  {
   "cell_type": "code",
   "execution_count": 5,
   "metadata": {},
   "outputs": [
    {
     "name": "stdout",
     "output_type": "stream",
     "text": [
      "[1]\n",
      "[1, 1]\n",
      "[1, 2, 1]\n",
      "[1, 3, 3, 1]\n",
      "[1, 4, 6, 4, 1]\n",
      "[1, 5, 10, 10, 5, 1]\n",
      "[1, 6, 15, 20, 15, 6, 1]\n",
      "[1, 7, 21, 35, 35, 21, 7, 1]\n",
      "[1, 8, 28, 56, 70, 56, 28, 8, 1]\n",
      "[1, 9, 36, 84, 126, 126, 84, 36, 9, 1]\n"
     ]
    }
   ],
   "source": [
    "# don't worry about making the output look like a pyramid.\n",
    "oldList = [1]\n",
    "\n",
    "for i in range(10):\n",
    "    print(oldList)\n",
    "    newList = []\n",
    "    newList.append(oldList[0])\n",
    "    for i in range(len(oldList)-1):\n",
    "        newList.append(oldList[i]+oldList[i+1])\n",
    "    newList.append(oldList[-1])\n",
    "    oldList = newList"
   ]
  },
  {
   "cell_type": "code",
   "execution_count": 6,
   "metadata": {},
   "outputs": [
    {
     "name": "stdout",
     "output_type": "stream",
     "text": [
      "-------------------------------------------------- \n",
      "compare using pop()\n",
      "pikachu  size of basket:  4\n",
      "pineapple  size of basket:  3\n",
      "grape  size of basket:  2\n",
      "Rolls Royce  size of basket:  1\n",
      "Mercedes  size of basket:  0\n",
      "_________________________ \n",
      "\n",
      "Mercedes is unknown.\n",
      "Rolls Royce is unknown.\n",
      "grape is a thing to eat.\n",
      "pineapple is a thing to eat.\n",
      "pikachu is a pokemon (not to eat?)\n"
     ]
    }
   ],
   "source": [
    "# consider using pop()\n",
    "print(\"-\"*50,\"\\ncompare using pop()\")\n",
    "basket = ['Mercedes', 'Rolls Royce', 'grape', 'pineapple', 'pikachu']\n",
    "fruit = ['apple', 'grape', 'pineapple']\n",
    "pokemon = ['jigglypuff', 'pikachu']\n",
    "\n",
    "# NOTE that lines could be replaced\n",
    "# by 2 lines:\n",
    "while len(basket) > 0:\n",
    "    item = basket.pop()  # counting down idea.\n",
    "    print(item, \" size of basket: \", len(basket))\n",
    "\n",
    "\n",
    "print(\"_\"*25,\"\\n\")\n",
    "basket = ['Mercedes', 'Rolls Royce', 'grape', 'pineapple', 'pikachu']\n",
    "for item in basket:\n",
    "    if item in fruit:\n",
    "        print(item + ' is a thing to eat.')\n",
    "    elif item in pokemon:\n",
    "        print(item + ' is a pokemon (not to eat?)')\n",
    "    else:\n",
    "        print(item + \" is unknown.\")\n",
    "\n"
   ]
  },
  {
   "cell_type": "code",
   "execution_count": 7,
   "metadata": {},
   "outputs": [
    {
     "name": "stdout",
     "output_type": "stream",
     "text": [
      "Enter a row number: 4\n",
      "\n",
      "1 3 3 1\n"
     ]
    }
   ],
   "source": [
    "# ONE of many approaches possible.  For our purposes in week 4, \n",
    "# just notice the counting, while statements (nested whiles are O^n)\n",
    "\n",
    "row = int(input(\"Enter a row number: \"))\n",
    "print()\n",
    "\n",
    "if row < 1:\n",
    "    print(\"Invalid row number - please enter a number greater than 0.\")\n",
    "elif row == 1:\n",
    "    print('1')\n",
    "elif row == 2:\n",
    "    print('1 1')\n",
    "else:\n",
    "    count = 2\n",
    "    old_line = [1, 1]\n",
    "    \n",
    "    while count < row:\n",
    "        new_line = []\n",
    "        new_line.append(1)      \n",
    "        i = 0\n",
    "        \n",
    "        while i < (len(old_line) - 1):            \n",
    "            new_num = old_line[i] + old_line[i+1]\n",
    "            new_line.append(new_num)\n",
    "            i += 1\n",
    "            \n",
    "        new_line.append(1)\n",
    "        old_line = new_line\n",
    "        count += 1\n",
    "    \n",
    "    print(*old_line)\n",
    "    "
   ]
  },
  {
   "cell_type": "code",
   "execution_count": 9,
   "metadata": {},
   "outputs": [
    {
     "name": "stdout",
     "output_type": "stream",
     "text": [
      "1 \n",
      "1 1 \n",
      "1 2 1 \n",
      "1 3 3 1 \n",
      "1 4 6 4 1 \n"
     ]
    }
   ],
   "source": [
    "# Python3 program for Pascal's Triangle\n",
    "# A O(n^2) time and O(1) extra\n",
    "# space method for Pascal's Triangle\n",
    " \n",
    "# Pascal function\n",
    "def printPascal(n):\n",
    " \n",
    "    for line in range(1, n + 1):\n",
    "        c = 1; # used to represent c(line, i)\n",
    "        for i in range(1, line + 1):\n",
    "             \n",
    "            # The first value in a\n",
    "            # line is always 1\n",
    "            print(c, end = \" \");\n",
    "            c = int(c * (line - i) / i);\n",
    "        print(\"\");\n",
    " \n",
    "# Driver code\n",
    "n = 5;\n",
    "printPascal(n);\n",
    " \n",
    "# This code is contributed by mits"
   ]
  },
  {
   "cell_type": "markdown",
   "metadata": {},
   "source": [
    "<hr />\n",
    "<p style=\"font-family:Baskerville, Palatino, serif; font-size: 24px; line-height:27px;color:red;\" id=\"list\"><i>Main Topics: List Comprehensions</i>\n",
    "</p>\n",
    "\n",
    "<p>We&rsquo;ve seen ways to traverse a series of items (be they items in a list or letters in a string, with for, while, break, continue).  Use these also to work out your logic of some activity, then see if you can use other python methods to create the same output but faster.  Hence work from for/while to list and dictionary comprehensions.</p>\n",
    "<p>In this section we&rsquo;ll work sequentially to more complicated examples.</p>"
   ]
  },
  {
   "cell_type": "markdown",
   "metadata": {},
   "source": [
    "<ol><li>A nested while loop for starters</li>\n",
    "    <li>List comprehension: <code>for i in ...</code></li>\n",
    "    <li>List comprehension: <code>for i in ... if</code></li>\n",
    "    <li>Conditional switch <code>if ... else ... for</code></li>\n",
    "    <li>Generating tuples using nested loop in a comprehension</li>\n",
    "    <li>Dictionary comprehensions</li>\n",
    "</ol>"
   ]
  },
  {
   "cell_type": "markdown",
   "metadata": {},
   "source": [
    "<p style=\"font-family:Baskerville, Palatino, serif; font-size: 24px; line-height:27px;color:red;\">\n",
    "<i>Step 1</i>"
   ]
  },
  {
   "cell_type": "code",
   "execution_count": 22,
   "metadata": {},
   "outputs": [
    {
     "name": "stdout",
     "output_type": "stream",
     "text": [
      "outer loop x =  0\n",
      "\tinner loop y =  0\n",
      "\tinner loop y =  1\n",
      "\tinner loop y =  2\n",
      "outer loop x =  1\n",
      "\tinner loop y =  0\n",
      "\tinner loop y =  1\n",
      "\tinner loop y =  2\n",
      "outer loop x =  2\n",
      "\tinner loop y =  0\n",
      "\tinner loop y =  1\n",
      "\tinner loop y =  2\n"
     ]
    }
   ],
   "source": [
    "# nested while loops.\n",
    "x = 0\n",
    "y = 0\n",
    "\n",
    "while x < 3:\n",
    "    print(\"outer loop x = \",x )\n",
    "    y = 0\n",
    "    while y < 3:  \n",
    "        print(\"\\tinner loop y = \", y)\n",
    "        y += 1\n",
    "    x += 1"
   ]
  },
  {
   "cell_type": "code",
   "execution_count": 8,
   "metadata": {},
   "outputs": [
    {
     "name": "stdout",
     "output_type": "stream",
     "text": [
      "25\n",
      "100\n",
      "400\n",
      "900\n",
      "1024\n",
      "10000000000\n",
      "\n",
      "Notice the output values are the same and the output object is list:\n",
      "\n",
      "[25, 100, 400, 900, 1024, 10000000000]\n",
      "<class 'list'>\n"
     ]
    }
   ],
   "source": [
    "# let's create a list\n",
    "my_list = [5, 10, 20, 30, 32, 100000]\n",
    "\n",
    "# a for approach\n",
    "i = 0\n",
    "for i in my_list:  # NOTE THIS LINE: the for statement\n",
    "    print(i**2)    # NOTE the i**2 and compare to below.\n",
    "\n",
    "print(\"\\nNotice the output values are the same and the output object is list:\\n\")\n",
    "# and the same output using a comprehension\n",
    "x = [i**2 for i in my_list]   # NOTE the syntax & location of for i ...\n",
    "print(x)                      # and where the i**2 is\n",
    "\n",
    "print(type(x))"
   ]
  },
  {
   "cell_type": "markdown",
   "metadata": {},
   "source": [
    "<i>Example</i><br />\n",
    "<code>y = [i**2 while i &lt; my_list.len()]</code><br />\n",
    "<code>print(y)</code>\n",
    "<br/>\n",
    "<p>Conceptually ...<br />\n",
    "<code>map()</code> <br />\n",
    "The <kbd>map()</kbd> gets everything from this function, \n",
    "declare it on the fly (lambda), use 2+ datasets.</p>\n",
    "<p><i>Lambda</i> (or <i>anonymous</i>) functions are treated like variables: they&rsquo;re stored in the stack in RAM and so the memory is released as soon as the line of code is executed.</p>"
   ]
  },
  {
   "cell_type": "markdown",
   "metadata": {},
   "source": [
    "<p style=\"font-family:Baskerville,Palatino,serif; \n",
    "          font-size: 24px; line-height:27px;\n",
    "          color:red;\"><i>\n",
    "    Step 2: Adding test conditions to our list comprehension using </i></p><code>if<code>"
   ]
  },
  {
   "cell_type": "code",
   "execution_count": 10,
   "metadata": {},
   "outputs": [
    {
     "name": "stdout",
     "output_type": "stream",
     "text": [
      "25\n",
      "100\n",
      "400\n",
      "900\n",
      "------------------------------\n",
      "<class 'list'>\n",
      "[25, 100, 400, 900]\n"
     ]
    }
   ],
   "source": [
    "\"\"\" we don't want to overload our computer, so let's square the values \n",
    "    until we reach a cut-off point, say 30.  Come these two snippets that\n",
    "    create the same output.\n",
    "\"\"\"\n",
    "i = 0\n",
    "my_list = [5, 10, 20, 30, 32, 100000]\n",
    "\n",
    "for k in my_list:\n",
    "    if k <= 30:\n",
    "        print(k**2)\n",
    "\n",
    "print(\"-\"*30)\n",
    "\n",
    "j = [i**2 for i in my_list if i <= 30]\n",
    "print(type(j))\n",
    "print(j)"
   ]
  },
  {
   "cell_type": "markdown",
   "metadata": {},
   "source": [
    "<p style=\"font-family:Baskerville,Palatino,serif; \n",
    "          font-size: 18px; line-height:22px;\n",
    "          color:red;\"><i>Examples: finding data and issues with &ldquo;while&rdquo;</i></p>"
   ]
  },
  {
   "cell_type": "code",
   "execution_count": 11,
   "metadata": {},
   "outputs": [
    {
     "data": {
      "text/plain": [
       "['Bad DNA: U found']"
      ]
     },
     "execution_count": 11,
     "metadata": {},
     "output_type": "execute_result"
    }
   ],
   "source": [
    "\"\"\"\n",
    "In this example we have slice of a genome. we want to be sure \n",
    "we do not have a “U\".  Imagine we're reading in a REALLY long \n",
    "string of data. We want to keep only those strings that are \n",
    "useful to us.  Here if the string contains a condition we don't want,\n",
    "the \"U\" then let us know.\n",
    "\"\"\"\n",
    "import string\n",
    "\n",
    "slice = \"...AAAACGCACGTTTTATTTACTATCCCCCUTAATCATCACGACAACGGGA...\"\n",
    "[\"Bad DNA: \"+ i + \" found\" for i in 'U' if i in slice]"
   ]
  },
  {
   "cell_type": "markdown",
   "metadata": {},
   "source": [
    "<h3>Question: can we use while in a list comprehension?</h3> [no.]"
   ]
  },
  {
   "cell_type": "code",
   "execution_count": 26,
   "metadata": {},
   "outputs": [
    {
     "name": "stdout",
     "output_type": "stream",
     "text": [
      "[25, 100, 400, 900, 32, 100000]\n"
     ]
    }
   ],
   "source": [
    "j = [i**2 if i <= 30 else i for i in my_list]\n",
    "print(j)\n",
    "\n",
    "# what happens if we use while?\n",
    "\n",
    "#j = [i**2 if i <= 30 else i while i in my_list]\n",
    "#print(j)"
   ]
  },
  {
   "cell_type": "markdown",
   "metadata": {},
   "source": [
    "<hr /><p>Note that we can do some evaluation in a comprehension but there are limits ... We address the limits next time in <code>lambda</code> functions and using <code>map()</code></p>"
   ]
  },
  {
   "cell_type": "code",
   "execution_count": 27,
   "metadata": {},
   "outputs": [
    {
     "data": {
      "text/plain": [
       "[1, 8, 64, 125, 343, 512, 1000, 1331, 2197, 2744]"
      ]
     },
     "execution_count": 27,
     "metadata": {},
     "output_type": "execute_result"
    }
   ],
   "source": [
    "[x**3 for x in range(15) if (x**2) % 3 == 1]"
   ]
  },
  {
   "cell_type": "markdown",
   "metadata": {},
   "source": [
    "<hr />\n",
    "<p style=\"font-family:Baskerville,Palatino,serif; \n",
    "          font-size: 24px; line-height:27px;\n",
    "          color:red;\"><i>\n",
    "    Step 3: Conditional switch using </i><code>if ... else ... for </code></p>\n",
    "    \n",
    "<p>Reading from right to left ... the <code>for</code> sets up our iteration; then the <code>if ... else</code> sets up a condition; and variable <code>i</code>, which is declared on-the-fly like a placeholder stores the result.</p>\n",
    "<p>Compare the syntax to this nested structure:<br />\n",
    "<code>for i in \"aeiou\":\n",
    "    if i in word:\n",
    "        print(i + \"+\")\n",
    "    else:\n",
    "        print(i + \" no \")</code>"
   ]
  },
  {
   "cell_type": "code",
   "execution_count": 28,
   "metadata": {},
   "outputs": [
    {
     "data": {
      "text/plain": [
       "['a+', 'e+', 'i+', 'o+', 'u+']"
      ]
     },
     "execution_count": 28,
     "metadata": {},
     "output_type": "execute_result"
    }
   ],
   "source": [
    "word = \"Is there a TExt in thiS course? (wrote Stanley Fish, ruiner of lit crit)\".lower()\n",
    "\n",
    "([i + \"+\" if i in word else i + \" no \" for i in \"aeiou\"])"
   ]
  },
  {
   "cell_type": "markdown",
   "metadata": {},
   "source": [
    "<hr />\n",
    "<p style=\"font-family:Baskerville, Palatino, serif; font-size: 24px; line-height:27px;color:red;\" id=\"generating\">\n",
    "    <i>Generating </i>tuples<i> in list comprehension ... </i></p>\n",
    "<p>Notice we&rsquo;ve been using for i in ... where i is declared just-in-time as a placeholder.  If we have 1 placeholder, why not 2?</p>"
   ]
  },
  {
   "cell_type": "code",
   "execution_count": 29,
   "metadata": {},
   "outputs": [
    {
     "name": "stdout",
     "output_type": "stream",
     "text": [
      "[(5, 25), (10, 100), (20, 400), (30, 900), (32, 1024), (100000, 10000000000)]\n",
      "<class 'list'>\n"
     ]
    }
   ],
   "source": [
    "x = [ (i**1, i**2) for i in my_list ]\n",
    "print(x)\n",
    "\n",
    "print(type(x))"
   ]
  },
  {
   "cell_type": "markdown",
   "metadata": {},
   "source": [
    "<hr /><p>\n",
    "As we move to indexing and larger data sets, as mentioned last week about unidimensional and multidimensional arrays, we may need to cull only some data from a larger list of formatted data.</p>\n",
    "<p>Create a list 'j' that extracts the <u>second</u> element from each tuple in list 'x'.\n",
    "Since we start counting at 0, the 2nd element would be 1, so, <code>i[1]</code>. </p>"
   ]
  },
  {
   "cell_type": "code",
   "execution_count": 30,
   "metadata": {},
   "outputs": [
    {
     "name": "stdout",
     "output_type": "stream",
     "text": [
      "[25, 100, 400, 900, 1024, 10000000000]\n",
      "[5, 10, 20, 30, 32, 100000]\n"
     ]
    }
   ],
   "source": [
    "j = [i[1] for i in x]  # using the x from the previous example\n",
    "print(j)\n",
    "\n",
    "# the source values (i**1)\n",
    "k = [i[0] for i in x]\n",
    "print(k)"
   ]
  },
  {
   "cell_type": "code",
   "execution_count": 31,
   "metadata": {},
   "outputs": [
    {
     "name": "stdout",
     "output_type": "stream",
     "text": [
      "[(0, 0), (0, 1), (0, 2), (0, 3), (0, 4), (0, 5), (0, 6), (0, 7), (0, 8), (1, 0), (1, 1), (1, 2), (1, 3), (1, 4), (1, 5), (1, 6), (1, 7), (1, 8), (2, 0), (2, 1), (2, 2), (2, 3), (2, 4), (2, 5), (2, 6), (2, 7), (2, 8), (3, 0), (3, 1), (3, 2), (3, 3), (3, 4), (3, 5), (3, 6), (3, 7), (3, 8), (4, 0), (4, 1), (4, 2), (4, 3), (4, 4), (4, 5), (4, 6), (4, 7), (4, 8), (5, 0), (5, 1), (5, 2), (5, 3), (5, 4), (5, 5), (5, 6), (5, 7), (5, 8), (6, 0), (6, 1), (6, 2), (6, 3), (6, 4), (6, 5), (6, 6), (6, 7), (6, 8), (7, 0), (7, 1), (7, 2), (7, 3), (7, 4), (7, 5), (7, 6), (7, 7), (7, 8), (8, 0), (8, 1), (8, 2), (8, 3), (8, 4), (8, 5), (8, 6), (8, 7), (8, 8)]\n",
      "<class 'list'>\n",
      "(0, 0)(0, 1)(0, 2)(0, 3)(0, 4)(0, 5)(0, 6)(0, 7)(0, 8)\n",
      "(1, 0)(1, 1)(1, 2)(1, 3)(1, 4)(1, 5)(1, 6)(1, 7)(1, 8)\n",
      "(2, 0)(2, 1)(2, 2)(2, 3)(2, 4)(2, 5)(2, 6)(2, 7)(2, 8)\n",
      "(3, 0)(3, 1)(3, 2)(3, 3)(3, 4)(3, 5)(3, 6)(3, 7)(3, 8)\n",
      "(4, 0)(4, 1)(4, 2)(4, 3)(4, 4)(4, 5)(4, 6)(4, 7)(4, 8)\n",
      "(5, 0)(5, 1)(5, 2)(5, 3)(5, 4)(5, 5)(5, 6)(5, 7)(5, 8)\n",
      "(6, 0)(6, 1)(6, 2)(6, 3)(6, 4)(6, 5)(6, 6)(6, 7)(6, 8)\n",
      "(7, 0)(7, 1)(7, 2)(7, 3)(7, 4)(7, 5)(7, 6)(7, 7)(7, 8)\n",
      "(8, 0)(8, 1)(8, 2)(8, 3)(8, 4)(8, 5)(8, 6)(8, 7)(8, 8)\n"
     ]
    }
   ],
   "source": [
    "# Another example\n",
    "b = [(row, column) for row in range(0, 9) for column in range(0, 9)]\n",
    "\n",
    "print(b)\n",
    "print(type(b))\n",
    "len(b)\n",
    "\n",
    "\n",
    "i = 0\n",
    "counter = 0\n",
    "\n",
    "while counter < len(b):\n",
    "    while i <= 8:\n",
    "        print(b[counter], end=\"\")\n",
    "        i += 1\n",
    "        counter += 1\n",
    "    i = 0\n",
    "    print(\"\")\n"
   ]
  },
  {
   "cell_type": "markdown",
   "metadata": {},
   "source": [
    "<hr />\n",
    "<p style=\"font-family:Baskerville, Palatino, serif; font-size: 24px; line-height:27px;color:red;\" id=\"match\">\n",
    "    <i>Update for Python 3.10.x: <i>Match</i>\n",
    "        <p>instead of all these if...elif statements, we can use the <code>match</code> command.</i></p>\n",
    "<pre>\n",
    "# test of python3.10.1\n",
    "print(\"+\",\"-\"*50)\n",
    "print(\"| Menu Options: \")\n",
    "print(\"| a = option_1\")\n",
    "print(\"| b = option_2\")\n",
    "print(\"| q = quit\")\n",
    "print(\"+\",\"-\"*50)\n",
    "\n",
    "command = str(input(\"What's your choice? \")).lower()\n",
    "\n",
    "match command.split():\n",
    "\tcase [\"a\"]:\n",
    "\t\tprint(\"\\n\\tThis is where option_1 would be called.\")\n",
    "\tcase [\"b\"]:\n",
    "\t\tprint(\"\\n\\tSee more in the Week 3 Files directory.\\n\")\n",
    "\tcase [\"q\"]:\n",
    "\t\tprint(\"\\n\\tBye!\\n\")\n",
    "\tcase _:\n",
    "\t\tprint(\"\\nNope, that wasn't an option.\")\n",
    "</pre>"
   ]
  },
  {
   "cell_type": "code",
   "execution_count": 12,
   "metadata": {},
   "outputs": [
    {
     "name": "stdout",
     "output_type": "stream",
     "text": [
      " ♜  ♞  ♝  ♛  ♚  ♝  ♞  ♜ \n",
      " ♟  ♟  ♟  ♟  ♟  ♟  ♟  ♟  ♟ \n",
      "[ ][ ][ ][ ][ ][ ][ ][ ][ ]\n",
      "[ ][ ][ ][ ][ ][ ][ ][ ][ ]\n",
      "[ ][ ][ ][ ][ ][ ][ ][ ][ ]\n",
      "[ ][ ][ ][ ][ ][ ][ ][ ][ ]\n",
      "[ ][ ][ ][ ][ ][ ][ ][ ][ ]\n",
      " ♙  ♙  ♙  ♙  ♙  ♙  ♙  ♙  ♙ \n",
      " ♖  ♘  ♗  ♔  ♕  ♗  ♘  ♖ \n"
     ]
    }
   ],
   "source": [
    "i = 0\n",
    "counter = 0\n",
    "b = [(row, column) for row in range(0, 9) for column in range(0, 9)]\n",
    "\n",
    "def chesspiece(t):\n",
    "    #print(\"T\",t[0],t[1],\"]\", end=\"\")\n",
    "    # black\n",
    "    if t[0] == 0:\n",
    "        if t[1] == 0:\n",
    "            print(\" \\u265C \", end=\"\")\n",
    "        elif t[1] == 1:\n",
    "            print(\" \\u265E \", end=\"\")\n",
    "        elif t[1] == 2:\n",
    "            print(\" \\u265D \", end=\"\")\n",
    "        elif t[1] == 3:    \n",
    "            print(\" \\u265B \", end=\"\")\n",
    "        elif t[1] == 4:\n",
    "            print(\" \\u265A \", end=\"\")\n",
    "        elif t[1] == 5:\n",
    "            print(\" \\u265D \", end=\"\")\n",
    "        elif t[1] == 6:\n",
    "            print(\" \\u265E \", end=\"\")\n",
    "        elif t[1] == 7:\n",
    "            print(\" \\u265C \", end=\"\")\n",
    "    elif t[0] == 1:\n",
    "        print(\" \\u265F \", end = \"\")\n",
    "\n",
    "    # white\n",
    "    elif t[0] == 7:\n",
    "        print(\" \\u2659 \", end = \"\")\n",
    "    elif t[0] == 8:\n",
    "        if t[1] == 0:\n",
    "            print(\" \\u2656 \", end=\"\")\n",
    "        elif t[1] == 1:\n",
    "            print(\" \\u2658 \", end=\"\")\n",
    "        elif t[1] == 2:\n",
    "            print(\" \\u2657 \", end=\"\")\n",
    "        elif t[1] == 3:    \n",
    "            print(\" \\u2654 \", end=\"\")\n",
    "        elif t[1] == 4:\n",
    "            print(\" \\u2655 \", end=\"\")\n",
    "        elif t[1] == 5:\n",
    "            print(\" \\u2657 \", end=\"\")\n",
    "        elif t[1] == 6:\n",
    "            print(\" \\u2658 \", end=\"\")\n",
    "        elif t[1] == 7:\n",
    "            print(\" \\u2656 \", end=\"\")\n",
    "    else:\n",
    "        print(\"[ ]\", end = \"\")\n",
    "    \n",
    "\n",
    "while counter < len(b):\n",
    "    while i < 9:\n",
    "        # print(b[counter], end=\"\") # to show valuesmore\n",
    "        chesspiece(b[counter])\n",
    "        i += 1\n",
    "        counter += 1\n",
    "    i = 0\n",
    "    print(\"\")\n"
   ]
  },
  {
   "cell_type": "markdown",
   "metadata": {},
   "source": [
    "<hr />\n",
    "<p style=\"font-family:Baskerville, Palatino, serif; font-size: 24px; line-height:27px;color:red;\" id=\"dictionary\">\n",
    "    <i>Creating a </i>Dictionary Comprehension</p>\n",
    "    \n",
    "<p>Note the syntax and <code>key:value</code> pairs. Note, too, the addition of <code>{ } </code> and <code>:</code>to ensure our syntax is correct for a dictionary.</p>\n",
    "<p>Counting frequencies, using \"names\" versus indices, .json to dictionary, extracting subsets are all very important skills.</p>"
   ]
  },
  {
   "cell_type": "code",
   "execution_count": 13,
   "metadata": {},
   "outputs": [
    {
     "name": "stdout",
     "output_type": "stream",
     "text": [
      "{'i': 2, ' ': 10, 'c': 2, 'a': 6, 'n': 2, 's': 2, 'u': 4, 'r': 2, 'e': 3, 'l': 1, 'v': 1, 't': 2, 'o': 4, '.': 1, 'h': 1, 'w': 1, 'b': 1, 'y': 1, '?': 1}\n"
     ]
    }
   ],
   "source": [
    "more_text = \"I can sure use a real vacation.  How about you?\".lower()\n",
    "\n",
    "frequencies = {letter : more_text.count(letter) for letter in more_text}\n",
    "print(frequencies)"
   ]
  },
  {
   "cell_type": "markdown",
   "metadata": {},
   "source": [
    "<p>Note that in practice it&rsquo;s common to export/import data to/from systems in .json files.</p>"
   ]
  },
  {
   "cell_type": "code",
   "execution_count": 14,
   "metadata": {},
   "outputs": [],
   "source": [
    "import json\n",
    "\n",
    "with open(\"data.json\") as f:\n",
    "     temp = json.load(f)\n",
    "     data = temp['data']\n",
    "     cols = temp['cols']"
   ]
  },
  {
   "cell_type": "code",
   "execution_count": 15,
   "metadata": {},
   "outputs": [
    {
     "name": "stdout",
     "output_type": "stream",
     "text": [
      "['Name', 'Phone', 'Address', 'City', 'State', 'Zip']\n",
      "[['Reed', '1-186-988-9663', 'P.O. Box 371, 4863 Sed, St.', 'Iowa City', 'Iowa', '18517'], ['Clark', '757-2680', 'P.O. Box 220, 8838 Ligula Street', 'Jacksonville', 'FL', '43572'], ['Demetrius', '1-707-814-6484', '282-6791 Lorem Rd.', 'Reading', 'PA', '80187'], ['Davis', '424-2014', 'P.O. Box 578, 2683 In Av.', 'College', 'Alaska', '99758'], ['Hammett', '1-718-960-0437', 'Ap #240-3360 At Av.', 'Columbus', 'Georgia', '92331'], ['Ivor', '123-7017', '8729 Ut Av.', 'Duluth', 'MN', '20605'], ['Drew', '1-864-949-9484', '6801 Phasellus Rd.', 'Joliet', 'IL', '58819'], ['Quentin', '121-5941', '308-2050 Mauris St.', 'Austin', 'TX', '81392'], ['Giacomo', '806-4546', '7404 Ornare, Ave', 'Springfield', 'MA', '34013'], ['Avram', '261-1266', '330-9816 Feugiat Rd.', 'Cleveland', 'Ohio', '70968'], ['Neil', '903-5893', 'Ap #540-7554 Dui. Av.', 'Lansing', 'MI', '55196'], ['Jerry', '1-807-896-0508', '494-2099 Metus. Avenue', 'Pittsburgh', 'Pennsylvania', '33939'], ['Ulysses', '666-5671', '8307 Non Avenue', 'Tacoma', 'Washington', '52060'], ['Armando', '552-1617', 'P.O. Box 196, 2227 Eu Street', 'Essex', 'VT', '18631'], ['Derek', '456-5056', '4241 Sagittis Street', 'Sterling Heights', 'Michigan', '38290'], ['Jamal', '961-4557', 'P.O. Box 872, 1391 Aliquam Av.', 'Laramie', 'Wyoming', '61590'], ['Vance', '1-661-742-0429', 'Ap #332-5985 Nec Rd.', 'Phoenix', 'AZ', '86555'], ['Galvin', '1-220-754-5143', '317-1624 Nulla St.', 'Saint Paul', 'Minnesota', '35233'], ['Kenyon', '1-499-480-0820', 'P.O. Box 628, 4669 Quisque Rd.', 'Jackson', 'MS', '82712'], ['James', '1-367-530-4094', 'Ap #569-4793 Egestas. Rd.', 'Colorado Springs', 'CO', '47146'], ['Phillip', '1-540-873-0092', 'Ap #638-9403 Lorem Av.', 'Fort Worth', 'Texas', '71275'], ['Brody', '295-4026', '696 Suspendisse Rd.', 'Annapolis', 'Maryland', '47001'], ['Emery', '1-312-628-6993', 'Ap #296-9173 Nonummy. Road', 'Austin', 'TX', '65851'], ['Jarrod', '100-1188', 'P.O. Box 198, 1857 Neque. Ave', 'Topeka', 'Kansas', '85506'], ['Nolan', '829-2667', 'P.O. Box 997, 6495 Nibh Av.', 'Jefferson City', 'MO', '89781'], ['Yoshio', '1-334-245-3017', 'Ap #117-7654 Magna. Rd.', 'South Portland', 'ME', '94574'], ['Norman', '1-414-646-2244', '2850 Nibh. Street', 'Athens', 'GA', '24643'], ['Thomas', '386-9355', '457-8793 Curabitur Road', 'Missoula', 'Montana', '51813'], ['Burton', '537-4363', '4244 Urna, Rd.', 'Billings', 'MT', '89820'], ['Clayton', '1-310-760-5764', '824 Nec, Rd.', 'Boise', 'ID', '22360'], ['Vladimir', '1-260-313-0585', 'Ap #108-7232 Sit Avenue', 'Fresno', 'California', '92883'], ['Lionel', '1-138-741-7479', 'P.O. Box 283, 7163 Nec St.', 'Bellevue', 'WA', '14400'], ['Dalton', '1-554-675-1599', '6833 Vulputate Avenue', 'West Jordan', 'Utah', '96861'], ['Joseph', '526-5432', '7201 Nec Rd.', 'New Orleans', 'LA', '85965'], ['Hoyt', '383-4839', 'P.O. Box 549, 9557 Mauris. Rd.', 'Cincinnati', 'Ohio', '37035'], ['Tobias', '353-4286', 'P.O. Box 478, 6376 Aliquet, Av.', 'Olathe', 'KS', '77180'], ['Ferdinand', '1-393-182-6231', 'Ap #850-8466 Orci Ave', 'Springfield', 'Illinois', '33365'], ['Driscoll', '1-686-258-4283', 'P.O. Box 872, 4629 Dui. St.', 'Reno', 'Nevada', '66934'], ['Bert', '134-6092', '5941 Fusce Road', 'Provo', 'UT', '64165'], ['Noah', '898-6101', '2455 Malesuada Road', 'Stamford', 'CT', '75733'], ['Ulysses', '1-345-551-3794', '299-9419 Id St.', 'Green Bay', 'Wisconsin', '66829'], ['Keith', '1-382-215-8999', 'Ap #423-9206 Vitae Avenue', 'Kearney', 'Nebraska', '29432'], ['Drake', '1-384-930-7825', '567-7790 Ipsum Avenue', 'Springfield', 'Massachusetts', '53876'], ['George', '1-755-579-5717', '730-3499 Ut Rd.', 'Hillsboro', 'OR', '45357'], ['Christian', '279-2636', 'Ap #484-6588 Integer St.', 'Columbus', 'Ohio', '75444'], ['Yoshio', '1-860-795-5519', 'Ap #284-8791 Dictum Rd.', 'Gresham', 'OR', '47539'], ['Connor', '489-2835', '2434 Nulla. Rd.', 'Kailua', 'Hawaii', '98799'], ['Dylan', '1-596-569-0803', 'P.O. Box 582, 5112 Donec Street', 'Honolulu', 'Hawaii', '29377'], ['Amery', '271-7596', 'P.O. Box 268, 7841 Pede. St.', 'Savannah', 'Georgia', '25781'], ['Connor', '1-853-856-0196', 'Ap #884-7086 A, Street', 'Erie', 'Pennsylvania', '90627'], ['Ralph', '1-194-996-7310', '4330 Gravida Avenue', 'Gulfport', 'Mississippi', '14996'], ['Harlan', '1-854-959-2526', '254-3310 Eu, St.', 'Iowa City', 'IA', '92190'], ['Kennedy', '527-3998', 'P.O. Box 738, 7394 Ac St.', 'Minneapolis', 'Minnesota', '68057'], ['Alec', '750-5753', '553-4641 Volutpat. Road', 'Houston', 'TX', '89023'], ['Warren', '751-3918', 'P.O. Box 776, 5978 Nunc Ave', 'Colorado Springs', 'CO', '37248'], ['Talon', '213-4311', '664-777 Pellentesque Rd.', 'Naperville', 'IL', '52684'], ['Steven', '1-846-872-4914', '8432 Vestibulum Ave', 'Bowling Green', 'Kentucky', '69306'], ['Roth', '1-258-998-7158', 'P.O. Box 340, 6792 In Avenue', 'Wichita', 'KS', '74717'], ['Giacomo', '228-3039', '923-5412 Ullamcorper. Av.', 'Norman', 'Oklahoma', '45772'], ['Davis', '1-769-482-8286', 'Ap #674-3096 Sed Ave', 'Augusta', 'ME', '56077'], ['Dillon', '921-1181', 'P.O. Box 886, 5711 Auctor, St.', 'Cambridge', 'MA', '32147'], ['Aidan', '1-984-711-9462', '526-8302 Amet St.', 'Fayetteville', 'AR', '72381'], ['Ian', '336-8017', 'Ap #774-3952 Mauris, Rd.', 'Helena', 'Montana', '76988'], ['Bert', '315-6071', '910-4022 Amet, Rd.', 'Springdale', 'AR', '72073'], ['Alexander', '827-5102', 'Ap #837-2330 At, Rd.', 'Springfield', 'IL', '17251'], ['Logan', '1-274-570-4439', 'Ap #679-3965 Neque. Rd.', 'Virginia Beach', 'VA', '66764'], ['Hu', '291-5467', '198-1017 Elit Ave', 'Topeka', 'KS', '14973'], ['Benjamin', '1-149-920-6553', '605-385 Vestibulum Avenue', 'Kaneohe', 'HI', '14287'], ['Lucas', '1-523-649-1350', 'Ap #121-4837 Ullamcorper, Avenue', 'Clarksville', 'TN', '96850'], ['Austin', '1-526-554-4190', '383 Maecenas St.', 'Bellevue', 'Nebraska', '59550'], ['Lester', '510-1730', '205 Mi Av.', 'Bellevue', 'WA', '67814'], ['Joshua', '1-829-779-4013', 'P.O. Box 811, 8156 Tempus Rd.', 'Baton Rouge', 'Louisiana', '54525'], ['Cyrus', '224-1676', 'Ap #294-8649 Malesuada Ave', 'Eugene', 'Oregon', '51081'], ['Talon', '709-8727', '868-6392 Lectus Ave', 'Miami', 'FL', '56488'], ['Philip', '828-3727', '676-6523 Et St.', 'Springdale', 'Arkansas', '72140'], ['Clark', '701-9509', 'P.O. Box 804, 5436 Purus. St.', 'Casper', 'WY', '89686'], ['Dean', '1-251-143-2893', 'P.O. Box 301, 7184 Quis St.', 'Duluth', 'Minnesota', '75524'], ['Ulysses', '1-587-815-1654', 'P.O. Box 539, 6644 Enim St.', 'Lewiston', 'Maine', '88588'], ['Arsenio', '1-118-744-0704', '101-4540 Vulputate, Av.', 'Rockford', 'IL', '37322'], ['Macaulay', '1-502-585-1019', '869-1500 Lorem, St.', 'Hattiesburg', 'MS', '46640'], ['Marsden', '203-3348', 'P.O. Box 382, 5090 Quam St.', 'Olathe', 'Kansas', '70461'], ['Joel', '1-912-417-3765', '7331 Proin Street', 'Rockford', 'IL', '56702'], ['Lane', '1-374-935-1437', 'Ap #600-8662 Mollis Avenue', 'Worcester', 'MA', '97835'], ['Reese', '1-308-432-7528', 'Ap #263-736 Nunc Street', 'Sterling Heights', 'Michigan', '19674'], ['Ali', '1-133-956-0980', 'Ap #985-4369 Sed Rd.', 'Juneau', 'Alaska', '99991'], ['Marshall', '1-754-686-8473', '8055 Velit St.', 'Essex', 'Vermont', '29574'], ['Beck', '1-322-605-5384', '898-1178 Tristique St.', 'Rockford', 'IL', '51722'], ['Kenyon', '1-323-359-1986', 'P.O. Box 759, 563 Vivamus Rd.', 'Grand Rapids', 'MI', '55942'], ['Sean', '692-2058', 'P.O. Box 202, 6041 Semper, Rd.', 'Shreveport', 'LA', '73677'], ['David', '1-967-307-7419', '287-5334 Penatibus Avenue', 'Springfield', 'Massachusetts', '47421'], ['Brian', '621-4923', '3567 Id, St.', 'Duluth', 'Minnesota', '30356'], ['Thor', '760-7789', '970-9812 Duis Street', 'Lincoln', 'NE', '21016'], ['Carter', '474-8060', 'P.O. Box 719, 4379 Interdum Rd.', 'Fort Collins', 'Colorado', '28057'], ['Brady', '1-210-344-3611', '3842 Risus St.', 'Tallahassee', 'FL', '51907'], ['Ian', '1-540-597-1825', 'P.O. Box 574, 1476 A, St.', 'Norfolk', 'VA', '59800'], ['Kaseem', '873-6790', 'P.O. Box 269, 2958 Mauris, Av.', 'Fairbanks', 'AK', '99977'], ['Devin', '500-2505', '6713 Malesuada St.', 'San Antonio', 'Texas', '69500'], ['Drew', '1-569-640-0785', '803-7564 Vel Avenue', 'Hilo', 'Hawaii', '82964'], ['Xanthus', '939-9238', 'Ap #430-6607 A Ave', 'Salt Lake City', 'Utah', '16176'], ['Yasir', '737-8338', '794-3680 Ut Rd.', 'Des Moines', 'Iowa', '49774']]\n",
      "\n",
      "Entry on line 3: \n",
      " ['Davis', '424-2014', 'P.O. Box 578, 2683 In Av.', 'College', 'Alaska', '99758']\n"
     ]
    }
   ],
   "source": [
    "print(cols) # there's an element NAMED cols in the file.\n",
    "\n",
    "print(data) # returns ALL the data\n",
    "#print(type(data))\n",
    "\n",
    "# tough to use this way - how about one line at a time?\n",
    "# check out bottom of output to see.\n",
    "print(\"\\nEntry on line 3: \\n\", data[3])\n"
   ]
  },
  {
   "cell_type": "code",
   "execution_count": 16,
   "metadata": {},
   "outputs": [
    {
     "name": "stdout",
     "output_type": "stream",
     "text": [
      "[['Reed', '1-186-988-9663', 'P.O. Box 371, 4863 Sed, St.', 'Iowa City', 'Iowa', '18517']]\n",
      "<class 'list'>\n",
      "\n",
      "['Reed', '1-186-988-9663', 'P.O. Box 371, 4863 Sed, St.', 'Iowa City', 'Iowa', '18517']\n",
      "<class 'list'>\n",
      "\n",
      "1-186-988-9663\n",
      "1-186-988-9663\n",
      "0  i= ['Reed', '1-186-988-9663', 'P.O. Box 371, 4863 Sed, St.', 'Iowa City', 'Iowa', '18517']\n",
      "1  i= ['Clark', '757-2680', 'P.O. Box 220, 8838 Ligula Street', 'Jacksonville', 'FL', '43572']\n",
      "2  i= ['Demetrius', '1-707-814-6484', '282-6791 Lorem Rd.', 'Reading', 'PA', '80187']\n",
      "3  i= ['Davis', '424-2014', 'P.O. Box 578, 2683 In Av.', 'College', 'Alaska', '99758']\n",
      "4  i= ['Hammett', '1-718-960-0437', 'Ap #240-3360 At Av.', 'Columbus', 'Georgia', '92331']\n",
      "5  i= ['Ivor', '123-7017', '8729 Ut Av.', 'Duluth', 'MN', '20605']\n",
      "6  i= ['Drew', '1-864-949-9484', '6801 Phasellus Rd.', 'Joliet', 'IL', '58819']\n",
      "7  i= ['Quentin', '121-5941', '308-2050 Mauris St.', 'Austin', 'TX', '81392']\n",
      "8  i= ['Giacomo', '806-4546', '7404 Ornare, Ave', 'Springfield', 'MA', '34013']\n",
      "9  i= ['Avram', '261-1266', '330-9816 Feugiat Rd.', 'Cleveland', 'Ohio', '70968']\n",
      "10  i= ['Neil', '903-5893', 'Ap #540-7554 Dui. Av.', 'Lansing', 'MI', '55196']\n",
      "11  i= ['Jerry', '1-807-896-0508', '494-2099 Metus. Avenue', 'Pittsburgh', 'Pennsylvania', '33939']\n",
      "12  i= ['Ulysses', '666-5671', '8307 Non Avenue', 'Tacoma', 'Washington', '52060']\n",
      "13  i= ['Armando', '552-1617', 'P.O. Box 196, 2227 Eu Street', 'Essex', 'VT', '18631']\n",
      "14  i= ['Derek', '456-5056', '4241 Sagittis Street', 'Sterling Heights', 'Michigan', '38290']\n",
      "15  i= ['Jamal', '961-4557', 'P.O. Box 872, 1391 Aliquam Av.', 'Laramie', 'Wyoming', '61590']\n",
      "16  i= ['Vance', '1-661-742-0429', 'Ap #332-5985 Nec Rd.', 'Phoenix', 'AZ', '86555']\n",
      "17  i= ['Galvin', '1-220-754-5143', '317-1624 Nulla St.', 'Saint Paul', 'Minnesota', '35233']\n",
      "18  i= ['Kenyon', '1-499-480-0820', 'P.O. Box 628, 4669 Quisque Rd.', 'Jackson', 'MS', '82712']\n",
      "19  i= ['James', '1-367-530-4094', 'Ap #569-4793 Egestas. Rd.', 'Colorado Springs', 'CO', '47146']\n",
      "20  i= ['Phillip', '1-540-873-0092', 'Ap #638-9403 Lorem Av.', 'Fort Worth', 'Texas', '71275']\n",
      "21  i= ['Brody', '295-4026', '696 Suspendisse Rd.', 'Annapolis', 'Maryland', '47001']\n",
      "22  i= ['Emery', '1-312-628-6993', 'Ap #296-9173 Nonummy. Road', 'Austin', 'TX', '65851']\n",
      "23  i= ['Jarrod', '100-1188', 'P.O. Box 198, 1857 Neque. Ave', 'Topeka', 'Kansas', '85506']\n",
      "24  i= ['Nolan', '829-2667', 'P.O. Box 997, 6495 Nibh Av.', 'Jefferson City', 'MO', '89781']\n",
      "25  i= ['Yoshio', '1-334-245-3017', 'Ap #117-7654 Magna. Rd.', 'South Portland', 'ME', '94574']\n",
      "26  i= ['Norman', '1-414-646-2244', '2850 Nibh. Street', 'Athens', 'GA', '24643']\n",
      "27  i= ['Thomas', '386-9355', '457-8793 Curabitur Road', 'Missoula', 'Montana', '51813']\n",
      "28  i= ['Burton', '537-4363', '4244 Urna, Rd.', 'Billings', 'MT', '89820']\n",
      "29  i= ['Clayton', '1-310-760-5764', '824 Nec, Rd.', 'Boise', 'ID', '22360']\n",
      "30  i= ['Vladimir', '1-260-313-0585', 'Ap #108-7232 Sit Avenue', 'Fresno', 'California', '92883']\n",
      "31  i= ['Lionel', '1-138-741-7479', 'P.O. Box 283, 7163 Nec St.', 'Bellevue', 'WA', '14400']\n",
      "32  i= ['Dalton', '1-554-675-1599', '6833 Vulputate Avenue', 'West Jordan', 'Utah', '96861']\n",
      "33  i= ['Joseph', '526-5432', '7201 Nec Rd.', 'New Orleans', 'LA', '85965']\n",
      "34  i= ['Hoyt', '383-4839', 'P.O. Box 549, 9557 Mauris. Rd.', 'Cincinnati', 'Ohio', '37035']\n",
      "35  i= ['Tobias', '353-4286', 'P.O. Box 478, 6376 Aliquet, Av.', 'Olathe', 'KS', '77180']\n",
      "36  i= ['Ferdinand', '1-393-182-6231', 'Ap #850-8466 Orci Ave', 'Springfield', 'Illinois', '33365']\n",
      "37  i= ['Driscoll', '1-686-258-4283', 'P.O. Box 872, 4629 Dui. St.', 'Reno', 'Nevada', '66934']\n",
      "38  i= ['Bert', '134-6092', '5941 Fusce Road', 'Provo', 'UT', '64165']\n",
      "39  i= ['Noah', '898-6101', '2455 Malesuada Road', 'Stamford', 'CT', '75733']\n",
      "40  i= ['Ulysses', '1-345-551-3794', '299-9419 Id St.', 'Green Bay', 'Wisconsin', '66829']\n",
      "41  i= ['Keith', '1-382-215-8999', 'Ap #423-9206 Vitae Avenue', 'Kearney', 'Nebraska', '29432']\n",
      "42  i= ['Drake', '1-384-930-7825', '567-7790 Ipsum Avenue', 'Springfield', 'Massachusetts', '53876']\n",
      "43  i= ['George', '1-755-579-5717', '730-3499 Ut Rd.', 'Hillsboro', 'OR', '45357']\n",
      "44  i= ['Christian', '279-2636', 'Ap #484-6588 Integer St.', 'Columbus', 'Ohio', '75444']\n",
      "45  i= ['Yoshio', '1-860-795-5519', 'Ap #284-8791 Dictum Rd.', 'Gresham', 'OR', '47539']\n",
      "46  i= ['Connor', '489-2835', '2434 Nulla. Rd.', 'Kailua', 'Hawaii', '98799']\n",
      "47  i= ['Dylan', '1-596-569-0803', 'P.O. Box 582, 5112 Donec Street', 'Honolulu', 'Hawaii', '29377']\n",
      "48  i= ['Amery', '271-7596', 'P.O. Box 268, 7841 Pede. St.', 'Savannah', 'Georgia', '25781']\n",
      "49  i= ['Connor', '1-853-856-0196', 'Ap #884-7086 A, Street', 'Erie', 'Pennsylvania', '90627']\n",
      "50  i= ['Ralph', '1-194-996-7310', '4330 Gravida Avenue', 'Gulfport', 'Mississippi', '14996']\n",
      "51  i= ['Harlan', '1-854-959-2526', '254-3310 Eu, St.', 'Iowa City', 'IA', '92190']\n",
      "52  i= ['Kennedy', '527-3998', 'P.O. Box 738, 7394 Ac St.', 'Minneapolis', 'Minnesota', '68057']\n",
      "53  i= ['Alec', '750-5753', '553-4641 Volutpat. Road', 'Houston', 'TX', '89023']\n",
      "54  i= ['Warren', '751-3918', 'P.O. Box 776, 5978 Nunc Ave', 'Colorado Springs', 'CO', '37248']\n",
      "55  i= ['Talon', '213-4311', '664-777 Pellentesque Rd.', 'Naperville', 'IL', '52684']\n",
      "56  i= ['Steven', '1-846-872-4914', '8432 Vestibulum Ave', 'Bowling Green', 'Kentucky', '69306']\n",
      "57  i= ['Roth', '1-258-998-7158', 'P.O. Box 340, 6792 In Avenue', 'Wichita', 'KS', '74717']\n",
      "58  i= ['Giacomo', '228-3039', '923-5412 Ullamcorper. Av.', 'Norman', 'Oklahoma', '45772']\n",
      "59  i= ['Davis', '1-769-482-8286', 'Ap #674-3096 Sed Ave', 'Augusta', 'ME', '56077']\n",
      "Hit: ['Davis', '1-769-482-8286', 'Ap #674-3096 Sed Ave', 'Augusta', 'ME', '56077'] ME\n"
     ]
    }
   ],
   "source": [
    "x = data[0:1]\n",
    "print(x)\n",
    "print(type(x))\n",
    "print(\"\")\n",
    "\n",
    "# notice that once we have read ALL the data into a file, we can \n",
    "# read the data one line at a time\n",
    "print(data[0])\n",
    "print(type(data[0]))\n",
    "\n",
    "print(\"\")\n",
    "phone_no = 1\n",
    "persons_name = cols[0]\n",
    "print(data[0][1])\n",
    "print(data[0][phone_no])\n",
    "\n",
    "\n",
    "# the long way\n",
    "count = -1\n",
    "state = 4\n",
    "record_no = 0\n",
    "\n",
    "for i in data:\n",
    "    count += 1\n",
    "    print(count,\" i=\",i)\n",
    "    if \"Davis\" in i and \"ME\" in i:\n",
    "        print(\"Hit:\", i, i[state])\n",
    "        break\n",
    "    else:\n",
    "        record_no += 1\n"
   ]
  },
  {
   "cell_type": "markdown",
   "metadata": {},
   "source": [
    "<p style=\"font-family:Baskerville, Palatino, serif; font-size: 18px; line-height:22px;color:red;\">\n",
    "<i>Example: </i> A Outputting Matches, etc.</p>\n",
    "<p>Run the next cell to see the raw output; and the next for just the match.</p>"
   ]
  },
  {
   "cell_type": "code",
   "execution_count": 17,
   "metadata": {},
   "outputs": [
    {
     "data": {
      "text/plain": [
       "[' Not a match ',\n",
       " ' Not a match ',\n",
       " ' Not a match ',\n",
       " '424-2014',\n",
       " ' Not a match ',\n",
       " ' Not a match ',\n",
       " ' Not a match ',\n",
       " ' Not a match ',\n",
       " ' Not a match ',\n",
       " ' Not a match ',\n",
       " ' Not a match ',\n",
       " ' Not a match ',\n",
       " ' Not a match ',\n",
       " ' Not a match ',\n",
       " ' Not a match ',\n",
       " ' Not a match ',\n",
       " ' Not a match ',\n",
       " ' Not a match ',\n",
       " ' Not a match ',\n",
       " ' Not a match ',\n",
       " ' Not a match ',\n",
       " ' Not a match ',\n",
       " ' Not a match ',\n",
       " ' Not a match ',\n",
       " ' Not a match ',\n",
       " ' Not a match ',\n",
       " ' Not a match ',\n",
       " ' Not a match ',\n",
       " ' Not a match ',\n",
       " ' Not a match ',\n",
       " ' Not a match ',\n",
       " ' Not a match ',\n",
       " ' Not a match ',\n",
       " ' Not a match ',\n",
       " ' Not a match ',\n",
       " ' Not a match ',\n",
       " ' Not a match ',\n",
       " ' Not a match ',\n",
       " ' Not a match ',\n",
       " ' Not a match ',\n",
       " ' Not a match ',\n",
       " ' Not a match ',\n",
       " ' Not a match ',\n",
       " ' Not a match ',\n",
       " ' Not a match ',\n",
       " ' Not a match ',\n",
       " ' Not a match ',\n",
       " ' Not a match ',\n",
       " ' Not a match ',\n",
       " ' Not a match ',\n",
       " ' Not a match ',\n",
       " ' Not a match ',\n",
       " ' Not a match ',\n",
       " ' Not a match ',\n",
       " ' Not a match ',\n",
       " ' Not a match ',\n",
       " ' Not a match ',\n",
       " ' Not a match ',\n",
       " ' Not a match ',\n",
       " '1-769-482-8286',\n",
       " ' Not a match ',\n",
       " ' Not a match ',\n",
       " ' Not a match ',\n",
       " ' Not a match ',\n",
       " ' Not a match ',\n",
       " ' Not a match ',\n",
       " ' Not a match ',\n",
       " ' Not a match ',\n",
       " ' Not a match ',\n",
       " ' Not a match ',\n",
       " ' Not a match ',\n",
       " ' Not a match ',\n",
       " ' Not a match ',\n",
       " ' Not a match ',\n",
       " ' Not a match ',\n",
       " ' Not a match ',\n",
       " ' Not a match ',\n",
       " ' Not a match ',\n",
       " ' Not a match ',\n",
       " ' Not a match ',\n",
       " ' Not a match ',\n",
       " ' Not a match ',\n",
       " ' Not a match ',\n",
       " ' Not a match ',\n",
       " ' Not a match ',\n",
       " ' Not a match ',\n",
       " ' Not a match ',\n",
       " ' Not a match ',\n",
       " ' Not a match ',\n",
       " ' Not a match ',\n",
       " ' Not a match ',\n",
       " ' Not a match ',\n",
       " ' Not a match ',\n",
       " ' Not a match ',\n",
       " ' Not a match ',\n",
       " ' Not a match ',\n",
       " ' Not a match ',\n",
       " ' Not a match ',\n",
       " ' Not a match ',\n",
       " ' Not a match ']"
      ]
     },
     "execution_count": 17,
     "metadata": {},
     "output_type": "execute_result"
    }
   ],
   "source": [
    "# a different way showing the phone # and no matches ... \n",
    "([i[1] if \"Davis\" in i else \" Not a match \" for i in data])"
   ]
  },
  {
   "cell_type": "code",
   "execution_count": 18,
   "metadata": {},
   "outputs": [
    {
     "name": "stdout",
     "output_type": "stream",
     "text": [
      "1-769-482-8286\n"
     ]
    }
   ],
   "source": [
    "x = ([i[1] if \"Davis\" in i else \" Not a match \" for i in data])\n",
    "if \"Davis\" in data[record_no]:\n",
    "    print(data[record_no][phone_no])"
   ]
  },
  {
   "cell_type": "markdown",
   "metadata": {},
   "source": [
    "<hr />\n",
    "<p style=\"font-family:Baskerville, Palatino, serif; font-size: 24px; line-height:27px;color:red;\" id=\"set\"><i>Set comprehension</i></p>\n",
    "\n",
    "<p>Finally ... can you use these containers efficiently?  For example, can we have duplicates in a dictionary?  In a set? So if we want to count unique values using a dictionary we&rsquo;d have to iterate thru &lsquo;em all.  If we use a set, duplicates are automatically excluded so the # of items successfully added must be unique.\n",
    "</p>"
   ]
  },
  {
   "cell_type": "code",
   "execution_count": 19,
   "metadata": {},
   "outputs": [
    {
     "name": "stdout",
     "output_type": "stream",
     "text": [
      "There are 88 Unique names\n"
     ]
    }
   ],
   "source": [
    "UniqNms = list({row[0] for row in data}) # use set comprehension to get unique names\n",
    "print ('There are ' + str(len(UniqNms)) + ' Unique names')"
   ]
  },
  {
   "cell_type": "markdown",
   "metadata": {},
   "source": [
    "<h1>End of the main topics for Week 4</h1>\n",
    "<div height=\"75px\">\n",
    "    <hr />\n",
    "    <p>Your section may opt for the Breakout Room for the Weekly Activity and/or review some of the examples.  Students are welcome to explore them on their own, too, after class.\n",
    "    </p>\n",
    "\n",
    "<p style=\"font-family:Baskerville, Palatino, serif; font-size: 24px; line-height:27px;color:red;\">Optional Demos and Other Examples</p>\n",
    "<hr />\n",
    "<p>See also: <a href=\"jsonDemos.ipynb\" target=\"new\">jsonDemos.ipynb</a></p>"
   ]
  },
  {
   "cell_type": "code",
   "execution_count": 20,
   "metadata": {},
   "outputs": [
    {
     "name": "stdout",
     "output_type": "stream",
     "text": [
      "Enter a board size: 4\n",
      "1 0 0 0\n",
      "1 1 0 0\n",
      "1 2 1 0\n",
      "1 3 3 1\n"
     ]
    }
   ],
   "source": [
    "n = int(input(\"Enter a board size: \"))\n",
    "\n",
    "board = []\n",
    "\n",
    "for i in range(n):\n",
    "    board.append([])\n",
    "    for j in range(n):\n",
    "        board[i].append(0)\n",
    "\n",
    "board[0][0] = 1\n",
    "\n",
    "for i in range(n-1):\n",
    "    for j in range(n-1):\n",
    "        board[i+1][j] = board[i][j] + board[i+1][j]\n",
    "        board[i+1][j+1] = board[i][j] + board[i+1][j+1]\n",
    "        \n",
    "for i in range(n):\n",
    "    print(*board[i])"
   ]
  },
  {
   "cell_type": "code",
   "execution_count": null,
   "metadata": {},
   "outputs": [],
   "source": [
    "x = float(input(\"enter a number:\"))\n",
    "epsilon = 0.00001\n",
    "num_guesses = 0\n",
    "low = 0.0\n",
    "\n",
    "if x < 1:\n",
    "    high = 1\n",
    "else:\n",
    "    high = x\n",
    "\n",
    "ans = (high + low)/2.0\n",
    "\n",
    "while high - low >= 2 * epsilon:\n",
    "    print(\"low =\",low,\"high =\", high)\n",
    "    num_guesses += 1\n",
    "    if ans ** 2 < x:\n",
    "        low = ans\n",
    "    else:\n",
    "        high = ans\n",
    "    ans = (high + low)/2.0\n",
    "\n",
    "print('number of guesses =', num_guesses)\n",
    "print(ans, 'is close to square root of', x)"
   ]
  },
  {
   "cell_type": "code",
   "execution_count": null,
   "metadata": {},
   "outputs": [],
   "source": [
    "### This example is one of many approaches to Ficonacci numbers.\n",
    "# see the optional materials posted for this week in \n",
    "# week 4 folder.\n",
    "\n",
    "number = int(input(\"Enter a number: \"))\n",
    "\n",
    "fib_list = [1, 1]\n",
    "\n",
    "if number < 1:\n",
    "    print(\"Please enter an integer number greater than 0.\")\n",
    "else:\n",
    "    last_number = fib_list[-1]\n",
    "    while number > last_number:\n",
    "        last_number = fib_list[-1] + fib_list[-2]\n",
    "        \n",
    "        if last_number > number:\n",
    "            continue\n",
    "        fib_list.append(last_number)\n",
    "    \n",
    "    for num in fib_list:\n",
    "        print(num, end=' ')"
   ]
  },
  {
   "cell_type": "markdown",
   "metadata": {},
   "source": [
    "<hr />\n",
    "<h3 id=\"converting\">In this example, we use the json library in our import statement.  Next we&lsquo;ll open a .json file and see what&rsquo;s up.</h3>\n",
    "<p>Two examples:<ul><li>convert from python to json</li>\n",
    "    <li>convert from json to python</li></ul></p>\n",
    "<p style=\"color:red;\">See Week 3 notebook for more examples of using json and dictionaries.</p>\n",
    "<p>\n",
    "Note the difference between <code>loads()</code> and <code>load()</code>.  When reading data from a .json file, use <code>load</code>; <code>loads</code> is just for json strings (that look like dictionaries) in our scripts.</p>\n",
    "<hr />"
   ]
  },
  {
   "cell_type": "code",
   "execution_count": null,
   "metadata": {},
   "outputs": [],
   "source": [
    "# CONVERT FROM PYTHON TO JSON \n",
    "# NOTE: import the json library\n",
    "import json\n",
    "\n",
    "x =  '{ \"name\":\"Justin\", \"age\":30, \"city\":\"Hong Kong\"}'\n",
    "\n",
    "# parse x:\n",
    "howOld = json.loads(x)\n",
    "\n",
    "# the result is a Python dictionary:\n",
    "print(howOld[\"age\"])"
   ]
  },
  {
   "cell_type": "code",
   "execution_count": null,
   "metadata": {},
   "outputs": [],
   "source": [
    "# root of the json hierarchy is \"books\"\n",
    "# then come authors and call numbers\n",
    "fileToRead = \"librarybooks.json\"\n",
    "\n",
    "with open(\"librarybooks.json\") as jsonFile:\n",
    "    data = json.load(jsonFile)\n",
    "    jsonData = data[\"library\"] #the root\n",
    "    for records in jsonData:\n",
    "        keys = records.keys()\n",
    "        print(keys)\n",
    "        values = records.values()\n",
    "        print(values)"
   ]
  },
  {
   "cell_type": "markdown",
   "metadata": {},
   "source": [
    "<p>&nbsp;</p>\n",
    "<hr />\n",
    "<p>For the fun of it, use python to help yourself! \n",
    "This script searches for duplicates.  You can change the \n",
    "starting point for a recursive search.  A little python script to demo functions</p>\n",
    "\n",
    "<ul><li>string formatting</li>\n",
    "<li id=\"datetime\">a datetime stamp to string cast</li>\n",
    "<li>use of a list - experiment with expand and see what happens! (be warned - you may wanna terminate early)</li>\n",
    "<li>and prefatory to file I/O, echo data to screen now</li>\n",
    "</ul>\n",
    "<p>This can be made much more efficient ... how?\n",
    "<ul>\n",
    "   <li>you'll want to practice using recursion,</li>\n",
    "   <li>relative and absolute file paths</li>\n",
    "   <li>passing an argument to the script (starting path)</li>\n",
    "   <li>and file name to save the output.</li>\n",
    "</ul>"
   ]
  },
  {
   "cell_type": "code",
   "execution_count": null,
   "metadata": {},
   "outputs": [],
   "source": [
    "import os\n",
    "from stat import *\n",
    "from datetime import datetime\n",
    "\n",
    "# per questions about functions, \n",
    "# libraries, datetime \n",
    "\n",
    "def printheader(loc):\n",
    "    if loc == \"head\":\n",
    "        print(\"\\n\")\n",
    "        print(\"*\"*40)\n",
    "        print(\"File Listing for Duplicates \\n\")\n",
    "    else:\n",
    "        print(\"\\n - All Done - \")\n",
    "        print(\"-\"*40)\n",
    "\n",
    "def fixString(s, t):\n",
    "    max = 60\n",
    "    st = t.strftime('%Y/%m/%d %I:%M:%S')\n",
    "    newString = s.ljust(max,\" \") + st\n",
    "    return newString\n",
    "\n",
    "def main():\n",
    "    printheader(\"head\")\n",
    "    width=40\n",
    "    string = \"{:{fill}{align}{width}}\"\n",
    "\n",
    "    top = \".\"\t# change this to the directory you want to read\n",
    "    finallist = list()\n",
    "\n",
    "    for f in os.listdir(top):\n",
    "        pathname = os.path.join(top, f)\n",
    "        x = os.stat(pathname)\n",
    "        finallist.append(fixString(pathname, datetime.fromtimestamp(x.st_mtime)))\n",
    "        # uncomment the below line to write to screen for testing\n",
    "        # print(string.format(f,fill=' ',align=\"<\", width=width),datetime.fromtimestamp(x.st_mtime))\n",
    "\n",
    "    finallist.sort()\n",
    "\n",
    "    for f in finallist:\n",
    "        print(f)\n",
    "\n",
    "    printheader(\"foot\")\n",
    "\n",
    "if __name__ == \"__main__\":\n",
    "    main()\n",
    "    \n",
    "x = 5\n",
    "if x: # returns t/f\n",
    "    print(x) # returns value."
   ]
  },
  {
   "cell_type": "markdown",
   "metadata": {},
   "source": [
    "\n",
    "<hr />\n",
    "<p style=\"font-family:Baskerville, Palatino, serif; font-size: 24px; line-height:27px;color:red;\" id=\"searching\">\n",
    "Searching is a fundamental exercise in learning about algorithm performance.  Even if you&rsquo;re uncertain about the details, \n",
    "    be sensitive to how the same question can have multiple (correct) answers.\n",
    "</p>\n",
    "\n",
    "<h2>Exhaustive Search</h2>\n",
    "<p>Exhaustive Search: brute force solution to a problem searching for an element with a special property ...<br />\n",
    "Method:\n",
    "    <ul><li>construct a way of listing all potential solutions in a systematic manner (all solutions listed, non repeated)</li>\n",
    "        <li>Evaluate one by one</li>\n",
    "        <li>When search ends, we have a winner.</li>\n",
    "        </ul>\n",
    "<p>Examples include the Traveling Salesman Problem, Knapsack Problem, Selection Sort, Bubble Sort, and others.</p>\n",
    "<hr />\n",
    "<p><b>Traveling Salesman</b> Given <i>n</i> cities (city a, b, c, d) with known distances between each pair, find the shortest tour that passes thru all the cities exactly once before returning to the starting city.  [Alternatively, find the shortest Hamiltonian circuit in a weighted connected graph.].  With a (random) weight between each node (city) ...<br />\n",
    "    <pre>\n",
    "    a -> b 2\n",
    "    a -> c 8\n",
    "    a -> d 5\n",
    "    b -> c 3\n",
    "    b -> d 4\n",
    "    c -> d 7</pre>\n",
    "<br />\n",
    "The exhaustive search would articulate the city-to-city progress and the cost (weights) for each:\n",
    "a -> b -> c -> d -> a     cost: 2 + 3 + 7 + 5 = 17<br />\n",
    "and so on... It turns out the most efficient trip is either a->b->c->d->a or a->d->c->b->a = 17 for both.  The efficiency is (n-1)!/2.\n",
    "</p>\n",
    "<p>Brute force is widely applicable, simple, and yields reasonable algorithsm for some problems (like sorting, matrix multiplication, closest-pair, convex-hull), and graph traversal problems.  </p><p>But they're not efficient algorithms; some problems like computing Fibonacci numbers, can be too slow.</p>"
   ]
  },
  {
   "cell_type": "markdown",
   "metadata": {},
   "source": [
    "<img src=\"images/selection_sort.jpg\">"
   ]
  },
  {
   "cell_type": "markdown",
   "metadata": {},
   "source": [
    "<hr />\n",
    "<h2 style=\"color:skyblue;\">Selection Sort</h2><p>\n",
    "Start by scanning entire given list to find the smallest element and replace it with the first element of the list. Then we start scanning from the 2nd element of the list to the last <i>n</i>-1 element and replace the smallest element with the 2nd element of the list. We continue this process untill the list is sorted in nondecreasing order.</p>"
   ]
  },
  {
   "cell_type": "code",
   "execution_count": null,
   "metadata": {},
   "outputs": [],
   "source": [
    "myList = [22, 19, 30, 12, 10] \n",
    "\n",
    "def selec_sort(myList):\n",
    "    \"\"\"This function will sort the list in nondecreasing order\"\"\"    \n",
    "    n = len(myList)           \n",
    "    for i in range(0, n-1): \n",
    "        min = i\n",
    "        for j in range(i+1, n):\n",
    "            if myList[j] < myList[min]:\n",
    "                min = j\n",
    "        temp = myList[i]\n",
    "        myList[i] = myList[min]\n",
    "        myList[min] = temp\n",
    "    return myList\n",
    "\n",
    "print(selec_sort(myList))"
   ]
  },
  {
   "cell_type": "code",
   "execution_count": 20,
   "metadata": {},
   "outputs": [
    {
     "data": {
      "image/jpeg": "[encoded data removed]",
      "text/plain": [
       "<IPython.core.display.Image object>"
      ]
     },
     "execution_count": 20,
     "metadata": {
      "image/jpeg": {
       "width": "500"
      }
     },
     "output_type": "execute_result"
    }
   ],
   "source": [
    "display.Image(\"images/bubble-short.jpg\", width=\"500\")"
   ]
  },
  {
   "cell_type": "markdown",
   "metadata": {},
   "source": [
    "<hr />\n",
    "<hr /><h2 style=\"color:skyblue;\">Bubble Sort</h2><p>\n",
    "    Sorting problem here compares <u>adjacent elements</u> of the list and exchange them if they are out of order. Doing it repeatedly we end up \"bubbling up\" the largest element to the last position of the list. We continue this process untill the list is sorted in nondecreasing order.</p>"
   ]
  },
  {
   "cell_type": "code",
   "execution_count": null,
   "metadata": {},
   "outputs": [],
   "source": [
    "alist = [33, 22, 11, 99, 111, 20]\n",
    "\n",
    "def bubble_sort(alist):\n",
    "    \"\"\"This function will sort the list in nondecreasing order\"\"\"    \n",
    "    n = len(alist)\n",
    "    for i in range(0, n-1):\n",
    "        for j in range(0, n-1-i):\n",
    "            if alist[j+1] < alist[j]:\n",
    "                temp = alist[j]\n",
    "                alist[j] = alist[j+1]\n",
    "                alist[j+1] = temp\n",
    "    return alist\n",
    "\n",
    "bubble_sort(alist)"
   ]
  },
  {
   "cell_type": "markdown",
   "metadata": {},
   "source": [
    "<hr /><h2 style=\"color:skyblue;\">Sequential Search</h2><p>\n",
    "Searching a key from a list.  First take the key and compare it with the list element starting from the first position.  If it matches, then stop. Otherwise keep going.  If we reach end of the list without any match, that means the key is not exist in the list.</p>"
   ]
  },
  {
   "cell_type": "code",
   "execution_count": null,
   "metadata": {},
   "outputs": [],
   "source": [
    "def seq_search(key, s_list):\n",
    "    \"\"\"This function will return True if the key exist in the list otherwise will return False\"\"\"\n",
    "    i = 0\n",
    "    while i < len(s_list):\n",
    "        print(\"\\ti = \", i, \" list[i] = \", s_list[i], \" and key is \", key)\n",
    "        if s_list[i] == key:\n",
    "            return True\n",
    "        else:\n",
    "            i += 1\n",
    "    return False\n",
    "\n",
    "# test 1\n",
    "s_list = [5, 10, 20, 22, 24, 29, 50, 193]\n",
    "key = 22\n",
    "print(\"test 1: key = 22: \", seq_search(key, s_list))\n",
    "\n",
    "s_list = [5, 10, 23, 49, 19938, 1202992]\n",
    "key = 500\n",
    "print(\"test 2: key is 500: \", seq_search(key, s_list))"
   ]
  },
  {
   "cell_type": "markdown",
   "metadata": {},
   "source": [
    "<hr />\n",
    "<h2  style=\"color:skyblue;\">Brute-Force String Matching</h2><p>\n",
    "    Given a string of <i>n</i> characters/glyphs (everything in Unicode/UTF-8) called the text and a string of <i>m</i> chars/glyphs (m &lt;= n) called the <u>pattern</u>, find the substring of the text that matches the pattern.  In other words, we want to find <i>i - the leftmost character</i> of the matching substring in the text.</p>"
   ]
  },
  {
   "cell_type": "code",
   "execution_count": null,
   "metadata": {},
   "outputs": [],
   "source": [
    "def str_match(text, pattern):\n",
    "    \"\"\"\n",
    "    This function will return the position of i - the leftmost character\n",
    "    of the matching substring in the text if the pattern exist, False otherwise\n",
    "    \"\"\"\n",
    "    n = len(text)\n",
    "    m = len(pattern)\n",
    "    for i in range(0, n-m+1):\n",
    "        j = 0\n",
    "        while j < m and pattern[j] == text[i+j]:\n",
    "            j += 1\n",
    "        if j == m:\n",
    "            return i\n",
    "    return False\n",
    "\n",
    "#here, the string has been cleaned of spaces and escape sequences \\n\\r, etc.\n",
    "text = \"ifyoudontspeakupwecanthearit\"\n",
    "pattern = \"speak\"\n",
    "print(\"Test version 1: English letters: \", str_match(text, pattern))\n",
    "print(\"confirm: \", text[str_match(text, pattern)])\n",
    "\n",
    "text = \"谁控制了媒体，谁就控制了思想\"\n",
    "pattern = \"体\"\n",
    "print(\"Test version 2: Non-English: \", str_match(text, pattern))"
   ]
  },
  {
   "cell_type": "markdown",
   "metadata": {},
   "source": [
    "<hr />\n",
    "<h2 style=\"color:skyblue;\">Closest pair problem</h2>\n",
    "<p>\n",
    "    The closest pair porblem calls for finding the closest points in the set of <i>n</i> points. Say <code>A = {(1,4), (4,9), (3,1)}</code>.  And want to find the closest point (can be A[0] to A[1] or A[1] to A[2] and so on).  A brute-force way will compute every single distance within two points and return the least distance.</p>"
   ]
  },
  {
   "cell_type": "code",
   "execution_count": null,
   "metadata": {},
   "outputs": [],
   "source": [
    "# This function computes the distance between two codinate. \n",
    "from math import sqrt\n",
    "\n",
    "# this function is used IN the other function, closest_point()\n",
    "def dist(a,b):\n",
    "    x=pow((a[0]-b[0]),2)\n",
    "    y=pow((a[1]-b[1]),2)\n",
    "    return sqrt(x+y)\n",
    "\n",
    "\n",
    "# this function accepts a value for the point\n",
    "def closest_point(a):\n",
    "    distance = 100400200 # any big number\n",
    "    n = len(a)\n",
    "    for i in range(0,n-1):\n",
    "        for j in range(i+1, n):\n",
    "            print(\"\\t i=\",i,\" j=\",j, end=\"\")\n",
    "            point = (dist(a[i], a[j]))\n",
    "            print(\"\\tpoint: \", point, \" distance: \",distance)\n",
    "            if point < distance:\n",
    "                distance = point\n",
    "    return distance\n",
    "\n",
    "\n",
    "# given these points ... what's the closest?\n",
    "a = [(1,5), (18,1), (23,10), (8,9), (1,1)]\n",
    "print(closest_point(a))\n",
    "\n",
    "print(\"-\"*40)\n",
    "\n",
    "\n",
    "# Let's visualize our answer is correct or not\n",
    "def check_closest_point(a):\n",
    "    distance = 100000000 # any big number\n",
    "    n = len(a)\n",
    "    for i in range(0,n-1):\n",
    "        for j in range(i+1, n):\n",
    "            print((dist(a[i], a[j])))\n",
    "print(check_closest_point(a))"
   ]
  },
  {
   "cell_type": "markdown",
   "metadata": {},
   "source": [
    "<b>End of the examples.</b>"
   ]
  },
  {
   "cell_type": "code",
   "execution_count": null,
   "metadata": {},
   "outputs": [],
   "source": []
  }
 ],
 "metadata": {
  "kernelspec": {
   "display_name": "Python 3 (ipykernel)",
   "language": "python",
   "name": "python3"
  },
  "language_info": {
   "codemirror_mode": {
    "name": "ipython",
    "version": 3
   },
   "file_extension": ".py",
   "mimetype": "text/x-python",
   "name": "python",
   "nbconvert_exporter": "python",
   "pygments_lexer": "ipython3",
   "version": "3.11.4"
  }
 },
 "nbformat": 4,
 "nbformat_minor": 4
}
