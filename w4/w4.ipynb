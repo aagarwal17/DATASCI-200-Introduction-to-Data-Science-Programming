{
 "cells": [
  {
   "cell_type": "code",
   "execution_count": 1,
   "metadata": {},
   "outputs": [
    {
     "data": {
      "text/html": [
       "<script src=\"js/showNotes.js\"></script>\n"
      ],
      "text/plain": [
       "<IPython.core.display.HTML object>"
      ]
     },
     "metadata": {},
     "output_type": "display_data"
    }
   ],
   "source": [
    "%%html\n",
    "<script src=\"js/showNotes.js\"></script>"
   ]
  },
  {
   "cell_type": "markdown",
   "metadata": {},
   "source": [
    "<meta name=\"viewport\" content=\"width=device-width, initial-scale=1\">\n",
    "<p style=\"font-size:9px;\">Version: Discussion version 1, \n",
    "    July 18, 2023 | Updated Sept 15, 2023; Updated Jan 30, 2024. [&copy; 2023 gb]</p>\n",
    "<p>&nbsp;</p>\n",
    "<img src=\"images/ischool-banner.png\" />\n",
    "<p>&nbsp;</p>\n",
    "<div style=\"height: 100px;color:#3B7EA1; font-size:24px; vertical-align:top; text-align:left;\">\n",
    "    Computing for Data Science\n",
    "    <img style=\"width:20%; vertical-align:top; float: left; padding-right: 20px; display: block; margin-left: 0; margin-right: auto;\" \n",
    "         src=\"images/ucb_logo.png\"/>    \n",
    "</div>"
   ]
  },
  {
   "cell_type": "markdown",
   "metadata": {},
   "source": [
    "<hr />\n",
    "<h1 style=\"font-size:36; color: #003262;\">Current Weekly Syllabus Topics</h1>\n",
    "<table width=\"100%;\">\n",
    "<tr>\n",
    "<td style=\"text-align:left; vertical-align:top;\">\n",
    "<ol>\n",
    "    <li>\n",
    "    <ul>\n",
    "        <li>Computer Architecture Basics; \n",
    "        Bash, Git, GitHub;</li>\n",
    "        <li>Command Line;</li>\n",
    "        <li>Manipulating Files &amp; Directories;\n",
    "        VIM;\n",
    "        Command Line intro;</li>\n",
    "    </ul>\n",
    "</li>\n",
    "<li>\n",
    "    <ul>\n",
    "    <li>Programming Lang Orientation: \n",
    "    <li>jupyter; python and command line;\n",
    "    objects &amp; types;\n",
    "    <li>variables (numbers and strings), formatting strings;</li>\n",
    "    <li>control while loops</li>\n",
    "    </ul>\n",
    "</li>\n",
    "<li>\n",
    "    <ul>\n",
    "        <li>Sequences</li>\n",
    "        <li>Lists, Tuples &amp; Mutability</li>\n",
    "        <li>Ranges</li>\n",
    "        <li>Dictionaries, Nested Lists &amp; dictionaries</li>\n",
    "    </ul>\n",
    "</li>\n",
    "</ol>\n",
    "</td>\n",
    "<td style=\"text-align:left; vertical-align:top;\">\n",
    "<ol start=\"4\">\n",
    "<li>\n",
    "    <ul style='background-color: #FDB515;'>\n",
    "        <li>For Loops\n",
    "        <li>Exits\n",
    "        <li>Algorithms: searching [exhaustive, bisection, heron&rsquo;s methods]</li>\n",
    "        <li>Comprehensions</li>\n",
    "    </ul>\n",
    "</li>\n",
    "<li>\n",
    "    <ul>\n",
    "        <li>Functions</li>\n",
    "        <li>Calling, Nesting</li>\n",
    "        <li>Namespaces, Global and Local Vars</li>\n",
    "        <li>Recursion; nested dictionaries &amp; recursion</li>\n",
    "        <li>Parameters</li>\n",
    "        <li>Exceptions</li>\n",
    "        <li>Lambdas</li>\n",
    "    </ul>\n",
    "</li>\n",
    "<li>\n",
    "    <ul>\n",
    "        <li>Complexity\n",
    "        <li>Measuring time and Steps</li>\n",
    "        <li>Big &Theta;</li>\n",
    "        <li>Searching and Subsequences\n",
    "        <li>Modules &amp; Packages</li>\n",
    "    </ul>\n",
    "</li>\n",
    "</ol>\n",
    "</td>\n",
    "    </tr>\n",
    "<table>\n",
    "<table width=\"100%\">\n",
    "    <tr>\n",
    "<td style=\"text-align:left; vertical-align:top;\">\n",
    "<ol start=\"7\">\n",
    "<li>\n",
    "    <ul>\n",
    "        <li>Classes</li>\n",
    "        <li>Attributes, Binding</li>\n",
    "        <li>Initializing and Control</li>\n",
    "        <li>&UnderBar;&UnderBar;str&UnderBar;&UnderBar; and &UnderBar;&UnderBar;repr&UnderBar;&UnderBar;\n",
    "        </li>\n",
    "    </ul>\n",
    "</li>\n",
    "<li>\n",
    "    <ul>\n",
    "        <li>Object-Oriented Programming</li>\n",
    "        <li>Inheritance</li>\n",
    "        <li>Polymorphism</li>\n",
    "        <li>Magic Methods</li>\n",
    "    </ul>\n",
    "</li>\n",
    "<li>\n",
    "    <ul>\n",
    "    <li>PyData Ecosystem and Numpy</li>\n",
    "    <li>Boolean selection and types</li>\n",
    "    <li>Vectorization &amp; Multidimensional Arrays</li>\n",
    "    <li>Slicing and combining</li>\n",
    "    <li>Linear model in matrix form, Numpy</li>\n",
    "    </ul>\n",
    "</li>\n",
    "</ol>\n",
    "</td>\n",
    "<td style=\"text-align:left; vertical-align:top;\">\n",
    "<ol start=\"10\">\n",
    "<li>\n",
    "    <ul>\n",
    "        <li>Pandas &amp; Data Analysis</li>\n",
    "        <li>Series and Data Frames</li>\n",
    "        <li>Bracket index, log &amp; iloc</li>\n",
    "        <li>Functions and DataFrames</li>\n",
    "        <li>Sorting</li>\n",
    "    </ul>\n",
    "</li>\n",
    "<li>\n",
    "    <ul>\n",
    "        <li>Datasets and EDA</li>\n",
    "        <li>Fixing Data Issues (Cleansing)</li>\n",
    "        <li>Answering Questions</li>\n",
    "    </ul>\n",
    "</li>\n",
    "<li>\n",
    "    <ul>\n",
    "        <li>Plotting &amp; Visualization</li>\n",
    "        <li>Libraries (Matplotlib, Seaborn, etc.)</li>\n",
    "        <li>Plot features</li>\n",
    "    </ul>\n",
    "</li>\n",
    "</ol>\n",
    "</td>\n",
    "</tr>\n",
    "</table>\n",
    "<table width=\"100%\">\n",
    "<tr>\n",
    "<td style=\"text-align:left; vertical-align:top;\">\n",
    "<ol start=\"13\">\n",
    "    <li>\n",
    "    <ul>\n",
    "        <li>Pandas Aggregation &amp; Group Operations</li>\n",
    "        <li>Series.groupby</li>\n",
    "        <li>DataFrame.groupby</li>\n",
    "        <li>Aggregation</li>\n",
    "        <li>Pivot Tables &amp; Crosstabs</li>\n",
    "    </ul>\n",
    "</li>\n",
    "<li>\n",
    "    <ul>\n",
    "        <li>Presentations (so no time to cover...\n",
    "        <li>Texts, unicode, decoding errors, regex, time series, etc.)</li>\n",
    "    </ul>\n",
    "</li>\n",
    "</ol>\n",
    "</td>\n",
    "</tr>\n",
    "</table>"
   ]
  },
  {
   "cell_type": "markdown",
   "metadata": {},
   "source": [
    "<p style=\"font-size: 16px; line-height: 22px; color: #3B7EA1;\">\n",
    "    Check-In:  how was last week?\n",
    "</p>\n",
    "<hr />"
   ]
  },
  {
   "cell_type": "markdown",
   "metadata": {},
   "source": [
    "<hr />\n",
    "<h1 style=\"font-size:36; color: #003262;\">\n",
    "Week 4 Topics</h1>\n",
    "<p>\n",
    "    <ol>\n",
    "        <li style=\"color:red;\">For Loops\n",
    "        <li style=\"color:red;\">Exits\n",
    "        <li style=\"color:red;\">Algorithms: searching [exhaustive, bisection, heron&rsquo;s methods]</li>\n",
    "        <li style=\"color:red;\">Comprehensions</li>\n",
    "        <li><a href=\"CompendiumOfComprehensions.ipynb\" target=\"new\">Optional Comprehensions Demo</a></li>\n",
    "        <li><a href=\"chess.py\" target=\"new\">\n",
    "            Optional: Chess game demo</a></li>\n",
    "        <li><a href=\"Activity/week_04_activity.ipynb\">Activity</a></li>\n",
    "     </ol>\n",
    "</p>"
   ]
  },
  {
   "cell_type": "markdown",
   "metadata": {},
   "source": [
    "<hr />\n",
    "<div>\n",
    "    <p>\n",
    "        <img src=\"images/IntroIcon.png\" style=\"float:left; padding:10px; width:50px; text-align:top;\"/>\n",
    "        <span  style=\"color: #3B7EA1;font-size:24px;\">Introduction</span>\n",
    "    </p>\n",
    "</div>"
   ]
  },
  {
   "cell_type": "markdown",
   "metadata": {},
   "source": [
    "<p>\n",
    "    Definition:  <i>A <code>for</code> loop keeps the code block (or a sequence of commands) running until a condition is met where we <b>exit</b> the loop.</i>\n",
    "</p>\n",
    "<p>\n",
    "    <b>Break</b>: is a way to break out prematurely of the running of loop, rather than waiting until all items are tested to see if a condition is met.\n",
    "</p>\n",
    "<p>\n",
    "    <b>Continue</b>: is the way to keep looping until some <i>other</i> condition is met.  For example, we might want a clock's bell to chime every 15 minutes but not stop the clock running after the first ring.\n",
    "    </p>\n",
    "    <hr />\n",
    "<p style=\"font-size: 16px; line-height: 22px; color: #3B7EA1;\"><b>Question:</b> When do you think it&rsquo;s better to use a while loop over a for loop?</p>\n",
    "<hr />"
   ]
  },
  {
   "cell_type": "markdown",
   "metadata": {},
   "source": [
    "<hr />\n",
    "<div style=\"background-color: #003262; color:white; border-radius: 4px; padding: 8px;\">\n",
    "    <h2>\n",
    "    Part 1.  For loops &amp; Exits\n",
    "    </h2>\n",
    "</div>\n",
    "<p style=\"font-size: 16px; line-height: 22px; color: #3B7EA1;\"><b>Practice:</b></p>\n",
    "<p>A way to think about a for loop is to have a start condition and an exit condition.  Given this list from last week, how would you create a for loop to exit after you&rsquo;ve encountered the string &ldquo;sri&rdquo;?\n",
    "</p>\n",
    "<hr />\n",
    "<div>\n",
    "    <p>\n",
    "        <img src=\"images/hands-on.png\" style=\"float:left; padding:10px; width:100px;\"/>\n",
    "        <span  style=\"color: #3B7EA1;font-size:18px;\">Hands On ...</span>\n",
    "    </p>\n",
    "    <p style=\"color:black; font-size: 14px;\"><b>Desired output</b>:</p>\n",
    "<pre>\n",
    "Not found.\n",
    "Not found.\n",
    "Not found.\n",
    "Not found.\n",
    "Count: Search term sri found at index 4.\n",
    "Not found.\n",
    "Not found.\n",
    "__________________________________________________\n",
    "Not found.\n",
    "Not found.\n",
    "Not found.\n",
    "Not found.\n",
    "Count: Search term sri found at index 4.\n",
    "__________________________________________________\n",
    "Count 4. Found the desired word: sri.\n",
    "</pre></div>"
   ]
  },
  {
   "cell_type": "code",
   "execution_count": 7,
   "metadata": {},
   "outputs": [],
   "source": [
    "i = 1\n",
    "list_one = ['1', 1, 'mumin', 'مؤمن', 'sri', 'paul', 'el jeffe']"
   ]
  },
  {
   "cell_type": "code",
   "execution_count": 8,
   "metadata": {},
   "outputs": [],
   "source": [
    "# insert your answer here"
   ]
  },
  {
   "cell_type": "code",
   "execution_count": 9,
   "metadata": {},
   "outputs": [
    {
     "data": {
      "text/html": [
       "<button style=\"background-color:rgb(129,156,19);color:white;\" onclick=\"loadDoc('answers/w4_ex1.txt', '1')\">Show Answer</button>\n",
       "<p id=\"showNotes1\"></p>\n"
      ],
      "text/plain": [
       "<IPython.core.display.HTML object>"
      ]
     },
     "metadata": {},
     "output_type": "display_data"
    }
   ],
   "source": [
    "%%html\n",
    "<button style=\"background-color:rgb(129,156,19);color:white;\" onclick=\"loadDoc('answers/w4_ex1.txt', '1')\">Show Answer</button>\n",
    "<p id=\"showNotes1\"></p>"
   ]
  },
  {
   "cell_type": "markdown",
   "metadata": {},
   "source": [
    "<hr />\n",
    "<div>\n",
    "    <p>\n",
    "        <img src=\"images/QuestionIcon.png\" style=\"float:left; padding:10px; width:50px;\"/>\n",
    "        <span style=\"color: #3B7EA1;font-size:24px;\"><b>Question</b></span>\n",
    "    </p>\n",
    "    <p style=\"color:black; font-size: 14px;\">You want to create a menu for your restaurant that keeps soliciting end-users what they want until the user selects an option to exit.  Hint: combing a <code>while</code> with a <code>for</code> [The emojis are optional].\n",
    "</p>\n",
    "<div>\n",
    "    <p>\n",
    "        <img src=\"images/hands-on.png\" style=\"float:left; padding:10px; width:100px;\"/>\n",
    "        <span  style=\"color: #3B7EA1;font-size:18px;\">Hands On ...</span>\n",
    "    </p>\n",
    "    </div>\n",
    "<p>Optionally do the number-oriented question below.</p>\n",
    "    <p><b>Desired Output</b>:\n",
    "<pre>\n",
    "Welcome to Joe's Fish Market.  Please select from the following: (or any other input to quit.)\n",
    "\t1 = Order Fish\n",
    "\t2 = Order Lobsters and Crabs\n",
    "\t3 = Order sauces or salads\n",
    "\t4 = Quit\n",
    "Enter your choice: 1\n",
    "\n",
    "Thanks! You issued the command 1 👍\n",
    "\tToday's fish includes seabass, hake, tilapia, and fugu.\n",
    "Enter your choice: 2\n",
    "\n",
    "Thanks! You issued the command 2 👍\n",
    "\tFor today's Lobsters and Crabs, we offer items from Maine and Rhode Island.\n",
    "Enter your choice: 3\n",
    "\n",
    "Thanks! You issued the command 3 👍\n",
    "\tThe sauces and salads today are shrimp sauce and Caesar Salad.\n",
    "Enter your choice: 4\n",
    "\n",
    "Thanks! You issued the command 4 👍\n",
    "Fish\n",
    "Lobsters/Crabs\n",
    "Sauces or Salads\n",
    "\tCome back soon. 👋        \n",
    "</pre>"
   ]
  },
  {
   "cell_type": "code",
   "execution_count": 10,
   "metadata": {},
   "outputs": [],
   "source": [
    "# insert your answer here"
   ]
  },
  {
   "cell_type": "code",
   "execution_count": 11,
   "metadata": {},
   "outputs": [
    {
     "data": {
      "text/html": [
       "<button style=\"background-color:rgb(129,156,19);color:white;\" onclick=\"loadDoc('answers/w4_ex2.txt', '2')\">Show Answer</button>\n",
       "<p id=\"showNotes2\"></p>\n"
      ],
      "text/plain": [
       "<IPython.core.display.HTML object>"
      ]
     },
     "metadata": {},
     "output_type": "display_data"
    }
   ],
   "source": [
    "%%html\n",
    "<button style=\"background-color:rgb(129,156,19);color:white;\" onclick=\"loadDoc('answers/w4_ex2.txt', '2')\">Show Answer</button>\n",
    "<p id=\"showNotes2\"></p>"
   ]
  },
  {
   "cell_type": "markdown",
   "metadata": {},
   "source": [
    "<hr />\n",
    "<p>Adjust the below example to send a message when there's a value that equals 16, but continue to loop until the end of the range.</p>\n",
    "<p>Notice the range syntax: <code>start, stop, step</code>.</p>"
   ]
  },
  {
   "cell_type": "code",
   "execution_count": 17,
   "metadata": {},
   "outputs": [
    {
     "name": "stdout",
     "output_type": "stream",
     "text": [
      "0\t 0 \t 0.0 \t 0.0\n",
      "5\t 25 \t 1.67 \t 2.24\n",
      "10\t 100 \t 3.33 \t 3.16\n",
      "15\t 225 \t 5.0 \t 3.87\n",
      "20\t 400 \t 6.67 \t 4.47\n",
      "25\t 625 \t 8.33 \t 5.0\n",
      "30\t 900 \t 10.0 \t 5.48\n",
      "35\t 1225 \t 11.67 \t 5.92\n",
      "40\t 1600 \t 13.33 \t 6.32\n",
      "45\t 2025 \t 15.0 \t 6.71\n",
      "50\t 2500 \t 16.67 \t 7.07\n",
      "55\t 3025 \t 18.33 \t 7.42\n",
      "60\t 3600 \t 20.0 \t 7.75\n",
      "65\t 4225 \t 21.67 \t 8.06\n",
      "70\t 4900 \t 23.33 \t 8.37\n",
      "75\t 5625 \t 25.0 \t 8.66\n",
      "80\t 6400 \t 26.67 \t 8.94\n",
      "85\t 7225 \t 28.33 \t 9.22\n",
      "90\t 8100 \t 30.0 \t 9.49\n",
      "95\t 9025 \t 31.67 \t 9.75\n",
      "100\t 10000 \t 33.33 \t 10.0\n",
      "105\t 11025 \t 35.0 \t 10.25\n",
      "110\t 12100 \t 36.67 \t 10.49\n",
      "115\t 13225 \t 38.33 \t 10.72\n"
     ]
    }
   ],
   "source": [
    "# insert your answer here\n",
    "import math\n",
    "\n",
    "for i in range(0, 120, 5):\n",
    "    print(f\"{i}\\t { round(pow(i,2)) } \\t {round(i/3,2)} \\t {round(math.sqrt(i), 2)}\")"
   ]
  },
  {
   "cell_type": "markdown",
   "metadata": {},
   "source": [
    "<hr >\n",
    "<p style=\"font-size: 18px; line-height: 22px; color: #3B7EA1;\"><b>Nested For Loops:</b></p>\n",
    "<p>As a reminder and to encourage algorithm design and efficiency, let's look at <b>nested for loops</b>.</p>\n",
    "<p>Practice: Your job is to create a <b>nested for</b> loop code block that prints a message when the minute hand is 15 and run for 8 hours. [This is a fairly artificial example but it's just to get you to practice nested fors.]</p>"
   ]
  },
  {
   "cell_type": "code",
   "execution_count": 46,
   "metadata": {},
   "outputs": [
    {
     "name": "stdout",
     "output_type": "stream",
     "text": [
      "Hour: 0. Quarter Hour 15\n",
      "Hour: 1. Quarter Hour 15\n",
      "Hour: 2. Quarter Hour 15\n",
      "Hour: 3. Quarter Hour 15\n",
      "Hour: 4. Quarter Hour 15\n",
      "Hour: 5. Quarter Hour 15\n",
      "Hour: 6. Quarter Hour 15\n",
      "Hour: 7. Quarter Hour 15\n"
     ]
    }
   ],
   "source": [
    "for i in range(0, 8):\n",
    "    for j in range(0, 60):\n",
    "        if j == 15:\n",
    "            print(f\"Hour: {i}. Quarter Hour {j}\")"
   ]
  },
  {
   "cell_type": "markdown",
   "metadata": {},
   "source": [
    "<p>How might you cause this to exit at 3:15?</p>\n",
    "<hr />"
   ]
  },
  {
   "cell_type": "markdown",
   "metadata": {},
   "source": [
    "<hr />\n",
    "<div style=\"background-color: #003262; color:white; border-radius: 4px; padding: 8px;\">\n",
    "    <h2>Part 2.  Algorithms: searching</h2>\n",
    "    <h4>[Exhaustive, Bisection, Heron’s methods, among others]</h4>\n",
    "</div>\n",
    "<p style=\"font-size: 16px; line-height: 22px; color: #3B7EA1;\"><b>Practice:</b></p>\n",
    "<p>An algorithm is a block of code that accepts input, returns a true value, and stops.  That&rsquo;s it.  An efficient algorithm requires thought and we have a couple of common test techniques.  We&rsquo;ll see in Week 6 a measure called Big &Theta; for testing how the algorithm will perform as it uses more data.</p>\n",
    "<p>Searching is a common testing technique.</p>\n",
    "<p>You know already we can use the reserved word <code>in</code> with a list to find whether an element exists.  But let&rsquo;s compare the thinking behind the methods listed above.</p>\n",
    "<p><b>Main point</b>: break down the problem (modularization - there is always more than one way to achieve a right answer), and work out the logic.  Write your code: both data and code could be at fault so focus on one at a time.  Once the logic to achieve the goal is clear, <u>look for python techniques that are more efficient</u>.</p>"
   ]
  },
  {
   "cell_type": "markdown",
   "metadata": {},
   "source": [
    "<div style=\"background-color:#C4820E;color:white; padding:8px; border-radius:4px;box-shadow: 5px 5px 5px #888888;\">\n",
    "    <b>Note</b>: For a much longer, step-by-step demo, with detailed options for approaching Pascal&rsquo;s Triangle and particularly examples/images of searching behaviors see the <a style=\"text-decoration: none; color:skyblue;\" href=\"week4-Sp23.ipynb\" target=\"new\">week4-Sp23.ipynb</a> notebook, and the <a style=\"text-decoration: none; color:skyblue;\" href=\"CompendiumOfComprehensions.ipynb\" target=\"new\">Compendium of Comprehensions</a>.  Don&rsquo;t forget the Optional Resources folder, too.\n",
    "</div>\n",
    "    "
   ]
  },
  {
   "cell_type": "markdown",
   "metadata": {},
   "source": [
    "<b>Brute-Force &amp; Bisection</b> (see also <a href=\"https://docs.python.org/3/library/bisect.html\" target=\"new\">Docs</a> for details).</p>\n",
    "<p>The thinking here is to work with <b>brute force</b>, starting at the beginning and checking each item until we find the match or the list is empty; another is to <b>reduce the amount of data</b> to be searched by dividing the data with each pass till we reach the answer.  Limiting ourselves to the tools we have so far in the course ...</p>"
   ]
  },
  {
   "cell_type": "markdown",
   "metadata": {},
   "source": [
    "<img src=\"images/brute-and-heron.jpg\"/>\n",
    "<p>Exhaustive | Bisection | Heron&rsquo;s Method (Babylonian)</p>"
   ]
  },
  {
   "cell_type": "markdown",
   "metadata": {},
   "source": [
    "<p style=\"font-size: 18px; color:#3B7EA1;\">Practice: searching Exhaustive Brute Force</p>"
   ]
  },
  {
   "cell_type": "markdown",
   "metadata": {},
   "source": [
    "<p style=\"font-size: 18px; color:#3B7EA1;\">Exhaustive Search</p>\n",
    "<p>Exhaustive Search: brute force solution to a problem searching for an element with a special property ...<br />\n",
    "Method:\n",
    "    <ul><li>construct a way of listing all potential solutions in a systematic manner (all solutions listed, non repeated)</li>\n",
    "        <li>Evaluate one by one</li>\n",
    "        <li>When search ends, we have a winner.</li>\n",
    "        </ul>\n",
    "<p>Examples include the Traveling Salesman Problem, Knapsack Problem, Selection Sort, Bubble Sort, and others.</p>\n",
    "<hr />\n",
    "<p><b>Traveling Salesman</b> Given <i>n</i> cities (city a, b, c, d) with known distances between each pair, find the shortest tour that passes thru all the cities exactly once before returning to the starting city.  [Alternatively, find the shortest Hamiltonian circuit in a weighted connected graph.].  With a (random) weight between each node (city) ...<br />\n",
    "    <pre>\n",
    "    a -> b 2\n",
    "    a -> c 8\n",
    "    a -> d 5\n",
    "    b -> c 3\n",
    "    b -> d 4\n",
    "    c -> d 7</pre>\n",
    "<br />\n",
    "The exhaustive search would articulate the city-to-city progress and the cost (weights) for each:\n",
    "a -> b -> c -> d -> a     cost: 2 + 3 + 7 + 5 = 17<br />\n",
    "and so on... It turns out the most efficient trip is either a->b->c->d->a or a->d->c->b->a = 17 for both.  The efficiency is (n-1)!/2.\n",
    "</p>\n",
    "<p>Brute force is widely applicable, simple, and yields reasonable algorithsm for some problems (like sorting, matrix multiplication, closest-pair, convex-hull), and graph traversal problems.  </p><p>But they're not efficient algorithms; some problems like computing Fibonacci numbers, can be too slow.</p>"
   ]
  },
  {
   "cell_type": "markdown",
   "metadata": {},
   "source": [
    "<hr />\n",
    "<p style=\"font-size: 18px; color:#3B7EA1;\">Brute-Force String Matching: Example 1</p>\n",
    "<p>Here are two examples.  The first uses a random list and we work from the first char to the last to see if we find a match.</p>\n",
    "<p>This is not an efficient way - start at the top and keep going.  How we define/code/cast top is a good question to ponder.</p>\n",
    "<p>Given this unsorted string, change the value of <code>letter_to_find</code> and see if it works!</p>"
   ]
  },
  {
   "cell_type": "code",
   "execution_count": 47,
   "metadata": {},
   "outputs": [
    {
     "name": "stdout",
     "output_type": "stream",
     "text": [
      "0: g - compare to e\n",
      "1: r - compare to e\n",
      "2: 6 - compare to e\n",
      "3: | - compare to e\n",
      "4: L - compare to e\n",
      "5: ? - compare to e\n",
      "6: M - compare to e\n",
      "7: E - compare to e\n",
      "8:  - compare to e\n",
      "9: Z - compare to e\n",
      "10: < - compare to e\n",
      "11: b - compare to e\n",
      "12: s - compare to e\n",
      "13: M - compare to e\n",
      "14: v - compare to e\n",
      "15: / - compare to e\n",
      "16: a - compare to e\n",
      "17: y - compare to e\n",
      "18: = - compare to e\n",
      "19: S - compare to e\n",
      "20: F - compare to e\n",
      "21: W - compare to e\n",
      "22: ~ - compare to e\n",
      "23: 4 - compare to e\n",
      "24: j - compare to e\n",
      "25: e - compare to e\n",
      "hit!\n",
      "26: X - compare to e\n",
      "27: 5 - compare to e\n",
      "28: E - compare to e\n",
      "29: C - compare to e\n",
      "30: W - compare to e\n",
      "31: X - compare to e\n",
      "32: z - compare to e\n",
      "33: > - compare to e\n",
      "34: v - compare to e\n",
      "35: ( - compare to e\n",
      "36: { - compare to e\n"
     ]
    }
   ],
   "source": [
    "import random\n",
    "\n",
    "letter_to_find = 'e'\n",
    "random_list = []\n",
    "\n",
    "\n",
    "# create some data\n",
    "for i in range(0, 37):\n",
    "    j = random.randint(40,127)\n",
    "    random_list.append(chr(j))\n",
    "    \n",
    "# now the brute force approach\n",
    "total_chars = len(random_list)\n",
    "for i in range(0, total_chars):\n",
    "    print(f\"{i}: {random_list[i]} - compare to {letter_to_find}\")\n",
    "    if letter_to_find == random_list[i]:\n",
    "        print(\"hit!\")"
   ]
  },
  {
   "cell_type": "markdown",
   "metadata": {},
   "source": [
    "<hr />\n",
    "<p>\n",
    "        <img src=\"images/DiscussIcon.png\" style=\"float:left; padding:10px; width:50px;\"/>\n",
    "        <p style=\"color: #3B7EA1;font-size:18px;\">Demo &amp; Discussion Example 2:</p>\n",
    "<p>Given a string of <i>n</i> characters/glyphs (everything in Unicode/UTF-8) called the text and a string of <i>m</i> chars/glyphs (m &lt;= n) called the <u>pattern</u>, find the substring of the text that matches the pattern.  In other words, we want to find <i>i - the leftmost character</i> of the matching substring in the text.</p>"
   ]
  },
  {
   "cell_type": "code",
   "execution_count": 10,
   "metadata": {},
   "outputs": [
    {
     "name": "stdout",
     "output_type": "stream",
     "text": [
      "Test version 1: English letters:  9\n",
      "confirm:  s\n",
      "Test version 2: Non-English Characters:  5\n",
      "Test version 2: Non-English Characters:  0\n"
     ]
    }
   ],
   "source": [
    "def str_match(text, pattern):\n",
    "    \"\"\"\n",
    "    This function will return the position of i - the leftmost character\n",
    "    of the matching substring in the text if the pattern exist, False otherwise\n",
    "    \"\"\"\n",
    "    n = len(text)\n",
    "    m = len(pattern)\n",
    "    for i in range(0, n-m+1):\n",
    "        j = 0\n",
    "        while j < m and pattern[j] == text[i+j]:\n",
    "            j += 1\n",
    "        if j == m:\n",
    "            return i\n",
    "    return False\n",
    "\n",
    "#here, the string has been cleaned of spaces and escape sequences \\n\\r, etc.\n",
    "text = \"ifyoudontspeakupwecanthearit\"\n",
    "pattern = \"speak\"\n",
    "print(\"Test version 1: English letters: \", str_match(text, pattern))\n",
    "print(\"confirm: \", text[str_match(text, pattern)])\n",
    "\n",
    "text = \"谁控制了媒体，谁就控制了思想\"\n",
    "pattern = \"体\"\n",
    "print(\"Test version 2: Non-English Characters: \", str_match(text, pattern))\n",
    "\n",
    "text = \"ਇਸ! ਜੇਕਰ ਇਹ ਕੋਰਸ ਬਹੁਤ ਆਸਾਨ ਹੈ ਤਾਂ ਤੁਸੀਂ ਓਵਰਕੁਆਲੀਫਾਈਡ ਹੋ ਅਤੇ ਗਲਤ ਕੋਰਸ ਵਿੱਚ ਹੋ।\"\n",
    "pattern = \"ਇਸ\"\n",
    "print(\"Test version 2: Non-English Characters: \", str_match(text, pattern))"
   ]
  },
  {
   "cell_type": "markdown",
   "metadata": {},
   "source": [
    "<hr />\n",
    "<p style=\"font-size: 18px; color:#3B7EA1;\">Practice: Bisection</p>\n",
    "<p>By dividing the size of the data set into the smaller chunks, we reduce the amount of data to be searched (making things faster) and ultimately finding an answer.  But there are limits: when do we know when to stop?  Work out the logic of the algorithm, then code it ... then find python shortcuts.  Using variables start = 0 and end = 10 ... </p>\n",
    "<p><b>Desired Output</b></p>\n",
    "<pre>\n",
    "start 0 letter 4  mid 3  end 5\n",
    "start 3 letter 4  mid 4  end 5\n",
    "</pre>"
   ]
  },
  {
   "cell_type": "code",
   "execution_count": 49,
   "metadata": {},
   "outputs": [
    {
     "name": "stdout",
     "output_type": "stream",
     "text": [
      "start 0 letter 4  mid 3  end 5\n",
      "start 3 letter 4  mid 4  end 5\n"
     ]
    }
   ],
   "source": [
    "import math\n",
    "\n",
    "start = 0\n",
    "end = 10\n",
    "\n",
    "# insert your answer here"
   ]
  },
  {
   "cell_type": "code",
   "execution_count": 8,
   "metadata": {},
   "outputs": [
    {
     "data": {
      "text/html": [
       "<button style=\"background-color:rgb(129,156,19);color:white;\" onclick=\"loadDoc('answers/w4_ex3.txt', '3')\">Bisection Answer</button><p id=\"showNotes3\"></p>\n"
      ],
      "text/plain": [
       "<IPython.core.display.HTML object>"
      ]
     },
     "metadata": {},
     "output_type": "display_data"
    }
   ],
   "source": [
    "%%html\n",
    "<button style=\"background-color:rgb(129,156,19);color:white;\" onclick=\"loadDoc('answers/w4_ex3.txt', '3')\">Bisection Answer</button><p id=\"showNotes3\"></p>"
   ]
  },
  {
   "cell_type": "markdown",
   "metadata": {},
   "source": [
    "<hr />\n",
    "<p style=\"font-size: 18px; color:#3B7EA1;\">Practice: Heron&rsquo;s Method</p>\n",
    "<p>You probably have encountered this before: when writing algorithms, how do we know when to stop processing the data?  For instance, how long should &pi; be? 3.14 or more?  How about square roots, like the &Sqrt;2, an irrational number?</p>\n",
    "<p>So we need to decide the level of accuracy (epsilon), balanced by the efficiency of our computing.  Given this, can you complete the demo of Heron&rsquo;s method for determining square roots? <i><code>y = &half;(a + <sup>x</sup>/<sub>a</sub>)</code></i></p>\n",
    "<p><i>x<sub>n+1</sub></i> = &half;(<i>x<sub>n</sub></i> + <i><sup>a</sup>/<sub>x<sub>n</sub></sub></i>)</p>"
   ]
  },
  {
   "cell_type": "code",
   "execution_count": 50,
   "metadata": {},
   "outputs": [
    {
     "name": "stdout",
     "output_type": "stream",
     "text": [
      "1: 3.25\n",
      "\tx0 = 4.5 - x1 3.25 = 1.25\n",
      "2: 3.0096153846153846\n",
      "\tx0 = 3.25 - x1 3.0096153846153846 = 0.24038461538461542\n",
      "3: 3.000015360039322\n",
      "\tx0 = 3.0096153846153846 - x1 3.000015360039322 = 0.009600024576062793\n",
      "\n",
      "Total steps: 4. Answer: 3.00002\n"
     ]
    }
   ],
   "source": [
    "test_number = 9\n",
    "accuracy = 5\n",
    "count = 1\n",
    "\n",
    "x0 = test_number/2\n",
    "difference = 1\n",
    "accuracy = 0.01\n",
    "while difference > accuracy:\n",
    "    x1 = 0.5 * (x0 + test_number / x0)\n",
    "    print(f\"{count}: {x1}\")\n",
    "    difference = x0 - x1\n",
    "    print(f\"\\tx0 = {x0} - x1 {x1} = {difference}\")\n",
    "    x0 = x1\n",
    "    count += 1\n",
    "    \n",
    "print(f\"\\nTotal steps: {count}. Answer: {round(x0, 5)}\")"
   ]
  },
  {
   "cell_type": "markdown",
   "metadata": {},
   "source": [
    "<blockquote>\n",
    "    <strong>Optional:</strong>\n",
    "    The same code can be broken into functions, too ... and there's usually more than one answer to a question with python ... \n",
    "<blockquote>"
   ]
  },
  {
   "cell_type": "code",
   "execution_count": 1,
   "metadata": {},
   "outputs": [],
   "source": [
    "def heron(a,tolerance):\n",
    "    '''Uses the Heron method to approximate the square root'''\n",
    "    oldGuess = 1.0\n",
    "    newGuess = (a / oldGuess + oldGuess) / 2\n",
    "    while abs(oldGuess - newGuess) > tolerance:\n",
    "        oldGuess = newGuess\n",
    "        newGuess = (a / oldGuess + oldGuess) / 2\n",
    "    return newGuess\n",
    "\n",
    "# -------------------------------- \n",
    "# We can break the function up into smaller functions if we want\n",
    "def next_Guess(a, oldGuess):\n",
    "    '''part of the Heron method for finding square roots'''\n",
    "    return (a / oldGuess + oldGuess) / 2\n",
    "\n",
    "def has_next_guess(a, tolerance, oldGuess):\n",
    "    '''predicate function for Heron method for finding square roots'''\n",
    "    newGuess = next_Guess(a, oldGuess)\n",
    "    return (abs(oldGuess -newGuess) > tolerance)\n",
    "\n",
    "def root_approx(a, tolerance):\n",
    "    '''Uses the Heron method to approximate the square root'''\n",
    "    guess = 1.0\n",
    "    while has_next_guess(a, tolerance, guess):\n",
    "        guess = next_Guess(a, guess)\n",
    "    return next_Guess(a,guess)\n"
   ]
  },
  {
   "cell_type": "markdown",
   "metadata": {},
   "source": [
    "<hr/>\n",
    "<hr />\n",
    "<div style=\"background-color: #003262; color:white; border-radius: 4px; padding: 8px;\">\n",
    "    <h2>Comprehensions</h2>\n",
    "</div>\n",
    "<p>\n",
    "        <img src=\"images/DiscussIcon.png\" style=\"float:left; padding:10px; width:50px;\"/>\n",
    "        <span style=\"color: #3B7EA1;font-size:18px;\">Demo</span>\n",
    "</p>\n",
    "<p>Start with understanding the logic, then look for more efficient techniques, here <b>comprehension</b>.</p>"
   ]
  },
  {
   "cell_type": "code",
   "execution_count": 51,
   "metadata": {},
   "outputs": [
    {
     "name": "stdout",
     "output_type": "stream",
     "text": [
      "outer loop x =  0\n",
      "\tinner loop y =  0\n",
      "\tinner loop y =  1\n",
      "\tinner loop y =  2\n",
      "outer loop x =  1\n",
      "\tinner loop y =  0\n",
      "\tinner loop y =  1\n",
      "\tinner loop y =  2\n",
      "outer loop x =  2\n",
      "\tinner loop y =  0\n",
      "\tinner loop y =  1\n",
      "\tinner loop y =  2\n"
     ]
    }
   ],
   "source": [
    "# nested while loops.\n",
    "x = 0\n",
    "y = 0\n",
    "\n",
    "while x < 3:\n",
    "    print(\"outer loop x = \",x )\n",
    "    y = 0\n",
    "    while y < 3:  \n",
    "        print(\"\\tinner loop y = \", y)\n",
    "        y += 1\n",
    "    x += 1"
   ]
  },
  {
   "cell_type": "code",
   "execution_count": 3,
   "metadata": {},
   "outputs": [
    {
     "name": "stdout",
     "output_type": "stream",
     "text": [
      "25\n",
      "100\n",
      "400\n",
      "900\n",
      "1024\n",
      "10000000000\n"
     ]
    }
   ],
   "source": [
    "# let's create a list\n",
    "my_list = [5, 10, 20, 30, 32, 100000]\n",
    "\n",
    "# a for approach\n",
    "i = 0\n",
    "for i in my_list:  # NOTE THIS LINE: the for statement\n",
    "    print(i**2)    # NOTE the i**2 and compare to below."
   ]
  },
  {
   "cell_type": "markdown",
   "metadata": {},
   "source": [
    "<p>Practice: Convert the above into a list comprehension.</p>"
   ]
  },
  {
   "cell_type": "code",
   "execution_count": 4,
   "metadata": {},
   "outputs": [],
   "source": [
    "# try your answer here"
   ]
  },
  {
   "cell_type": "code",
   "execution_count": 5,
   "metadata": {},
   "outputs": [
    {
     "name": "stdout",
     "output_type": "stream",
     "text": [
      "[25, 100, 400, 900, 1024, 10000000000]\n",
      "<class 'list'>\n"
     ]
    }
   ],
   "source": [
    "# Answer:\n",
    "# and the same output using a comprehension\n",
    "x = [i**2 for i in my_list]   # NOTE the syntax & location of for i ...\n",
    "print(x)                      # and where the i**2 is\n",
    "\n",
    "print(type(x))"
   ]
  },
  {
   "cell_type": "markdown",
   "metadata": {},
   "source": [
    "<hr />\n",
    "<strong>Demo question:</strong>\n",
    "<p>Notice we have on the left the output (x ** 2), an input (the for x in range(11) <i>and</i> two conditions ... </p>"
   ]
  },
  {
   "cell_type": "code",
   "execution_count": 6,
   "metadata": {},
   "outputs": [
    {
     "data": {
      "text/plain": [
       "[1, 4, 16, 25, 49, 64]"
      ]
     },
     "execution_count": 6,
     "metadata": {},
     "output_type": "execute_result"
    }
   ],
   "source": [
    "[x**2 for x in range(11) if (x**2) % 3 == 1 and x**2 < 100]"
   ]
  },
  {
   "cell_type": "code",
   "execution_count": 11,
   "metadata": {},
   "outputs": [
    {
     "data": {
      "text/html": [
       "<button style=\"background-color:rgb(129,156,19);color:white;\" \n",
       "onclick=\"loadDoc('answers/w4_ex4.txt', '4')\">List Comprehension Answer</button><p id=\"showNotes4\"></p>\n"
      ],
      "text/plain": [
       "<IPython.core.display.HTML object>"
      ]
     },
     "metadata": {},
     "output_type": "display_data"
    }
   ],
   "source": [
    "%%html\n",
    "<button style=\"background-color:rgb(129,156,19);color:white;\" \n",
    "onclick=\"loadDoc('answers/w4_ex4.txt', '4')\">List Comprehension Answer</button><p id=\"showNotes4\"></p>"
   ]
  },
  {
   "cell_type": "markdown",
   "metadata": {},
   "source": [
    "<hr />\n",
    "<p style=\"font-size: 18px; color:#3B7EA1;\">Practice:</p><p>adding test conditions to our list comprehension using <code>if</code>.  \n",
    "    Notice <code>j = [<span style=\"color:##003262;\">i</span>**2 for <span style=\"color:#003262;\">i</span> in my_list <b>if</b> <span style=\"color:#003262;\">i</span> &lt;= 30]</code></p>"
   ]
  },
  {
   "cell_type": "code",
   "execution_count": 56,
   "metadata": {},
   "outputs": [
    {
     "name": "stdout",
     "output_type": "stream",
     "text": [
      "25\n",
      "100\n",
      "400\n",
      "900\n",
      "------------------------------\n",
      "<class 'list'>\n",
      "[25, 100, 400, 900]\n"
     ]
    }
   ],
   "source": [
    "\"\"\" we don't want to overload our computer, so let's square the values \n",
    "    until we reach a cut-off point, say 30.  Come these two snippets that\n",
    "    create the same output.\n",
    "\"\"\"\n",
    "i = 0\n",
    "my_list = [5, 10, 20, 30, 32, 100000]\n",
    "\n",
    "for k in my_list:\n",
    "    if k <= 30:\n",
    "        print(k**2)\n",
    "\n",
    "print(\"-\"*30)\n",
    "\n",
    "j = [i**2 for i in my_list if i <= 30]\n",
    "print(type(j))\n",
    "print(j)"
   ]
  },
  {
   "cell_type": "markdown",
   "metadata": {},
   "source": [
    "<hr />\n",
    "<p style=\"font-size: 18px; color:#3B7EA1;\">Practice</p>\n",
    "<p>Describe the steps in this comprehension.  Can you turn it back into a for loop?</p>\n",
    "<pre>\n",
    "import string\n",
    "\n",
    "slice = \"...AAAACGCACGTTTTATTTACTATCCCCCUTAATCATCACGACA\"\n",
    "[\"Bad DNA: \"+ i + \" found\" for i in 'U' if i in slice]\n",
    "</pre></p>"
   ]
  },
  {
   "cell_type": "markdown",
   "metadata": {},
   "source": [
    "<hr />\n",
    "<p style=\"background-color: #003262; color:white; border-radius: 4px; padding: 8px; font-size:24px;\">Breakout Room\n",
    "</p>\n",
    "<a href=\"Activity/week_04_activity.ipynb\" target=\"new\">Activity</a><br />\n",
    "<a href=\"Activity/week_04_activity%20(solution).ipynb\" target=\"new\">Solution</a><br />"
   ]
  },
  {
   "cell_type": "markdown",
   "metadata": {},
   "source": [
    "<hr />\n",
    "<div style=\"background-color:#C4820E;color:white; padding:5px;\">\n",
    "    <strong>Appendix</strong>: See the Optional Resources folder or the notebooks mentioned above for advanced examples and deeper dives into the week&rsquo;s topics.</div>\n",
    "</p>"
   ]
  }
 ],
 "metadata": {
  "kernelspec": {
   "display_name": "Python 3 (ipykernel)",
   "language": "python",
   "name": "python3"
  },
  "language_info": {
   "codemirror_mode": {
    "name": "ipython",
    "version": 3
   },
   "file_extension": ".py",
   "mimetype": "text/x-python",
   "name": "python",
   "nbconvert_exporter": "python",
   "pygments_lexer": "ipython3",
   "version": "3.11.4"
  }
 },
 "nbformat": 4,
 "nbformat_minor": 4
}
