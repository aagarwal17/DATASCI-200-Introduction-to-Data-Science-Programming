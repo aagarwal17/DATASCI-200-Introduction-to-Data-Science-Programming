{
 "cells": [
  {
   "cell_type": "markdown",
   "metadata": {},
   "source": [
    "# Week 3 Activities\n",
    "\n",
    "###  1. Practice with Ranges"
   ]
  },
  {
   "cell_type": "markdown",
   "metadata": {},
   "source": [
    "Write range() statements to generate the following sequences. \n",
    "- It is OK to concatenate the output of multiple range() calls.\n",
    "- range(start, stop(exclusive), step)\n",
    "\n",
    "#### desired output:\n",
    "\n",
    "[1,2,3,4,5,6,7,8,9]\n",
    "\n",
    "[0,1,2,3,4,5,6,7,8,9,10]\n",
    "\n",
    "[2,4,6,8,10,12]\n",
    "\n",
    "[2,4,6,8,10,**12,13,14,15**,17,19,21]\n",
    "\n",
    "[-1,0,1,2,3]\n",
    "\n",
    "[10,9,8,7,6,5,4,3,2,1]\n",
    "\n",
    "\n"
   ]
  },
  {
   "cell_type": "code",
   "execution_count": 16,
   "metadata": {},
   "outputs": [
    {
     "name": "stdout",
     "output_type": "stream",
     "text": [
      "[1, 2, 3, 4, 5, 6, 7, 8, 9]\n",
      "[0, 1, 2, 3, 4, 5, 6, 7, 8, 9, 10]\n",
      "[2, 4, 6, 8, 10, 12]\n",
      "[2, 4, 6, 8, 10, 12, 13, 14, 15, 17, 19, 21]\n",
      "[-1, 0, 1, 2, 3]\n",
      "[10, 9, 8, 7, 6, 5, 4, 3, 2, 1]\n"
     ]
    }
   ],
   "source": [
    "# Insert your code here\n",
    "print([*range(1,10)])\n",
    "print([*range(0,11)])\n",
    "print([*range(2,13,2)])\n",
    "print([*range(2,13,2)] + [*range(13,16)] + [*range(17,22,2)])\n",
    "print([*range(-1,4)])\n",
    "print([*range(10,0,-1)])\n"
   ]
  },
  {
   "cell_type": "markdown",
   "metadata": {},
   "source": [
    "### 2. Working with lists and dicts\n",
    "\n",
    "Now, we will work with lists and while loops to solve one of the most popular \"introduction to data analysis\" problems - counting the words in a document. To start, let's write a simple while loop that will iterate through a Python list and will print the length of each word. Fill in the missing part of the code below to complete this.\n",
    "\n",
    "You will want to use the following functions:\n",
    "- list_variable.pop()\n",
    "- len(string_variable)\n",
    "\n",
    "#### Sample Output\n",
    "\n",
    "apple 5 <br>\n",
    "snowwoman 9 <br>\n",
    "penguin 7 <br>\n",
    "kitten 6 <br>\n",
    "jax 3 <br>\n",
    "apple 5 <br>"
   ]
  },
  {
   "cell_type": "code",
   "execution_count": 22,
   "metadata": {},
   "outputs": [
    {
     "name": "stdout",
     "output_type": "stream",
     "text": [
      "apple 5\n",
      "snowwoman 9\n",
      "penguin 7\n",
      "kitten 6\n",
      "jax 3\n",
      "apple 5\n"
     ]
    }
   ],
   "source": [
    "string_list = [\"apple\", \"jax\", \"kitten\", \"penguin\", \"snowwoman\", \"apple\"]\n",
    "\n",
    "while len(string_list) > 0:\n",
    "    current_string = string_list.pop()\n",
    "    print(current_string, len(current_string))"
   ]
  },
  {
   "cell_type": "markdown",
   "metadata": {},
   "source": [
    "Next, let's use a dictionary to turn every string in our list in the \"key\" of a key-value pair. For the value, we will temporarily use the number \"1\". Please update your code to create a blank dictionary and, for each word, store the value \"1\" in your dictionary, associated with that key.\n",
    "\n",
    "You will want to use the following syntax:\n",
    "- dictionary_name[key] = value\n",
    "\n",
    "#### Sample Output\n",
    "{'snowwoman': 1, 'kitten': 1, 'apple': 1, 'penguin': 1, 'jax': 1}"
   ]
  },
  {
   "cell_type": "code",
   "execution_count": 28,
   "metadata": {},
   "outputs": [
    {
     "name": "stdout",
     "output_type": "stream",
     "text": [
      "{'apple': 1, 'jax': 1, 'kitten': 1, 'penguin': 1, 'snowwoman': 1}\n"
     ]
    }
   ],
   "source": [
    "string_list = [\"apple\", \"jax\", \"kitten\", \"penguin\", \"snowwoman\", \"apple\"]\n",
    "count_dict = {}\n",
    "\n",
    "# Insert your code here\n",
    "count_dict = {word: 1 for word in string_list}\n",
    "\n",
    "print(count_dict)"
   ]
  },
  {
   "cell_type": "markdown",
   "metadata": {},
   "source": [
    "Now, we will update our code to add 1 to the dictionary each time a word is encountered. This will let us count the number of times we see each word in a very effective way!\n",
    "\n",
    "You will want to use the following function:\n",
    "- dict_var.get() \n",
    "\n",
    "#### Sample Output\n",
    "\n",
    "{'penguin': 1, 'jax': 1, 'kitten': 1, 'apple': 2, 'snowwoman': 1}"
   ]
  },
  {
   "cell_type": "code",
   "execution_count": 29,
   "metadata": {},
   "outputs": [
    {
     "name": "stdout",
     "output_type": "stream",
     "text": [
      "{'apple': 2, 'jax': 1, 'kitten': 1, 'penguin': 1, 'snowwoman': 1}\n"
     ]
    }
   ],
   "source": [
    "string_list = [\"apple\", \"jax\", \"kitten\", \"penguin\", \"snowwoman\", \"apple\"]\n",
    "\n",
    "# Insert your code here\n",
    "\n",
    "count_dict = {word: string_list.count(word) for word in string_list}\n",
    "\n",
    "print(count_dict)"
   ]
  },
  {
   "cell_type": "markdown",
   "metadata": {},
   "source": [
    "Great! We're almost done. Now, use the \"input\" command to let the user enter any number of words for your program to count!\n",
    "\n",
    "You can translate their input string into a list using the following function:\n",
    "- list_variable = string_variable.split()\n",
    "\n",
    "you can make the function case insensitive with \n",
    "- str.lower()\n",
    "\n",
    "#### Sample Output\n",
    "Enter a bunch of words to count: The Quick Brown fox ran into the FOX house <br>\n",
    "{'ran': 1, 'house': 1, 'quick': 1, 'brown': 1, 'fox': 2, 'the': 2, 'into': 1}"
   ]
  },
  {
   "cell_type": "code",
   "execution_count": 32,
   "metadata": {},
   "outputs": [
    {
     "name": "stdout",
     "output_type": "stream",
     "text": [
      "{'hdbhd': 3, 'sjjaka': 1, 'aaakla': 1}\n"
     ]
    }
   ],
   "source": [
    "inputtedString = input(\"Enter a bunch of words to count: \")\n",
    "stringList = inputtedString.lower().split()\n",
    "\n",
    "count_dict = {word: stringList.count(word) for word in stringList}\n",
    "\n",
    "print(count_dict)\n",
    "# Insert your code here"
   ]
  },
  {
   "cell_type": "markdown",
   "metadata": {},
   "source": [
    "### 3. The mutability exercise\n",
    " \n",
    "Your client wants a scoreboard that reports the rank (order), name and team color\n",
    "of contestants over a week long contest. They give you a list of dictionaries.\n",
    "The scoreboard is initialized with the predicted rankings.  Your job is to change \n",
    "the scoreboard to reflect changes that occured during the contest. \n",
    "\n",
    "* hint you may need to use copy or deep copy.\n",
    "\n",
    "Changes that occured:\n",
    "\n",
    "* On Tuesday, Fred decided that his name will be \"The Last Cyborg\" for the remainder of the competition.\n",
    "* On Wednesday Buba took first place pushing \"The Last Cyborg\" down one ranking.\n",
    "* On Thursday, Buba changed his team color to purple and his name to \"Rocky\"\n",
    "\n",
    "To do:\n",
    "- The scoreboard is represented as a set of dictionaries where order represents rank. Modfiy them to represent the 3 events above on the correct days. "
   ]
  },
  {
   "cell_type": "code",
   "execution_count": 42,
   "metadata": {},
   "outputs": [
    {
     "name": "stdout",
     "output_type": "stream",
     "text": [
      "Monday Scores:\n",
      "-------\n",
      "Name: Fred \tteamColor: Red\n",
      "Name: Layla \tteamColor: Yellow\n",
      "Name: Tammy \tteamColor: Green\n",
      "Name: Buba \tteamColor: Blue\n",
      "\n",
      "Tuesday Scores:\n",
      "-------\n",
      "Name: The Last Cyborg \tteamColor: Red\n",
      "Name: Layla \tteamColor: Yellow\n",
      "Name: Tammy \tteamColor: Green\n",
      "Name: Buba \tteamColor: Blue\n",
      "\n",
      "Wednesday Scores:\n",
      "-------\n",
      "Name: Layla \tteamColor: Yellow\n",
      "Name: The Last Cyborg \tteamColor: Red\n",
      "Name: Tammy \tteamColor: Green\n",
      "Name: Buba \tteamColor: Blue\n",
      "\n",
      "Thursday Scores:\n",
      "-------\n",
      "Name: Layla \tteamColor: Yellow\n",
      "Name: The Last Cyborg \tteamColor: Red\n",
      "Name: Tammy \tteamColor: Green\n",
      "Name: Buba \tteamColor: Blue\n",
      "\n",
      "Friday Scores:\n",
      "-------\n",
      "Name: Fred \tteamColor: Red\n",
      "Name: Layla \tteamColor: Yellow\n",
      "Name: Tammy \tteamColor: Green\n",
      "Name: Buba \tteamColor: Blue\n",
      "\n"
     ]
    }
   ],
   "source": [
    "from copy import deepcopy\n",
    "\n",
    "Contestants = [{\"name\":\"Fred\", \"teamColor\":\"Red\"}, \n",
    "               {\"name\":\"Layla\", \"teamColor\":\"Yellow\"}, \n",
    "               {\"name\":\"Tammy\", \"teamColor\":\"Green\"}, \n",
    "               {\"name\":\"Buba\", \"teamColor\":\"Blue\"}]\n",
    "\n",
    "\n",
    "RankMon=[Contestants[0],Contestants[1],Contestants[2],Contestants[3]]\n",
    "RankTues=RankMon\n",
    "RankWed=RankTues\n",
    "RankThurs=RankWed\n",
    "RankFri=RankThurs\n",
    "\n",
    "################################# Student start\n",
    "## modify the order/names here\n",
    "# * On Tuesday, Fred decided that his name will be \"The Last Cyborg\" for the remainder of the competition.\n",
    "# * On Wednesday Buba took first place pushing \"The Last Cyborg\" down one ranking.\n",
    "# * On Thursday, Buba changed his team color to purple and his name to \"Rocky\"\n",
    "#Contestants[0]['name'] = \"The Last Cyborg\"\n",
    "RankTues = [{\"name\":\"The Last Cyborg\", \"teamColor\":\"Red\"},Contestants[1],Contestants[2],Contestants[3]]\n",
    "RankWed = [Contestants[1],{\"name\":\"The Last Cyborg\", \"teamColor\":\"Red\"},Contestants[2],Contestants[3]]\n",
    "RankThurs = deepcopy(RankWed)\n",
    "\n",
    "\n",
    "################################# Student end\n",
    "\n",
    "#Output (this is a \"for\" loop, which you will learn next week)\n",
    "\n",
    "for day, var in [(\"Monday\", RankMon),(\"Tuesday\", RankTues),(\"Wednesday\", RankWed),\\\n",
    "                 (\"Thursday\", RankThurs),(\"Friday\", RankFri)]:\n",
    "    print (day + \" Scores:\")\n",
    "    print (\"-------\")\n",
    "    for n in range(len(var)):\n",
    "        print (\"Name: \" + (var[n]['name']), \"\\tteamColor: \" + var[n]['teamColor'])\n",
    "    print()    \n"
   ]
  },
  {
   "cell_type": "code",
   "execution_count": 2,
   "metadata": {},
   "outputs": [],
   "source": [
    "# Insert your code here"
   ]
  },
  {
   "cell_type": "markdown",
   "metadata": {},
   "source": [
    "#### Challenge question:\n",
    "- use **in** and **not in** to verifiy that Bubba was in the competition on Monday but not Friday\n",
    "** hint, you can use a loop to extract the names **\n"
   ]
  },
  {
   "cell_type": "code",
   "execution_count": null,
   "metadata": {
    "collapsed": true
   },
   "outputs": [],
   "source": [
    "# Insert your code here"
   ]
  },
  {
   "cell_type": "markdown",
   "metadata": {
    "collapsed": true
   },
   "source": [
    "## Congratulations! You finished."
   ]
  }
 ],
 "metadata": {
  "anaconda-cloud": {},
  "kernelspec": {
   "display_name": "Python 3",
   "language": "python",
   "name": "python3"
  },
  "language_info": {
   "codemirror_mode": {
    "name": "ipython",
    "version": 3
   },
   "file_extension": ".py",
   "mimetype": "text/x-python",
   "name": "python",
   "nbconvert_exporter": "python",
   "pygments_lexer": "ipython3",
   "version": "3.11.5"
  }
 },
 "nbformat": 4,
 "nbformat_minor": 1
}
