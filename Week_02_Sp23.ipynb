{
 "cells": [
  {
   "cell_type": "markdown",
   "metadata": {},
   "source": [
    "<h1 style=\"padding: 15px;border-radius: 3px;background-color:rgba(25, 25, 112, 1);color: white;\">\n",
    "<img src=\"images/chris.jpeg\" style=\"padding-right:10px; height:72px; float:left;\"/>\n",
    "    \n",
    "<h2 style=\"padding:12px;background-color:skyblue;font-size:2vw;border-radius:2px;\">Introduction to Objects, \n",
    "    Control-of-Flow<br />\n",
    "<span style=\"color:white;\">Week 2 Agenda: Review of the Basics\n",
    "</span>\n",
    "</h2>\n",
    "\n",
    "<p style=\"font-size:8px;\">Week 2: Jan 13, 2022; Updated Jan 14, 2023.  Had to downgrade to Python 3.8.</p>\n",
    "<p style=\"font-family: Baskerville, Palatino, serif; font-size:18px; line-height:24px;\">Contents:</p>\n",
    "<ul style=\"font-family: Baskerville, Palatino, serif; font-size:18px; line-height:24px;\">\n",
    "    <li>Objects</li>\n",
    "<li>Objects &amp; Types</li>\n",
    "<li>Numbers</li>\n",
    "<li>Variables</li>\n",
    "<li>Strings</li>\n",
    "<li>Formatting output</li>\n",
    "<li>Control of Flow:\n",
    "\t<ul><li>if ... else</li>\n",
    "\t<li>while loops</li>\n",
    "\t<li>for loops to iterate</li>\n",
    "        <li>match (3.10 and later)</li>\n",
    "</ul>\n",
    "</li>\n",
    "<li>Scope of the Lesson: Review of the Main Points</li>\n",
    "<li>Optional Examples</li>\n",
    "</ul>\n",
    "\n",
    "<hr />\n",
    "<h2 style=\"padding: 15px;border-radius: \n",
    "           3px;background-color:skyblue;\n",
    "           color: white;\">Objects</h2>\n",
    "    \n",
    "<p>Python is an object-oriented language - even tho the syntax may not appear to look that way.  For instance, we can declare variables in a just casual way: e.g., <code>x = 5</code> or <code>name=\"Tom\"</code> (equally <code>name = 'Tom'</code> [single or double quotes, as long as they&rsquo;re matched]).</p>\n",
    "    <p><strong>Main Point</strong> Python&rsquo;s syntax is loose and appears more like a functional script but in fact our variables are all <i>instances</i> of objects our scripts <i>inherit</i> from Python&rsquo;s own &ldquo;Object&rdquo; class.</p>\n",
    "    <p style=\"font-size:8px;\">... Making our scripts actually a protected copy of Python, with the name of our script, e.g., _myscript</p>"
   ]
  },
  {
   "cell_type": "markdown",
   "metadata": {},
   "source": [
    "<hr />\n",
    "<h2 style=\"color:cornflowerblue;\">About this week&rsquo;s Lesson</h2>\n",
    "<p style=\"font-size:8px;\">Updated Jan 14, 2023</p>\n",
    "<p style=\"font-family: Baskerville, Palatino, serif;font-size:18px;line-height:24px;\">\n",
    "    Given the range of experiences of students - from neopytes to highly experienced - we want to be sure to review this week&rsquo;s main points as well as introduce ideas that will be developed in later lessons.  There are a couple of take-aways:\n",
    "    <ol><li>Objects and OOD: python allows writing in a loose, functional style, but in fact we are calling copies of Python&rsquo;s root object&rsquo;s classes.</li>\n",
    "        <li>Programming languages build from <i>primitive</i> objects into <i>complex</i> ones: bits to bytes, to chars and strings; integers that are cast as 8-bit to the default 32 or 64-bit size to floats; from single variables to sets, lists, tuples, and dictionaries ... and more!</li>\n",
    "        <li>Extracting subsets of data by <i>slicing</i> is an exceptionally important task to master</li>\n",
    "        <li>In OOP languages since we <i>inherit</i> the object's properties, we may have access to many we don't even know about ... so learning to read object code shows us what <i>methods</i> belong to what object.</li>\n",
    "        <li>Objects are in a hierarchy - from the root object down the various branches of these trees (nodes)</li>\n",
    "        <li>Python objects have built-in variables that we can overwrite (change their default behavior) or poll to get information about the object.  These are <i>magic methods</i> and are indicated by double-underscores surrounding them, e.g., __doc__.</li>\n",
    "    </ol>\n",
    "<hr />"
   ]
  },
  {
   "cell_type": "markdown",
   "metadata": {},
   "source": [
    "<p style=\"font-family: Baskerville, Palatino, serif;font-size:18px;line-height:24px;\">What is an <strong>object</strong>?<br />\n",
    "\t<p>An <i>object</i> might be considered something from the real-world that we want to create in a computer.  For instance a \"pen\".  Identify the properties of the object and what it does: a pen has a length, measured in say inches; it can be a ball-point, felt-tip, or ink; the pen writes in a color (blue, black, orange, red...).  What can we do with the pen; what actions or behaviors are associated with the pen?: writing, throwing, even! </p>\n",
    "\t<p>In computing we built up such objects from a set of pre-definied primitive data type objects with their own properties and behaviors.  In object-oriented coding, there's a base Object that is the grandparent of them all and encapsulates all the properties and behaviors of that language, here python.  So python&rsquo;s object contains all the primitives we use: int, float, string, and so on ...  to build more complex \"things-in-the-world.\"</p>\n",
    "\t<p>Example: Say you&rsquo;re creating a <u>data dictionary</u> for a relational database for a company and have created some tables to hold salary and personnel data.  The individual \"person\" has a number of properties:</p>\n",
    "\t\t<table width='100%' style=\"font-size:12px;\">\n",
    "\t\t\t<tr>\n",
    "                <td style=\"text-align:left;\" width=\"14%\"><strong>concept</strong></td>\n",
    "                <td style=\"text-align:left;\"><strong>properties</strong></td>\n",
    "                <td style=\"text-align:left;\"><strong>data type</strong></td>\n",
    "                <td style=\"text-align:left;\" width=\"30%\"><strong>restrictions on the data</strong></td></tr>\n",
    "\t\t\t<tr><td style=\"text-align:left;\"> \n",
    "                name</td>\n",
    "                <td style=\"text-align:left;\">last_name</td>\n",
    "                <td style=\"text-align:left;\">String</td>\n",
    "                <td style=\"text-align:left;\">Required; at least 2 letters</td></tr>\n",
    "\t\t\t<tr>\n",
    "                <td style=\"text-align:left;\">name</td>\n",
    "                <td style=\"text-align:left;\">first_name</td>\n",
    "                <td style=\"text-align:left;\">String</td>\n",
    "                <td style=\"text-align:left;\">Required; at least 2 letters</td>\n",
    "            </tr>\n",
    "\t\t\t<tr><td style=\"text-align:left;\">id #</td>\n",
    "                <td style=\"text-align:left;\">id_no</td>\n",
    "                <td style=\"text-align:left;\">String</td>\n",
    "                <td style=\"text-align:left;\">Mayn&rsquo;t have been assigned yet, so optional; not a number because no math on it, so a String</td>\n",
    "            </tr>\n",
    "\t\t\t<tr>\n",
    "                <td style=\"text-align:left;\">salary</td>\n",
    "                <td style=\"text-align:left;\">salary</td>\n",
    "                <td style=\"text-align:left;\">Decimal</td>\n",
    "                <td style=\"text-align:left;\">We could use a float but that might be too large (say about 64-128 bits); this is required.</td>\n",
    "            </tr>\n",
    "\t\t\t<tr>\n",
    "                <td style=\"text-align:left;\">group</td>\n",
    "                <td style=\"text-align:left;\">is_manager</td>\n",
    "                <td style=\"text-align:left;\">Boolean</td>\n",
    "                <td style=\"text-align:left;\">Required; options are True or False</td>\n",
    "            </tr>\n",
    "\t\t\t<tr>\n",
    "                <td style=\"text-align:left;\" colspan=\"4\">And so on ... </td>\n",
    "            </tr>\n",
    "</table>\n",
    "<p>Identifying the properties of the objects we want will impact how we code - for instance, we may have to check that a required datum is actually available.\n",
    "</p>\n",
    "<img style=\"float:left; padding: 10px; width:400px;\" src=\"images/objects-1.jpg\"/>"
   ]
  },
  {
   "cell_type": "markdown",
   "metadata": {},
   "source": [
    "<hr />\n",
    "<h2 style=\"color:cornflowerblue;\">Recap of &ldquo;Primitive&rdquo; data types:</h2>\n",
    "<table width='100%'>\n",
    "\t\t\t<tr><td style=\"text-align:left;\" width=\"20%\">byte</td>\n",
    "\t\t\t\t<td style=\"text-align:left;\" width=\"22%\">b = bytes(\"Hey!\", encoding='utf-8')</td>\n",
    "\t\t\t\t<td style=\"text-align:left;\">Strings used in bytes must be &lt; 128, else need \"escape sequences\"; or use the .decode('utf-8') and .encode('utf-8') - covered later this term</tr>\n",
    "\t\t\t<tr><td style=\"text-align:left;\">char</td>\n",
    "                <td style=\"text-align:left;\"><span class=\"inlinepre\">x = 'c'</span>  or <span class=\"inlinepre\">x = \"c\"</span></td>\n",
    "                <td style=\"text-align:left;\">a char is a single byte, 8 0s and 1s, e.g., 00001110</td></tr>\n",
    "\t\t\t<tr><td style=\"text-align:left;\">string</td><td style=\"text-align:left;\">str = \"Greetings\"</td>\n",
    "                <td style=\"text-align:left;\">and we can use the prefered UTF-8 encoding (besides ASCII and others): str2 = \"明娃\"</td></tr>\n",
    "\t\t\t<tr>\n",
    "                <td style=\"text-align:left;\">integer</td><td style=\"text-align:left;\">x = 50</td>\n",
    "<td style=\"text-align:left;\">the size of ram for an int depends on the language and whether the int is signed or not, e.g. -50 versus 50</td></tr>\n",
    "\t\t\t<tr><td style=\"text-align:left;\">float</td>\n",
    "                <td style=\"text-align:left;\">y = 3.14159323</td>\n",
    "                <td style=\"text-align:left;\">like int, float sizes range from 128-255 bits long; Float is used to represent real numbers and is written with a decimal point dividing the integer and fractional parts. For example, 97.98, 32.3+e18, -32.54e100 all are floating point numbers. Python float values are represented as 64-bit double-precision values.\n",
    " Complex numbers are not used much in Python programming.</td></tr>\n",
    " <tr><td style=\"text-align:left;\">decimal</td>\n",
    "<td style=\"text-align:left;\">z = Decimal('0.1')</td>\n",
    "     \n",
    "<td style=\"text-align:left;\">Instead of using floats for financial/salary data, consider python&rsquo;s Decimal object.  As we&rsquo;ll see we import libraries for this purpose, e.g.,<br />\n",
    "<code>import decimal\n",
    "from decimal import Decimal\n",
    "hours = Decimal('39.2')\n",
    "rate = Decimal('23.44')\n",
    "print(hours * rate)</code>\n",
    "    </td>\n",
    "    </tr></table>\n",
    "<p>As we&rsquo;ll see shortly, from these primitives we&rsquo;ll advance to larger containers: lists, sets, tuples, and dictionaries.  We save the usual <code>array</code> object for NumPy.</p>"
   ]
  },
  {
   "cell_type": "markdown",
   "metadata": {},
   "source": [
    "<hr />\n",
    "<h2 style=\"padding: 15px;border-radius: 3px;background-color:skyblue;color: white;\" >Objects as concepts and then their representation in code.</h2>\n",
    "\n",
    "<p>Think of an object as possessing two parts: the <b>properties</b>, that are represented by the primitives above) and the <b>methods</b>, that is the actions that the object can do.  The programmer breaks down the concept and expresses it in ways a computer can execute.  [It&rsquo;s often overlooked but practice this <i>object decomposition</i> (aka \"facet analysis\") and <i>process decomposition</i> - how to do the job, step-by-step - in order to know exactly what your objects will need, can do, must do, and when they perform their tasks.\n",
    "</p>\n",
    "\n",
    "<img src=\"images/object-2.jpg\" style=\"width:270px;\"/>\n",
    "<p>So now let&rsquo;s consider python&rsquo;s data types as objects and compare to creating an object in the world, like a Cat!  First, note that all objects exhibit 3 behaviors: <b>encapsulation</b> (they hold all the info about themselves in a single object), <b>inheritance</b> (objects can pass on their behaviors to their children objects; the child object will have all the properties/behaviors of the parent plus its own; and <b>polymorphism</b> (more on that later).</p>\n",
    "\n",
    "<hr />\n",
    "\n",
    "<h3>String as an example of an object</h3>\n",
    "<p>When we declare a String variable in our scripts, we&rsquo;re actually making a copy of Python's own String class.</p>\n",
    "<p>A <span style=\"font-family:Courrier, monospaced\">String</span>  is a contiguous block of RAM, accessed by the first element in the String.  For instance, the <br />\n",
    "<code>str = \"Hello\"</code> <br />\n",
    "means there&rsquo;s a suite of chars <br />\n",
    "<code>[H][e][l][l][o]</code>.  And we can identify the location of the entire string and individual letters, by their <i>index</i>. \n",
    "</p>\n",
    "<img style=\"width:200px;\" src=\"images/object-3a.jpg\"/>\n",
    "<p>When we program a String, say s = &ldquo;peace&rdquo;, we&rsquo;re actually building upon Python&rsquo;s own String object. Consequently, <i>we inherit also all the properties &amp; behaviors of python&rsquo;s parent String object</i> - like getting the length, the data type, the id; converting the string to lowercase, or upper case, and changing the formatting (display) of the data on the stdout. \n",
    "    <br />\n",
    "    Given <code>s = 'wisconsin'</code>, python shows the <code>type()</code> of the object (e.g., <code>type(s)</code> outputs <code>&lt;class 'str'&gt;</code>).  Using our var s, adding the <code>__class__</code> (e.g., <code>s.__class__</code>) returns <code>&lt;class 'str'&gt;</code> likewise shows us our string s is of the class \"str\". We can ask, too, whether a variable is an instance of some class; here <code>issinstance(s, str)</code> returns True.  Our variable s, tho, is not a subclass of str.  [More on this later this term, so let's not fixate on it yet.]\n",
    "</p>\n",
    "<p>Examples:<br />\n",
    "\t<code>s = \"Roar!\"</code><br />\n",
    "\t<code>print(s.upper())</code><br />\n",
    "\t<code>print(s.isascii())</code>\n",
    "<p>\n",
    "<p style=\"font-family:Baskerville, Palatino, serif; font-size:18px;line-height:24px;\">Note: python code lets us code and assign/test/manipulate variables.  It lets also inspect the object itself through the __variables__</p>\n",
    "<p>    \n",
    "Note words with () after the period (or dot) belong to the class; others belong to a class higher up the hierarchy - so id() and type() are methods that a parameter - the object, here a string instance.<br />\n",
    "\t<code>print(id(s))</code><br />\n",
    "\t<code>print(type(s))</code><br />\n",
    "Note that the &ldquo;s&rdquo; is our variable, an &ldquo;instance&rdquo; (or copy) of Python&rsquo;s &ldquo;String object.&rdquo;</p>\n",
    "<p>\n",
    "    The dot <code>.</code> tells us that what follows is a method (or behavior) that will affect the object (the \"s\" on the left).  So, s.upper() converts the data in \"s\" to uppercase and then we pass the results to the print() command, which in turn shows the data on the currently selected standard output.  </p>\n",
    "<pre>\n",
    "ClassName<span style=\"color:red;\">.</span>method_belonging_to_that_class(<span style=\"color:silver;\">arguments, if any</span>)</pre>\n",
    "<pre>my_string<span style=\"color:red;\">.</span>upper()</pre>\n",
    "<br />\n",
    "    \n",
    "<p>Note the very useful <code>id()</code> and <code>type()</code>.  Every variable has its own \"name space\" - the \"name\" of our variable is stored in a kind of secret database for python; the value of the data is stored in \"object space\" - a part of RAM just for our variable.  We can ask python for the unique id of our variables <i>and</i> we can inquire about the data type (e.g., <code>type()</code>.  Important: python lets us query/test the variables we're using, as well as convert our variables as we need to ... we'll find this to be useful when (a) writing documentation of our scripts and (b) testing data before incorporating them.</p>\n"
   ]
  },
  {
   "cell_type": "markdown",
   "metadata": {},
   "source": [
    "<hr />\n",
    "<img src=\"images/object-4.jpg\" style=\"width:200px;\">\n",
    "<h2 style=\"padding: 15px;border-radius: 3px;background-color:skyblue;color: white;\">From primitives to complex: creating our own objects</h2>\n",
    "<p style=\"color:maroon;font-size:2vw;\">More on this after around week 7.  For the moment, we just want to be introduced to objects in general and the many features built-into objects that we can use.</p>\n",
    "<p> Think about using these primitives to create our own classes.  We review OOP in detail later this term.  For the moment, we want to note that we identify things in the world and build a base class - here, a cat.  Once we know our primitive datatypes, we create objects we want.  For instance, a cat!\n",
    "</p>\n",
    "<p>We&rsquo;ll see later this term, that python&rsquo;s syntax for its built-in objects is straight-forward: <code>i = 5</code> (no quotes) signals to python that a variable (i) is <u>declared</u> ... and only after the <code>= 5</code> is read is the variable <u>instantiated</u>\".\n",
    "</p>\n",
    "<blockquote>\n",
    "    <p>Note the different outputs of these commands; one where the variable t is declared <i>and</i> instantiated and one where another variable is only declared:</p> \n",
    "</blockquote>  \n"
   ]
  },
  {
   "cell_type": "code",
   "execution_count": 31,
   "metadata": {},
   "outputs": [
    {
     "name": "stdout",
     "output_type": "stream",
     "text": [
      "t has a value of 5\n",
      "\t t is declared and instantiated.\n",
      "data type is <class 'int'> and id is 4475255616\n",
      "––––––––––––––––––––––––––––––––––––––––\n",
      "s is declared, but not instantiated.\n",
      "s's data type is <class 'NoneType'> and id 4475113104\n"
     ]
    }
   ],
   "source": [
    "t = 5\n",
    "print(f\"t has a value of {t}\")\n",
    "if (t):\n",
    "    print(\"\\t t is declared and instantiated.\")\n",
    "    print(f\"data type is {type(t)} and id is {id(t)}\")\n",
    "\n",
    "print(\"–\"*40)\n",
    "\n",
    "s = None;\n",
    "if (s):\n",
    "    print(\"s is declared and instantiated.\")\n",
    "    print(type(s))\n",
    "else:\n",
    "    print(\"s is declared, but not instantiated.\")\n",
    "    print(f\"s\\'s data type is {type(s)} and id {id(s)}\")"
   ]
  },
  {
   "cell_type": "markdown",
   "metadata": {},
   "source": [
    "<p>These two parts of a variable's life are important because sometimes we need to declare a variable long before we instantiate it ... and there are many times when we keep a variable but swap out its value.</p>\n",
    "<p>A side point: our scripts are read by python (or any interpreter) from the first line to the last, moving down a straight line of one-by-one instructions.  Later we'll create functions.  A function usually accepts some input and performs some work and then returns a result.  An object, as we'll see, will encapsulate such functions (called methods in that case) and each function will below only to a specific copy of an object. ... In other words, as we'll see, learning to write code is at first linear - from top to bottom.  With functions and objects our code may seem to jump around!  So learning to know what variable is declared when and by what object, then it is used and its value changed, and how objects communicate with each other become critical in object-oriented programming.</p>"
   ]
  },
  {
   "cell_type": "code",
   "execution_count": null,
   "metadata": {},
   "outputs": [],
   "source": [
    "class Cat(name, id)\n",
    "    this.name = name\n",
    "    this.id = id\n",
    "    \n",
    "# ...\n",
    "mycat = Cat(\"Suky\", 14)"
   ]
  },
  {
   "cell_type": "markdown",
   "metadata": {},
   "source": [
    "<hr />\n",
    "<h2 style=\"color:cornflowerblue;\"><b>Optional</b>: The Object Hierarchy</h2>\n",
    "<p>We've seen already the use of \"id()\" and \"type()\" to query the object... where are these methods?  They're built into the object itself!  Most of the time in OOP we aren't aware of the many properties/methods we inherit!  Python is very liberal in the tools for learning more about objects.  Since all objects in python descend for a parent \"Object\", the objects we use provide us ways to inquire about our objects, too.  Here is an example of the <b>Python Object Hierarchy</b>.   The main points  to notice are (a) the way the objects lead up a chain to a parent object [we use this for converting one data type into another, called \"type casting\"] and (b) that many of the hidden info about our objects use a special syntax, the <u>dunder</u>, or \"double-underscore\".  For instance, notice the <span class=\"inlinepre\">__</span> around terms like \"class\", \"doc\", \"id\", \"type\" and so on ... [we'll learn later these are called <i>magic methods</i>].</p>\n",
    "<a href=\"images/object-hierarchy.png\" target=\"new\"><img style=\"width:80%\"; src=\"images/object-hierarchy.png\" /></a>."
   ]
  },
  {
   "cell_type": "markdown",
   "metadata": {},
   "source": [
    "<hr />\n",
    "<h2 style=\"padding: 15px;border-radius: 3px;background-color:skyblue;color: white;\">Expressions</h2>\n",
    "<p>Declaring a variable is a two-part activity: the declaration (the variable name) and the instantiation (the value assignment).  Once we have variables in python we can do all kinds of cool things.  <i>Unlike</i> many other languages, python allows using arithmetic expressions on strings and numbers!  The reason is because python sees letters and graphemes not as figures but as actual numbers!  Our letter A is a code (decimal 67), so adding \"A\" + \"hello\" won&rsquo;t cause an error.  Let&rsquo;s look at the <b>expressions</b> used in any language, including python.</p>\n",
    "<table width=\"100%\">\n",
    "\t<tr style=\"text-align:left;\" >\n",
    "\t\t<td style=\"text-align:left;\" width=\"33%\"><i>type</i></td>\n",
    "\t\t<td style=\"text-align:left;\" ><i>example</i></td>\n",
    "\t</tr>\n",
    "\t<tr style=\"text-align:left;\" >\n",
    "\t\t<td style=\"text-align:left;\" >integer (int)</td>\n",
    "\t\t<td style=\"text-align:left;\" >x <code>=</code> 5</td>\n",
    "\t</tr>\n",
    "\t<tr>\n",
    "\t\t<td style=\"text-align:left;\" >float</td>\n",
    "\t\t<td style=\"text-align:left;\" >z <code>=</code> 3.42342</td>\n",
    "\t</tr>\n",
    "\t<tr>\n",
    "\t\t<td style=\"text-align:left;\" >string</td>\n",
    "\t\t<td style=\"text-align:left;\" ><code>s = \"covid\"</code></td>\n",
    "\t</tr>\n",
    "\t<tr>\n",
    "        <td style=\"text-align:left;\" >Addition: <code>+</code></td>\n",
    "\t\t<td style=\"text-align:left;\" >addition;  Add numbers (floats/ints) and concatenate strings, e.g., <code>a = \"cat\", b = \"dog\", c = a + b</code></td>\n",
    "\t</tr>\n",
    "\t<tr>\n",
    "        <td style=\"text-align:left;\" >Subtraction: <code>-</code></td>\n",
    "        <td style=\"text-align:left;\" >Subtraction of numbers; <code>5 - 2, x - 32</code></td>\n",
    "\t</tr>\n",
    "\t<tr>\n",
    "        <td style=\"text-align:left;\" >Multiplication: <code>*</code></td>\n",
    "\t\t<td style=\"text-align:left;\" >5 * 2 [equals 10]</td>\n",
    "\t</tr>\n",
    "\t<tr>\n",
    "\t\t<td style=\"text-align:left;\" >Exponent: <code>**</code>\n",
    "\t\t<td style=\"text-align:left;\" >5 ** 2  [equals 25]</td>\n",
    "\t</tr>\n",
    "\t<tr>\n",
    "        <td style=\"text-align:left;\" >Equivelancy: <code>==</code></td>\n",
    "\t\t<td style=\"text-align:left;\" >x == 5.  This is important: the equivalency operator returns a T/F.  If x is indeed equal to 5 (that is, does the variable \"x\" point to the same value of \"5\" in RAM, then the equation is \"true\", else false.  Python uses both the \"true/false\" as well as the actual value of variables in many ways!  We'll build on this to make our code leaner. (Later)</td>\n",
    "\t</tr>\n",
    "\t<tr>\n",
    "        <td style=\"text-align:left;\" >Cumulative: <code>+=</code></td>\n",
    "\t\t<td style=\"text-align:left;\" >i += 5, means take the value of i and add 5 to it ... </td>\n",
    "\t</tr>\n",
    "\t<tr>\n",
    "        <td style=\"text-align:left;\" >Subtractive: <code>-=</code></td>\n",
    "\t\t<td style=\"text-align:left;\" >i += 5, means take the value of i and reduce it by 5 ... These are used extensively in counting... </td>\n",
    "\t</tr>\n",
    "\t<tr>\n",
    "\t\t<td style=\"text-align:left;\" >Integer division: <code>//</code></td>\n",
    "        <td style=\"text-align:left;\" ><code>5 // 2</code> returns not 2.5 but 2.</td>\n",
    "\t</tr>\n",
    "\t<tr>\n",
    "        <td style=\"text-align:left;\" >Modulus: <code>%</code></td>\n",
    "\t\t<td style=\"text-align:left;\" >Let&rsquo;s say x = 6; x % 2 returns those values w/ no remainder.  This technique is commonly used in web design and interface design to alternate lines or other point out a particular line.</td>\n",
    "\t</tr>\n",
    "</table>\n",
    "<blockquote>Quick review:<br />\n",
    "\tAre these legitimate?  <br />\n",
    "\t<code>a = \"hi!\"</code><br />\n",
    "\t<code>b = \"hey y'all\"</code><br />\n",
    "\t<code>print(a + b)</code><br />\n",
    "\t<code>print(a - b)</code><br />\n",
    "    <code>print(\"hi y'all\")</code><br />\n",
    "    <code>print('hi, y'all')</code><br />\n",
    "    <code>print(\"\\\\hey!//\")</code><br />\n",
    "    <code>print(\"dilon o\\'toole\")</code>\n",
    "</blockquote>"
   ]
  },
  {
   "cell_type": "code",
   "execution_count": 14,
   "metadata": {},
   "outputs": [
    {
     "name": "stdout",
     "output_type": "stream",
     "text": [
      "hey y'all\n"
     ]
    }
   ],
   "source": [
    "print(\"hey y'all\")"
   ]
  },
  {
   "cell_type": "markdown",
   "metadata": {},
   "source": [
    "<!-- PAGE -->\n",
    "<hr />\n",
    "<h2 style=\"padding: 15px;border-radius: 3px;background-color:skyblue;color: white;\" >Using String; input</h2>\n",
    "<p>Python makes it easy to mix-and-match in ways other languages would reject.  \n",
    "    <br /><b>Concatenation</b>: For example, the string print(\"cat\" + \"dog\") will output \"catdog\".  The + is not viewed as an arithmatical addition but rather a kind of \"go find 'dog' and go find 'cat'\" and print them together.</p>\n",
    "<p>Because python's so cool with strings, we can use it to our advantage.  For example, the multiplication of chars ... <code>'_'*20</code> will output <code>___________________</code>. </p>\n",
    "<p>Keeping in mind the idea of the python hierarchical object tree, we can take any object, say a char, and have it promoted up through the tree to the base Object and then down the tree to the Integer branch ... to convert a char into an integer.  Programmers rely on this <b>type casting</b> to (a) control input from the end-user and (b) to convert data types to something we can process.</p>\n",
    "<p>Here's an example: say you want the end-user to enter a user-name.  That user name is going to be a String.  But what if you want to ensure that the user enters a number?  (Like 007?)  Below we see two input options: one that just accepts any input from the stdin (standard input - the keyboard) and one that <i>converts</i> the input from a String to an integer:<br />\n",
    "\t<pre>s = input(\"What's your user code?\")</pre> \n",
    "\t<pre>s = int(input(\"What's your user code?\")</pre>\n",
    "The second line accepts input (from the keyboard) and converts the input into an integer.  This is called <b>error correction on input</b> - it means we try to prevent the end-user from entering data that will cause an error and/or from entering data that we have to check, requiring a lot more code.  It is common in web-programming to check that a value is set and that it isn&rsquo;t a null (e.g.,look at php's <span style='font-family:Courrier'>isset()</span> and more.)</p>"
   ]
  },
  {
   "cell_type": "markdown",
   "metadata": {},
   "source": [
    "<hr />\n",
    "<h3 style=\"color:cornflowerblue;\">About this example:</h3>\n",
    "<ol style=\"font-size:18px;line-height:24px;font-family:Baskerville,Palatino,serif;\">\n",
    "    <li>Here we&rsquo;ll review creating some variables <i>and</i> use python to inspect the object (e.g., using type and id).</li>\n",
    "    <li>We&rsquo;ll convert a string object using different castings - here, turning a letter into its ASCII/UTF-8 equivalent and back again.</li>\n",
    "    <li>Ask yourself why you&rsquo;d need to know the data type of a variable?  What is it&rsquo;s ID?  Why know what class it belongs to?  Remember the difference between name space and object space.</li>\n",
    "    </ol>"
   ]
  },
  {
   "cell_type": "code",
   "execution_count": 33,
   "metadata": {},
   "outputs": [
    {
     "name": "stdout",
     "output_type": "stream",
     "text": [
      "What is the datatype of variable 's'? <class 'str'>\n",
      "What is it's unique id in object space? 140309613400944\n",
      "\n",
      "Test: what's the ordinal value of letter 'f'?: 102\n",
      "convert the ord to char: f\n",
      "———————————————————————————————————————— \n",
      "Quick look at other encodings, such as binary\n",
      "Binary or bit-masks are very common in compression, text retrieval, BLOBs\n",
      "first let's encode a string 'Hello' as bytes: b'Hello'\n",
      "Having converted the bytes to binary integers now show them: \n",
      "0b100100001100101011011000110110001101111\n",
      "———————————————————————————————————————— \n",
      "Use the same techniques on numbers:\n",
      "<class 'int'>\n",
      "<class 'str'>\n",
      "variable as integer: 10\n",
      "same variable cast as a floating point value: 10.0\n"
     ]
    }
   ],
   "source": [
    "# example:\n",
    "s = \"Greetings\"  # this is a string object instance.\n",
    "\n",
    "# what is the \"type\" of object?\n",
    "print(f\"What is the datatype of variable 's'? {type(s)}\")\n",
    "\n",
    "# what is the object's unique ID while running the script?\n",
    "print(f\"What is it's unique id in object space? {id(s)}\")\n",
    "\n",
    "# convert a character to an integer:\n",
    "x = ord('f')\n",
    "print(f\"\\nTest: what's the ordinal value of letter 'f'?: {ord('f')}\")\n",
    "\n",
    "# say, what code makes the letter 'f'?\n",
    "print(f\"convert the ord to char: {chr(x)}\")\n",
    "\n",
    "print(\"——\"*20,\"\\nQuick look at other encodings, such as binary\")\n",
    "print(\"Binary or bit-masks are very common in compression, text retrieval, BLOBs\")\n",
    "\n",
    "# other encodings: binary, octal, hexidecimal\n",
    "import binascii\n",
    "# 1) multisteps: convert string to byte_array\n",
    "my_bytes = \"Hello\".encode()\n",
    "print(f\"first let's encode a string 'Hello' as bytes: {my_bytes}\")\n",
    "\n",
    "# 2) convert to a binary integer ... (remember \"bigendian\"?)\n",
    "my_ints = int.from_bytes(my_bytes, \"big\")\n",
    "\n",
    "# 3) Convert to string of binary chars (0,1)s\n",
    "my_binary_string = bin(my_ints)\n",
    "\n",
    "# 4) let's see the results:\n",
    "print(\"Having converted the bytes to binary integers now show them: \")\n",
    "print(my_binary_string)\n",
    "\n",
    "print(\"——\"*20,\"\\nUse the same techniques on numbers:\")\n",
    "\n",
    "# let's say we have data that are integers but want to make them into a string:\n",
    "j = 10\n",
    "print(type(j))\n",
    "print(type(str(j)))\n",
    "\n",
    "# very often we get data that's in string but must convert to int or float\n",
    "k = '10'\n",
    "print(f\"variable as integer: {int(k)}\")\n",
    "print(f\"same variable cast as a floating point value: {float(k)}\")"
   ]
  },
  {
   "cell_type": "markdown",
   "metadata": {},
   "source": [
    "<hr />\n",
    "<h2 style=\"padding: 15px;border-radius: 3px;background-color:skyblue;color: white;\">String Slicing!</h2>\n",
    "<p>One of the most important tools you&rsquo;ll have is string splicing.  It&rsquo;s fantastically useful both because in real practice, you'll want to extract subsets of data and because it demonstrates a standard python syntax practice:  <code style=\"color:red;\">start : stop : step</code>.   Remember the image of a python string starting with 0 and going to some point <i>n</i> .  We rely (a lot) on those positions to read the data.</p>\n",
    "<p>Note!  Often we read data from the \"top to the bottom\" (\"read from the top until there are no more records\") or from the \"bottom to the top\" (\"read data from the bottom of the file or result set until we reach the top, 0\").  The idea of moving forwards or backwards in a set of data is <i>vital</i>; with Python&rsquo;s string splicing we get the sense of reading this way as well as finding subsections.  Critical.  \n",
    "\t<br />\n",
    "\tUsing <code>s = 'python'</code> as our example ... \n",
    "</p>\n",
    "<table width='100%'>\n",
    "\t<tr>\n",
    "\t\t<td style=\"text-align:left;\" width=\"20%\">syntax</td><td style=\"text-align:left;\">notes</td></tr>\n",
    "\t<tr><td style=\"text-align:left;\"> <code>[0]</code></td>\n",
    "        <td  style=\"text-align:left;\">start reading the string, just the first letter - in slot #0, e.g., print(<code>s[0])</code> returns only \"p\"</td></tr>\n",
    "\t<tr>\n",
    "        <td style=\"text-align:left;\" ><code>[-1]</code></td>\n",
    "        <td style=\"text-align:left;\">one letter from the <u>end</u> of the string; e.g., print(<code >s[-1]</code>); returns \"n\"</td></tr>\n",
    "\t<tr><td  style=\"text-align:left;\" colspan=\"2\"><i>Notice in these examples we identify the start and stop and/or the stop/stop/step conditions.</i></td></tr>\n",
    "\t<tr>\n",
    "        <td style=\"text-align:left;\" ><code>print(s[-1])</code></td>\n",
    "        <td style=\"text-align:left;\">one letter from the <u>end</u> of the string; e.g., print(s[-1]); returns \"n\"</td></tr>\n",
    "\t<tr><td style=\"text-align:left;\" ><code>[0:3]</code></td>\n",
    "        <td style=\"text-align:left;\">prints starting from the start (0) to 3 (2nd char) e.g., print(s[0:3]); returns \"pyt\"</td></tr>\n",
    "\t<tr><td style=\"text-align:left;\" ><code>[1:-1]</code></td>\n",
    "        <td style=\"text-align:left;\">from letter 1 to the next-to-last-letter; e.g., print(s[1:-1]); returns \"ytho\"</td></tr>\n",
    "\t<tr><td style=\"text-align:left;\" ><code>[1:5:2]</code></td>\n",
    "        <td style=\"text-align:left;\">print from letter 1 to letter 2, but only 2 at a time!; returns \"yh\"</td></tr>\n",
    "\t<tr><td style=\"text-align:left;\" ><code>[:-1]</code></td>\n",
    "        <td style=\"text-align:left;\">bring from the beginning (by default from the :) to the second from last letter; returns \"pytho\"</td></tr>\n",
    "\t<tr><td style=\"text-align:left;\" ><code>[:]</code></td>\n",
    "        <td style=\"text-align:left;\">prints the entire string - python relies on <i>lots</i> of shortcuts like this!</td></tr>\n",
    "\t<tr><td style=\"text-align:left;\" ><code>[::-1]</code></td>\n",
    "        <td style=\"text-align:left;\">Imporant: this prints from the start : with the default steps : but start from the end -1.</td></tr></table>\n",
    "<hr />\n",
    "<p>Python has several ways to format a string.  Notice the syntax on this command:<br />\n",
    "    <br />\n",
    "<code>print(\"A 16% tip would be: ${:.2f}\".format(tip))<br />\n",
    "print(\"The total including tip would be: ${:.2f}\".format(total))</code>\n",
    "<br /><br />The .format accepts the \"total\" parameters and passes it into the placeholder {}, with 2 decimal places (the .2) for the floating point (f) value that&rsquo;s passed.</p>\n",
    "<p>Another is the f-string: <code>print(f...)</code> approach.  E.g., say we have to variables \"a\" and \"b\", we can use <code>print(f\"{a} is first and {b} is second.\")</code>"
   ]
  },
  {
   "cell_type": "code",
   "execution_count": 30,
   "metadata": {},
   "outputs": [
    {
     "name": "stdout",
     "output_type": "stream",
     "text": [
      "yh\n",
      "n\n",
      "------------------------------ \n",
      "the printf command: \n",
      "\tMy cat  likes to eat too much for dinner.\n",
      "\tYou have 25 left.\n",
      "\n",
      "Older style using .format().  Hierynomous receives a(n) 50.20\n"
     ]
    }
   ],
   "source": [
    "# let's check on those outputs ...\n",
    "s = \"python\"\n",
    "print(s[1:5:2])\n",
    "\n",
    "print(s[-1]) # should return 'n'\n",
    "\n",
    "print(\"-\"*30,\"\\nthe printf command: \")\n",
    "\n",
    "a = \"My cat \"\n",
    "b = 'too much'\n",
    "print(f\"\\t{a} likes to eat {b} for dinner.\")\n",
    "\n",
    "# and can integrate into a string variable, too!\n",
    "chances = 25\n",
    "message = f\"\\tYou have {chances} left.\"\n",
    "print(message)\n",
    "\n",
    "x = 50.2  # out of a total 40.\n",
    "print(\"\\nOlder style using .format().  Hierynomous receives a(n) {:.2f}\".format(x))\n",
    "\n",
    "# is the : needed?  Try the line above w/o it and see."
   ]
  },
  {
   "cell_type": "markdown",
   "metadata": {},
   "source": [
    "<hr />\n",
    "<h2 style=\"padding: 15px;border-radius: 3px;background-color:skyblue;color: white;\" >Scope &amp; Visibility</h2>\n",
    "<p>Variables are limited in their &ldquo;scope&rdquo; - that is, what parts of our scripts can read them.  The most widely visible variable is called a <u>global</u> variable.  This means we can access it anywhere in our code - but it means, too, that we may accidently change its value!   A rule of thumb is to avoid global variables (unless you have a legitimate reason for them - and they do exist, especially in GUI programming).</p>\n",
    "<p>Variables take up room in RAM - so we try to limit their space by including them in a function, or &ldquo;local.&rdquo;   We&rsquo;ll see more about this next lesson. </p>\n",
    "<p>The point is this: a rule of thumb is to use variables in a function so we get as a result only data we need (e.g., the result of a function might calculate a new tax rate - we don't need our code to know all the nuts-and-bolts of this calculation); the second rule of thumb is regardless of what and how we code, we must consider the <b>scope and visibility</b> of our variables.  This means what parts of our code can see and alter a variable's value and when might a variable cease to be useful.  It may seem obvious at first that x = 5 but what if other parts of your code have a variable called \"x\" and that value is 3999999?!</p>\n",
    "<p>The notion of scope and visibilty and variable names is of primary interest when we start to import 3rd party libraries, where the variables names and functions may conflict with our code.</p>\n",
    "<p>Side note: there once was a famous XML library called xerces.  IBM relied on this library (as did most of the programming world).  One day IBM updated some of the xerces library ... but didn&rsquo;t tell anyone!  The result was conflicts in Java programming code and a lot of the world&rsquo;s code got stuck &rsquo;cause the variable names and behaviors overwrote local code!  Yikes!</p><hr/> \n",
    "<p style=\"color:red;\">Optional</p>\n",
    "<hr />\n",
    "<p><i>Side note</i>: Unlike other languages Python uses \"built-in\" scopes, sometimes referred to as <em>LEBG</em>: local, enclosed, built-in, global.  \n",
    "</p><p>Python Scope vs Namespace (from RealPython): \n",
    "In Python, the concept of scope is closely related to the concept of the namespace. As you’ve learned so far, a Python scope determines where in your program a name is visible. Python scopes are implemented as dictionaries that map names to objects. These dictionaries are commonly called namespaces. These are the concrete mechanisms that Python uses to store names. They’re stored in a special attribute called <code>.__dict__</code>.  Notice the dunders: you can map the attribute here back to the python hierarchical object tree and see a host of similarly-named attributes that reveal lots about the object\n",
    "</p><p>\n",
    "Names at the top level of a module are stored in the module’s namespace. In other words, they’re stored in the module’s .__dict__ attribute. Take a look at the following code:"
   ]
  },
  {
   "cell_type": "code",
   "execution_count": 2,
   "metadata": {},
   "outputs": [
    {
     "data": {
      "text/plain": [
       "dict_keys(['__name__', '__doc__', '__package__', '__loader__', '__spec__', 'addaudithook', 'audit', 'breakpointhook', 'callstats', '_clear_type_cache', '_current_frames', 'displayhook', 'exc_info', 'excepthook', 'exit', 'getdefaultencoding', 'getdlopenflags', 'getallocatedblocks', 'getfilesystemencoding', 'getfilesystemencodeerrors', 'getrefcount', 'getrecursionlimit', 'getsizeof', '_getframe', 'intern', 'is_finalizing', 'setcheckinterval', 'getcheckinterval', 'setswitchinterval', 'getswitchinterval', 'setdlopenflags', 'setprofile', 'getprofile', 'setrecursionlimit', 'settrace', 'gettrace', 'call_tracing', '_debugmallocstats', 'set_coroutine_origin_tracking_depth', 'get_coroutine_origin_tracking_depth', 'set_asyncgen_hooks', 'get_asyncgen_hooks', 'unraisablehook', 'modules', 'stderr', '__stderr__', '__displayhook__', '__excepthook__', '__breakpointhook__', '__unraisablehook__', 'version', 'hexversion', '_git', '_framework', 'api_version', 'copyright', 'platform', 'maxsize', 'float_info', 'int_info', 'hash_info', 'maxunicode', 'builtin_module_names', 'byteorder', 'abiflags', 'version_info', 'implementation', 'flags', 'float_repr_style', 'thread_info', 'meta_path', 'path_importer_cache', 'path_hooks', 'path', 'executable', '_base_executable', 'prefix', 'base_prefix', 'exec_prefix', 'base_exec_prefix', 'pycache_prefix', 'argv', 'warnoptions', '_xoptions', 'dont_write_bytecode', '__stdin__', 'stdin', '__stdout__', 'stdout', '_home', '__interactivehook__', 'ps1', 'ps2', 'ps3'])"
      ]
     },
     "execution_count": 2,
     "metadata": {},
     "output_type": "execute_result"
    }
   ],
   "source": [
    "import sys\n",
    "sys.__dict__.keys()"
   ]
  },
  {
   "cell_type": "markdown",
   "metadata": {},
   "source": [
    "<h2 style=\"padding: 15px;border-radius: 3px;background-color:skyblue;color: white;\" >Control of Flow</h2>\n",
    "<table width=\"100%\">\n",
    "<tr>\n",
    "    <td>\n",
    "    <p style=\"vertical-align: top; font-size:1.75vw; color:black;\">\n",
    "        Control-of-Flow:<em>if</em> statements\n",
    "    </p>\n",
    "    <p style=\"text-align:left;\">\n",
    "    NB: In Systems Analysis &amp; Design, the highest level view of a system (Level-0) shows the main components or modules; drilling down we focus on more details; flow-charting is the lowest level of <b>process decomposion</b> and is a check on our logic.\n",
    "    </p>\n",
    "    </td>\n",
    "    <td style=\"vertical-align:top;\">\n",
    "    <img src=\"images/Flowchart-template-1.png\" style=\"float:left;height:350px;\"/>\n",
    "    </td>\n",
    "    </tr>\n",
    "</table>\n",
    "<p style=\"font-family:Baskerville;\">Note!  Python 3.10 has structural pattern matching - like a <i>switch</i> statement.  \n",
    "    See <a href=\"https://docs.python.org/3/whatsnew/3.10.html\" target=\"new\">\n",
    "    https://docs.python.org/3/whatsnew/3.10.html</a></p>"
   ]
  },
  {
   "cell_type": "code",
   "execution_count": 2,
   "metadata": {},
   "outputs": [
    {
     "name": "stdout",
     "output_type": "stream",
     "text": [
      "---------------------------------------- Done\n"
     ]
    }
   ],
   "source": [
    "# redirect the flow of the program by testing some condition \n",
    "# and build on this for project needs ...\n",
    "x = 5             # the condition; x is declared and assigned a value\n",
    "if x == 9:        # the == is the equivalency operator; returns True or False\n",
    "                  # only if True, do this part of the code\n",
    "    print(\"imagine that!\")\n",
    "\n",
    "print(\"-\"*40, \"Done\")"
   ]
  },
  {
   "cell_type": "code",
   "execution_count": 35,
   "metadata": {},
   "outputs": [
    {
     "name": "stdout",
     "output_type": "stream",
     "text": [
      "whew!  5 is still not equal to 9\n"
     ]
    }
   ],
   "source": [
    "# if ... else - two options\n",
    "if x == 9:\n",
    "    print(\"oddly enough, 5 is now equal to 9!\")\n",
    "else:\n",
    "    print(\"whew!  5 is still not equal to 9\")"
   ]
  },
  {
   "cell_type": "code",
   "execution_count": 36,
   "metadata": {},
   "outputs": [
    {
     "name": "stdout",
     "output_type": "stream",
     "text": [
      "Your language option is Zhong Wen\n"
     ]
    }
   ],
   "source": [
    "# if ... elif ... else - 3+ options.  \n",
    "# python doesn't have a switch statement\n",
    "language_option = \"zh\"\n",
    "\n",
    "if language_option == \"zh\":\n",
    "    print(\"Your language option is Zhong Wen\")\n",
    "elif language_option == \"ru\":\n",
    "    print(\"You'll see the message in Rusisan\")\n",
    "else:\n",
    "    print(\"We'll load your language option now.\")"
   ]
  },
  {
   "cell_type": "code",
   "execution_count": 6,
   "metadata": {},
   "outputs": [
    {
     "name": "stdout",
     "output_type": "stream",
     "text": [
      "This is the Sino-Tibetan linguistic group.\n"
     ]
    }
   ],
   "source": [
    "# if ... elif ... else - 3+ options; let's add some AND and ORs options\n",
    "language_option = \"zh\"\n",
    "\n",
    "if language_option == \"zh\" or (language_option == \"bo\":\n",
    "    print(\"This is the Sino-Tibetan linguistic group.\")\n",
    "elif language_option == \"ru\" or language_option == \"fr\":\n",
    "    print(\"These are members of the Indo-European group.\")\n",
    "else:\n",
    "    print(\"We'll load your language option now.\")\n",
    "                               "
   ]
  },
  {
   "cell_type": "code",
   "execution_count": 7,
   "metadata": {},
   "outputs": [
    {
     "name": "stdout",
     "output_type": "stream",
     "text": [
      "yes.\n",
      "which part of the statement actually printed yes?\n"
     ]
    }
   ],
   "source": [
    "# using and and or ... CL: does this snippet make much sense?\n",
    "a = 5\n",
    "b = 10\n",
    "\n",
    "if a > 4 and b < 11:\n",
    "    print(\"yes.\")\n",
    "elif a < 10 and b > 5:\n",
    "    print(\"yes.\")\n",
    "else:\n",
    "    print(\"yes.\")\n",
    "print(\"which part of the statement actually printed yes?\")"
   ]
  },
  {
   "cell_type": "markdown",
   "metadata": {},
   "source": [
    "<h2>Shorthand: python has a lot of shorthand techniques.</h2>\n",
    "<pre>if a > b: print(\"a is greater than b\")</pre>\n",
    "<pre>print(\"A\") if a > b else print(\"B\")</pre>\n",
    "<pre>print(\"A\") if a > b else print(\"=\") if a == b else print(\"B\")</pre>\n",
    "<hr />"
   ]
  },
  {
   "cell_type": "markdown",
   "metadata": {},
   "source": [
    "<hr /><h2 style=\"color:cornflowerblue;\">Match (like case/switch; new 3.10+)</h2>\n",
    "<p style=\"font-family:Baskerville, Palatino, serif; font-size:16px; line-height:20px;\">Code changes all the time.  An important change for us to note is the inclusion of new features in python 3.10.x.  Most importantly is the inclusion of a new <code>match</code> notion, similar to <code>switch</code> in other languages.  Until 3.10 python had no such constract and we relied on lots of if-statements or other structures.  Here's a quick intro to these changes.</p>\n",
    "<p style=\"font-family:Baskerville, Palatino, serif; font-size:16px; line-height:20px;\">What&rsquo;s new in Python 3.10 and later: <a href=\"https://docs.python.org/3/whatsnew/3.10.html\" target=\"new\">https://docs.python.org/3/whatsnew/3.10.html</a>.</p>\n",
    "<p style=\"font-family:Baskerville, Palatino, serif; font-size:16px; line-height:20px;\">When we have a number of options to respond do, instead of lots of if statements, we can now use the <code>match</code> (structural pattern matching).</p>\n",
    "<code>match subject:\n",
    "    case &lt;pattern_1&gt;:\n",
    "        &lt;action_1&gt;\n",
    "    case &lt;pattern_2&gt;:\n",
    "        &lt;action_2&gt;\n",
    "    case &lt;pattern_3_&gt;:\n",
    "        &lt;action_3&gt;\n",
    "    case _:\n",
    "        &lt;action_wildcard&gt;\n",
    "</code>\n",
    "<hr />\n",
    "<p style=\"font-family:Baskerville, Palatino, serif; font-size:16px; line-height:20px;\">In this example from the documentation, image we&rsquo;re trying to reach a web server and capture the server&rsquo;s error message in a variable &ldquo;status.&rdquo;  [BTW, servers send a variety of HTTP <a href=\"https://developer.mozilla.org/en-US/docs/Web/HTTP/Status\" target=\"new\">response status msg</a>.  Anything in the 400-499 range are client error messages; 500-599 is a server error.]</p>\n",
    "<br />\n",
    "<code>def http_error(status):\n",
    "    match status:\n",
    "        case 400:\n",
    "            return \"Bad request\"\n",
    "        case 404:\n",
    "            return \"File not found or you can't access it\"\n",
    "        case 418:\n",
    "            return \"I'm a teapot\"\n",
    "        case _:  # think of this is \"otherwise ... \"\n",
    "            return \"Something's wrong with the internet.\"\n",
    "</code>\n",
    "<hr />\n",
    "<p style=\"font-family:Baskerville, Palatino, serif; font-size:16px; line-height:20px;\">Multiple responses can be grouped: \n",
    "<code>case 401 | 403 | 404:\n",
    "    return \"Not allowed\"</code>\n"
   ]
  },
  {
   "cell_type": "code",
   "execution_count": null,
   "metadata": {},
   "outputs": [],
   "source": [
    "# point is an (x, y) tuple\n",
    "point = (0, 0)\n",
    "\n",
    "match point:\n",
    "    case (0, 0):\n",
    "        print(\"Origin\")\n",
    "    case (0, y):\n",
    "        print(f\"Y={y}\")\n",
    "    case (x, 0):\n",
    "        print(f\"X={x}\")\n",
    "    case (x, y):\n",
    "        print(f\"X={x}, Y={y}\")\n",
    "    case _:\n",
    "        raise ValueError(\"Not a point\")"
   ]
  },
  {
   "cell_type": "markdown",
   "metadata": {},
   "source": [
    "<p>The first pattern has two literals, (0, 0), and may be thought of as an extension of the literal pattern shown above. The next two patterns combine a literal and a variable, and the variable binds a value from the subject (point). The fourth pattern captures two values, which makes it conceptually similar to the unpacking assignment (x, y) = point.  <br />\n",
    "    <b>Example:</b> Lots of programming requires capturing the x,y coordinate of a mouse click; usually we may use a set object to contain the coordinates for testing; here we can use the Point class and respond to the x,y as a pattern to be matched\n",
    "</p>\n",
    "<p>\n",
    "    <b>Patterns and classes</b>\n",
    "<p>If you are using classes to structure your data, you can use as a pattern the class name followed by an argument list resembling a constructor. This pattern has the ability to capture class attributes into variables:</p>"
   ]
  },
  {
   "cell_type": "code",
   "execution_count": null,
   "metadata": {},
   "outputs": [],
   "source": [
    "class Point:\n",
    "    x: int\n",
    "    y: int\n",
    "\n",
    "def location(point):\n",
    "    match point:\n",
    "        case Point(x=0, y=0):\n",
    "            print(\"Origin is the point's location.\")\n",
    "        case Point(x=0, y=y):\n",
    "            print(f\"Y={y} and the point is on the y-axis.\")\n",
    "        case Point(x=x, y=0):\n",
    "            print(f\"X={x} and the point is on the x-axis.\")\n",
    "        case Point():\n",
    "            print(\"The point is located somewhere else on the plane.\")\n",
    "        case _:\n",
    "            print(\"Not a point\")"
   ]
  },
  {
   "cell_type": "code",
   "execution_count": 1,
   "metadata": {},
   "outputs": [
    {
     "ename": "SyntaxError",
     "evalue": "invalid syntax (<ipython-input-1-ea9af24264e9>, line 1)",
     "output_type": "error",
     "traceback": [
      "\u001b[0;36m  File \u001b[0;32m\"<ipython-input-1-ea9af24264e9>\"\u001b[0;36m, line \u001b[0;32m1\u001b[0m\n\u001b[0;31m    match test_variable:\u001b[0m\n\u001b[0m          ^\u001b[0m\n\u001b[0;31mSyntaxError\u001b[0m\u001b[0;31m:\u001b[0m invalid syntax\n"
     ]
    }
   ],
   "source": [
    "match test_variable:\n",
    "    case ('warning', code, 40):\n",
    "        print(\"A warning has been received.\")\n",
    "    case ('error', code, _):\n",
    "        print(f\"An error {code} occurred.\")"
   ]
  },
  {
   "cell_type": "markdown",
   "metadata": {},
   "source": [
    "<h2 style=\"background-color:skyblue;padding:7px;border-radius:2px;\">Review</h2>\n",
    "<table>\n",
    "<tr><td>Equals:</td><td>a == b</td></tr>\n",
    "<tr><td>Not Equals:</td><td>a != b</td></tr>\n",
    "<tr><td>Less than:</td><td>a &lt; b</td></tr>\n",
    "<tr><td>Less than or equal to:</td><td>a &gt;= b</td></tr>\n",
    "<tr><td>Greater than:</td><td>a &gt; b</td></tr>\n",
    "<tr><td>Greater than or equal to:</td><td>a &gt;= b</td></tr>\n",
    "<tr><td>Not equal to:</td><td>a != b</td></tr>\n",
    "</table>\n",
    "\n",
    "<table>\n",
    "    <tr><td>x + y</td><td style=\"text-align:left;\">sum of x and y</td></tr>\n",
    "    <tr><td>x - y</td><td style=\"text-align:left;\">difference of x and y</td></tr>\n",
    "    <tr><td>x * y</td><td style=\"text-align:left;\">product of x and y</td></tr>\n",
    "    <tr><td>x / y</td><td style=\"text-align:left;\">quotient of x and y</td></tr>\n",
    "    <tr><td>x // y</td><td style=\"text-align:left;\">floored quotient of x and y</td></tr>\n",
    "    <tr><td>x % y</td><td style=\"text-align:left;\">remainder of x / y</td></tr>\n",
    "    <tr><td>-x</td><td style=\"text-align:left;\">x negated</td></tr>\n",
    "    <tr><td>+x</td><td style=\"text-align:left;\">x unchanged</td></tr>\n",
    "    <tr><td>abs(x)</td><td style=\"text-align:left;\">absolute value or magnitude of x</td></tr>\n",
    "    <tr><td>int(x)</td><td style=\"text-align:left;\">x converted to integer</td></tr>\n",
    "    <tr><td>float(x)</td><td style=\"text-align:left;\">x converted to floating point</td></tr>\n",
    "<tr><td>complex(re, im)</td><td style=\"text-align:left;\">a complex number with real part re, imaginary part im. im defaults to zero.</td></tr>\n",
    "<tr><td>divmod(x, y)</td><td style=\"text-align:left;\">the pair (x // y, x % y)</td></tr>\n",
    "<tr><td>pow(x, y)</td><td style=\"text-align:left;\">x to the power y</td></tr>\n",
    "    <tr><td>x ** y</td><td style=\"text-align:left;\">x to the power y</td></tr></table>"
   ]
  },
  {
   "cell_type": "markdown",
   "metadata": {},
   "source": [
    "<h2 style=\"padding: 15px;border-radius: 3px;background-color:skyblue;color: white;\" >Nested <code>if</code>  statements</h2>"
   ]
  },
  {
   "cell_type": "code",
   "execution_count": 9,
   "metadata": {},
   "outputs": [
    {
     "name": "stdout",
     "output_type": "stream",
     "text": [
      "The outer else statement: x is not less than 4\n",
      "________________________________________\n",
      "True\n",
      "________________________________________ \n",
      " apples are greater than oranges (at least by their code values!)\n"
     ]
    }
   ],
   "source": [
    "x = 5\n",
    "y = 200\n",
    "s = \"s\"\n",
    "if x < 4:\n",
    "    print(\"Inside the first if statement ... \")\n",
    "    if y == 200:\n",
    "        print(\"\\t Nested if ... y == 200\")\n",
    "    else:\n",
    "        print(\"\\t Nested ELSE part\")\n",
    "else:\n",
    "    print(\"The outer else statement: x is not less than 4\")\n",
    "    \n",
    "print(\"_\"*40)\n",
    "# note we can use operators like this for letters, too - based on their code value.\n",
    "print('a' < 'b')\n",
    "\n",
    "# python has a placeholder \"pass\" \n",
    "a = \"apple\"\n",
    "b = \"orange\"\n",
    "if a > b:\n",
    "    pass\n",
    "else:\n",
    "    print(\"_\"*40, \"\\n\", \"apples are greater than oranges (at least by their code values!)\")"
   ]
  },
  {
   "cell_type": "markdown",
   "metadata": {},
   "source": [
    "<hr />\n",
    "<h2 style=\"padding: 15px;border-radius: 3px;background-color:skyblue;color: white;\" ><code>while</code> and <code>for</code> statements</h2>\n",
    "<div style=\"padding:12px;background-color:skyblue;font-size:1.5vw;border-radius:2px;\">\n",
    "</div>"
   ]
  },
  {
   "cell_type": "markdown",
   "metadata": {},
   "source": [
    "<p style=\"font-size:1.2em;line-height:1.5em;\">Use <em>while</em> loops when we know the number of items we&rsquo;ll process.  We can also jump out of a while statement using the <em>break</em> command; and can also recognize a condition (do something if we want) and <em>continue</em>.</p><p>As usual, we need a condition to keep the loop going 'til some condition is made that let's us exit.</p>"
   ]
  },
  {
   "cell_type": "code",
   "execution_count": 14,
   "metadata": {},
   "outputs": [
    {
     "name": "stdout",
     "output_type": "stream",
     "text": [
      "We should start with  0 and end with  100  unless something happens.\n",
      "\t iteration no: 0\n",
      "\t iteration no: 1\n",
      "\t iteration no: 2\n",
      "\t iteration no: 3\n",
      "\t iteration no: 4\n",
      "\t iteration no: 5\n",
      "\t iteration no: 6\n",
      "\t iteration no: 7\n",
      "Yeah! my number!  Let's stop processing.\n"
     ]
    }
   ],
   "source": [
    "i = 0\n",
    "endValue = 100\n",
    "\n",
    "print(\"We should start with \",i, \"and end with \", endValue, \" unless something happens.\")\n",
    "\n",
    "my_favorite_number = 7\n",
    "\n",
    "while i < endValue:\n",
    "    print(\"\\t iteration no:\",i)\n",
    "    if i == my_favorite_number:\n",
    "        print(\"Yeah! my number!  Let's stop processing.\")\n",
    "        break\n",
    "    i += 1"
   ]
  },
  {
   "cell_type": "code",
   "execution_count": 8,
   "metadata": {},
   "outputs": [
    {
     "name": "stdout",
     "output_type": "stream",
     "text": [
      "1\n",
      "2\n",
      "3\n",
      "4\n",
      "5\n",
      "6\n",
      "Yeah, my favorite number.  Let's keep counting, tho.\n",
      "8\n",
      "9\n",
      "10\n"
     ]
    }
   ],
   "source": [
    "i = 0\n",
    "endValue = 10\n",
    "\n",
    "while i < endValue:\n",
    "    i += 1 \n",
    "    if i == my_favorite_number:\n",
    "        print(\"Yeah, my favorite number.  Let's keep counting, tho.\")\n",
    "        continue\n",
    "    print(i)"
   ]
  },
  {
   "cell_type": "code",
   "execution_count": 9,
   "metadata": {},
   "outputs": [
    {
     "name": "stdout",
     "output_type": "stream",
     "text": [
      "\t 1\n",
      "\t 2\n",
      "\t 3\n",
      "\t 4\n",
      "\t 5\n",
      "\t 6\n",
      "\t 7\n",
      "\t 8\n",
      "\t 9\n",
      "\n",
      "The count  10 is no longer less than  10\n"
     ]
    }
   ],
   "source": [
    "# finally we have a python-unique idea of adding an \"else\"\n",
    "# in a while loop!\n",
    "i = 1\n",
    "while i < endValue:\n",
    "    print(\"\\t\", i)\n",
    "    i += 1\n",
    "else:\n",
    "    print(\"\\nThe count \",i,\"is no longer less than \", endValue)"
   ]
  },
  {
   "cell_type": "markdown",
   "metadata": {},
   "source": [
    "<hr />\n",
    "<div style=\"padding:12px;background-color:skyblue;font-size:1.5vw;border-radius:2px;\">\n",
    "    <p style=\"font-size:1.5vw;color:white;\">Control-of-Flow: <em>for</em> statements are useful for iterating over an unknown number of items.  Use the for-statement over all kinds of iterators, like a list, a tuple, a dictionary, a set, or even a string!</p>\n",
    "</div>"
   ]
  },
  {
   "cell_type": "code",
   "execution_count": 10,
   "metadata": {},
   "outputs": [
    {
     "name": "stdout",
     "output_type": "stream",
     "text": [
      "Tim\n",
      "Heather\n",
      "Gloria\n",
      "Ming\n",
      "Fifi\n",
      "________________________________________\n",
      "Tim\n",
      "Heather\n",
      "The winner is  Gloria\n",
      "----------------------------------------\n",
      "Tim\n",
      "Heather\n",
      "The winner is  Gloria\n",
      "Ming\n",
      "Fifi\n",
      "\n",
      "Finally done!\n"
     ]
    }
   ],
   "source": [
    "# for statement with a list, e.g., names = ['Tim', 'Heather', 'Ming', 'Fifi', 'Gloria']\n",
    "names = ['Tim', 'Heather', 'Gloria', 'Ming', 'Fifi']\n",
    "for name in names:\n",
    "    print(name)\n",
    "    \n",
    "print(\"_\"*40)\n",
    "for person in names:\n",
    "    if person == \"Gloria\":\n",
    "        print(\"The winner is \", person)\n",
    "        break           # we got the value we wanted to find ... stop processing.\n",
    "    print(person)\n",
    "    \n",
    "print(\"-\"*40)\n",
    "# as usual python has that odd use of else and we can still use continue, too.\n",
    "for person in names:\n",
    "    if person == \"Gloria\":\n",
    "        print(\"The winner is \", person)\n",
    "        continue           # we got the value we wanted to find ... stop processing.\n",
    "    print(person)\n",
    "else:\n",
    "    print(\"\\nFinally done!\")"
   ]
  },
  {
   "cell_type": "code",
   "execution_count": 11,
   "metadata": {},
   "outputs": [
    {
     "name": "stdout",
     "output_type": "stream",
     "text": [
      "0\n",
      "1\n",
      "2\n",
      "3\n",
      "4\n",
      "5\n",
      "6\n",
      "7\n"
     ]
    }
   ],
   "source": [
    "# very common to use the range() method for testing, too.\n",
    "for j in range(0, 8):\n",
    "    print(j)"
   ]
  },
  {
   "cell_type": "code",
   "execution_count": 37,
   "metadata": {},
   "outputs": [
    {
     "name": "stdout",
     "output_type": "stream",
     "text": [
      "Letter is a. \tnumber is 1.\n",
      "Letter is a. \tnumber is 2.\n",
      "Letter is a. \tnumber is 3.\n",
      "Letter is a. \tnumber is 4.\n",
      "Letter is a. \tnumber is 5.\n",
      "Letter is a. \tnumber is 6.\n",
      "Letter is b. \tnumber is 1.\n",
      "Letter is b. \tnumber is 2.\n",
      "Letter is b. \tnumber is 3.\n",
      "Letter is b. \tnumber is 4.\n",
      "Letter is b. \tnumber is 5.\n",
      "Letter is b. \tnumber is 6.\n",
      "Letter is c. \tnumber is 1.\n",
      "Letter is c. \tnumber is 2.\n",
      "Letter is c. \tnumber is 3.\n",
      "Letter is c. \tnumber is 4.\n",
      "Letter is c. \tnumber is 5.\n",
      "Letter is c. \tnumber is 6.\n",
      "Letter is d. \tnumber is 1.\n",
      "Letter is d. \tnumber is 2.\n",
      "Letter is d. \tnumber is 3.\n",
      "Letter is d. \tnumber is 4.\n",
      "Letter is d. \tnumber is 5.\n",
      "Letter is d. \tnumber is 6.\n",
      "Letter is e. \tnumber is 1.\n",
      "Letter is e. \tnumber is 2.\n",
      "Letter is e. \tnumber is 3.\n",
      "Letter is e. \tnumber is 4.\n",
      "Letter is e. \tnumber is 5.\n",
      "Letter is e. \tnumber is 6.\n",
      "Letter is f. \tnumber is 1.\n",
      "Letter is f. \tnumber is 2.\n",
      "Letter is f. \tnumber is 3.\n",
      "Letter is f. \tnumber is 4.\n",
      "Letter is f. \tnumber is 5.\n",
      "Letter is f. \tnumber is 6.\n"
     ]
    }
   ],
   "source": [
    "# like nested-if statements, we have nested for statements.\n",
    "# note, tho, that the run-time can be long - (read more about Big-O in Sipser)\n",
    "alpha = ['a','b','c','d','e','f']\n",
    "numbers = [1, 2, 3, 4, 5, 6]\n",
    "\n",
    "line = \"first\"\n",
    "\n",
    "for letter in alpha:\n",
    "    for i in numbers:\n",
    "        print(f\"Letter is {letter}. \\tnumber is {i}.\")"
   ]
  },
  {
   "cell_type": "markdown",
   "metadata": {},
   "source": [
    "<hr /><p>Discussion - when and how might you want to use these for basic scripts - and for processing larger amounts of data?</p>\n",
    "<hr />\n",
    "\n",
    "<h2 style=\"padding: 15px;border-radius: 3px;background-color:skyblue;color: black;\" >Scope of the Lesson: Review of the Main Points</h2>\n",
    "\n",
    "<ul>\n",
    "<li>new programmers, focus on the fundamentals of “control of flow” statements.</li>\n",
    "<li>For experienced programmers, reflect on how you’ve coded to focus on “process decomposition.”</li>\n",
    "</ul>\n",
    "\n",
    "Executing Python:\n",
    "<ul><li>Build-in IDLE interpreter</li>\n",
    "<li>.py file</li>\n",
    "<li>Jupyter Notebook</li>\n",
    "<li>Spyder and other IDEs</li>\n",
    "<li>Notebook interacts with Operating System (! and %)</li></ul>\n",
    "\n",
    "Expressions:<ul>\n",
    "    <li>Assignment and Equivalency</li>\n",
    "    <li>Cumulative shortcuts</li></ul>\n",
    "\n",
    "Concept of “Objects”<ul>\n",
    "<li>Everything in python is an object</li>\n",
    "<li>Objects as reflecting objects in the physical world (like cats!)</li>\n",
    "<li>More on objects in a couple of weeks</li>\n",
    "<li>Casting objects from one type to another</li>\n",
    "</ul>\n",
    "\n",
    "Python and Data Types<ul>\n",
    "<li>Confirm the data type of variables in Python</li>\n",
    "<li>Use python for coding but also for looking at and documenting your code</li>\n",
    "</ul>    \n",
    "Scope &amp; Visibility of Variables\n",
    "   <ul><li>Namespace versus Object space (in lieu of our using pointers)</li>\n",
    "    </ul>\n",
    "\n",
    "Strings<ul>\n",
    "<li>Big role in data science, full-text retrieval, data integration</li>\n",
    "<li>Python’s use of +, as well as obvious “methods” (.upper())</li>\n",
    "<li>Comment in code - use ‘em.  Required later as “docstrings”</li>\n",
    "<li>String is a contiguous block of member, read from pointer of the first character</li>\n",
    "</ul>\n",
    "If/For/While statements; Match\n",
    "<ul>\n",
    "<li>Each are useful; the logic of your decomposition guides your choices …</li>\n",
    "<li>And python has techniques for even faster processing (next week)</li>\n",
    "<li>Nested if; nested while; nested for loops … </li>\n",
    "    <li>We’ll revisit this when discussing algorithm efficiency (Big Theta)</li>\n",
    "</ul>\n",
    "\n",
    "<hr />\n",
    "<h1 style=\"background-color:cornflowerblue;padding:10px;color:white\">What you learned:</h1>\n",
    "<p style=\"font-family:Baskerville, Palatino, serif; font-size:18px;line-height:22px;\">\n",
    "    Python is <b>object-oriented</b> and so we inherit attributes &amp; methods in our scripts from Python&rsquo;s original object hierarchy.  Next we saw how variables start off holding small amounts of data (int, Strings, floats) and these build-up into larger data structures. <b>String slicing</b> is an important and useful shortcut in python.</p>\n",
    "<p style=\"font-family:Baskerville, Palatino, serif; font-size:18px;line-height:22px;\"><b>Control-of-flow</b> [if, while, for, match] commands check for the truth value of conditions: if something is true (including whether a variable is declared and instantiated) affect how we problem-solve; for-loops have a known end and we stop when we reach the end; while-loops require checking the end each time we process a single item.  Practice breaking down tasks into logical steps; then look for the python shortcuts.</p>\n",
    "<p style=\"font-family:Baskerville, Palatino, serif; font-size:18px;line-height:22px;\">\n",
    "    <b>break</b> and <b>continue</b> allow us to process a set of data and either stop when some desired data or condition is met and jump out of the loop; or find data and continue processing 'til we run out of data.</p>\n",
    "<p style=\"font-family:Baskerville, Palatino, serif; font-size:18px;line-height:22px;\">\n",
    "    Finally, <i>nesting</i> if statements and even while statements may be great solutions; ultimately tho note that nested while loops are not especially computationally efficient.  We&rsquo;ll find faster solutions later with list comprehensions and numpy array.</p>\n",
    "    <p style=\"font-family:Baskerville, Palatino, serif; font-size:18px;line-height:22px;\">Check out the optional examples below for more practice.</p>\n",
    "    "
   ]
  },
  {
   "cell_type": "markdown",
   "metadata": {},
   "source": [
    "<hr />\n",
    "<h1 style=\"color:cornflowerblue;\">\n",
    "Optional Other Examples</h1>"
   ]
  },
  {
   "cell_type": "code",
   "execution_count": 13,
   "metadata": {},
   "outputs": [
    {
     "name": "stdout",
     "output_type": "stream",
     "text": [
      "__________________________________________________\n",
      "Welcome to the lottery.  Enter values 1 - 9 for guesses.\n",
      "\tEnter 0 to exit.  \n",
      "What's your guess? 8\n",
      " :( Sorry, not a winner.\n",
      "__________________________________________________\n",
      "Welcome to the lottery.  Enter values 1 - 9 for guesses.\n",
      "\tEnter 0 to exit.  \n",
      "What's your guess? 0\n"
     ]
    }
   ],
   "source": [
    "keep_going = True         # boolean flag to keep going  # Discussion point\n",
    "\n",
    "winning_score = 5         # our winning score\n",
    "\n",
    "while keep_going:          # since this value is True ... and add an option for 0 to exit.\n",
    "    # new menu\n",
    "    print(\"_\"*50)\n",
    "    print(\"Welcome to the lottery.  Enter values 1 - 9 for guesses.\")\n",
    "    print(\"\\tEnter 0 to exit.  \")\n",
    "    user_value = int(input(\"What's your guess? \"))\n",
    "    \n",
    "    if user_value == winning_score:\n",
    "        print(\"Yeah! You win! :) \")\n",
    "        keep_going = False\n",
    "    elif user_value >= 1 and user_value <= 9:\n",
    "        print(\" :( Sorry, not a winner.\")\n",
    "    else:\n",
    "        if user_value == 0:\n",
    "            keep_going = False"
   ]
  },
  {
   "cell_type": "code",
   "execution_count": 14,
   "metadata": {},
   "outputs": [
    {
     "name": "stdout",
     "output_type": "stream",
     "text": [
      "this is the outer if statement testing if i <= 100 \n",
      "Sorry, i not <= 100. i = 150  j = 300\n"
     ]
    }
   ],
   "source": [
    "\"\"\" Experiment by changing the values of i and j \"\"\"\n",
    "i = 150\n",
    "j = 300\n",
    "\n",
    "if i <= 100:\n",
    "    if j == 300:\n",
    "        print(\"both conditions match.\")\n",
    "    elif j > 0 and j < 50:\n",
    "        print(\"j is > 0 and < 50\")\n",
    "    elif j > 50 and j < 100:\n",
    "        print(\"j is > 50 and < 100\")\n",
    "\n",
    "else:\n",
    "    print(\"this is the outer if statement testing if i <= 100 \")\n",
    "    print(\"Sorry, i not <= 100. i =\",i, \" j =\", j)"
   ]
  },
  {
   "cell_type": "code",
   "execution_count": 15,
   "metadata": {},
   "outputs": [
    {
     "name": "stdout",
     "output_type": "stream",
     "text": [
      "outer loop: i = 0\n",
      "\t inner loop: j= 0\n",
      "\t inner loop: j= 1\n",
      "\t inner loop: j= 2\n",
      "\t inner loop: j= 3\n",
      "\t inner loop: j= 4\n",
      "outer loop: i = 1\n",
      "\t inner loop: j= 0\n",
      "\t inner loop: j= 1\n",
      "\t inner loop: j= 2\n",
      "\t inner loop: j= 3\n",
      "\t inner loop: j= 4\n",
      "outer loop: i = 2\n",
      "\t inner loop: j= 0\n",
      "\t inner loop: j= 1\n",
      "\t inner loop: j= 2\n",
      "\t inner loop: j= 3\n",
      "\t inner loop: j= 4\n"
     ]
    }
   ],
   "source": [
    "i = 0\n",
    "j = 0\n",
    "\n",
    "# using multiple while loops may solve the problem but we don't want too many of them!\n",
    "\n",
    "while i < 3:\n",
    "    print(\"outer loop: i =\", i)\n",
    "    while j < 5:\n",
    "        print(\"\\t inner loop: j=\",j)\n",
    "        j += 1     # increment j otherwise the loop won't end.\n",
    "    \n",
    "    j = 0          # reset j back to 0 so we can iterate over the values of j again\n",
    "    i += 1         # increment the outer loop so the value of i will increase "
   ]
  },
  {
   "cell_type": "markdown",
   "metadata": {},
   "source": [
    "<hr />\n",
    "<h3>Some fun with modularization and palindromes ... </h3>\n",
    "<p>The point of the palindrome exercise is to show that we should modularize even small scripts to understand the logic of our task.  When the logic is solid, then we can find code shortcuts.  Notice that we have <u>not</u> done any checking of the input.</p>\n",
    "<p>Here are the steps of script:\n",
    "    \n",
    "<ol>    <li>Create a variable to hold our backwards</li>\n",
    "    <li>Get input from the end-user</li>\n",
    "    <li>Make sure the input is a string</li>\n",
    "    <li>Make sure the string is lower case</li>\n",
    "    <li>We'll work backwards, so get the length of the word to know where to start counting from the end ... \n",
    "        note, too, that the len() method gives the total value (e.g., cat = 3); and since we start counting from 0 we need to take away one from the end</li>\n",
    "    <li>Since a palindrome is backwards, we need a way to build a backwards version of the end-user input</li>\n",
    "    <li>Working from the end of the word, show all of the letters one by one until there are no more letters to show</li>\n",
    "    <li>now we should have two words to compare - the input string and the palindrome string</li>\n",
    "</ol>"
   ]
  },
  {
   "cell_type": "code",
   "execution_count": 16,
   "metadata": {},
   "outputs": [
    {
     "name": "stdout",
     "output_type": "stream",
     "text": [
      "Enter a word: letters only.  fishy\n",
      "counter value  4 \t y\n",
      "counter value  3 \t h\n",
      "counter value  2 \t s\n",
      "counter value  1 \t i\n",
      "counter value  0 \t f\n",
      "\n",
      "Let's compare the values: user_input= fishy  and backwards = yhsif\n",
      "Sorry, not a palindrome.\n"
     ]
    }
   ],
   "source": [
    "backwards_word = \"\"\n",
    "\n",
    "user_input = str(input(\"Enter a word: letters only.  \")).lower()\n",
    "len_word = len(user_input) - 1\n",
    "\n",
    "\n",
    "while len_word >= 0:\n",
    "    print(\"counter value \", len_word, \"\\t\", user_input[len_word])                  # print the end-user input)\n",
    "    backwards_word += user_input[len_word]       # build up the backwards word one letter at a time\n",
    "    len_word -= 1                                # decrement so we work from back 'til we hit 0 and stop\n",
    "\n",
    "# all done.  So let's compare the two words.\n",
    "print(\"\\nLet's compare the values: user_input=\", user_input, \" and backwards =\",backwards_word)\n",
    "\n",
    "if user_input == backwards_word:\n",
    "    print(\"Hey! A palindrome!\")\n",
    "else:\n",
    "    print(\"Sorry, not a palindrome.\")"
   ]
  },
  {
   "cell_type": "raw",
   "metadata": {},
   "source": [
    "<hr />\n",
    "<h3>Check data type with <code>is</code> and <code>type()</code></h3>\n",
    "<p>Let's use if statement and check the data type of our variable using <code>is</code>.  "
   ]
  },
  {
   "cell_type": "code",
   "execution_count": 18,
   "metadata": {},
   "outputs": [
    {
     "name": "stdout",
     "output_type": "stream",
     "text": [
      "Yes, this is a string.\n"
     ]
    }
   ],
   "source": [
    "if type(user_input) is str:\n",
    "    print(\"Yes, this is a string.\")"
   ]
  },
  {
   "cell_type": "code",
   "execution_count": 19,
   "metadata": {},
   "outputs": [
    {
     "data": {
      "text/plain": [
       "str"
      ]
     },
     "execution_count": 19,
     "metadata": {},
     "output_type": "execute_result"
    }
   ],
   "source": [
    "type(user_input)"
   ]
  },
  {
   "cell_type": "markdown",
   "metadata": {},
   "source": [
    "<h2>More checking of data types</h2><p>This is important 'cause in real life we may have to \n",
    "    check range of characters or whether the data are alphanumerics or just alphabet.  We'll do more of this testing using binary, utf-8, unicode, etc., later this term.</p>"
   ]
  },
  {
   "cell_type": "code",
   "execution_count": 20,
   "metadata": {},
   "outputs": [
    {
     "name": "stdout",
     "output_type": "stream",
     "text": [
      "is alpha:  True\n",
      "is alphanumeric:  True\n",
      "is ascii:  True\n",
      "\n",
      "is alpha:  False\n",
      "is alphanumeric:  True\n",
      "is ascii:  True\n",
      "\n",
      "is alpha:  False\n",
      "is alphanumeric:  False\n",
      "is ascii:  False\n",
      "\n"
     ]
    }
   ],
   "source": [
    "# Say we have a live data stream or people provide us with files \n",
    "# for analysis - better to check and not assume that we know our data.\n",
    "\n",
    "x = \"Isolbel\"       # yup, this is a string without numbers\n",
    "print(\"is alpha: \", x.isalpha())\n",
    "print(\"is alphanumeric: \", x.isalnum())\n",
    "print(\"is ascii: \", x.isascii())\n",
    "print(\"\")\n",
    "\n",
    "x = \"Isolbel1066\"    # adding #s to the String causes test to fail.\n",
    "print(\"is alpha: \", x.isalpha())\n",
    "print(\"is alphanumeric: \", x.isalnum())\n",
    "print(\"is ascii: \", x.isascii())\n",
    "print(\"\")\n",
    "\n",
    "# note that ascii is only between u+0000 to u+007f\n",
    "x = \"बिंदु\"\n",
    "print(\"is alpha: \", x.isalpha())\n",
    "print(\"is alphanumeric: \", x.isalnum())\n",
    "print(\"is ascii: \", x.isascii())\n",
    "print(\"\")"
   ]
  },
  {
   "cell_type": "markdown",
   "metadata": {},
   "source": [
    "<hr /><p>That's it for the moment.  We'll see other ways in python to process data much faster - <code>any</code>, <code>all</code> (De Morgen's law), and <code>re</code> or regular expressions (regex).</p>"
   ]
  },
  {
   "cell_type": "markdown",
   "metadata": {},
   "source": [
    "<h2>Breakout Room</h2>"
   ]
  },
  {
   "cell_type": "code",
   "execution_count": null,
   "metadata": {},
   "outputs": [],
   "source": []
  }
 ],
 "metadata": {
  "kernelspec": {
   "display_name": "Python 3",
   "language": "python",
   "name": "python3"
  },
  "language_info": {
   "codemirror_mode": {
    "name": "ipython",
    "version": 3
   },
   "file_extension": ".py",
   "mimetype": "text/x-python",
   "name": "python",
   "nbconvert_exporter": "python",
   "pygments_lexer": "ipython3",
   "version": "3.8.5"
  }
 },
 "nbformat": 4,
 "nbformat_minor": 4
}
