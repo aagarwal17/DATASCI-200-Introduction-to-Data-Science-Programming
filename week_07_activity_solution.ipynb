{
 "cells": [
  {
   "cell_type": "markdown",
   "id": "d7e4386a-ed39-4e4a-9239-d8ce83eb7b11",
   "metadata": {},
   "source": [
    "## Classes\n",
    "\n",
    "In Python, the class of an object defines its behavior, similarly to the way a cookie cutter defines the shape of a cookie. In this live session, we will practice defining our own classes to create objects that behave the way we need to meet our goals.\n",
    "\n",
    "### Types of Attributes Discussion\n",
    "\n",
    "Suppose you are building a scheduling system, including an Event class and a Calendar class. For each of the following objects, state whether it would best be stored as,\n",
    "\n",
    "- an Event instance attribute\n",
    "- an Event class attribute\n",
    "- a Calendar instance attribute\n",
    "- a Calendar class attribute \n",
    "- a local variable in a method or function\n",
    "\n",
    "1. The title of an Event\n",
    "2. The time zone a user currently wants to use for viewing all Events on a Calendar\n",
    "3. The default time zone used when a new Calendar is created\n",
    "4. The list of Events displayed on a particular Calendar\n",
    "5. The Event for which a user is requesting details\n",
    "6. Whether an email reminder should be sent before a given Event\n",
    "7. A precomputed table of time zones used to parse dates quickly when creating each new Event"
   ]
  },
  {
   "cell_type": "markdown",
   "id": "ca0a3c1c-8d87-4ca1-9bce-3bf734a907e1",
   "metadata": {},
   "source": [
    "## Building an Adventure Game, Part 1\n",
    "\n",
    "In this activity you will build a simple text-based adventure game. The game takes place in a long Building, with a set of rooms arranged in a row from left to right. Each room can hold a set of items.  Your task is to develop a Building class, giving it methods that allow the user to add items to rooms, check what items are in different rooms, and remove items from a room.\n",
    "\n",
    "Here, you will find starter code for a Building class. The methods are all empty so you will need to fill them in to make the Building function."
   ]
  },
  {
   "cell_type": "code",
   "execution_count": 77,
   "id": "24fb40e9-7fd2-4d1f-ba6e-35b27908d68f",
   "metadata": {},
   "outputs": [],
   "source": [
    "class Building:\n",
    "    \n",
    "    def __init__(self, num_rooms):\n",
    "        '''Create a new Building object, with a list of rooms from 0 to num_rooms'''\n",
    "        self.rooms = [[] for i in range(num_rooms)]\n",
    "        \n",
    "    def __str__(self):\n",
    "        '''return a string depicting all rooms in the building. Make it as nice as you can in the time allowed.'''\n",
    "        return str(self.rooms)\n",
    "        \n",
    "    def add_item(self, item, room_id):\n",
    "        '''Add the give item to the list of objects located in the room at index room_id'''\n",
    "        self.rooms[room_id].append(item)\n",
    "        \n",
    "    def pop_item(self, room_id, item_id):\n",
    "        '''from the room at index room_id, remove the item from the list of items at position item_id and return it.'''\n",
    "        return self.rooms[room_id].pop(item_id)\n",
    "        \n",
    "    def view_items(self, room_id):\n",
    "        '''return a list of items located at the room at index room_id'''\n",
    "        return self.rooms[room_id]\n",
    "        \n",
    "    def num_rooms(self):\n",
    "        '''return the number of rooms in this building'''\n",
    "        return(len(self.rooms))\n"
   ]
  },
  {
   "cell_type": "markdown",
   "id": "4245dfdf-6e30-4483-8758-1f53fc535d3c",
   "metadata": {},
   "source": [
    "1. Fill in the `initializer` method, `__str__` and the `add_item` methods.  You will need to decide how the items in each room are stored. Should these be in an instance attribute, a class attribute, or a local method variable?  Below is example code that uses these methods.  When you run it, the correct output should be:\n",
    "\n",
    "```\n",
    "[[], [], []]\n",
    "[['candle'], ['pipe'], ['shoe', 'phone']]\n",
    "```"
   ]
  },
  {
   "cell_type": "code",
   "execution_count": 84,
   "id": "3a418d01-854c-44bc-81ec-a68209ff4a0c",
   "metadata": {},
   "outputs": [
    {
     "name": "stdout",
     "output_type": "stream",
     "text": [
      "[[], [], []]\n",
      "[['candle'], ['pipe'], ['shoe', 'phone']]\n"
     ]
    }
   ],
   "source": [
    "building = Building(3)\n",
    "print(building)\n",
    "building.add_item('candle', 0)\n",
    "building.add_item('pipe', 1)\n",
    "building.add_item('shoe', 2)\n",
    "building.add_item('phone', 2)\n",
    "print(building)"
   ]
  },
  {
   "cell_type": "markdown",
   "id": "afd659a3-6c98-4a94-ae5e-6e0841039f93",
   "metadata": {},
   "source": [
    "2. Next, fill in the remaining methods, which will be used by Persons interacting with the building. Below is example code that uses these methods. When you run it, the correct output should be:\n",
    "\n",
    "```\n",
    "3\n",
    "['shoe', 'phone']\n",
    "phone\n",
    "['shoe']\n",
    "```"
   ]
  },
  {
   "cell_type": "code",
   "execution_count": 86,
   "id": "91ec2708-7ce1-44cc-accf-a00b03559d0d",
   "metadata": {},
   "outputs": [
    {
     "name": "stdout",
     "output_type": "stream",
     "text": [
      "3\n",
      "['shoe', 'phone']\n",
      "phone\n",
      "['shoe']\n"
     ]
    }
   ],
   "source": [
    "building = Building(3)\n",
    "building.add_item('candle', 0)\n",
    "building.add_item('pipe', 1)\n",
    "building.add_item('shoe', 2)\n",
    "building.add_item('phone', 2)\n",
    "print(building.num_rooms())\n",
    "print(building.view_items(2))\n",
    "print(building.pop_item(2,1))\n",
    "print(building.view_items(2))"
   ]
  },
  {
   "cell_type": "markdown",
   "id": "69edeab7-1c0e-4516-aa98-7c279d53ff3f",
   "metadata": {},
   "source": [
    "## Building an Adventure Game, Part 2\n",
    "\n",
    "In this activity, you will build a Person object, which will interact with the Building object you developed before. There is no starter code, so you will need to start writing from scratch.\n",
    "\n",
    "The Person will be able to walk around the building, examine what objects are in the current room, pick up objects, and put down objects that were previously picked up.\n",
    "\n",
    "To do all these tasks, the Person will need to know the Building object it is interacting with. You should pass this object into the Person's initializer (think about the proper way to store it).\n",
    "\n",
    "For this part, do not add functionality to the Building object. Your Person should be able to function using only the methods you have already created above.\n",
    "\n",
    "Here is an example of how your Person should interact with a Building, along with the correct output.  Try to recreate this example *exactly*.\n",
    "\n",
    "```\n",
    "building = Building(3)\n",
    "building.add_item('candle', 0)\n",
    "building.add_item('pipe', 1)\n",
    "building.add_item('shoe', 2)\n",
    "building.add_item('phone', 2)\n",
    "\n",
    "zake = Person(building, starting_position = 1)\n",
    "zake.visible_items()\n",
    "```\n",
    "\n",
    "```['pipe']```\n",
    "\n",
    "```\n",
    "zake.get_item(0)\n",
    "zake.inventory\n",
    "```\n",
    "\n",
    "```['pipe']```\n",
    "\n",
    "```\n",
    "zake.move_right()\n",
    "zake.visible_items()\n",
    "```\n",
    "\n",
    "```['shoe', 'phone']```\n",
    "\n",
    "```\n",
    "zake.put_item(0)\n",
    "zake.visible_items()\n",
    "```\n",
    "\n",
    "```['shoe', 'phone', 'pipe']```"
   ]
  },
  {
   "cell_type": "code",
   "execution_count": 87,
   "id": "cef13344-618f-47bb-8b9b-dc2b515f4206",
   "metadata": {},
   "outputs": [],
   "source": [
    "class Person:\n",
    "\n",
    "    def __init__(self, building, starting_position = 0):\n",
    "        self.building = building\n",
    "        self.position = starting_position\n",
    "        self.inventory = []\n",
    "        \n",
    "    def visible_items(self):\n",
    "        return self.building.view_items(self.position)\n",
    "    \n",
    "    def move_right(self):\n",
    "        if self.position < self.building.num_rooms():\n",
    "            self.position += 1\n",
    "            \n",
    "    def move_left(self):\n",
    "        if self.position > 0:\n",
    "            self.position -=1\n",
    "            \n",
    "    def get_item(self, item_id):\n",
    "        self.inventory.append(self.building.pop_item(self.position, item_id))\n",
    "        \n",
    "    def put_item(self, item_id):\n",
    "        self.building.add_item(self.inventory.pop(item_id), self.position)"
   ]
  },
  {
   "cell_type": "code",
   "execution_count": 88,
   "id": "ad485fbd-1738-4b11-ad58-139c2ede46b7",
   "metadata": {},
   "outputs": [
    {
     "data": {
      "text/plain": [
       "['pipe']"
      ]
     },
     "execution_count": 88,
     "metadata": {},
     "output_type": "execute_result"
    }
   ],
   "source": [
    "building = Building(3)\n",
    "building.add_item('candle', 0)\n",
    "building.add_item('pipe', 1)\n",
    "building.add_item('shoe', 2)\n",
    "building.add_item('phone', 2)\n",
    "\n",
    "zake = Person(building, starting_position = 1)\n",
    "zake.visible_items()"
   ]
  },
  {
   "cell_type": "code",
   "execution_count": 89,
   "id": "b36ffad1-c9f6-4174-b157-1e35344ab71f",
   "metadata": {},
   "outputs": [
    {
     "data": {
      "text/plain": [
       "['pipe']"
      ]
     },
     "execution_count": 89,
     "metadata": {},
     "output_type": "execute_result"
    }
   ],
   "source": [
    "zake.get_item(0)\n",
    "zake.inventory"
   ]
  },
  {
   "cell_type": "code",
   "execution_count": 90,
   "id": "6c4a444c-28f7-4690-9054-0ae42d3bab98",
   "metadata": {},
   "outputs": [
    {
     "data": {
      "text/plain": [
       "['shoe', 'phone']"
      ]
     },
     "execution_count": 90,
     "metadata": {},
     "output_type": "execute_result"
    }
   ],
   "source": [
    "zake.move_right()\n",
    "zake.visible_items()"
   ]
  },
  {
   "cell_type": "code",
   "execution_count": 91,
   "id": "0c04539d-4428-48f1-803c-939ec95e71a2",
   "metadata": {},
   "outputs": [
    {
     "data": {
      "text/plain": [
       "['shoe', 'phone', 'pipe']"
      ]
     },
     "execution_count": 91,
     "metadata": {},
     "output_type": "execute_result"
    }
   ],
   "source": [
    "zake.put_item(0)\n",
    "zake.visible_items()"
   ]
  },
  {
   "cell_type": "markdown",
   "id": "c9c2c4f6-e5f9-40ce-b32c-7459ffc1674d",
   "metadata": {},
   "source": [
    "## Challenge Activities\n",
    "\n",
    "If you finish the above activities, here are some challenges for stretching your abilities.\n",
    "\n",
    "1. Refactor the code so that Persons have a method to check what other Persons are in the same room. Hint: this will require the Building object to know (have a reference to) all associated Person objects.\n",
    "2. Refactor the code so that the rooms are placed on a 2-dimensional grid. Find a way to specify which adjacent rooms have a door between them, and provide a method for a Person to check which directions they are able to move."
   ]
  },
  {
   "cell_type": "code",
   "execution_count": null,
   "id": "68ab91d4-163e-4b93-a9a7-fe94e21b537f",
   "metadata": {},
   "outputs": [],
   "source": []
  }
 ],
 "metadata": {
  "kernelspec": {
   "display_name": "Python 3",
   "language": "python",
   "name": "python3"
  },
  "language_info": {
   "codemirror_mode": {
    "name": "ipython",
    "version": 3
   },
   "file_extension": ".py",
   "mimetype": "text/x-python",
   "name": "python",
   "nbconvert_exporter": "python",
   "pygments_lexer": "ipython3",
   "version": "3.8.8"
  }
 },
 "nbformat": 4,
 "nbformat_minor": 5
}
