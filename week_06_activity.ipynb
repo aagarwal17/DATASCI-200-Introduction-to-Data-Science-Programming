{
 "cells": [
  {
   "cell_type": "markdown",
   "metadata": {},
   "source": [
    "# Unit 6 Live Session - Breakout Activities\n",
    "\n",
    "## Activity 1 -  Packages and Modules"
   ]
  },
  {
   "cell_type": "markdown",
   "metadata": {},
   "source": [
    "For this breakout activity, you will build your first package and first module as a team!  Please start this activity by choosing two people who will email to the group their solutions to HW 5 (the homework on functions).  We will use these functions to build modules and packages!\n",
    "\n",
    "#### Modules\n",
    "\n",
    "First, let's create two modules. Start by creating two .py files in the same directory as this notebook.  Name one \"wraps.py\" and the other \"piggy.py\".\n",
    "\n",
    "-  Inside wraps.py, save each of the functions one member of your team wrote for problem 5-1-1, \"Nested Functions\".  Import your \"wraps.py\" module, and call each of the functions below:"
   ]
  },
  {
   "cell_type": "code",
   "execution_count": null,
   "metadata": {
    "collapsed": true
   },
   "outputs": [],
   "source": []
  },
  {
   "cell_type": "markdown",
   "metadata": {},
   "source": [
    "\n",
    "- Insides piggy.py, save two different versions (e.g., one from each student shared) of the pig-latin function.  Make sure to give them unique names!  Below, import and call each of the pig latin functions!"
   ]
  },
  {
   "cell_type": "markdown",
   "metadata": {},
   "source": [
    "#### Packages!\n",
    "\n",
    "Please restart your kernel before completing this problem to clear out your imports from above.\n",
    "\n",
    "Now, let's make a package!  Create a subfolder, name it whatever you would like.  Make a copy of each of your modules inside this subfolder.  Then, make an \\__init__.py file.\n",
    "\n",
    "Use the \"help()\" command below to display the contents of your package and of each module in the package"
   ]
  },
  {
   "cell_type": "code",
   "execution_count": null,
   "metadata": {
    "collapsed": true
   },
   "outputs": [],
   "source": []
  },
  {
   "cell_type": "markdown",
   "metadata": {},
   "source": [
    "Run each function, from the package."
   ]
  },
  {
   "cell_type": "code",
   "execution_count": null,
   "metadata": {
    "collapsed": true
   },
   "outputs": [],
   "source": []
  },
  {
   "cell_type": "markdown",
   "metadata": {},
   "source": [
    "***Discuss***: What is the purpose of \\__init__.py?"
   ]
  },
  {
   "cell_type": "markdown",
   "metadata": {},
   "source": [
    "**Discuss**: What does the command \"sys.path()\" do?"
   ]
  },
  {
   "cell_type": "markdown",
   "metadata": {},
   "source": [
    "Please go to several of the folders that you find when you run the link below.  Can you find the *numpy* package?"
   ]
  },
  {
   "cell_type": "code",
   "execution_count": 1,
   "metadata": {},
   "outputs": [
    {
     "name": "stdout",
     "output_type": "stream",
     "text": [
      "c:\\Users\\aruna\\OneDrive - Temple University\\Coding\\DATASCI 200 Introduction to Data Science Programming\n",
      "c:\\Users\\aruna\\AppData\\Local\\Programs\\Python\\Python311\\python311.zip\n",
      "c:\\Users\\aruna\\AppData\\Local\\Programs\\Python\\Python311\\Lib\n",
      "c:\\Users\\aruna\\AppData\\Local\\Programs\\Python\\Python311\\DLLs\n",
      "\n",
      "C:\\Users\\aruna\\AppData\\Roaming\\Python\\Python311\\site-packages\n",
      "C:\\Users\\aruna\\AppData\\Roaming\\Python\\Python311\\site-packages\\win32\n",
      "C:\\Users\\aruna\\AppData\\Roaming\\Python\\Python311\\site-packages\\win32\\lib\n",
      "C:\\Users\\aruna\\AppData\\Roaming\\Python\\Python311\\site-packages\\Pythonwin\n",
      "c:\\Users\\aruna\\AppData\\Local\\Programs\\Python\\Python311\n",
      "c:\\Users\\aruna\\AppData\\Local\\Programs\\Python\\Python311\\Lib\\site-packages\n"
     ]
    }
   ],
   "source": [
    "import sys\n",
    "for place in sys.path:\n",
    "    print(place)"
   ]
  },
  {
   "cell_type": "markdown",
   "metadata": {},
   "source": [
    "**Discuss** Please open the \\__init__ file in the numpy package.  What do you see?"
   ]
  }
 ],
 "metadata": {
  "anaconda-cloud": {},
  "kernelspec": {
   "display_name": "Python 3",
   "language": "python",
   "name": "python3"
  },
  "language_info": {
   "codemirror_mode": {
    "name": "ipython",
    "version": 3
   },
   "file_extension": ".py",
   "mimetype": "text/x-python",
   "name": "python",
   "nbconvert_exporter": "python",
   "pygments_lexer": "ipython3",
   "version": "3.11.0"
  }
 },
 "nbformat": 4,
 "nbformat_minor": 1
}
