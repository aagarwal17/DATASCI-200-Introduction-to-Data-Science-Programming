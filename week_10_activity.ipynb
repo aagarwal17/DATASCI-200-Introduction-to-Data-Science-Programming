{
 "cells": [
  {
   "cell_type": "markdown",
   "metadata": {},
   "source": [
    "## Week 10 In-Class Activity"
   ]
  },
  {
   "cell_type": "code",
   "execution_count": null,
   "metadata": {},
   "outputs": [],
   "source": [
    "from IPython.display import Image\n",
    "import pandas as pd\n",
    "import numpy as np\n",
    "\n",
    "Image(\"pile_of_pandas.png\", width = 300)"
   ]
  },
  {
   "cell_type": "markdown",
   "metadata": {},
   "source": [
    "## Indexing Tips\n",
    "\n",
    "Indexing in Pandas is confusing - especially when you have integer indices"
   ]
  },
  {
   "cell_type": "code",
   "execution_count": null,
   "metadata": {},
   "outputs": [],
   "source": [
    "X = pd.DataFrame(np.arange(25).reshape((5,5)), \n",
    "                 index = ['First', 'Second', 'Third', 'Fourth', 'Fifth'], \n",
    "                 columns = ['A', 'B', 'C', 'D', 'E'])\n",
    "X"
   ]
  },
  {
   "cell_type": "markdown",
   "metadata": {},
   "source": [
    "How do you get the 17?\n",
    "\n",
    "We **strongly** recommend that you learn two indexing methods: loc and iloc.\n",
    "\n",
    "loc uses labels, iloc uses index position. These are usually all you need.\n",
    "\n",
    "Do not use ix, which sometimes uses labels and sometimes positions."
   ]
  },
  {
   "cell_type": "code",
   "execution_count": null,
   "metadata": {},
   "outputs": [],
   "source": [
    "X.loc['Fourth','C']"
   ]
  },
  {
   "cell_type": "code",
   "execution_count": null,
   "metadata": {},
   "outputs": [],
   "source": [
    "X.iloc[3,2]"
   ]
  },
  {
   "cell_type": "markdown",
   "metadata": {},
   "source": [
    "How would you get the 12, 13, and 18?"
   ]
  },
  {
   "cell_type": "code",
   "execution_count": null,
   "metadata": {},
   "outputs": [],
   "source": []
  },
  {
   "cell_type": "code",
   "execution_count": null,
   "metadata": {},
   "outputs": [],
   "source": []
  },
  {
   "cell_type": "code",
   "execution_count": null,
   "metadata": {},
   "outputs": [],
   "source": []
  },
  {
   "cell_type": "markdown",
   "metadata": {},
   "source": [
    "## Pandas Cheat Sheet\n",
    "\n",
    "Some of the most common commands you may want to use today:\n",
    "\n",
    "#### Pandas\n",
    "\n",
    "- .read_csv\n",
    "\n",
    "#### Series\n",
    "\n",
    "- .value_counts()\n",
    "- .describe()\n",
    "- .plot()\n",
    "- .sort_values()\n",
    "\n",
    "#### DataFrame\n",
    "\n",
    "- .shape\n",
    "- .index\n",
    "- .columns\n",
    "- .loc[row labels, column labels]\n",
    "- .iloc[rows, columns]\n",
    "- ['column name']\n",
    "- .drop()\n",
    "- .set_index()\n",
    "- .sort_values(by = 'column name')\n",
    "- .groupby()\n",
    "\n",
    "#### Groupby\n",
    "\n",
    "- .agg()"
   ]
  },
  {
   "cell_type": "markdown",
   "metadata": {},
   "source": [
    "## We're going to Vegas!\n",
    "\n"
   ]
  },
  {
   "cell_type": "code",
   "execution_count": null,
   "metadata": {},
   "outputs": [],
   "source": [
    "Image(\"welcome_vegas.jpg\", width = 500)"
   ]
  },
  {
   "cell_type": "code",
   "execution_count": null,
   "metadata": {},
   "outputs": [],
   "source": [
    "pd.options.display.float_format = '{:,.2f}'.format\n",
    "import matplotlib.pyplot as plt\n",
    "%matplotlib inline"
   ]
  },
  {
   "cell_type": "markdown",
   "metadata": {},
   "source": [
    "The file `vegas.csv` contains data taken from trip adviser reviews in 2015.  It was used in a paper, \n",
    "\n",
    "- Moro, S., Rita, P., & Coelho, J. (2017). Stripping customers' feedback on hotels through data mining: The case of Las Vegas Strip. Tourism Management Perspectives, 23, 41-52.\n",
    "\n",
    "You have been hired by Circus Circus - that's right!  that venerable icon of tasteful luxury! - to plan the next season of promotions.  In particular, the hotel is interested in questions like,\n",
    "\n",
    "- What customer segment shows the potential for growing their market?\n",
    "- What types of promotions are most likely to attract customers?\n",
    "- In the longer term, what investments are likely to be most profitable for the hotel?\n",
    "\n",
    "Here are two ways to access the data.  You can download from the UC Irvine Machine Learning Repository.  If you set your working directory correctly to the Google Drive folder, you can access it from there."
   ]
  },
  {
   "cell_type": "code",
   "execution_count": null,
   "metadata": {},
   "outputs": [],
   "source": [
    "Vegas = pd.read_csv('https://archive.ics.uci.edu/ml/machine-learning-databases/00397/LasVegasTripAdvisorReviews-Dataset.csv', delimiter=';')"
   ]
  },
  {
   "cell_type": "code",
   "execution_count": null,
   "metadata": {},
   "outputs": [],
   "source": [
    "# Vegas = pd.read_csv('vegas.csv', delimiter=';')"
   ]
  },
  {
   "cell_type": "markdown",
   "metadata": {},
   "source": [
    "### Data Orientation\n",
    "\n",
    "First, answer some very basic questions about the data: \n",
    "- How many rows and how many columns are there?\n",
    "- Did the variable names read from the csv correctly?\n",
    "- Does the Index make sense?  Are there extra indexing variables?"
   ]
  },
  {
   "cell_type": "code",
   "execution_count": null,
   "metadata": {},
   "outputs": [],
   "source": []
  },
  {
   "cell_type": "code",
   "execution_count": null,
   "metadata": {},
   "outputs": [],
   "source": []
  },
  {
   "cell_type": "markdown",
   "metadata": {},
   "source": [
    "Say you found \"extra\" index variables after reading in the data.  That might look like this:"
   ]
  },
  {
   "cell_type": "code",
   "execution_count": null,
   "metadata": {},
   "outputs": [],
   "source": [
    "Vegas2 = Vegas.assign(extra_index = pd.Series(range(Vegas.shape[0])))\n",
    "Vegas2.head()"
   ]
  },
  {
   "cell_type": "markdown",
   "metadata": {},
   "source": [
    "Option 1: set the index to the extra variable. How would you do this?"
   ]
  },
  {
   "cell_type": "code",
   "execution_count": null,
   "metadata": {},
   "outputs": [],
   "source": []
  },
  {
   "cell_type": "markdown",
   "metadata": {},
   "source": [
    "Option 2: drop the column with the extra variable. How would you do this?"
   ]
  },
  {
   "cell_type": "code",
   "execution_count": null,
   "metadata": {},
   "outputs": [],
   "source": []
  },
  {
   "cell_type": "markdown",
   "metadata": {},
   "source": [
    "## Fixing Column Names\n",
    "\n",
    "To make the code cleaner, it will be nice not to have spaces in the column names.  This is probably easiest to do with some regular expressions.  I'll also go all lowercase."
   ]
  },
  {
   "cell_type": "code",
   "execution_count": null,
   "metadata": {},
   "outputs": [],
   "source": [
    "Vegas.columns = Vegas.columns.str.replace('\\.*\\s+', '_').str.strip('.').str.lower()\n",
    "Vegas.head()"
   ]
  },
  {
   "cell_type": "markdown",
   "metadata": {},
   "source": [
    "Now we can access columns as attributes with the dot notation as shown below:"
   ]
  },
  {
   "cell_type": "code",
   "execution_count": null,
   "metadata": {},
   "outputs": [],
   "source": [
    "Vegas.period_of_stay.value_counts()"
   ]
  },
  {
   "cell_type": "markdown",
   "metadata": {},
   "source": [
    "## Customer Overview\n",
    "\n",
    "Let's learn about the customers overall.  \n",
    "- Where are they from? (user_country column)"
   ]
  },
  {
   "cell_type": "code",
   "execution_count": null,
   "metadata": {},
   "outputs": [],
   "source": []
  },
  {
   "cell_type": "markdown",
   "metadata": {},
   "source": [
    "- What kind of travelers are they? (traveler_type column)"
   ]
  },
  {
   "cell_type": "code",
   "execution_count": null,
   "metadata": {},
   "outputs": [],
   "source": []
  },
  {
   "cell_type": "markdown",
   "metadata": {},
   "source": [
    "- When did they stay in Vegas? (you will have to find the column to use)"
   ]
  },
  {
   "cell_type": "code",
   "execution_count": null,
   "metadata": {},
   "outputs": [],
   "source": []
  },
  {
   "cell_type": "markdown",
   "metadata": {},
   "source": [
    "- Which hotels did they stay in? (you will have to find the column to use)"
   ]
  },
  {
   "cell_type": "code",
   "execution_count": null,
   "metadata": {},
   "outputs": [],
   "source": []
  },
  {
   "cell_type": "markdown",
   "metadata": {},
   "source": [
    "## What about the customers of Circus Circus?\n",
    "\n",
    "Check to see what kind of travelers stay in Circus Circus, and how they compare to travelers overall."
   ]
  },
  {
   "cell_type": "code",
   "execution_count": null,
   "metadata": {},
   "outputs": [],
   "source": [
    "Vegas[Vegas.hotel_name == 'Circus Circus Hotel & Casino Las Vegas'].traveler_type.value_counts().plot(kind='bar')"
   ]
  },
  {
   "cell_type": "markdown",
   "metadata": {},
   "source": [
    "## Comparing Hotels\n",
    "\n",
    "Let's get some info about how Circus Circus compares to other hotels.  We'll need to use some groupby's.  First, what is the average review score for each hotel?"
   ]
  },
  {
   "cell_type": "code",
   "execution_count": null,
   "metadata": {},
   "outputs": [],
   "source": [
    "Vegas.score.groupby(Vegas.hotel_name).mean()"
   ]
  },
  {
   "cell_type": "markdown",
   "metadata": {},
   "source": [
    "## Breakout Activity: What customers like Circus-Circus the most?\n",
    "\n",
    "Use groupby operations to figure out what types of travelers give circus-circus the highest score."
   ]
  },
  {
   "cell_type": "code",
   "execution_count": null,
   "metadata": {},
   "outputs": [],
   "source": []
  },
  {
   "cell_type": "markdown",
   "metadata": {},
   "source": [
    "What user_country gives Circus-Circus the highest score?"
   ]
  },
  {
   "cell_type": "code",
   "execution_count": null,
   "metadata": {},
   "outputs": [],
   "source": []
  },
  {
   "cell_type": "markdown",
   "metadata": {},
   "source": [
    "## What's driving the scores of Circus-Circus?\n",
    "\n",
    "We want a hotel-level dataframe to hold the attributes of each hotel.  We can do this with a groupby, followed by an aggregate.  However, we need to apply different functions to different columns.  We can do this by passing in a dictionary."
   ]
  },
  {
   "cell_type": "code",
   "execution_count": null,
   "metadata": {},
   "outputs": [],
   "source": [
    "first_f = lambda x: x.iloc[0]\n",
    "f = {'score': np.mean,\n",
    "    'pool': first_f,\n",
    "    'gym': first_f,\n",
    "    'tennis_court': first_f,\n",
    "    'spa': first_f,\n",
    "    'casino': first_f,\n",
    "    'free_internet': first_f}"
   ]
  },
  {
   "cell_type": "code",
   "execution_count": null,
   "metadata": {},
   "outputs": [],
   "source": [
    "hotel_df = Vegas.groupby(Vegas.hotel_name).agg(f)\n",
    "hotel_df"
   ]
  },
  {
   "cell_type": "markdown",
   "metadata": {},
   "source": [
    "## Optional Activity: What do Couples care about?\n",
    "\n",
    "In your group, choose some upgrade that Circus-Circus could consider (for example, adding a pool).  Then look at travelers that are couples specifically, and see if there's evidence that they value that attribute.\n",
    "\n",
    "If you succeed and have time, you could try to generate a table that indicates how much different types of travelers value different hotel attributes."
   ]
  },
  {
   "cell_type": "code",
   "execution_count": null,
   "metadata": {},
   "outputs": [],
   "source": []
  }
 ],
 "metadata": {
  "hide_input": false,
  "kernelspec": {
   "display_name": "Python 3",
   "language": "python",
   "name": "python3"
  },
  "language_info": {
   "codemirror_mode": {
    "name": "ipython",
    "version": 3
   },
   "file_extension": ".py",
   "mimetype": "text/x-python",
   "name": "python",
   "nbconvert_exporter": "python",
   "pygments_lexer": "ipython3",
   "version": "3.8.11"
  }
 },
 "nbformat": 4,
 "nbformat_minor": 2
}
