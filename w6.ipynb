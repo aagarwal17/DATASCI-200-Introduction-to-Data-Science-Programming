{
 "cells": [
  {
   "cell_type": "code",
   "execution_count": 1,
   "metadata": {},
   "outputs": [
    {
     "data": {
      "text/html": [
       "<script src=\"js/showNotes.js\"></script>\n"
      ],
      "text/plain": [
       "<IPython.core.display.HTML object>"
      ]
     },
     "metadata": {},
     "output_type": "display_data"
    }
   ],
   "source": [
    "%%html\n",
    "<script src=\"js/showNotes.js\"></script>"
   ]
  },
  {
   "cell_type": "markdown",
   "metadata": {},
   "source": [
    "<meta name=\"viewport\" content=\"width=device-width, initial-scale=1\">\n",
    "<p style=\"font-size:9px;\">Version: Discussion version 1, \n",
    "    July 18, 2023 | Updated Oct 01, 2023; Updated Feb 10, 2024 [&copy; 2023 gb].</p>\n",
    "<hr />\n",
    "<p>&nbsp;</p>\n",
    "<img src=\"images/ischool-banner.png\" />\n",
    "<p>&nbsp;</p>\n",
    "<div style=\"height: 100px;color:#3B7EA1; font-size:24px; vertical-align:top; text-align:left;\">\n",
    "    Computing for Data Science\n",
    "    <img style=\"width:20%; vertical-align:top; float: left; padding-right: 20px; display: block; margin-left: 0; margin-right: auto;\" \n",
    "         src=\"images/ucb_logo.png\"/>    \n",
    "</div>"
   ]
  },
  {
   "cell_type": "markdown",
   "metadata": {},
   "source": [
    "<hr />\n",
    "<h1 style=\"font-size:36; color: #003262;\">Current Weekly Syllabus Topics</h1>\n",
    "<table width=\"100%;\">\n",
    "<tr>\n",
    "<td style=\"text-align:left; vertical-align:top;\">\n",
    "<ol>\n",
    "    <li>\n",
    "    <ul>\n",
    "        <li>Computer Architecture Basics; \n",
    "        Bash, Git, GitHub;</li>\n",
    "        <li>Command Line;</li>\n",
    "        <li>Manipulating Files &amp; Directories;\n",
    "        VIM;\n",
    "        Command Line intro;</li>\n",
    "    </ul>\n",
    "</li>\n",
    "<li>\n",
    "    <ul>\n",
    "    <li>Programming Lang Orientation: \n",
    "    <li>jupyter; python and command line;\n",
    "    objects &amp; types;\n",
    "    <li>variables (numbers and strings), formatting strings;</li>\n",
    "    <li>control while loops</li>\n",
    "    </ul>\n",
    "</li>\n",
    "<li>\n",
    "    <ul>\n",
    "        <li>Sequences</li>\n",
    "        <li>Lists, Tuples &amp; Mutability</li>\n",
    "        <li>Ranges</li>\n",
    "        <li>Dictionaries, Nested Lists &amp; dictionaries</li>\n",
    "    </ul>\n",
    "</li>\n",
    "</ol>\n",
    "</td>\n",
    "<td style=\"text-align:left; vertical-align:top;\">\n",
    "<ol start=\"4\">\n",
    "<li>\n",
    "    <ul>\n",
    "        <li>For Loops\n",
    "        <li>Exits\n",
    "        <li>Algorithms: searching [exhaustive, bisection, heron&rsquo;s methods]</li>\n",
    "        <li>Comprehensions</li>\n",
    "    </ul>\n",
    "</li>\n",
    "<li>\n",
    "    <ul>\n",
    "        <li>Functions</li>\n",
    "        <li>Calling, Nesting</li>\n",
    "        <li>Namespaces, Global and Local Vars</li>\n",
    "        <li>Recursion; nested dictionaries &amp; recursion</li>\n",
    "        <li>Parameters</li>\n",
    "        <li>Exceptions</li>\n",
    "        <li>Lambdas</li>\n",
    "    </ul>\n",
    "</li>\n",
    "<li>\n",
    "    <ul  style='background-color: #FDB515;'>\n",
    "        <li>Complexity\n",
    "        <li>Measuring time and Steps</li>\n",
    "        <li>Big &Theta;</li>\n",
    "        <li>Searching and Subsequences\n",
    "        <li>Modules &amp; Packages</li>\n",
    "    </ul>\n",
    "</li>\n",
    "</ol>\n",
    "</td>\n",
    "    </tr>\n",
    "<table>\n",
    "<table width=\"100%\">\n",
    "    <tr>\n",
    "<td style=\"text-align:left; vertical-align:top;\">\n",
    "<ol start=\"7\">\n",
    "<li>\n",
    "    <ul>\n",
    "        <li>Classes</li>\n",
    "        <li>Attributes, Binding</li>\n",
    "        <li>Initializing and Control</li>\n",
    "        <li>&UnderBar;&UnderBar;str&UnderBar;&UnderBar; and &UnderBar;&UnderBar;repr&UnderBar;&UnderBar;\n",
    "        </li>\n",
    "    </ul>\n",
    "</li>\n",
    "<li>\n",
    "    <ul>\n",
    "        <li>Object-Oriented Programming</li>\n",
    "        <li>Inheritance</li>\n",
    "        <li>Polymorphism</li>\n",
    "        <li>Magic Methods</li>\n",
    "    </ul>\n",
    "</li>\n",
    "<li>\n",
    "    <ul>\n",
    "    <li>PyData Ecosystem and Numpy</li>\n",
    "    <li>Boolean selection and types</li>\n",
    "    <li>Vectorization &amp; Multidimensional Arrays</li>\n",
    "    <li>Slicing and combining</li>\n",
    "    <li>Linear model in matrix form, Numpy</li>\n",
    "    </ul>\n",
    "</li>\n",
    "</ol>\n",
    "</td>\n",
    "<td style=\"text-align:left; vertical-align:top;\">\n",
    "<ol start=\"10\">\n",
    "<li>\n",
    "    <ul>\n",
    "        <li>Pandas &amp; Data Analysis</li>\n",
    "        <li>Series and Data Frames</li>\n",
    "        <li>Bracket index, log &amp; iloc</li>\n",
    "        <li>Functions and DataFrames</li>\n",
    "        <li>Sorting</li>\n",
    "    </ul>\n",
    "</li>\n",
    "<li>\n",
    "    <ul>\n",
    "        <li>Datasets and EDA</li>\n",
    "        <li>Fixing Data Issues (Cleansing)</li>\n",
    "        <li>Answering Questions</li>\n",
    "    </ul>\n",
    "</li>\n",
    "<li>\n",
    "    <ul>\n",
    "        <li>Plotting &amp; Visualization</li>\n",
    "        <li>Libraries (Matplotlib, Seaborn, etc.)</li>\n",
    "        <li>Plot features</li>\n",
    "    </ul>\n",
    "</li>\n",
    "</ol>\n",
    "</td>\n",
    "</tr>\n",
    "</table>\n",
    "<table width=\"100%\">\n",
    "<tr>\n",
    "<td style=\"text-align:left; vertical-align:top;\">\n",
    "<ol start=\"13\">\n",
    "    <li>\n",
    "    <ul>\n",
    "        <li>Pandas Aggregation &amp; Group Operations</li>\n",
    "        <li>Series.groupby</li>\n",
    "        <li>DataFrame.groupby</li>\n",
    "        <li>Aggregation</li>\n",
    "        <li>Pivot Tables &amp; Crosstabs</li>\n",
    "    </ul>\n",
    "</li>\n",
    "<li>\n",
    "    <ul>\n",
    "        <li>Presentations (so no time to cover...\n",
    "        <li>Texts, unicode, decoding errors, regex, time series, etc.)</li>\n",
    "    </ul>\n",
    "</li>\n",
    "</ol>\n",
    "</td>\n",
    "</tr>\n",
    "</table>"
   ]
  },
  {
   "cell_type": "markdown",
   "metadata": {},
   "source": [
    "<p style=\"font-size: 16px; line-height: 22px; color: #3B7EA1;\">\n",
    "    Check-In:  how was last week?\n",
    "</p>"
   ]
  },
  {
   "cell_type": "markdown",
   "metadata": {},
   "source": [
    "<hr />\n",
    "<h1 style=\"font-size:36; color: #003262;\">\n",
    "Week 6 Topics</h1>\n",
    "<p>\n",
    "    <ol>\n",
    "        <li>Complexity</li>\n",
    "        <li>Measuring time and Steps</li>\n",
    "        <li>Big &Theta;, Big &Omega;</li>\n",
    "        <li>Searching and Subsequences\n",
    "        <li>Modules &amp; Packages; Importing</li>\n",
    "     </ol>\n",
    "</p>"
   ]
  },
  {
   "cell_type": "markdown",
   "metadata": {},
   "source": [
    "<hr />\n",
    "<div>\n",
    "    <p>\n",
    "        <img src=\"images/IntroIcon.png\" style=\"float:left; padding:10px; width:50px; text-align:top;\"/>\n",
    "        <span  style=\"color: #3B7EA1;font-size:24px;\">Introduction</span>\n",
    "    </p>\n",
    "    <p>Today&rsquo;s topics focus on becoming sensitive to computational efficiency, thinking about different ways to complete the same task, and introduces us to modules: libraries of code that usually (but not always) are optimized to perform tasks more efficiently.  We examine some main themes and practice our own libraries.</p>\n",
    "    <p><b>Optional Detailed Notebook</b>\n",
    "        <ol>\n",
    "            <li>There&rsquo;s an optional notebook detailing examples of searching and sorting and more: <a href=\"optional/w6_OptionalDetails.ipynb\" target=\"new\">Optional Details and Images</a></li>\n",
    "            <li>Data Structure Reading</li><ol>\n",
    "</div>"
   ]
  },
  {
   "cell_type": "markdown",
   "metadata": {},
   "source": [
    "<p>By way of introducing the idea ... should we <i>sort</i> the source data first and then search or use a permutation ... or perhaps some other technique?</p>\n",
    "<img src=\"search-demo-1.jpg\"/>"
   ]
  },
  {
   "cell_type": "markdown",
   "metadata": {},
   "source": [
    "<h2 style=\"background-color: #003262; color:white; border-radius: 4px; padding: 8px;\">\n",
    "    Complexity\n",
    "</h2>\n",
    "<p>\n",
    "    Definitions: <b>Space</b> complexity refers to the amount of physical RAM and resources for computing as the amount of data increases; <b>Time</b> complexity refers to the way algorithms perform given increasingly large amounts of data and the number of steps needed in the algorithm to process these data.</p>\n",
    "    <p>Complexity analysis is a big topic, richer than we can cover in depth here.  The main point, imho, is to get a sense of writing more efficient code by considering how well an algorithm performs as it processes more data.  In short, we improve efficiency by having less lines of code (hence comprehensions and lambda), removing extrandeous data <i>before</i> and if possible <i>sorting</i> before processing, and using RAM efficiently.</p>\n",
    "    <h3>But wait!</h3><p>Notice the funky crossover of the lines towards the bottom left of the plots - the yellow line looks best - at first - but as the amount of data increases, that model may degrade.  BTW it&rsquo;s not the end of the world to use nested for loops if that&rsquo;s the best way to solve the job ... get the logic first, then look for efficiencies.</p>\n",
    "<hr />"
   ]
  },
  {
   "cell_type": "markdown",
   "metadata": {},
   "source": [
    "<table>\n",
    "    <tr>\n",
    "        <td width=\"50%\">\n",
    "            <p>Main Notations - ok</p>\n",
    "            <a href=\"w6_images/big-o-3.png\" target=\"new\"><img src=\"w6_images/big-o-3.png\" /></a>\n",
    "        </td>\n",
    "        <td>\n",
    "            <p>Showing operations growth</p>\n",
    "            <a href=\"w6_images/growthrateBigO.jpg\" target=\"new\"><img src=\"w6_images/growthrateBigO.jpg\" /></a>\n",
    "        </td>\n",
    "    </tr>\n",
    "    <tr>\n",
    "        <td colspan=\"2\" style=\"text-align: center; font-size:18px;\">Summary</td>\n",
    "    </tr>\n",
    "    <tr>\n",
    "        <td>\n",
    "            <table>\n",
    "<tr><td>constant</td><td>Ο(1)</td></tr>\n",
    "                <tr><td>logarithmic</td><td>Ο(log <i>n</i>)</td></tr>\n",
    "<tr><td>linear</td><td>Ο(<i>n</i>)</td></tr>\n",
    "<tr><td>n log n</td><td>Ο(<i>n</i> log <i>n</i>)</td></tr>\n",
    "                <tr><td>quadratic</td><td>Ο(n<sup>2</sup>)</td></tr>\n",
    "                <hr />\n",
    "<tr><td>cubic</td><td>Ο(<i>n</i>3)</td></tr>\n",
    "<tr><td>polynomial</td><td><i>n</i>Ο(1)</td></tr>\n",
    "<tr><td>exponential</td><td>2!(n)</td></tr></table>\n",
    "        </td>\n",
    "        <td>\n",
    "            <a href=\"w6_images/big-O-2.png\" target='new'><img src=\"w6_images/big-O-2.png\"/></a>\n",
    "        </td>\n",
    "    </tr>\n",
    "</table>"
   ]
  },
  {
   "cell_type": "markdown",
   "metadata": {},
   "source": [
    "<h2 style=\"background-color: #003262; color:white; border-radius: 4px; padding: 8px;\">\n",
    "    Measuring time and steps\n",
    "</h2>\n",
    "    <p>There are several measures to note (and may have encountered):</p>\n",
    "    <ul>\n",
    "        <li><b>Big O</b> - the worst-case scenario of our code&rsquo;s operation, aka the <b>lower bounds</b></li>\n",
    "        <li><b>Big &Omega;</b> - the best-case scenario, aka the <b>upper bounds</b>, </li>\n",
    "        <li><b>Big &Theta;</b> - the average case; since sometimes the average case can be the best or the worst, Big &Theta; is kinda unknowable - but we can guess</li>\n",
    "    <li><b>Small &omicron;</b> - a special measure for comparing algorith performance - not used in this course.</li>\n",
    "    </ul>\n",
    "<p><b>&Theta;(1)</b> Asymptotic growth is defined as <code>f(x) = &Omega;(g(x))</code>; the functions f(x) and f(g) such that <code>|f(x)| &lt;= k * |g(x)|</code>.  Since constants (c) don&rsquo;t influence the outcome, they are dropped.  If a single command takes 1 &ldquo;execution&rdquo;, working through a set of x items one by one is reduced to &Theta;(1) some people say it&rsquo;s &Theta;(c), it&rsquo;s linear (e.g., 1 second to do 1 command; 50 commands = 50 seconds ...). </p>\n",
    "<p>A common example of <b>&Theta;(n<sup>2</sup>)</b> is a nested for loop: if one for-loop is &Theta;(n), two of &lsquo;em is &Theta;(n<sup>2</sup>).</p>\n",
    "<p>Notice the jumble of crossing lines when the elements are few and how rapidly and how differently performance changes.</p>\n",
    "<hr />\n",
    "<h3>Notes:</h3>\n",
    "<p>We <u>aren&rsquo;t</u> going to focus in depth on Big O and Big &Theta;.  For more read below notes.</p>\n",
    "<p>Note also that there&rsquo;s <u>space complexity</u> - or how increasing volumes of data impact the storage and processing capabilities of the physical computing machine.  We won't be discussing this at the moment.  It is, tho, the rationale for <i>information ecologies</i>, like Hadoop, that you&rsquo;ll encounter later.</p>"
   ]
  },
  {
   "cell_type": "markdown",
   "metadata": {},
   "source": [
    "<hr />\n",
    "<h2 style=\"background-color: #003262; color:white; border-radius: 4px; padding: 8px;\">\n",
    "    Complexity\n",
    "    </h2>\n",
    "<p>Optional: See <a href=\"https://towardsdatascience.com/understanding-time-complexity-with-python-examples-2bda6e8158a7\" target=\"new\">this page</a> for great review with examples.</p><br />\n",
    "    <div>\n",
    "<p>\n",
    "        <img src=\"images/hands-on.png\" style=\"float:left; padding:10px; width:100px;\"/>\n",
    "        <span  style=\"color: #3B7EA1;font-size:18px;\">Hands On ...</span>  What do you think the &Theta; are for these examples?\n",
    "    </p>\n",
    "<div>"
   ]
  },
  {
   "cell_type": "code",
   "execution_count": 3,
   "metadata": {},
   "outputs": [
    {
     "data": {
      "text/html": [
       "<button style=\"background-color:rgb(129,156,19);color:white;\" onclick=\"loadDoc('nb_answers/BigThetaNotes.txt', '1')\">Read More</button>\n",
       "<p id=\"showNotes1\"></p>\n"
      ],
      "text/plain": [
       "<IPython.core.display.HTML object>"
      ]
     },
     "metadata": {},
     "output_type": "display_data"
    }
   ],
   "source": [
    "%%html\n",
    "<button style=\"background-color:rgb(129,156,19);color:white;\" onclick=\"loadDoc('nb_answers/BigThetaNotes.txt', '1')\">Read More</button>\n",
    "<p id=\"showNotes1\"></p>"
   ]
  },
  {
   "cell_type": "markdown",
   "metadata": {},
   "source": [
    "<hr />\n",
    "<p>Below are some examples to consider ... and after we'll see what they are expressed as &Theta;.</p>"
   ]
  },
  {
   "cell_type": "code",
   "execution_count": 2,
   "metadata": {},
   "outputs": [
    {
     "name": "stdout",
     "output_type": "stream",
     "text": [
      "5\n",
      "23\n",
      "25\n"
     ]
    }
   ],
   "source": [
    "# example 1:\n",
    "print(5)\n",
    "print(23)\n",
    "print(25)"
   ]
  },
  {
   "cell_type": "code",
   "execution_count": 4,
   "metadata": {},
   "outputs": [],
   "source": [
    "steps = []\n",
    "def test_1(n):\n",
    "    return 2*n\n",
    "\n",
    "for i in range(1, 100):\n",
    "    steps.append(test_1(i))"
   ]
  },
  {
   "cell_type": "code",
   "execution_count": 5,
   "metadata": {},
   "outputs": [
    {
     "name": "stdout",
     "output_type": "stream",
     "text": [
      "4   4\n",
      "4   5\n",
      "4   6\n",
      "4   8\n",
      "5   4\n",
      "5   5\n",
      "5   6\n",
      "5   8\n",
      "6   4\n",
      "6   5\n",
      "6   6\n",
      "6   8\n",
      "8   4\n",
      "8   5\n",
      "8   6\n",
      "8   8\n"
     ]
    }
   ],
   "source": [
    "def test_2(items):\n",
    "    for item in items:\n",
    "        for item2 in items:\n",
    "            print(item, ' ' ,item2)\n",
    "\n",
    "test_2([4, 5, 6, 8])"
   ]
  },
  {
   "cell_type": "code",
   "execution_count": 6,
   "metadata": {},
   "outputs": [
    {
     "name": "stdout",
     "output_type": "stream",
     "text": [
      "Beetlejuice.\n",
      "Beetlejuice.\n",
      "Beetlejuice.\n"
     ]
    }
   ],
   "source": [
    "for i in range(3):\n",
    "    print(\"Beetlejuice.\")"
   ]
  },
  {
   "cell_type": "code",
   "execution_count": 7,
   "metadata": {},
   "outputs": [
    {
     "data": {
      "text/html": [
       "<button style=\"background-color:rgb(129,156,19);color:white;\" onclick=\"loadDoc('nb_answers/w6_ex2.txt', '2')\">Show Answer</button>\n",
       "<p id=\"showNotes2\"></p>\n"
      ],
      "text/plain": [
       "<IPython.core.display.HTML object>"
      ]
     },
     "metadata": {},
     "output_type": "display_data"
    }
   ],
   "source": [
    "%%html\n",
    "<button style=\"background-color:rgb(129,156,19);color:white;\" onclick=\"loadDoc('nb_answers/w6_ex2.txt', '2')\">Show Answer</button>\n",
    "<p id=\"showNotes2\"></p>"
   ]
  },
  {
   "cell_type": "markdown",
   "metadata": {},
   "source": [
    "<hr />\n",
    "<div style=\"background-color: #003262; color:white; border-radius: 4px; padding: 8px;\">\n",
    "    <h2>Measuring Time &amp; Steps</h2>\n",
    "</div>"
   ]
  },
  {
   "cell_type": "markdown",
   "metadata": {},
   "source": [
    "<p style=\"font-size: 16px; line-height: 22px; color: #3B7EA1;\"><b>Measuring Time:</b></p>\n",
    "<p>Recall from week 4 we saw a number of algorithm examples [Exhaustive, Bisection, Brute Force, Heron's Method].  But there are <i>many</i> ways to achieve an acceptable searching solution.  Recall, too, that there's both <b>time complexity</b> and <b>space complexity</b>.  We're limited here to time.  So let's focus on solutions that address the <b>number of steps</b>.</p>\n",
    "<p>Below we have to vars (<code>i</code> [for integer] and the values from the list <code>myNumbers</code>).  So we use map to feed data from these two variables into the lambda function for processing and then storing the result in <code>result</code>.\n",
    "</p>\n",
    "<p>Notice that instead of two for-loops (which = &Theta;(n<sup>2</sup>), we can use a single line of code:<br /><code>result = list(map(lambda <span style=\"color:maroon\">i</span>, <span style=\"color:violet\">j</span>: <span style=\"color:maroon\">i</span> * <span style=\"color:violet\">j</span>, <span style='color:blue;'>firstListA</span>, <span style='color:orange;'>secondListB</span>))</p>"
   ]
  },
  {
   "cell_type": "code",
   "execution_count": 8,
   "metadata": {},
   "outputs": [
    {
     "name": "stdout",
     "output_type": "stream",
     "text": [
      "[5, 9, 10, 6, 12, 2]\n"
     ]
    }
   ],
   "source": [
    "A = [1, 3, 5, 6, 4, 2]\n",
    "B = [5, 3, 2, 1, 3, 1]\n",
    "result = list(map(lambda i, j: i * j, A, B))\n",
    "print(result)"
   ]
  },
  {
   "cell_type": "markdown",
   "metadata": {},
   "source": [
    "<blockquote>\n",
    "    <p>What if we wanted to sum the list without using for-loop?</p>\n",
    "    <p>We can make even more efficient versions than the demo here.  This uses an <code>imported module</code>.  Instead of importing the entire functools package, we're selecting from to import only what we need.</p>\n",
    "</blockquote>"
   ]
  },
  {
   "cell_type": "code",
   "execution_count": 9,
   "metadata": {},
   "outputs": [
    {
     "name": "stdout",
     "output_type": "stream",
     "text": [
      "36\n"
     ]
    }
   ],
   "source": [
    "A = [1, 3, 5, 6, 4, 2]\n",
    "B = [5, 3, 2, 1, 3, 1]\n",
    "running_sumA = 0\n",
    "running_sumB = 0\n",
    "for i in range(0, len(A)):\n",
    "    running_sumA += A[i]\n",
    "for j in range(0, len(B)):\n",
    "    running_sumB += B[j]\n",
    "print(running_sumA + running_sumB)"
   ]
  },
  {
   "cell_type": "code",
   "execution_count": 10,
   "metadata": {},
   "outputs": [
    {
     "name": "stdout",
     "output_type": "stream",
     "text": [
      "36\n"
     ]
    }
   ],
   "source": [
    "# ALTERNATIVE use the built-in Python modules\n",
    "\n",
    "from functools import reduce\n",
    "\n",
    "A = [1, 3, 5, 6, 4, 2]\n",
    "B = [5, 3, 2, 1, 3, 1]\n",
    "resultA = reduce((lambda i, j: i + j), A)\n",
    "resultB = reduce((lambda i, j: i + j), B)\n",
    "print(resultA + resultB)"
   ]
  },
  {
   "cell_type": "code",
   "execution_count": 11,
   "metadata": {},
   "outputs": [
    {
     "name": "stdout",
     "output_type": "stream",
     "text": [
      "36\n"
     ]
    }
   ],
   "source": [
    "result = list(map(lambda i, j: reduce((lambda i, j: i + j), A) + reduce((lambda i, j: i + j), B), A, B))\n",
    "print(result[0])"
   ]
  },
  {
   "cell_type": "markdown",
   "metadata": {},
   "source": [
    "<p>In this <b>example</b> here we check for an element in a list in a non-linear search and options.</p>"
   ]
  },
  {
   "cell_type": "code",
   "execution_count": 12,
   "metadata": {},
   "outputs": [
    {
     "ename": "IndentationError",
     "evalue": "expected an indented block after 'if' statement on line 23 (123487361.py, line 23)",
     "output_type": "error",
     "traceback": [
      "\u001b[0;36m  Input \u001b[0;32mIn [12]\u001b[0;36m\u001b[0m\n\u001b[0;31m    if x in list(n):\u001b[0m\n\u001b[0m                    ^\u001b[0m\n\u001b[0;31mIndentationError\u001b[0m\u001b[0;31m:\u001b[0m expected an indented block after 'if' statement on line 23\n"
     ]
    }
   ],
   "source": [
    "def linearSearch(a, n, key):\n",
    "\n",
    "    # Traverse the given array, a[]\n",
    "    for i in range(0, n):\n",
    "        # Check if a[i] is equal to key\n",
    "        if (a[i] == key):\n",
    "            return True\n",
    "    return False\n",
    "\n",
    "# Driver Code\n",
    "\n",
    "# Given Input\n",
    "arr = 2, 3, 4, 10, 40\n",
    "x = 30\n",
    "n = len(arr)\n",
    "\n",
    "# Function Call\n",
    "if (linearSearch(arr, n, x)):\n",
    "    print(\"Element is present in array\")\n",
    "else:\n",
    "    print(\"Element is not present in array\")\n",
    "    \n",
    "if x in list(n):"
   ]
  },
  {
   "cell_type": "markdown",
   "metadata": {},
   "source": [
    "<hr />\n",
    "<p>There are several ways of measuring execution time.  Using the <b>time</b> module is the easiest; there's also process_time; and python's <b>timeit</b> module.  [Unix has a timer, too.]"
   ]
  },
  {
   "cell_type": "code",
   "execution_count": 13,
   "metadata": {},
   "outputs": [
    {
     "name": "stdout",
     "output_type": "stream",
     "text": [
      "Sum of first 1 million numbers is: 499999500000\n",
      "Execution time: 3.111212968826294 seconds\n"
     ]
    }
   ],
   "source": [
    "import time\n",
    "\n",
    "# get the start time\n",
    "st = time.time()\n",
    "\n",
    "# main program\n",
    "# find sum to first 1 million numbers\n",
    "sum_x = 0\n",
    "for i in range(1000000):\n",
    "    sum_x += i\n",
    "\n",
    "# wait for 3 seconds\n",
    "time.sleep(3)\n",
    "print('Sum of first 1 million numbers is:', sum_x)\n",
    "\n",
    "# get the end time\n",
    "et = time.time()\n",
    "\n",
    "# get the execution time\n",
    "elapsed_time = et - st\n",
    "print('Execution time:', elapsed_time, 'seconds')"
   ]
  },
  {
   "cell_type": "code",
   "execution_count": 14,
   "metadata": {},
   "outputs": [
    {
     "name": "stdout",
     "output_type": "stream",
     "text": [
      "Sum of first 1 million numbers is: 499999500000\n",
      "CPU Execution time: 0.10939100000000002 seconds\n"
     ]
    }
   ],
   "source": [
    "import time\n",
    "\n",
    "# get the start time\n",
    "st = time.process_time()\n",
    "\n",
    "# main program\n",
    "# find sum to first 1 million numbers\n",
    "sum_x = 0\n",
    "for i in range(1000000):\n",
    "    sum_x += i\n",
    "\n",
    "# wait for 3 seconds\n",
    "time.sleep(3)\n",
    "print('Sum of first 1 million numbers is:', sum_x)\n",
    "\n",
    "# get the end time\n",
    "et = time.process_time()\n",
    "\n",
    "# get execution time\n",
    "res = et - st\n",
    "print('CPU Execution time:', res, 'seconds')"
   ]
  },
  {
   "cell_type": "code",
   "execution_count": 15,
   "metadata": {},
   "outputs": [
    {
     "name": "stdout",
     "output_type": "stream",
     "text": [
      "Addition: 499999500000\n",
      "Addition: 499999500000\n",
      "Addition: 499999500000\n",
      "Addition: 499999500000\n",
      "Addition: 499999500000\n",
      "Execution time is 0.021503703400230733 seconds\n"
     ]
    }
   ],
   "source": [
    "import timeit\n",
    "\n",
    "# print addition of first 1 million numbers\n",
    "def addition():\n",
    "    print('Addition:', sum(range(1000000)))\n",
    "\n",
    "# run same code 5 times to get measurable data\n",
    "n = 5\n",
    "\n",
    "# calculate total execution time\n",
    "result = timeit.timeit(stmt='addition()', globals=globals(), number=n)\n",
    "\n",
    "# calculate the execution time\n",
    "# get the average execution time\n",
    "print(f\"Execution time is {result / n} seconds\")"
   ]
  },
  {
   "cell_type": "markdown",
   "metadata": {},
   "source": [
    "<hr />\n",
    "<div style=\"background-color: #003262; color:white; border-radius: 4px; padding: 8px;\">\n",
    "    <h2>\n",
    "    Searching and Subsequences\n",
    "    </h2>\n",
    "</div>"
   ]
  },
  {
   "cell_type": "markdown",
   "metadata": {},
   "source": [
    "<p>Recall a sequence [lists, bytearrays, strings, tuples, range, and bytes] is a positionally ordered collection of items. And you can refer to any item in the sequence by using its index number e.g., s[0] and s[1].  In Python, the sequence index starts at 0, not 1. So the first element is s[0] and the second element is s[1]. If the sequence s has n items, the last item is s[n-1].</p>\n",
    "<p><ol>\n",
    "    <li>Counting elements of a Python sequence: \n",
    "        <code>len()</code> [returns a value] and \n",
    "        <code>in</code> [returns True/False]</li>\n",
    "    <li>Finding the index of an item in a Python sequence \n",
    "        [<code>.index(<i>element to find</i>]</code>) \n",
    "        returns the first occurrence; to find after a starting \n",
    "        point[<code>.index(e, i)</code>]</li>\n",
    "</ol>"
   ]
  },
  {
   "cell_type": "code",
   "execution_count": 16,
   "metadata": {},
   "outputs": [
    {
     "data": {
      "text/html": [
       "<button style=\"background-color:rgb(129,156,19);color:white;\" \n",
       "onclick=\"loadDoc('nb_answers/binarySearchAndInsertion.txt', '5')\">\n",
       "Binary Search and Insertion Example</button><p id=\"showNotes5\"></p>\n"
      ],
      "text/plain": [
       "<IPython.core.display.HTML object>"
      ]
     },
     "metadata": {},
     "output_type": "display_data"
    }
   ],
   "source": [
    "%%html\n",
    "<button style=\"background-color:rgb(129,156,19);color:white;\" \n",
    "onclick=\"loadDoc('nb_answers/binarySearchAndInsertion.txt', '5')\">\n",
    "Binary Search and Insertion Example</button><p id=\"showNotes5\"></p>"
   ]
  },
  {
   "cell_type": "markdown",
   "metadata": {},
   "source": [
    "<h2>Note the optional demo notebook</h2>\n",
    "<p>This <a hef=\"optional/w6_OptionalDetails.ipynb\" target=\"new\">nb shows details</a> of how data are moved around during searching, using several techniques (Bubble, Binary, Recursion, Merge Sort, and more).</p>"
   ]
  },
  {
   "cell_type": "markdown",
   "metadata": {},
   "source": [
    "<hr/>\n",
    "<hr />\n",
    "<div style=\"background-color: #003262; color:white; border-radius: 4px; padding: 8px;\">\n",
    "    <h2>Modules and Packages</h2>\n",
    "</div>\n",
    "<p>\n",
    "        <img src=\"images/DiscussIcon.png\" style=\"float:left; padding:10px; width:50px;\"/>\n",
    "        <span style=\"color: #3B7EA1;font-size:18px;\">Demo</span>\n",
    "</p>\n",
    "<p>Modules/packages/libraries of code are <code>import</code>ed at the top of our scripts.  Import python&rsquo;s built-in modules, then 3rd party ones, then your own - to avoid function name conflicts.</p>\n",
    "<p>Some of the most popular/useful libraries are <code>matplotlib</code>, <code>numpy</code>, <code>pandas</code>, <code>nltk</code>, <code>Scikit-Learn</code>, <code>SciPy</code>, and many others.  One module you used this week is the useful <code>itertools</code></p>\n",
    "<p>For a list of very useful examples, see <a href=\"https://docs.python.org/3/library/itertools.html\" target=\"new\">the documentation.</a></p>\n",
    "<p>How we import the libraries impacts how they appear in the code.</p>\n",
    "<p>\n",
    "        <img src=\"images/hands-on.png\" style=\"float:left; padding:10px; width:100px;\"/>\n",
    "    <span  style=\"color: #3B7EA1;font-size:18px;\">Demo</span>  Notice the import statements and the alias <code>as</code>; and note the relationship between the import statements and the actual directory structure.\n",
    "    </p>"
   ]
  },
  {
   "cell_type": "markdown",
   "metadata": {},
   "source": [
    "<table width=\"100%\">\n",
    "    <tr>\n",
    "        <td width=\"50%\">\n",
    "            <a href=\"images/package-win.jpg\" target=\"new\">\n",
    "                <img src=\"images/package-win.jpg\"/></a>\n",
    "        <td><a href=\"images/package-mac.jpg\" target=\"new\">\n",
    "            <img src=\"images/package-mac.jpg\"/></a>\n",
    "        </td>\n",
    "    </tr>\n",
    "</table>"
   ]
  },
  {
   "cell_type": "code",
   "execution_count": 17,
   "metadata": {},
   "outputs": [
    {
     "name": "stdout",
     "output_type": "stream",
     "text": [
      "This is the main script.\n",
      "We're calling the library using the import statement and the alias of w.\n",
      "And so access the function (show_the_welcome) with the alias: w.show_the_welcome()\n",
      "Bonjour\n",
      "你好\n",
      "Good day.\n",
      "TEST OF CHRIS\n"
     ]
    },
    {
     "data": {
      "text/plain": [
       "'ALL DONE'"
      ]
     },
     "execution_count": 17,
     "metadata": {},
     "output_type": "execute_result"
    }
   ],
   "source": [
    "# this is a test folder.\n",
    "import top_folder_demo.show_the_welcome as w\n",
    "import top_folder_demo.chris.chrismodule as c\n",
    "\n",
    "print(\"This is the main script.\")\n",
    "print(\"We're calling the library using the import statement and the alias of w.\")\n",
    "print(\"And so access the function (show_the_welcome) with the alias: w.show_the_welcome()\")\n",
    "\n",
    "print(w.show_the_welcome(1))\n",
    "print(w.show_the_welcome(2))\n",
    "print(w.show_the_welcome(3))\n",
    "\n",
    "print(\"TEST OF CHRIS\")\n",
    "\n",
    "import top_folder_demo.chris.chrismodule as c\n",
    "c.bye()\n"
   ]
  },
  {
   "cell_type": "markdown",
   "metadata": {},
   "source": [
    "<p>Some useful python libraries: to helpyou know more about the object.  For example you know type() and id(), there's also help(object), e.g., help(print) or <code>help(myfunction)</code> ... and there are tools to learn about other objects...</p>\n",
    "<code>type()</code>\n",
    "<code>id()</code>\n",
    "<code>help(object)</code>\n",
    "<code>super()</code>\n",
    "<code>isinstance()</code>\n",
    "<code>issubclass()</code>"
   ]
  },
  {
   "cell_type": "markdown",
   "metadata": {},
   "source": [
    "<hr />\n",
    "<h1 style='color:#FDB515;'>Hands-on: Breakout Room</h1>\n",
    "<p><a href=\"activity/week_06_activity.ipynb\">Activity</a> \n",
    "    and <a href=\"activity/week_06_activity_solution.ipynb\">Solution</a>\n",
    "</p>\n",
    "<img src=\"piggy.png\"/>"
   ]
  },
  {
   "cell_type": "markdown",
   "metadata": {},
   "source": [
    "<hr />\n",
    "<h2 style='color:#C4820E;'>Appendix: Optional advanced examples or deeper dive into the week&rsquo;s topics.</h2>\n",
    "<h3>About Big O; and Big &Theta;</h3>\n",
    "<p>The purpose is to become sensitive to the impact our algorithm design decisions exert as the amount of data grows.  Calculating Big &Omega; and Big &Theta; isn't perfectly straight forward, as the below suggests.\n",
    "    <blockquote>\n",
    "        <ul><li>\n",
    "        A function f is Omega(g) if and only if there exist n0 and c greater than zero such that for n &gt;= n0, f(n) &gt;= c*g(n).</li>\n",
    "<li>A function f is Big-Oh(g) if and only if there exist n0 and c greater than zero such that for n &gt;= n0, f(n) &lt;= c*g(n).</li>\n",
    "<li>\n",
    "    A function f is &Theta;(g) if and only if f is both Omega(g) and Big-Oh(g).</li>\n",
    "<li>\n",
    "(a) 150n^3 + 43n^2 + 50n + 3 is not Omega(n^5) because the high-order term, 150n^3, grows asymptotically slower than n^5, since the power is smaller.</li>\n",
    "<li>\n",
    "(b) n^10 + 30n^8 + 80n^6 is O(n^12) because the high-order term, n^10, grows asymptotically slower than n^5, since the power is smaller.</li>\n",
    "<li>\n",
    "(c) 55n + 30 is O(n log n), because the high-order term 55n grows more slowly than nlog(n), because eventually the log(n) term becomes much larger than 55 (for values of n &gt; 2^55, specifically).</li>\n",
    "<li>\n",
    "(d) n^4 + 4 n^3 + 6 n^2 + n log n is not Theta(2n) because the high-order term n^4 grows more quickly asymptotically than 2n since the power is bigger. Neither is it Theta(2^n), if that's what you actually meant, because n^4 grows asymptotically slower than 2^n.</li>\n",
    "<li>\n",
    "(e) 9n^2 log n + 40n^2 + 3n is Omega(n^2 log n) because the high-order term 9n^2log(n) grows precisely as fast asymptotically speaking as n^2 log n.</li>\n",
    "        </ul>\n",
    "    </blockquote>\n",
    "</p>\n",
    "<h3>Check out this chart to get a feeling for the range of impacts of algorithm choice.</p>\n",
    "<a href=\"images/big-o-cheat-sheet-poster.png\" target=\"new\"><img src=\"images/big-o-cheat-sheet-poster.png\"/></a>"
   ]
  },
  {
   "cell_type": "markdown",
   "metadata": {},
   "source": []
  }
 ],
 "metadata": {
  "kernelspec": {
   "display_name": "Python 3 (ipykernel)",
   "language": "python",
   "name": "python3"
  },
  "language_info": {
   "codemirror_mode": {
    "name": "ipython",
    "version": 3
   },
   "file_extension": ".py",
   "mimetype": "text/x-python",
   "name": "python",
   "nbconvert_exporter": "python",
   "pygments_lexer": "ipython3",
   "version": "3.10.0"
  }
 },
 "nbformat": 4,
 "nbformat_minor": 4
}
