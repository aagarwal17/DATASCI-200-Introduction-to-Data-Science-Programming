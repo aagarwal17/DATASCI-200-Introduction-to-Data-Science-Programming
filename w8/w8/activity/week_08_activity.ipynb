{
 "cells": [
  {
   "cell_type": "markdown",
   "metadata": {},
   "source": [
    "# Unit 8 Live Session - Breakout Activities\n",
    "\n",
    "Let's have some fun with object oriented programming!\n",
    "\n",
    "For the first half of this activity, we'll give you some code.  Please review this workbook as a team and discuss each module.  Please actually discuss each line and why it is set up the way it is.\n",
    "\n",
    "Let's start with a simple base class Pet and subclasses Cat and Dog:\n"
   ]
  },
  {
   "cell_type": "code",
   "execution_count": null,
   "metadata": {},
   "outputs": [],
   "source": [
    "from IPython.display import Image, display"
   ]
  },
  {
   "cell_type": "markdown",
   "metadata": {},
   "source": [
    "## define the base class"
   ]
  },
  {
   "cell_type": "code",
   "execution_count": null,
   "metadata": {
    "collapsed": true
   },
   "outputs": [],
   "source": [
    "class Pet():\n",
    "    \n",
    "    def __init__(self, name):\n",
    "        self.name = name\n",
    "        self.owner = None\n",
    "        self.image_path = None\n",
    "        self.noise = None\n",
    "        \n",
    "    def display_image(self):\n",
    "        if self.image_path is not None:\n",
    "            display(Image(filename=self.image_path))\n",
    "            \n",
    "    def make_noise(self):\n",
    "        if self.noise is not None:\n",
    "            print(self.noise)"
   ]
  },
  {
   "cell_type": "markdown",
   "metadata": {},
   "source": [
    "## define the subclasses\n",
    "\n",
    "Please discuss as a team how inheritence works in the sample codes below.  Specifically:\n",
    "- Why do we use Pet., self., and Dog. in different places?"
   ]
  },
  {
   "cell_type": "code",
   "execution_count": null,
   "metadata": {},
   "outputs": [],
   "source": [
    "class Dog(Pet):\n",
    "    \n",
    "    count = 0 # class variable to keep track of how many dogs we have\n",
    "    \n",
    "    def __init__(self, name, breed):\n",
    "        Pet.__init__(self,name)\n",
    "        self.breed = breed\n",
    "        Dog.count += 1\n",
    "        self.noise = \"woof woof\" # generic dog noise\n",
    "        "
   ]
  },
  {
   "cell_type": "code",
   "execution_count": null,
   "metadata": {
    "collapsed": true
   },
   "outputs": [],
   "source": [
    "class Cat(Pet):\n",
    "    \n",
    "    count = 0\n",
    "    \n",
    "    def __init__(self, name, breed):\n",
    "        Pet.__init__(self,name)\n",
    "        self.breed = breed\n",
    "        Cat.count += 1\n",
    "        self.noise = \"meow\" # generic cat noise\n",
    "    \n"
   ]
  },
  {
   "cell_type": "markdown",
   "metadata": {},
   "source": [
    "## create some instances of our subclasses\n",
    "\n",
    "Let's build some pets!\n",
    "\n",
    "Notice how we never actually create an instance of the base class."
   ]
  },
  {
   "cell_type": "code",
   "execution_count": null,
   "metadata": {},
   "outputs": [],
   "source": [
    "# a new dog\n",
    "d = Dog('Muttley', 'mutt')\n",
    "d.owner = 'Dick Dastardly'\n",
    "d.image_path = 'muttley.jpg'\n",
    "d.display_image()\n",
    "d.make_noise()"
   ]
  },
  {
   "cell_type": "code",
   "execution_count": null,
   "metadata": {},
   "outputs": [],
   "source": [
    "# it is possible put new member variable into the class .. but not recommended.\n",
    "d.color = 'brown'\n",
    "\n",
    "# you can see all the member variables this way\n",
    "d.__dict__"
   ]
  },
  {
   "cell_type": "code",
   "execution_count": null,
   "metadata": {},
   "outputs": [],
   "source": [
    "# a new cat\n",
    "c = Cat('MAD', 'cartoon')\n",
    "c.owner = 'Dr Claw'\n",
    "c.image_path = 'Doctor_Claw.jpg'\n",
    "c.display_image()\n",
    "c.make_noise()"
   ]
  },
  {
   "cell_type": "code",
   "execution_count": null,
   "metadata": {},
   "outputs": [],
   "source": [
    "# another dog\n",
    "d2 = Dog('Scooby Doo', 'great dane')\n",
    "d2.owner = 'Shaggy'\n",
    "d2.image_path = 'scooby.png'\n",
    "d2.display_image()\n",
    "d2.noise = \"scooby dooby dooooo\"\n",
    "d2.make_noise()"
   ]
  },
  {
   "cell_type": "markdown",
   "metadata": {},
   "source": [
    "### using static variables"
   ]
  },
  {
   "cell_type": "code",
   "execution_count": null,
   "metadata": {},
   "outputs": [],
   "source": [
    "# how many dogs do we have?\n",
    "# Dog.count is a static member variable \n",
    "print(Dog.count)"
   ]
  },
  {
   "cell_type": "markdown",
   "metadata": {},
   "source": [
    "### using instances of our classes\n",
    "\n",
    "Please talk through the code below.  It is subtle.  What is the \"cls\" function doing!??\n",
    "\n",
    "Note - this part of the code will not work in Python 2.0."
   ]
  },
  {
   "cell_type": "code",
   "execution_count": null,
   "metadata": {
    "collapsed": true
   },
   "outputs": [],
   "source": [
    "def make_baby(pet1, pet2, name):\n",
    "    # check for compatible species\n",
    "    if type(pet1) == type(pet2):\n",
    "        cls = type(pet1)\n",
    "        if pet1.breed == pet2.breed:\n",
    "            # pure breed\n",
    "            new_breed = pet1.breed\n",
    "        else:\n",
    "            # mixed breed\n",
    "            new_breed = pet1.breed + '-' + pet2.breed\n",
    "        \n",
    "        baby = cls(name,new_breed)\n",
    "        return baby\n",
    "    else:\n",
    "        raise Exception(\"sorry, can't intermingle species\")"
   ]
  },
  {
   "cell_type": "code",
   "execution_count": null,
   "metadata": {},
   "outputs": [],
   "source": [
    "# make one baby dog\n",
    "b = make_baby(d,d2,'fred')\n",
    "b.__dict__\n",
    "\n"
   ]
  },
  {
   "cell_type": "code",
   "execution_count": null,
   "metadata": {},
   "outputs": [],
   "source": [
    "# try to make a dog-cat baby\n",
    "b2 = make_baby(d,c,'jeff')"
   ]
  },
  {
   "cell_type": "markdown",
   "metadata": {},
   "source": [
    "## things to do now\n",
    "\n",
    "* make another subclass for another kind of pet"
   ]
  },
  {
   "cell_type": "code",
   "execution_count": null,
   "metadata": {
    "collapsed": true
   },
   "outputs": [],
   "source": []
  },
  {
   "cell_type": "markdown",
   "metadata": {},
   "source": [
    "* add a method to Pet that applies to all pets"
   ]
  },
  {
   "cell_type": "code",
   "execution_count": null,
   "metadata": {
    "collapsed": true
   },
   "outputs": [],
   "source": []
  },
  {
   "cell_type": "markdown",
   "metadata": {},
   "source": [
    "* add at least one new method to Dog and Cat that is specific to that pet"
   ]
  },
  {
   "cell_type": "code",
   "execution_count": null,
   "metadata": {
    "collapsed": true
   },
   "outputs": [],
   "source": []
  },
  {
   "cell_type": "markdown",
   "metadata": {},
   "source": [
    "# The Game section \n",
    "* Make a world and populate it with your animals\n",
    "\n",
    "* this exercise is based on this post  https://learnpythonthehardway.org/book/ex43.html\n",
    "* Here are some beginnier rooms which will load animals"
   ]
  },
  {
   "cell_type": "code",
   "execution_count": null,
   "metadata": {},
   "outputs": [],
   "source": [
    "from sys import exit\n",
    "from random import randint\n",
    "\n",
    "# make rooms of different size that specify different number of encounters\n",
    "class Mapitem(object):\n",
    "    NPA = [c, d, d2, b] # possible non player animals objects              \n",
    "    def enter(self):\n",
    "        print (\"this is the base for rooms, the enter method is replaced\")\n",
    "        exit(1)\n",
    "\n",
    "#################################\n",
    "        \n",
    "class BigRoom(Mapitem):\n",
    "    \n",
    "    NumAnimals=3 # meet 3 non-player animals\n",
    "\n",
    "    def enter(self):\n",
    "        self.NumAnimal=3\n",
    "        print ('There are ', self.NumAnimal, ' ANIMALs in here!')\n",
    "        while self.NumAnimal > 0:\n",
    "            Animal= (self.NPA[randint(0, len(self.NPA)-1)])\n",
    "            Animal.make_noise()\n",
    "            self.NumAnimal -= 1\n",
    "    \n",
    "class MedRoom(Mapitem): #2 interactions\n",
    "    \n",
    "    NumAnimals=2 # meet 2 non-player animals\n",
    "\n",
    "    def enter(self):\n",
    "\n",
    "        self.NumAnimal=2\n",
    "        print ('There are ', self.NumAnimal, ' ANIMALs in here!')\n",
    "        while self.NumAnimal > 0:\n",
    "            Animal= (self.NPA[randint(0, len(self.NPA)-1)])\n",
    "            Animal.make_noise()\n",
    "            self.NumAnimal -= 1\n",
    "        return 'SmRoom'\n",
    "\n",
    "class SmRoom(Mapitem): #1 interaction\n",
    "\n",
    "    def enter(self):\n",
    "        self.NumAnimal=1\n",
    "        print ('There is ', self.NumAnimal, ' ANIMAL in here!')\n",
    "        while self.NumAnimal > 0:\n",
    "            Animal= (self.NPA[randint(0, len(self.NPA)-1)])\n",
    "            Animal.make_noise()\n",
    "            self.NumAnimal -= 1\n",
    "        return 'BigRoom'"
   ]
  },
  {
   "cell_type": "markdown",
   "metadata": {},
   "source": [
    "* Write code to initalize then go to three rooms of any size in series\n",
    "* Note that each room will print the name of a \"Next Room\". We will use that below..."
   ]
  },
  {
   "cell_type": "code",
   "execution_count": null,
   "metadata": {
    "collapsed": true
   },
   "outputs": [],
   "source": []
  },
  {
   "cell_type": "markdown",
   "metadata": {},
   "source": [
    "* Use the output of the room object to go to specify the next room\n",
    "* Use the provided room dictionary to specify the object with just a string (e.g.'MedRoom')"
   ]
  },
  {
   "cell_type": "code",
   "execution_count": null,
   "metadata": {
    "collapsed": true
   },
   "outputs": [],
   "source": [
    "rooms = {'MedRoom': MedRoom(),'SmRoom': SmRoom(),'BigRoom': BigRoom()}\n",
    "\n",
    "# initialise the current room\n",
    "# enter the current room \n",
    "\n",
    "print (\"I am going to the \", next_room_name)\n",
    "# reset the value of the current object to the next object\n",
    "# enter the current room "
   ]
  },
  {
   "cell_type": "code",
   "execution_count": null,
   "metadata": {
    "collapsed": true
   },
   "outputs": [],
   "source": []
  },
  {
   "cell_type": "code",
   "execution_count": null,
   "metadata": {
    "collapsed": true
   },
   "outputs": [],
   "source": [
    "# Advanced challenge \n",
    "\n",
    "- Refer to this example, which the game code is based on:\n",
    "http://learnpythonthehardway.org/book/ex43.html\n",
    "    \n",
    "#write ENGINE and MAP objects which will build the room objects \n",
    "#automatically as you move through the building "
   ]
  }
 ],
 "metadata": {
  "kernelspec": {
   "display_name": "Python 3 (ipykernel)",
   "language": "python",
   "name": "python3"
  },
  "language_info": {
   "codemirror_mode": {
    "name": "ipython",
    "version": 3
   },
   "file_extension": ".py",
   "mimetype": "text/x-python",
   "name": "python",
   "nbconvert_exporter": "python",
   "pygments_lexer": "ipython3",
   "version": "3.10.0"
  }
 },
 "nbformat": 4,
 "nbformat_minor": 1
}
