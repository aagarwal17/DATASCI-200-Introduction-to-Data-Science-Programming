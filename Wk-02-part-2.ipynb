{
 "cells": [
  {
   "cell_type": "markdown",
   "id": "0774f050",
   "metadata": {},
   "source": [
    "<div style=\"background-color:cornflowerblue;padding:10%;border-radius:4px;\">\n",
    "    <h3>DATASCI 200: Computing for Data Science</h3>\n",
    "    <h1 style=\"color:white;\">Topic 2: Introductions to Objects and Control-of-Flow</h1>\n",
    "    <h1 style=\"color:white;\">Part 2</h1>\n",
    "    <hr />\n",
    "    <p style=\"font-size: 9px;\">Jan 18, 2023, GB</p>"
   ]
  },
  {
   "cell_type": "markdown",
   "id": "3fe40ea6",
   "metadata": {},
   "source": [
    "<p style=\"font-family:Baskerville, Palatino, serif; font-size:18px; line-height:22px;\"><i>About this lesson:</i><br />\n",
    "    This week&rsquo;s topic is designed to review \n",
    "<ul>\n",
    "    <li>some fundamentals about variables in python,</li>\n",
    "    <li>introduce the concept of &ldquo;objects&rdquo; in coding,</li>\n",
    "    <li>review <i>control-of-flow</i> statements, and </li>\n",
    "    <li>provide some applications of these themes.</li>\n",
    "</ul>"
   ]
  },
  {
   "cell_type": "markdown",
   "id": "a17b6ecd",
   "metadata": {},
   "source": [
    "<hr />\n",
    "<h2 style=\"color:red;\">Control-of-Flow: Part 1</h2>\n",
    "<p>When a script is started, the interpreter (python.exe or python.app) starts at the first line and reads straight down to the last line, executing commands along the way.</p>\n",
    "<p>We interrupt this linear descent by controlling the flow of the program by (a) test conditions that change the input/output, (b) by using functions that we write and \"call\" when needed (functional coding or procedural coding), or (c) write code that is entirely object-oriented where objects call each other, in a linear or non-linear way.</p>\n",
    "<h3>Control-of-flow</h3>\n",
    "<p>You should know and be comfortable with this set of options before proceeding.</p>\n",
    "<ul>\n",
    "    <li><code><b>if</b></code>: if some condition is met (e.g., <kbd>if x == 5:</kbd>)</li>\n",
    "    <li><code><b>if ... else</b></code>: if condition is met, else do something else\n",
    "    <pre>\n",
    "if x == 5:\n",
    "    do_this()\n",
    "else:\n",
    "    do_that()\n",
    "</pre></li>\n",
    "    <li><code><b>if ... elif ... else</b></code>: testing a couple of conditions.  If you have more thant 5 if/elif statements, reconsider the logic of your script; or use the <code>match</code> option (akin to a case/switch in other languages).\n",
    "        <p>In these examples we add <b>or</b> and <b>and</b> to test conditions.</p>\n",
    "        \n",
    "<pre>\n",
    "language = \"zh\"\n",
    "if language == \"zh\":\n",
    "    show_chinese_message()\n",
    "elif language = \"zh\" <span style=\"color:green;\">or</span> language == \"bo\":\n",
    "    show_chinese_message()\n",
    "else:\n",
    "    show_english_message()\n",
    "</pre>\n",
    "<p>and an example using <code>and</code></p>\n",
    "<pre>\n",
    "language = \"zh\"\n",
    "if language == \"zh\":\n",
    "    print(\"欢迎！\")\n",
    "elif language = \"zh\" <span style=\"color:green;\">and</span> language == \"hi\": \n",
    "    print(\"欢迎！ | स्वागत!\")\n",
    "else:\n",
    "    print(\"welcome!\")\n",
    "</pre>\n",
    "    </li>\n",
    "    <li><code><b>for</b></code> statement: provide a starting condition and continue until the end of the for statement&rsquo;s options, e.g., <br />\n",
    "<code>for i in range(0, 20):</code>\n",
    "    do_something()</code>\n",
    "        <p>&nbsp;</p>\n",
    "    </li>\n",
    "    <li><code><b>while</b></code> statement: <br />\n",
    "<pre>\n",
    "stop_at = 4\n",
    "i = 0\n",
    "while i &lt; stop_at:\n",
    "    print(i)\n",
    "    i += 1\n",
    "</pre>\n",
    "    </li>\n",
    "    <li><code><b>match</b></code> is the Python 3.10+ version of the case/switch statement.  The match statement is pretty handy because is has a built-in shortcut for a default (<code>case other:</code> <i>or (but not both))</i> <code>case _:</code> and there&rsquo;s an option for \"either | or\" shortcuts.<br />\n",
    "       <br />\n",
    "       Using this demo variable i = 5, let's check our options:<br />\n",
    "<pre>\n",
    "i = 10\n",
    "match i:\n",
    "    case 1:\n",
    "        print(\"Welcome to the Main Menu\")\n",
    "    case 2:\n",
    "        print(\"Appointments Menu:\")\n",
    "    case 3:\n",
    "        print(\"Pharmacy Updates:\")\n",
    "    case 4:\n",
    "        print(\"Quest Diagnostics:\")\n",
    "    case [5 | 6]:\n",
    "        print(\"Main Offices and Billing Dept\")\n",
    "    case other:\n",
    "        print(\"Sorry, that office is closed.\")\n",
    "</pre>\n",
    "    </li>\n",
    "<li>\n",
    "    <p><b>try ... except</b> is a vital test in coding.  A rule-of-thumb: any time we <i>write</i> or <i>read</i> data from a source, make sure that source is available using a try/except block.  Also any input or activities that are critical can also be put in a try/except block.  We'll learn more about these <b>exceptions</b> later.  In this example, we&rsquo;re testing a variable (\"z\") and if it isn't instantiated, we will have a problem.</p>\n",
    "<pre>\n",
    "try:\n",
    "      print(z)    # do what we want to ...\n",
    "except NameError:  \n",
    "      print(\"Sorry, variable z is not instantiated.\")\n",
    "except:\n",
    "      print(\"Something else odd happened, sorry!\")\n",
    "</pre></li>\n",
    "    </ul>\n",
    "<hr />"
   ]
  },
  {
   "cell_type": "markdown",
   "id": "736771d2",
   "metadata": {},
   "source": [
    "<h3>Shorthand: python has a lot of shorthand techniques.</h3>\n",
    "<p>Please study this syntax.  We&rsquo;ll use this kind of technique in <i>list comprehensions</i>.</p>\n",
    "<pre>if a > b: print(\"a is greater than b\")</pre>\n",
    "<pre>print(\"A\") if a > b else print(\"B\")</pre>\n",
    "<pre>print(\"A\") if a > b else print(\"=\") if a == b else print(\"B\")</pre>\n",
    "<hr />"
   ]
  },
  {
   "cell_type": "code",
   "execution_count": 13,
   "id": "9d667e8d",
   "metadata": {},
   "outputs": [
    {
     "name": "stdout",
     "output_type": "stream",
     "text": [
      "0\n",
      "1\n",
      "2\n",
      "3\n"
     ]
    }
   ],
   "source": [
    "x = 4\n",
    "i = 0\n",
    "while i < x:\n",
    "    print(i)\n",
    "    i += 1"
   ]
  },
  {
   "cell_type": "code",
   "execution_count": 14,
   "id": "7f7cfe79",
   "metadata": {},
   "outputs": [
    {
     "name": "stdout",
     "output_type": "stream",
     "text": [
      "Sorry, that office is closed.\n"
     ]
    }
   ],
   "source": [
    "i = 5\n",
    "match i:\n",
    "    case 1:\n",
    "        print(\"Welcome to the Main Menu\")\n",
    "    case 2:\n",
    "        print(\"Appointments Menu:\")\n",
    "    case 3:\n",
    "        print(\"Pharmacy Updates:\")\n",
    "    case 4:\n",
    "        print(\"Quest Diagnostics:\")\n",
    "    case other:\n",
    "        print(\"Sorry, that office is closed.\")"
   ]
  },
  {
   "cell_type": "code",
   "execution_count": 15,
   "id": "2e26af8e",
   "metadata": {},
   "outputs": [
    {
     "name": "stdout",
     "output_type": "stream",
     "text": [
      "Login, please: Anges\n",
      "Hmmm, I don't recognize that login.\n"
     ]
    }
   ],
   "source": [
    "user_name = str.lower(input(\"Login, please: \"))\n",
    "\n",
    "match user_name:\n",
    "    case \"tom\":\n",
    "        print(\"Welcome, Tom.  Your assignment is ... \")\n",
    "    case \"ming\":\n",
    "        print(\"Hi, Ming.  Today you'll be working at ... \")\n",
    "    case _:\n",
    "        print(\"Hmmm, I don't recognize that login.\")"
   ]
  },
  {
   "cell_type": "markdown",
   "id": "3e6b6a0a",
   "metadata": {},
   "source": [
    "<hr />\n",
    "<h2 style=\"color:red;\">Control-of-Flow: Part 2 Variations &amp; Applications</h2>\n"
   ]
  },
  {
   "cell_type": "markdown",
   "id": "aa79ddb3",
   "metadata": {},
   "source": [
    "<p>As part of problem-solving, it can be necessary to\n",
    "<ol>\n",
    "<li>use nested if statements (if inside another if)</li>\n",
    "<li>while loops that also contain nested if statements</li>\n",
    "<li>breaking out of a loop</li>\n",
    "<li>continuing in a loop</li>\n",
    "</ol>\n",
    "<h3>Examples</h3>\n",
    "<ul>\n",
    "    <li>Nested if statement</li>\n",
    "    <li>While with nested if\n",
    "        <ul>\n",
    "            <li>Nested if with \"break\" out of the loop</li>\n",
    "            <li>Nested if with a \"continue\" in the loop</li>\n",
    "        </ul>\n",
    "    </li>\n",
    "</ul>"
   ]
  },
  {
   "cell_type": "code",
   "execution_count": 1,
   "id": "0284de13",
   "metadata": {},
   "outputs": [
    {
     "name": "stdout",
     "output_type": "stream",
     "text": [
      "The outer else statement: x is not less than 4\n",
      "________________________________________\n",
      "True\n",
      "________________________________________ \n",
      " apples are greater than oranges (at least by their code values!)\n"
     ]
    }
   ],
   "source": [
    "x = 5\n",
    "y = 200\n",
    "s = \"s\"\n",
    "if x < 4:\n",
    "    print(\"Inside the first if statement ... \")\n",
    "    if y == 200:\n",
    "        print(\"\\t Nested if ... y == 200\")\n",
    "    else:\n",
    "        print(\"\\t Nested ELSE part\")\n",
    "else:\n",
    "    print(\"The outer else statement: x is not less than 4\")\n",
    "    \n",
    "print(\"_\"*40)\n",
    "# note we can use operators like this for letters, too - based on their code value.\n",
    "print('a' < 'b')\n",
    "\n",
    "# python has a placeholder \"pass\" \n",
    "a = \"apple\"\n",
    "b = \"orange\"\n",
    "if a > b:\n",
    "    pass\n",
    "else:\n",
    "    print(\"_\"*40, \"\\n\", \"apples are greater than oranges (at least by their code values!)\")"
   ]
  },
  {
   "cell_type": "code",
   "execution_count": 2,
   "id": "a2d40d1b",
   "metadata": {},
   "outputs": [
    {
     "name": "stdout",
     "output_type": "stream",
     "text": [
      "We should start with  0 and end with  100  unless something happens.\n",
      "\t iteration no: 0\n",
      "\t iteration no: 1\n",
      "\t iteration no: 2\n",
      "\t iteration no: 3\n",
      "\t iteration no: 4\n",
      "\t iteration no: 5\n",
      "\t iteration no: 6\n",
      "\t iteration no: 7\n",
      "Yeah! my number!  Let's stop processing.\n"
     ]
    }
   ],
   "source": [
    "i = 0\n",
    "endValue = 100\n",
    "\n",
    "print(\"We should start with \",i, \"and end with \", endValue, \" unless something happens.\")\n",
    "\n",
    "my_favorite_number = 7\n",
    "\n",
    "while i < endValue:\n",
    "    print(\"\\t iteration no:\",i)\n",
    "    if i == my_favorite_number:\n",
    "        print(\"Yeah! my number!  Let's stop processing.\")\n",
    "        break\n",
    "    i += 1"
   ]
  },
  {
   "cell_type": "code",
   "execution_count": 3,
   "id": "c14dc2c2",
   "metadata": {},
   "outputs": [
    {
     "name": "stdout",
     "output_type": "stream",
     "text": [
      "1\n",
      "2\n",
      "3\n",
      "4\n",
      "5\n",
      "6\n",
      "Yeah, my favorite number.  Let's keep counting, tho.\n",
      "8\n",
      "9\n",
      "10\n"
     ]
    }
   ],
   "source": [
    "i = 0\n",
    "endValue = 10\n",
    "\n",
    "while i < endValue:\n",
    "    i += 1 \n",
    "    if i == my_favorite_number:\n",
    "        print(\"Yeah, my favorite number.  Let's keep counting, tho.\")\n",
    "        continue\n",
    "    print(i)"
   ]
  },
  {
   "cell_type": "code",
   "execution_count": 11,
   "id": "9f872dab",
   "metadata": {},
   "outputs": [
    {
     "name": "stdout",
     "output_type": "stream",
     "text": [
      "Tim\n",
      "Heather\n",
      "Gloria\n",
      "Ming\n",
      "Fifi\n",
      "________________________________________\n",
      "Tim\n",
      "Heather\n",
      "The winner is  Gloria\n",
      "----------------------------------------\n",
      "Tim\n",
      "Heather\n",
      "The winner is  Gloria\n",
      "Ming\n",
      "Fifi\n",
      "\n",
      "Finally done!\n"
     ]
    }
   ],
   "source": [
    "# for statement with a list, e.g., names = ['Tim', 'Heather', 'Ming', 'Fifi', 'Gloria']\n",
    "names = ['Tim', 'Heather', 'Gloria', 'Ming', 'Fifi']\n",
    "for name in names:\n",
    "    print(name)\n",
    "    \n",
    "print(\"_\"*40)\n",
    "for person in names:\n",
    "    if person == \"Gloria\":\n",
    "        print(\"The winner is \", person)\n",
    "        break           # we got the value we wanted to find ... stop processing.\n",
    "    print(person)\n",
    "    \n",
    "print(\"-\"*40)\n",
    "# as usual python has that odd use of else and we can still use continue, too.\n",
    "for person in names:\n",
    "    if person == \"Gloria\":\n",
    "        print(\"The winner is \", person)\n",
    "        continue           # we got the value we wanted to find ... stop processing.\n",
    "    print(person)\n",
    "else:\n",
    "    print(\"\\nFinally done!\")"
   ]
  },
  {
   "cell_type": "markdown",
   "id": "ccfd41c2",
   "metadata": {},
   "source": [
    "<h3>Nested for loops</h3>\n",
    "<p>Using a nested for loop <i>may</i> be the only way to solve a problem, but as we&rsquo;ll see, the efficiency of the algorithm O<i>n<sup>2</sup></i>.</p>\n",
    "<p>Here&rsquo;s an example of iterating thru alphabet and numbers.  First we cycle through the numbers and when through, then we get the next letter ... </p>"
   ]
  },
  {
   "cell_type": "code",
   "execution_count": 5,
   "id": "60e361b5",
   "metadata": {},
   "outputs": [
    {
     "name": "stdout",
     "output_type": "stream",
     "text": [
      "1 Letter is a; \tnumber is 1.\n",
      "2 Letter is a; \tnumber is 2.\n",
      "3 Letter is a; \tnumber is 3.\n",
      "4 Letter is a; \tnumber is 4.\n",
      "5 Letter is a; \tnumber is 5.\n",
      "6 Letter is a; \tnumber is 6.\n",
      "7 Letter is b; \tnumber is 1.\n",
      "8 Letter is b; \tnumber is 2.\n",
      "9 Letter is b; \tnumber is 3.\n",
      "10 Letter is b; \tnumber is 4.\n",
      "11 Letter is b; \tnumber is 5.\n",
      "12 Letter is b; \tnumber is 6.\n",
      "13 Letter is c; \tnumber is 1.\n",
      "14 Letter is c; \tnumber is 2.\n",
      "15 Letter is c; \tnumber is 3.\n",
      "16 Letter is c; \tnumber is 4.\n",
      "17 Letter is c; \tnumber is 5.\n",
      "18 Letter is c; \tnumber is 6.\n",
      "19 Letter is d; \tnumber is 1.\n",
      "20 Letter is d; \tnumber is 2.\n",
      "21 Letter is d; \tnumber is 3.\n",
      "22 Letter is d; \tnumber is 4.\n",
      "23 Letter is d; \tnumber is 5.\n",
      "24 Letter is d; \tnumber is 6.\n",
      "25 Letter is e; \tnumber is 1.\n",
      "26 Letter is e; \tnumber is 2.\n",
      "27 Letter is e; \tnumber is 3.\n",
      "28 Letter is e; \tnumber is 4.\n",
      "29 Letter is e; \tnumber is 5.\n",
      "30 Letter is e; \tnumber is 6.\n",
      "31 Letter is f; \tnumber is 1.\n",
      "32 Letter is f; \tnumber is 2.\n",
      "33 Letter is f; \tnumber is 3.\n",
      "34 Letter is f; \tnumber is 4.\n",
      "35 Letter is f; \tnumber is 5.\n",
      "36 Letter is f; \tnumber is 6.\n"
     ]
    }
   ],
   "source": [
    "# like nested-if statements, we have nested for statements.\n",
    "# note, tho, that the run-time can be long - (read more about Big-O in Sipser)\n",
    "alpha = ['a','b','c','d','e','f']\n",
    "numbers = [1, 2, 3, 4, 5, 6]\n",
    "cnt = 0\n",
    "line = \"first\"\n",
    "\n",
    "for letter in alpha:\n",
    "    for i in numbers:\n",
    "        cnt += 1\n",
    "        print(f\"{cnt} Letter is {letter}; \\tnumber is {i}.\")"
   ]
  },
  {
   "cell_type": "markdown",
   "id": "28583897",
   "metadata": {},
   "source": [
    "<hr />\n",
    "<h2>End of Part 2. Continue with <a href=\"Wk-02-part-3.ipynb\">Part 3: Strings and Slicing</a>.</h2>\n",
    "<p>Use the optional reviews below for practice.</p>"
   ]
  },
  {
   "cell_type": "markdown",
   "id": "249d7c2d",
   "metadata": {},
   "source": [
    "<hr />\n",
    "<h2 style=\"color:red;\">Optional Review Examples</h2>"
   ]
  },
  {
   "cell_type": "code",
   "execution_count": 6,
   "id": "e84f77e0",
   "metadata": {},
   "outputs": [
    {
     "name": "stdout",
     "output_type": "stream",
     "text": [
      "this is the outer if statement testing if i <= 100 \n",
      "Sorry, i not <= 100. i = 150  j = 300\n"
     ]
    }
   ],
   "source": [
    "\"\"\" Experiment by changing the values of i and j \"\"\"\n",
    "i = 150\n",
    "j = 300\n",
    "\n",
    "if i <= 100:\n",
    "    if j == 300:\n",
    "        print(\"both conditions match.\")\n",
    "    elif j > 0 and j < 50:\n",
    "        print(\"j is > 0 and < 50\")\n",
    "    elif j > 50 and j < 100:\n",
    "        print(\"j is > 50 and < 100\")\n",
    "\n",
    "else:\n",
    "    print(\"this is the outer if statement testing if i <= 100 \")\n",
    "    print(\"Sorry, i not <= 100. i =\",i, \" j =\", j)"
   ]
  },
  {
   "cell_type": "code",
   "execution_count": 7,
   "id": "cf53a992",
   "metadata": {},
   "outputs": [
    {
     "name": "stdout",
     "output_type": "stream",
     "text": [
      "outer loop: i = 0\n",
      "\t inner loop: j= 0\n",
      "\t inner loop: j= 1\n",
      "\t inner loop: j= 2\n",
      "\t inner loop: j= 3\n",
      "\t inner loop: j= 4\n",
      "outer loop: i = 1\n",
      "\t inner loop: j= 0\n",
      "\t inner loop: j= 1\n",
      "\t inner loop: j= 2\n",
      "\t inner loop: j= 3\n",
      "\t inner loop: j= 4\n",
      "outer loop: i = 2\n",
      "\t inner loop: j= 0\n",
      "\t inner loop: j= 1\n",
      "\t inner loop: j= 2\n",
      "\t inner loop: j= 3\n",
      "\t inner loop: j= 4\n"
     ]
    }
   ],
   "source": [
    "i = 0\n",
    "j = 0\n",
    "\n",
    "# using multiple while loops may solve the problem but we don't want too many of them!\n",
    "\n",
    "while i < 3:\n",
    "    print(\"outer loop: i =\", i)\n",
    "    while j < 5:\n",
    "        print(\"\\t inner loop: j=\",j)\n",
    "        j += 1     # increment j otherwise the loop won't end.\n",
    "    \n",
    "    j = 0          # reset j back to 0 so we can iterate over the values of j again\n",
    "    i += 1         # increment the outer loop so the value of i will increase "
   ]
  },
  {
   "cell_type": "markdown",
   "id": "a52736b4",
   "metadata": {},
   "source": [
    "<hr />\n",
    "<h3>Some fun with modularization and palindromes ... </h3>\n",
    "<p>The point of the palindrome exercise is to show that we should modularize even small scripts to understand the logic of our task.  When the logic is solid, then we can find code shortcuts.  Notice that we have <u>not</u> done any checking of the input.</p>\n",
    "<p>Here are the steps of script:\n",
    "    \n",
    "<ol>    <li>Create a variable to hold our backwards</li>\n",
    "    <li>Get input from the end-user</li>\n",
    "    <li>Make sure the input is a string</li>\n",
    "    <li>Make sure the string is lower case</li>\n",
    "    <li>We'll work backwards, so get the length of the word to know where to start counting from the end ... \n",
    "        note, too, that the len() method gives the total value (e.g., cat = 3); and since we start counting from 0 we need to take away one from the end</li>\n",
    "    <li>Since a palindrome is backwards, we need a way to build a backwards version of the end-user input</li>\n",
    "    <li>Working from the end of the word, show all of the letters one by one until there are no more letters to show</li>\n",
    "    <li>now we should have two words to compare - the input string and the palindrome string</li>\n",
    "</ol>"
   ]
  },
  {
   "cell_type": "code",
   "execution_count": 8,
   "id": "2c40d819",
   "metadata": {},
   "outputs": [
    {
     "name": "stdout",
     "output_type": "stream",
     "text": [
      "Enter a word: letters only.  fish\n",
      "counter value  3 \t h\n",
      "counter value  2 \t s\n",
      "counter value  1 \t i\n",
      "counter value  0 \t f\n",
      "\n",
      "Let's compare the values: user_input= fish  and backwards = hsif\n",
      "Sorry! But thanks! \t not a palindrome.\n"
     ]
    }
   ],
   "source": [
    "backwards_word = \"\"\n",
    "\n",
    "user_input = str(input(\"Enter a word: letters only.  \")).lower()\n",
    "len_word = len(user_input) - 1\n",
    "\n",
    "\n",
    "while len_word >= 0:\n",
    "    print(\"counter value \", len_word, \"\\t\", user_input[len_word])                  # print the end-user input)\n",
    "    backwards_word += user_input[len_word]       # build up the backwards word one letter at a time\n",
    "    len_word -= 1                                # decrement so we work from back 'til we hit 0 and stop\n",
    "\n",
    "# all done.  So let's compare the two words.\n",
    "print(\"\\nLet's compare the values: user_input=\", user_input, \" and backwards =\",backwards_word)\n",
    "\n",
    "if user_input == backwards_word:\n",
    "    print(\"Hey! \\tA palindrome!\")\n",
    "else:\n",
    "    print(\"Sorry! But thanks! \\t not a palindrome.\")"
   ]
  },
  {
   "cell_type": "markdown",
   "id": "d9a658d2",
   "metadata": {},
   "source": [
    "<hr />\n",
    "<h3>Check data type with <code>is</code> and <code>type()</code></h3>\n",
    "<p>Let&rsquo;s use if statement and check the data type of our variable using <code>is</code>.  <b>Why</b> might this be useful?</p>"
   ]
  },
  {
   "cell_type": "code",
   "execution_count": 9,
   "id": "c3c334e3",
   "metadata": {},
   "outputs": [
    {
     "name": "stdout",
     "output_type": "stream",
     "text": [
      "Yes, this is a string.\n"
     ]
    }
   ],
   "source": [
    "if type(user_input) is str:\n",
    "    print(\"Yes, this is a string.\")"
   ]
  },
  {
   "cell_type": "markdown",
   "id": "ba337c72",
   "metadata": {},
   "source": [
    "<h2>More checking of data types</h2><p>This is important 'cause in real life we may have to \n",
    "    check range of characters or whether the data are alphanumerics or just alphabet.  We'll do more of this testing using binary, utf-8, unicode, etc., later this term.</p>"
   ]
  },
  {
   "cell_type": "code",
   "execution_count": 10,
   "id": "ed2dd8eb",
   "metadata": {},
   "outputs": [
    {
     "name": "stdout",
     "output_type": "stream",
     "text": [
      "is alpha:  True\n",
      "is alphanumeric:  True\n",
      "is ascii:  True\n",
      "\n",
      "is alpha:  False\n",
      "is alphanumeric:  True\n",
      "is ascii:  True\n",
      "\n",
      "is alpha:  False\n",
      "is alphanumeric:  False\n",
      "is ascii:  False\n",
      "\n"
     ]
    }
   ],
   "source": [
    "# Say we have a live data stream or people provide us with files \n",
    "# for analysis - better to check and not assume that we know our data.\n",
    "\n",
    "x = \"Isolbel\"       # yup, this is a string without numbers\n",
    "print(\"is alpha: \", x.isalpha())\n",
    "print(\"is alphanumeric: \", x.isalnum())\n",
    "print(\"is ascii: \", x.isascii())\n",
    "print(\"\")\n",
    "\n",
    "x = \"Isolbel1066\"    # adding #s to the String causes test to fail.\n",
    "print(\"is alpha: \", x.isalpha())\n",
    "print(\"is alphanumeric: \", x.isalnum())\n",
    "print(\"is ascii: \", x.isascii())\n",
    "print(\"\")\n",
    "\n",
    "# note that ascii is only between u+0000 to u+007f\n",
    "x = \"बिंदु\"\n",
    "print(\"is alpha: \", x.isalpha())\n",
    "print(\"is alphanumeric: \", x.isalnum())\n",
    "print(\"is ascii: \", x.isascii())\n",
    "print(\"\")"
   ]
  },
  {
   "cell_type": "markdown",
   "id": "8b4e1c1d",
   "metadata": {},
   "source": [
    "<hr />\n",
    "<b>Side note for some students</b>\n",
    "<p>That&rsquo;s it for the moment.  We&rsquo;ll see other ways in python to process data much faster - <code>any</code>, <code>all</code> (De Morgen&rsquo;s law), and <code>re</code> or regular expressions (regex).</p>"
   ]
  },
  {
   "cell_type": "markdown",
   "id": "08c3b22a",
   "metadata": {},
   "source": [
    "Wk-02-part-2.ipynb"
   ]
  }
 ],
 "metadata": {
  "kernelspec": {
   "display_name": "Python 3 (ipykernel)",
   "language": "python",
   "name": "python3"
  },
  "language_info": {
   "codemirror_mode": {
    "name": "ipython",
    "version": 3
   },
   "file_extension": ".py",
   "mimetype": "text/x-python",
   "name": "python",
   "nbconvert_exporter": "python",
   "pygments_lexer": "ipython3",
   "version": "3.10.0"
  }
 },
 "nbformat": 4,
 "nbformat_minor": 5
}
