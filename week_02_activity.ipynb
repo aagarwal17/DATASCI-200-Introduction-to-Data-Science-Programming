{
 "cells": [
  {
   "cell_type": "markdown",
   "metadata": {},
   "source": [
    "# Week 2 Activities\n"
   ]
  },
  {
   "cell_type": "markdown",
   "metadata": {},
   "source": [
    "###  1. Text handling\n",
    "\n",
    "A) Type a one-line script that prints exactly:\n",
    "\n",
    "```\n",
    "The \"trouble with\n",
    "Tribbles\" that they\n",
    "\\\\\\EAT/// too many MREs.\n",
    "```\n"
   ]
  },
  {
   "cell_type": "code",
   "execution_count": 2,
   "metadata": {},
   "outputs": [
    {
     "name": "stdout",
     "output_type": "stream",
     "text": [
      "The \"trouble with\n",
      " Tribbles\" that they\n",
      " \\\\\\EAT/// too many MREs.\n"
     ]
    }
   ],
   "source": [
    "# Insert your code here\n",
    "print('The \"trouble with\\n Tribbles\" that they\\n \\\\\\\\\\\\EAT/// too many MREs.')"
   ]
  },
  {
   "cell_type": "markdown",
   "metadata": {},
   "source": [
    "B) Store the phrase in part 1 into a variable then use that variable to print ‘selbbirT ’ 20 times\n",
    "\n",
    "Example:\n",
    "\n",
    "`selbbirT selbbirT selbbirT selbbirT …`"
   ]
  },
  {
   "cell_type": "code",
   "execution_count": 14,
   "metadata": {},
   "outputs": [
    {
     "name": "stdout",
     "output_type": "stream",
     "text": [
      "selbbirT selbbirT selbbirT selbbirT selbbirT selbbirT selbbirT selbbirT selbbirT selbbirT selbbirT selbbirT selbbirT selbbirT selbbirT selbbirT selbbirT selbbirT selbbirT selbbirT \n"
     ]
    }
   ],
   "source": [
    "# Insert your code here\n",
    "x = 'The \"trouble with\\n Tribbles\" that they\\n \\\\\\\\\\\\EAT/// too many MREs.'\n",
    "print((x[26:18:-1] + ' ') *20)"
   ]
  },
  {
   "cell_type": "markdown",
   "metadata": {},
   "source": [
    "### 2. Flow Control\n",
    "Fix this code so it works in a sensible way"
   ]
  },
  {
   "cell_type": "code",
   "execution_count": 15,
   "metadata": {},
   "outputs": [
    {
     "name": "stdout",
     "output_type": "stream",
     "text": [
      "you are a spider\n"
     ]
    }
   ],
   "source": [
    "ans = input('do you have 8 legs?')\n",
    "if ans == \"yes\":\n",
    "    print(\"you are a spider\")\n",
    "ans = input('do you have 4 legs?')\n",
    "if ans == \"yes\":\n",
    "    print('you are a quad')\n",
    "print('you are a bicycle')"
   ]
  },
  {
   "cell_type": "markdown",
   "metadata": {},
   "source": [
    "### 3. Part A: A Simple Tool\n",
    "\n",
    "You work for a Python consulting company. One of your clients is really bad at math, and comes to you with an important task: to create a \"calculator\" program.\n",
    "\n",
    "We're going to build your first tool using Python code! Create a calculator tool that prompts a user for two numbers and an operator. Then, print out the result of that equation to the screen.\n",
    "\n",
    "Your calculator should work for addition, subtraction, multiplication and division. If the user enters anything else as the operator, tell the user they picked an invalid operator.\n",
    "\n",
    "#### Helpful functions\n",
    "- input()\n",
    "- float()\n",
    "- if, elif, else\n",
    "- print()\n",
    "\n",
    "#### Sample output\n",
    "```\n",
    "Enter first number: 3\n",
    "Enter second number: 5.5\n",
    "Enter an operator: *\n",
    "3.0 * 5.5 = 16.5\n",
    "```"
   ]
  },
  {
   "cell_type": "code",
   "execution_count": null,
   "metadata": {},
   "outputs": [],
   "source": [
    "# Insert your code here\n"
   ]
  },
  {
   "cell_type": "markdown",
   "metadata": {},
   "source": [
    "### 3. Part B: Advanced Tool\n",
    "\n",
    "Your client would like to be able to use some of Python's advanced operators. Update your program to allow exponents, modular division, and integer division.\n",
    "\n",
    "#### Helpful Functions\n",
    "- \\**\n",
    "- %\n",
    "- //\n",
    "\n",
    "#### Sample Output\n",
    "```\n",
    "Enter first number: 7\n",
    "Enter second number: 4\n",
    "Enter an operator: %\n",
    "7.0 % 4.0 = 3.0\n",
    "```"
   ]
  },
  {
   "cell_type": "code",
   "execution_count": null,
   "metadata": {},
   "outputs": [],
   "source": [
    "# Insert your code here\n"
   ]
  },
  {
   "cell_type": "markdown",
   "metadata": {},
   "source": [
    "### EXTRA: The flashing sign\n",
    "\n",
    "Lets tell the user something with a sense of flair and drama! This code should print out a message that changes at a set pace with a sense of drama using `time.sleep()`. We have given you a basic code below, try to make something more interesting!\n",
    "\n",
    "Can you explain what is happening? \n",
    "Can you make this better or more interesting?\n",
    "\n",
    "#### Here are some hints\n",
    "- /r and /n are not the same\n",
    "- As shown in the slide deck print statements implicitly append \\n to the back of the string"
   ]
  },
  {
   "cell_type": "code",
   "execution_count": null,
   "metadata": {},
   "outputs": [],
   "source": [
    "import time\n",
    "\n",
    "print('abc' , end= \" \")\n",
    "\n",
    "#dramatic pause\n",
    "time.sleep(1)\n",
    "print(\"\\r******\", end= \" \")\n",
    "\n",
    "time.sleep(1)\n",
    "print(\"\\rdef\", end= \" \")\n",
    "\n",
    "time.sleep(1)\n",
    "print(\"\\n******\")\n",
    "print(\"hij\", end= \" \")"
   ]
  },
  {
   "cell_type": "markdown",
   "metadata": {
    "collapsed": true
   },
   "source": [
    "## Congratulations! You finished."
   ]
  }
 ],
 "metadata": {
  "anaconda-cloud": {},
  "kernelspec": {
   "display_name": "Python 3",
   "language": "python",
   "name": "python3"
  },
  "language_info": {
   "codemirror_mode": {
    "name": "ipython",
    "version": 3
   },
   "file_extension": ".py",
   "mimetype": "text/x-python",
   "name": "python",
   "nbconvert_exporter": "python",
   "pygments_lexer": "ipython3",
   "version": "3.11.5"
  }
 },
 "nbformat": 4,
 "nbformat_minor": 1
}
