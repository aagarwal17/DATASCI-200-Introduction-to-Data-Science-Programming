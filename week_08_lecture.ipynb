{
 "cells": [
  {
   "cell_type": "markdown",
   "metadata": {},
   "source": [
    "<p style=\"font-size:9px;\">Week 8: New Version.  Feb 14, 2022; <u>updated</u> Feb 21, 2022</p>\n",
    "<hr />\n",
    "<h2 style=\"background-color:skyblue;padding:15px;border-radius:4px;\">\n",
    "    Week 8: Object-Oriented Programming, part 2\n",
    "</h2>\n",
    "<p>\n",
    "    In this section we review and introduce some ideas about \n",
    "    <ul style=\"font-size:24px;line-height:33px;color:cornflowerblue;\">\n",
    "        <li>Inheritance</li>\n",
    "        <li>Polymorphism</li>\n",
    "        <li>Magic Methods</li>\n",
    "        <li>Long demo about get/set and private/protected variables</li>\n",
    "        <li>Property Decorators</li>\n",
    "        <li>Odds and ends: file renaming</li>\n",
    "     </ul>\n",
    "</p>\n",
    "<hr />\n",
    "<p><h3>Review of OOP</h3>\n",
    "<p>Using a coin toss idea, we&rsquo;ll review OOP.  Added a few extras in the notebook, like calling html sequences (html.unescape(\"&cent;\"))</p>\n",
    "<p><h3 style=\"color:red;\">Notes</h3>\n",
    "<ul><li>There's a lot of ways to write object-oriented code - there's no perfect guide. </li>\n",
    "    <li>Variables can be global, local, static, and for today's discussion, protected or private.  Python indicates protected with a single underscore, e.g., <code>_x</code>.  Some programmers prefer to use protected vars in their objects, building on the idea of limiting scope to the code block.  Private variables use double underscore <code>__x = 3</code>.  Despite all this Python has ways to override both.</li>\n",
    "    <li>Get and Set methods: a main point today is to establish an example of using private vars and restricting access to them, at least for now, by using <b>get...</b> and <b>set...</b> methods.  Not all programmers use them: the main example is the foundation - below we look at variants.  This section is supposed to be a sequential building up of options to see the effect of the different techniques.</li>\n",
    "    <li>@property and Decorators: Like get/set this section demonstrates the many ways of method overriding and is intended more as a study guide for seeing the differences in behavior.</li>\n",
    "</ul>\n",
    "<hr />"
   ]
  },
  {
   "cell_type": "code",
   "execution_count": 1,
   "metadata": {},
   "outputs": [
    {
     "name": "stdout",
     "output_type": "stream",
     "text": [
      "We're playing with a 25 ¢ piece.  This side is up:  Heads\n",
      "... tossing the coin ... \n",
      "After the flip, this side is up:  Heads\n"
     ]
    }
   ],
   "source": [
    "import random\n",
    "import html\n",
    "\n",
    "class Coin:\n",
    "    \"\"\" \n",
    "    the __init__ method initializes the coind with Heads as attribute\n",
    "    \"\"\"\n",
    "    def __init__(self):\n",
    "        # NOTE adding the __ is a way to protect the attribute; controlling access\n",
    "        self.__sideup = \"Heads\"  \n",
    "        \n",
    "        # this attribute is the coin's value - just public\n",
    "        self.coinvalue = \"25\"\n",
    "        \n",
    "        # the toss method generates a random number iun range 0-1\n",
    "        # if 0, then heads, if 1 then tails\n",
    "        \n",
    "    def toss(self):\n",
    "        if random.randint(0, 1) == 0:\n",
    "            self.__sideup = \"Heads\"\n",
    "        else:\n",
    "            self.__sideup = \"Tails\"\n",
    "                \n",
    "    # use the idea of get/set to GET the value referenced by the sideup attriburte\n",
    "    def get_sideup(self):\n",
    "        return self.__sideup\n",
    "\n",
    "# create a MAIN function \n",
    "def main():\n",
    "    # create an object from the Coin class\n",
    "    my_coin = Coin()\n",
    "    \n",
    "    # check the side that's up:\n",
    "    print(\"We're playing with a\", my_coin.coinvalue,html.unescape(\"&cent;\"),\"piece.  This side is up: \", my_coin.get_sideup())\n",
    "    \n",
    "    # give it a flip\n",
    "    print(\"... tossing the coin ... \")\n",
    "    my_coin.toss()\n",
    "    \n",
    "    print(\"After the flip, this side is up: \", my_coin.get_sideup())\n",
    "    \n",
    "if __name__ == \"__main__\":\n",
    "    main()"
   ]
  },
  {
   "cell_type": "markdown",
   "metadata": {},
   "source": [
    "<hr/>\n",
    "<p>\n",
    "    An example of a <b>contact list</b>, demoing protected variables, __str__ , and some get/set methods.\n",
    "</p>\n",
    "<p>This example uses globals, something we rather avoid just to introduce the idea of named constants, the use of protected variables (leading with the dunder), and get/set methods.  Demonstrating the verbose version of doc strings, following <a href=\"https://www.python.org/dev/peps/pep-0257/\" target=\"new\">PEP 257</a>.\n",
    "</p>"
   ]
  },
  {
   "cell_type": "code",
   "execution_count": null,
   "metadata": {},
   "outputs": [
    {
     "name": "stdout",
     "output_type": "stream",
     "text": [
      "\n",
      " --- MENU  ----------------------------------------\n",
      "1 = Look up contact\n",
      "2 = Add a new contact\n",
      "3 = Change an existing contact\n",
      "4 = Delete a contact\n",
      "5 = Quit\n"
     ]
    }
   ],
   "source": [
    "import pickle # for serialization of data we save to a file\n",
    "\n",
    "# some global constants\n",
    "LOOK_UP = 1\n",
    "ADD = 2\n",
    "CHANGE = 3\n",
    "DELETE = 4\n",
    "QUIT = 5\n",
    "\n",
    "# constant for the filename, too\n",
    "FILENAME = \"contacts.dat\"\n",
    "\n",
    "# ********************************************\n",
    "# define class Contact\n",
    "# ********************************************\n",
    "\n",
    "class Contact:\n",
    "    \"\"\" To create a phonebook contact\n",
    "\n",
    "    Keyword arguments:\n",
    "    name -- String\n",
    "    phone - phone number that should contain dashes, e.g., 555-123-3213\n",
    "    email -- email string including the @ sign\n",
    "    __str__ returns formatted contact info of name, phone, and email\n",
    "    \"\"\"\n",
    "    \n",
    "    def __init__(self, name, phone, email):\n",
    "        self.__name = name\n",
    "        self.__phone = phone\n",
    "        self.__email = email\n",
    "        print(email)\n",
    "        \n",
    "    # set_name method sets the name attribute ... and so on ...\n",
    "    def set_name(self, name):\n",
    "        self.__name = name\n",
    "    def set_phone(self, phone):\n",
    "        self.__phone\n",
    "    def set_email(self, email):\n",
    "        self.__email = email\n",
    "        \n",
    "    def get_name(self):\n",
    "        return self.__name\n",
    "    def get_email(self):\n",
    "        return self.__email\n",
    "    def get_phone(self):\n",
    "        return self.__phone\n",
    "    \n",
    "    # __str__ method to return the object's state as a string.\n",
    "    def __str__(self):\n",
    "        return \"\\n\\tName: \"+self.__name + \\\n",
    "        \"\\n\\tPhone: \" + self.__phone + \\\n",
    "        \"\\n\\tEmail: \" + self.__email\n",
    "    \n",
    "# ********************************************\n",
    "# load_contacts\n",
    "# ********************************************\n",
    "\n",
    "def load_contacts():\n",
    "    try:\n",
    "        input_file = open(FILENAME, 'rb')\n",
    "        contact_dct = pickle.load(input_file)\n",
    "        input_file.close()\n",
    "    except IOError:  # can't open the file so create one.\n",
    "        contact_dct = {}\n",
    "    return contact_dct\n",
    "\n",
    "\n",
    "# ********************************************\n",
    "# get_menu_choice\n",
    "# ********************************************\n",
    "\n",
    "# control the input\n",
    "def get_menu_choice():\n",
    "    print(\"\\n --- MENU \",\"-\"*40)\n",
    "    print(\"1 = Look up contact\")\n",
    "    print(\"2 = Add a new contact\")\n",
    "    print(\"3 = Change an existing contact\")\n",
    "    print(\"4 = Delete a contact\")\n",
    "    print(\"5 = Quit\")\n",
    "    \n",
    "    choice = int(input(\"Enter your choice: \"))\n",
    "    # validate the choice\n",
    "    while choice < LOOK_UP or choice > QUIT:\n",
    "        choice = int(input(\"\\nEnter a choice between 1 and 5\"))\n",
    "\n",
    "    return choice\n",
    "    \n",
    "# ********************************************\n",
    "# Look up contacts\n",
    "# ********************************************\n",
    "def look_up(mycontacts):\n",
    "    # get the name\n",
    "    name = input(\"\\nEnter a name:\")\n",
    "    \n",
    "    print(mycontacts.get(name, \"That name is not here.\"))\n",
    "    \n",
    "# ********************************************\n",
    "# Add contacts\n",
    "# ********************************************\n",
    "def add(mycontacts):\n",
    "    name = input(\"Name: \")\n",
    "    phone = input(\"Phone: \")\n",
    "    email = input(\"Email: \")\n",
    "    \n",
    "    # create a Contact object named entry\n",
    "    entry = Contact(name, phone, email)\n",
    "    \n",
    "    # if the name doesn't exist in the dictionary, \n",
    "    # add it as a key with the entry object as the assoc value\n",
    "    if name not in mycontacts:\n",
    "        mycontacts[name] = entry\n",
    "        print(\"\\n** Entry added.  Yeah.\")\n",
    "    else:\n",
    "        print(\"\\n** That name is already in the list.\")\n",
    "        \n",
    "# ********************************************\n",
    "# Change an existing entry\n",
    "# ********************************************\n",
    "def change(mycontacts):\n",
    "    name = input(\"\\nEnter a name: \")\n",
    "    \n",
    "    if name in mycontacts:\n",
    "        phone = input(\"Enter a new phone #: \")\n",
    "        email = input(\"Input the new email address: \")\n",
    "        \n",
    "        entry = Contact(name, phone, email)\n",
    "        \n",
    "        #update the entry\n",
    "        mycontacts[name] = entry\n",
    "        print(\"Info updated.\")\n",
    "    else:\n",
    "        print(\"Sorry, that name was not found.\")\n",
    "\n",
    "# ********************************************\n",
    "# Delete an entry\n",
    "# ********************************************\n",
    "def delete(mycontacts):\n",
    "    # get the name\n",
    "    name = input(\"Enter the name: \")\n",
    "    if name in mycontacts:\n",
    "        del mycontacts[name]\n",
    "        print(\"Entry deleted.\")\n",
    "    else:\n",
    "        print(\"Not found.\")\n",
    "\n",
    "# ********************************************\n",
    "# Save contacts\n",
    "# ********************************************\n",
    "def save_contacts(mycontacts):\n",
    "    # open the file for writing\n",
    "    output_file = open(FILENAME, \"wb\")\n",
    "    pickle.dump(mycontacts, output_file)\n",
    "    output_file.close()\n",
    "\n",
    "\n",
    "# ********************************************\n",
    "# Main function\n",
    "# ********************************************\n",
    "\n",
    "# main function\n",
    "def main():\n",
    "    mycontacts = load_contacts()\n",
    "    \n",
    "    # init for user's choice\n",
    "    choice = 0\n",
    "    \n",
    "    while choice != QUIT:\n",
    "        choice = get_menu_choice()\n",
    "        \n",
    "        if choice == LOOK_UP:\n",
    "            look_up(mycontacts)\n",
    "        elif choice == ADD:\n",
    "            add(mycontacts)\n",
    "        elif choice == CHANGE:\n",
    "            change(mycontacts)\n",
    "        elif choice == DELETE:\n",
    "            delete(mycontacts)\n",
    "            \n",
    "    save_contacts(mycontacts)\n",
    "    \n",
    "# ********************************************\n",
    "# Start running the script here.\n",
    "# ********************************************\n",
    "\n",
    "if __name__ == \"__main__\":\n",
    "    main()"
   ]
  },
  {
   "cell_type": "markdown",
   "metadata": {},
   "source": [
    "<hr />\n",
    "<h2 style=\"padding:15px;border-radius:4px;background-color:skyblue;\">Inheritance</h2>\n",
    "<p>Considering objects, ask yourself if the particular item <i>is a</i> member of some class.  And ask whether the item <i>has a</i> particular kind of property.  This is one technique for identifying properties and behaviors. A car and a truck are both vehicles; what are the most commonly shared characteristics of them? Shape that into a base or parent class ... and then <i>inherit</i> copies for Car and Truck, adding attributes and methods specific to Car that Truck might not need (or vice versa).\n",
    "</p>\n",
    "<h2>Automobile as a base class</h2>"
   ]
  },
  {
   "cell_type": "code",
   "execution_count": null,
   "metadata": {},
   "outputs": [],
   "source": [
    "# Automobile class holds data about an auto in inventory ...\n",
    "class Automobile:\n",
    "    def __init__(self, make, model, mileage, price):\n",
    "        self.__make = make\n",
    "        self.__model = model\n",
    "        self.__mileage = mileage\n",
    "        self.__price = price\n",
    "        \n",
    "    def set_make(self, make):\n",
    "        self.__make = make\n",
    "    def set_model(self, model):\n",
    "        self.__model\n",
    "    def set_mileage(self, mileage):\n",
    "        self.__mileage = mileage\n",
    "    def set_price(self, price):\n",
    "        self.__price = price\n",
    "        \n",
    "    def get_make(self):\n",
    "        return self.__make\n",
    "    def get_model(self):\n",
    "        return self.__model\n",
    "    def get_mileage(self):\n",
    "        return self.__mileage\n",
    "    def get_price(self):\n",
    "        return self.__price\n",
    "    \n",
    "# CAR Class - a subclass of the Automobile class\n",
    "# need to tailor this for the doors\n",
    "class Car(Automobile):\n",
    "    def __init__(self, make, model, mileage, price, doors):\n",
    "        # note that we can call the superclass's __init__ method\n",
    "        # and pass the required arguments. Note that we have to \n",
    "        # pass self as an argument, too.\n",
    "        Automobile.__init__(self, make, model, mileage, price)\n",
    "        \n",
    "        # now some tailored things for Car\n",
    "        self.__doors = doors\n",
    "        \n",
    "    def set_doors(self, doors):\n",
    "        self.doors = doors\n",
    "        \n",
    "    def get_doors(self):\n",
    "        return self.__doors\n",
    "\n",
    "class Truck(Automobile):\n",
    "    def __init__(self, make, model, mileage, price, drive_type):\n",
    "        Automobile.__init__(self, make, model, mileage, price)\n",
    "        \n",
    "        self.__drive_type = drive_type\n",
    "        \n",
    "    def set_drive_type(self, drive_type):\n",
    "        self.__drive = drive_type\n",
    "    def get_drive_type(self):\n",
    "        return self.__drive_type\n",
    "\n",
    "# ***************************\n",
    "# main\n",
    "# ***************************\n",
    "def main():\n",
    "    car = Car(\"BMW\", 2001, 7000, 1500.0, 4)\n",
    "    truck = Truck(\"Ford\", 2002, 30000, 12000.0, '4WD')\n",
    "    \n",
    "    print(\"\\nUSED CAR INVENTORY\\n\",\"=\"*40)\n",
    "    \n",
    "    # inventory info\n",
    "    print(\"This car is in inventory...\")\n",
    "    print(\"\\t\", car.get_make(),\" Model:\",car.get_model(),\" with \",car.get_mileage(), \"miles.\", car.get_price(),\". Doors:\", car.get_doors())\n",
    "    \n",
    "    # trucks\n",
    "    print(\"Trucks on hand ... \\n\\t\", truck.get_make(),\" model: \",truck.get_model(),\" with \",truck.get_mileage(), \"miles.\", truck.get_price(),\". Doors: \", truck.get_drive_type())\n",
    "    \n",
    "if __name__ == \"__main__\":\n",
    "    main()"
   ]
  },
  {
   "cell_type": "markdown",
   "metadata": {},
   "source": [
    "<hr />\n",
    "<h2 style=\"padding:15px;border-radius:4px;background-color:skyblue;\">Polymorphism</h2>\n",
    "<p>Polymorphic behavior:\n",
    "    <ul>\n",
    "        <li>define a method in a superclass and then define a method with the same name in a subclass; sometimes called <i>overriding</i></li>\n",
    "        <li>ability to call the correctd version of an overriden method, depending on the type of object that is used to call it.  If a subclass object is used to call an overriden method, then the subclass's version of the method will be executed.  If a superclass object isused to call an overridden method, then the superclass's version of the method is the one that's executed.</li>\n",
    "    </ul>\n",
    "</p>\n",
    "<p>Here we'll look at <code>__init__</code> that overrides the superclass's __init__ method.  When an instance of the subclass is created, it is the subclass's __init__ method that automatically gets called.</p>\n",
    "<p>The usual example is to make some pets!  Notice each class has the same method name - <code>show_mammal_info()</code>.</p>"
   ]
  },
  {
   "cell_type": "code",
   "execution_count": null,
   "metadata": {},
   "outputs": [],
   "source": [
    "import unicodedata\n",
    "\n",
    "class Mammal:\n",
    "    # the __init__ accepts an argument for the species\n",
    "    def __init__(self, species):\n",
    "        self.__species = species\n",
    "        \n",
    "    # the show_speciees method displays a message about the mammal's species\n",
    "    def show_species(self):\n",
    "        print(\"I'm a \", self.__species)\n",
    "        \n",
    "    # make some generic sound ...\n",
    "    def make_sound(self):\n",
    "        print(\"\\t\\t \\N{DOLPHIN} Roar of the Dolphin!\")\n",
    "        \n",
    "class Dog(Mammal):\n",
    "    \n",
    "    # the __init__here calls the superclass's __init__ passing \"Dog\" as species\n",
    "    def __init__(self):\n",
    "        Mammal.__init__(self, \"Dog\")\n",
    "        \n",
    "    # here we'll override the superclass's make_sound() method.\n",
    "    def make_sound(self):\n",
    "        print(\"\\t\\t \\N{DOG} Woof!\")\n",
    "        \n",
    "class Cat(Mammal):\n",
    "    \n",
    "    # the __init__here calls the superclass's __init__ passing \"Cat\" as species\n",
    "    def __init__(self):\n",
    "        Mammal.__init__(self, \"Cat\")p\n",
    "        \n",
    "    # here we'll override the superclass's make_sound() method.\n",
    "    def make_sound(self):\n",
    "        print(\"M e o o w ! \\N{CAT}\")\n",
    "        \n",
    "def main():\n",
    "    # create a Mammal, Dog, and Cat objects\n",
    "    mammal = Mammal('Regular Mammal ')\n",
    "    dog = Dog()\n",
    "    cat = Cat()\n",
    "    \n",
    "    print(\"What do they say?\")\n",
    "    show_mammal_info(mammal)\n",
    "    show_mammal_info(dog)\n",
    "    show_mammal_info(cat)\n",
    "    \n",
    "# a way of getting info showing polymorphism.\n",
    "def show_mammal_info(creature):\n",
    "    creature.show_species()\n",
    "    creature.make_sound()\n",
    "\n",
    "    \n",
    "if __name__ == \"__main__\":\n",
    "    main()"
   ]
  },
  {
   "cell_type": "markdown",
   "metadata": {},
   "source": [
    "<hr />\n",
    "<h2 style=\"background-color:skyblue;padding:15px;border-radius:4px;\">super()</h2>\n",
    "<p><code>super()</code> calls methods from the parent class(es).  Kind of the flipside of inheritence by re-using a method defined in a parent.  Famous example is Rectangles and Squares ... </p>"
   ]
  },
  {
   "cell_type": "code",
   "execution_count": null,
   "metadata": {},
   "outputs": [],
   "source": [
    "class Rectangle:\n",
    "    def __init__(self, length, width):\n",
    "        print(\"the Rectangle's init statement\")\n",
    "        self.length = length\n",
    "        self.width = width\n",
    "        \n",
    "    def area(self):\n",
    "        return self.length & self.width\n",
    "    \n",
    "    def perimeter(self):\n",
    "        return 2 * self.length + 2 * self.width\n",
    "    \n",
    "# here rather than rewrite stuff in Square, call up the tree to the parent.\n",
    "class Square(Rectangle):\n",
    "    def __init__(self, length):\n",
    "        print(\"Square's init before calling super()\")\n",
    "        super().__init__(length, length)\n",
    "        \n",
    "square = Square(32)\n",
    "square.area()\n",
    "\n",
    "print(\"-\"*40)\n",
    "print(\"Use some of the cool built-in attributes - like __mro__, __isinstance__, __class__, __doc__\")\n",
    "print(\"Method Resolution Order shows the chain of inheritance ... Square is a child of Rectangle;\")\n",
    "print(\"Rectangle is a child of object.\")\n",
    "print(Square.__mro__)"
   ]
  },
  {
   "cell_type": "markdown",
   "metadata": {},
   "source": [
    "<hr />\n",
    "<h2 style=\"background-color:skyblue;padding:15px;border-radius:4px;\">Magic Methods</h2>\n",
    "<p>We can determine if one integer is larger or smaller than another.  But what about comparing our own objects?  For instance, if discussing financial institutions, we might wonder Bank is \"&ldquo;bigger&rdquo;?  Bigger must be defined by some attribute of the object we can compare.</p>\n",
    "<p>We can override how python does comparisons - by overriding the magic methods</p>"
   ]
  },
  {
   "cell_type": "code",
   "execution_count": null,
   "metadata": {},
   "outputs": [],
   "source": [
    "class Card:\n",
    "    \n",
    "    def __init__(self, value, suit): # invoked automaically when object is created\n",
    "        self.value = value\n",
    "        self.suit = suit\n",
    "    \n",
    "\n",
    "a = Card(3, \"heart\")\n",
    "b = Card(5, \"spade\")\n",
    "\n",
    "# is a equivalent to a\n",
    "a == a\n",
    "\n",
    "# c is copied from a: is c equivalent to a\n",
    "c = a\n",
    "a == c\n",
    "\n",
    "a == b\n",
    "a < b\n",
    "\n",
    "a > b"
   ]
  },
  {
   "cell_type": "markdown",
   "metadata": {},
   "source": [
    "<hr />\n",
    "<h3>&#9852; Build on your earlier experience with magic methods</h3> Just as we used &lowbar;&lowbar;init&lowbar;&lowbar;, &lowbar;&lowbar;name&lowbar;&lowbar;, &lowbar;&lowbar;main&lowbar;&lowbar; so we can use some built-in methods ... because the objects we\n",
    "    write are actually implementations of a hidden Object ... </p>"
   ]
  },
  {
   "cell_type": "code",
   "execution_count": null,
   "metadata": {},
   "outputs": [],
   "source": [
    "class Card:\n",
    "    \n",
    "    def __init__(self, value, suit): # invoked automaically when object is created\n",
    "        self.value = value\n",
    "        self.suit = suit\n",
    "        \n",
    "    def __eq__(self, other): # invoked automatically when == is used with two Card objects\n",
    "        return self.value == other.value # will return True or False\n",
    "\n",
    "    def __lt__(self, other): # invoked automatically when < is used with two Card objects\n",
    "        return self.value < other.value # will return True or False\n",
    "    \n",
    "    def __gt__(self, other): # invoked automatically when > is used with two Card objects\n",
    "        return self.value > other.value # will return True or False\n",
    "    \n",
    "\n",
    "a = Card(3, \"heart\")\n",
    "b = Card(5, \"spade\")\n",
    "\n",
    "a == a\n",
    "\n",
    "c = a\n",
    "a == c\n",
    "\n",
    "a == b\n",
    "a < b\n",
    "a > b"
   ]
  },
  {
   "cell_type": "markdown",
   "metadata": {},
   "source": [
    "<h2> &#127752; Magic Methods (from p. 138 ff)</h2>\n",
    "<table align=\"left\" width=\"100%\">\n",
    "    <tr>\n",
    "        <td style=\"text-align: left;\">__eq__(self, other)</td>\n",
    "        <td  style=\"text-align: left;\">__ne__(self, other)</td>\n",
    "        <td  style=\"text-align: left;\">__lt__(self, other)</td>\n",
    "    </tr>\n",
    "    <tr>\n",
    "        <td style=\"text-align: left;\">__gt__(self, other)</td>\n",
    "        <td style=\"text-align: left;\">__le__(self, other)</td>\n",
    "        <td style=\"text-align: left;\">__ge__(self, other)</td>\n",
    "    </tr>\n",
    "    <tr>\n",
    "        <td style=\"text-align: left;\">__add__(self, other)</td>\n",
    "        <td style=\"text-align: left;\">__sub__(self, other)</td>\n",
    "        <td style=\"text-align: left;\">__mul__(self, other)</td>\n",
    "    </tr>\n",
    "    <tr>\n",
    "        <td style=\"text-align: left;\">__floordiv__(self, other)</td>\n",
    "        <td style=\"text-align: left;\">__truediv__(self, other)</td>\n",
    "        <td style=\"text-align: left;\">__mod__(self, other)</td>\n",
    "    </tr>\n",
    "    <tr>\n",
    "        <td style=\"text-align: left;\">__pow__(self, other)</td>\n",
    "        <td style=\"text-align: left;\">__str__(self)</td>\n",
    "        <td style=\"text-align: left;\">__repr__(self)</td>\n",
    "    </tr>\n",
    "    <tr>\n",
    "        <td style=\"text-align: left;\">__len__(self)</td>\n",
    "        <td style=\"text-align: left;\">__name__(self)</td>\n",
    "        <td style=\"text-align: left;\">__main__</td>\n",
    "    </tr>\n",
    "    </table>"
   ]
  },
  {
   "cell_type": "code",
   "execution_count": null,
   "metadata": {},
   "outputs": [],
   "source": [
    "class Comparison:\n",
    "    def __init__(self, a):\n",
    "        self.a = a\n",
    "    def __lt__(self, object2):\n",
    "        return self.a < object2.a\n",
    "    def __gt__(self, object2):\n",
    "        return self.a > object2.a\n",
    "    def __le__(self, object2):\n",
    "        return self.a <= object2.a\n",
    "    def __ge__(self, object2):\n",
    "        return self.a >= object2.a\n",
    "    def __eq__(self, object2):\n",
    "        return self.a == object2.a\n",
    "    def __ne__(self, object2):\n",
    "        return self.a != object2.a\n",
    "    \n",
    "a = Comparison(1)\n",
    "b = Comparison(2)\n",
    "\n",
    "print(\n",
    "    a < b,\n",
    "    a > b,\n",
    "    a <= b,\n",
    "    a >= b,\n",
    "    a == b,\n",
    "    a != b\n",
    ")"
   ]
  },
  {
   "cell_type": "markdown",
   "metadata": {},
   "source": [
    "<hr />\n",
    "<h2 style=\"background-color:skyblue;padding:15px;border-radius:4px;\">Breakout Room</h2>"
   ]
  },
  {
   "cell_type": "markdown",
   "metadata": {},
   "source": [
    "<h2 style=\"color:cornflowerblue\">More about <u>get and set</u> methods</h2>\n",
    "<p><b>Note</b>: use the get/set examples above as a baseline or foundation.  Then you can use the many techniques for hiding variables, expanding code behavior with property decorators, etc. </p>\n",
    "<p>Python has public, private, and protected variables and using <b>get</b> and <b>set</b> techniques can be confusing.  In general, a get method helps to control the access to private or protected attributes of a class to fetch the value; a set method helps control changing the value of a private or protected attribute value.</p>\n",
    "<p>When protecting a variable from end-users and asking other programmers not to play around with our variables, start the variable with a dunder __, e.g., __salary.  Private vars start with a single underscore _.\n",
    "    </p>\n",
    "    <blockquote>Protected Members\n",
    "<p>\n",
    "Protected members of a class are accessible from within the class and are also available to its sub-classes. No other environment is permitted access to it. This enables specific resources of the parent class to be inherited by the child class.\n",
    "    </p><p>\n",
    "Python's convention to make an instance variable protected is to add a prefix _ (single underscore) to it. This effectively prevents it from being accessed unless it is from within a sub-class.</p>\n",
    "    <p>\n",
    "        Private Members\n",
    "<p>\n",
    "Python doesn't have any mechanism that effectively restricts access to any instance variable or method. Python prescribes a convention of prefixing the name of the variable/method with a single or double underscore to emulate the behavior of protected and private access specifiers.\n",
    "    </p><p>\n",
    "The double underscore __ prefixed to a variable makes it private. It gives a strong suggestion not to touch it from outside the class. Any attempt to do so will result in an AttributeError.</p></blockquote> "
   ]
  },
  {
   "cell_type": "markdown",
   "metadata": {},
   "source": [
    "<p style=\"font-size:18px;\">Now we need some technique to update the value and to fetch the value: set and get.  There are a couple of ways.</p>\n",
    "    <p>In this section to review sequentially <ol>\n",
    "    <li>protecting our variables in a class,</li>\n",
    "    <li>accessing and changing them with get/set method</li></ol>\n",
    "    \n",
    "<h3>Main Point: the idea of using a method (for getting and setting) for retrieving and setting data.</h3>"
   ]
  },
  {
   "cell_type": "code",
   "execution_count": 4,
   "metadata": {},
   "outputs": [
    {
     "name": "stdout",
     "output_type": "stream",
     "text": [
      "\n",
      "Notice the output:\n",
      "<bound method A.getValue of <__main__.A object at 0x7f7dae743790>>\n",
      "<bound method B.getValue of <__main__.B object at 0x7f7dae7431c0>>\n",
      "\n",
      "\n",
      "The output of just calling the object b: <__main__.B object at 0x7f7dae7582e0>\n",
      "Using our getValue() from inside the object to fetch data from the object:\n",
      "333\n"
     ]
    }
   ],
   "source": [
    "class A:\n",
    "    value = 5\n",
    "\n",
    "    def getValue(self):\n",
    "        return value\n",
    "\n",
    "    def setValue(self, value):\n",
    "        self.value = value\n",
    "\n",
    "class B:\n",
    "    value = 0\n",
    "\n",
    "    def __init__(self, value):\n",
    "        self.value = value\n",
    "\n",
    "    def getValue(self):\n",
    "        return self.value\n",
    "\n",
    "    def setValue(self, value):\n",
    "        self.value = value\n",
    "        \n",
    "# ------------------------------------------ \n",
    "# create instnces of two classes.\n",
    "a = A()\n",
    "b = B(3)\n",
    "\n",
    "# ------------------------------------------\n",
    "# let's retrieve the data using our get\n",
    "print(\"\\nNotice the output:\")\n",
    "print(a.getValue)\n",
    "print(b.getValue)\n",
    "\n",
    "# ------------------------------------------\n",
    "# instantiate a class; view the object; \n",
    "# and use our own get method to fetch data OUT of the object.\n",
    "print(\"\\n\")\n",
    "b = B(333)\n",
    "print(\"The output of just calling the object b:\", b)\n",
    "\n",
    "print(\"Using our getValue() from inside the object to fetch data from the object:\")\n",
    "print(b.getValue())"
   ]
  },
  {
   "cell_type": "markdown",
   "metadata": {},
   "source": [
    "<hr />\n",
    "<h3>An example building on the Bank notion above.</h3>\n",
    "<p>Here we use the <span style=\"color:red;\">dunder</span> \n",
    "    to create a private variable to prevent access to a value in a class, \n",
    "    unless we use a get/set method.</p>\n",
    "<p>Notice the differences between Bank and now ProtectedBank classes.  We want to prevent people from using <code>money_on_hand</code>, so we can protect it with the <code>__</code>.  We need a way to access the data, tho - so why not a get/set?</p>\n",
    "\n",
    "<p style=\"font-family: Courier; font-size:16px;\">\n",
    "class Bank:<br />\n",
    "    ...<br />\n",
    "    &nbsp;&nbsp;&nbsp;&nbsp;<span style=\"color:red;\">self.money_on_hand = money_on_hand</span><br />\n",
    "    ...\n",
    "    <br /><br />\n",
    "class ProtectedBank:<br />\n",
    "    ...<br />\n",
    "    &nbsp;&nbsp;&nbsp;&nbsp;<span style=\"color:red;\">self.__money_on_hand = money_on_hand</span>\n",
    "    <br />\n",
    "    ...\n",
    "</p>"
   ]
  },
  {
   "cell_type": "code",
   "execution_count": 7,
   "metadata": {},
   "outputs": [
    {
     "name": "stdout",
     "output_type": "stream",
     "text": [
      "Berkeley\n",
      "San Francisco\n",
      "\n",
      "After moving the bank to the Valley:  Bakersfield\n"
     ]
    }
   ],
   "source": [
    "# DEFINE A CLASS\n",
    "class Bank:\n",
    "    \"\"\" Base class for all banks \"\"\"\n",
    "    total_branches = 0                             # NOTE: Class Attribute\n",
    "\n",
    "    def __init__(self, name, city, money_on_hand = 10000):\n",
    "        self.name = name\n",
    "        self.city = city\n",
    "        self.no_of_transactions = 0                # NOTE: Instance Attribute\n",
    "        self.money_on_hand = money_on_hand\n",
    "        Bank.preferred_currency = \"USD\"            # NOTE: Class attribute\n",
    "                                                   # See the reference to Bank Class\n",
    "        \n",
    "    def showBankInfo(self):                        # add a method to get data \n",
    "        print(self.name, self.city)\n",
    "\n",
    "    def how_much_in_vault(self):\n",
    "        print(\"$ in vault: \", moneyOnHand)\n",
    "\n",
    "    def add_money(self, amount):\n",
    "        self.money_on_hand += amount\n",
    "        self.no_of_transactions += 1\n",
    "\n",
    "\"\"\" ------------------------------------------------- \"\"\"\n",
    "# TWO INSTANCES of the Bank()\n",
    "bankOfAmerica = Bank(\"BoA\", \"Berkeley\")\n",
    "wellsFargo = Bank(\"WF\", \"San Francisco\")\n",
    "\n",
    "# ACCESSING THE ATTRIBUTES using a dot operator\n",
    "print(bankOfAmerica.city)\n",
    "print(wellsFargo.city)\n",
    "\n",
    "# UPDATING A VALUE\n",
    "bankOfAmerica.city = \"Bakersfield\"\n",
    "print(\"\\nAfter moving the bank to the Valley: \", bankOfAmerica.city)"
   ]
  },
  {
   "cell_type": "code",
   "execution_count": 8,
   "metadata": {},
   "outputs": [],
   "source": [
    "class ProtectedBank:\n",
    "    \"\"\" Base class for all banks \"\"\"\n",
    "    total_branches = 0\n",
    "\n",
    "    def __init__(self, name, city, money_on_hand = 10000):\n",
    "        self.name = name\n",
    "        self.city = city\n",
    "        self.no_of_transactions = 0\n",
    "        self.__money_on_hand = money_on_hand\n",
    "        Bank.preferred_currency = \"USD\"\n",
    "\n",
    "    def how_much_in_vault(self):\n",
    "        # print(\"$ in vault: \", moneyOnHand) - throws error now\n",
    "        return self.__money_on_hand\n",
    "\n",
    "    def get_money_on_hand(self):\n",
    "        return self.__money_on_hand\n",
    "\n",
    "    def set_money_on_hand(self, newMoney):\n",
    "        if newMoney < 10000:\n",
    "            raise Exception(\"Banks must reserve 10000\")\n",
    "        self.__money_on_hand = newMoney\n",
    "\n",
    "pb = ProtectedBank(\"Joe's Money House\", \"Bakersfield\")"
   ]
  },
  {
   "cell_type": "code",
   "execution_count": 9,
   "metadata": {},
   "outputs": [
    {
     "name": "stdout",
     "output_type": "stream",
     "text": [
      "Joe's Money House\n"
     ]
    },
    {
     "data": {
      "text/plain": [
       "10000"
      ]
     },
     "execution_count": 9,
     "metadata": {},
     "output_type": "execute_result"
    }
   ],
   "source": [
    "# the name attribute for this particular class isn't protected\n",
    "print(pb.name)\n",
    "\n",
    "# The __ in front of the attribute prevents accessing data.\n",
    "# Uncomment and see.\n",
    "# print(pb.__money_on_hand)\n",
    "\n",
    "# Here we use the legit way of retrieving private data\n",
    "# using our own created getter method.\n",
    "pb.get_money_on_hand()"
   ]
  },
  {
   "cell_type": "code",
   "execution_count": 10,
   "metadata": {},
   "outputs": [
    {
     "name": "stdout",
     "output_type": "stream",
     "text": [
      "400000\n"
     ]
    }
   ],
   "source": [
    "# use the setter to update the value\n",
    "pb.set_money_on_hand(400000)\n",
    "\n",
    "print(pb.get_money_on_hand())"
   ]
  },
  {
   "cell_type": "code",
   "execution_count": 11,
   "metadata": {},
   "outputs": [
    {
     "ename": "Exception",
     "evalue": "Banks must reserve 10000",
     "output_type": "error",
     "traceback": [
      "\u001b[0;31m---------------------------------------------------------------------------\u001b[0m",
      "\u001b[0;31mException\u001b[0m                                 Traceback (most recent call last)",
      "Input \u001b[0;32mIn [11]\u001b[0m, in \u001b[0;36m<module>\u001b[0;34m\u001b[0m\n\u001b[1;32m      1\u001b[0m \u001b[38;5;66;03m# In this example we demo using try/except block to prevent\u001b[39;00m\n\u001b[1;32m      2\u001b[0m \u001b[38;5;66;03m# creating a bank that doesn't conform to some business rule\u001b[39;00m\n\u001b[1;32m      3\u001b[0m \u001b[38;5;66;03m# such as a minimum reserve.\u001b[39;00m\n\u001b[0;32m----> 5\u001b[0m \u001b[43mpb\u001b[49m\u001b[38;5;241;43m.\u001b[39;49m\u001b[43mset_money_on_hand\u001b[49m\u001b[43m(\u001b[49m\u001b[38;5;241;43m400\u001b[39;49m\u001b[43m)\u001b[49m\n",
      "Input \u001b[0;32mIn [8]\u001b[0m, in \u001b[0;36mProtectedBank.set_money_on_hand\u001b[0;34m(self, newMoney)\u001b[0m\n\u001b[1;32m     19\u001b[0m \u001b[38;5;28;01mdef\u001b[39;00m \u001b[38;5;21mset_money_on_hand\u001b[39m(\u001b[38;5;28mself\u001b[39m, newMoney):\n\u001b[1;32m     20\u001b[0m     \u001b[38;5;28;01mif\u001b[39;00m newMoney \u001b[38;5;241m<\u001b[39m \u001b[38;5;241m10000\u001b[39m:\n\u001b[0;32m---> 21\u001b[0m         \u001b[38;5;28;01mraise\u001b[39;00m \u001b[38;5;167;01mException\u001b[39;00m(\u001b[38;5;124m\"\u001b[39m\u001b[38;5;124mBanks must reserve 10000\u001b[39m\u001b[38;5;124m\"\u001b[39m)\n\u001b[1;32m     22\u001b[0m     \u001b[38;5;28mself\u001b[39m\u001b[38;5;241m.\u001b[39m__money_on_hand \u001b[38;5;241m=\u001b[39m newMoney\n",
      "\u001b[0;31mException\u001b[0m: Banks must reserve 10000"
     ]
    }
   ],
   "source": [
    "# In this example we demo using try/except block to prevent\n",
    "# creating a bank that doesn't conform to some business rule\n",
    "# such as a minimum reserve.\n",
    "\n",
    "pb.set_money_on_hand(400)"
   ]
  },
  {
   "cell_type": "markdown",
   "metadata": {},
   "source": [
    "<p style=\"height:100px;\">\n",
    "<hr/>\n",
    "</p>\n",
    "<h1 style=\"color:cornflowerblue;\">5.  Property Decorators @ and get/set</h1>\n",
    "<h2><code>property()</code> and <code>@property decorator</code></h2>\n",
    "<p>Here are two examples of the same code - one using properties and the next using decorators.</p>\n",
    "<p>The built-in method called <code>property()</code> includes \n",
    "getter, setter, deleter, and docstring access.</p>\n",
    "<p>Generally, properties allow adding a setter/getter after the fact; decorators start with the @ and flag certain functions, such as properties.  The \"get\" is implicit.</p>\n",
    "\n",
    "<p>Next we'll see a <code>@<i>property</i></code>.  The @property is used to get the value of a private attribute <u>without using a getter method</u>.  Put the @property in front of the method where we want to return the private variable.</p>\n",
    "\n",
    "<p>To <u>set</u> the value of the private variable, use the <code>@<i>method_name</i>.setter</code> reserve word in front of the method.  So, \n",
    "    we can use the same syntax as public variables, even tho they're private.</p>\n",
    "\n",
    "<p>In this example, we can't get __money_on_hand, but we can use a reserve word, <code>property</code> to override this behavior.<br />\n",
    "    <code>money_on_hand = <span style=\"color:red;\">property</span>(get_money_on_hand, set_money_on_hand)</code></p>"
   ]
  },
  {
   "cell_type": "code",
   "execution_count": 12,
   "metadata": {},
   "outputs": [
    {
     "name": "stdout",
     "output_type": "stream",
     "text": [
      "Fresno Natl Bank\n",
      "500000\n"
     ]
    }
   ],
   "source": [
    "\"\"\" Example using PROPERTY - notice line 26 \"\"\"\n",
    "\n",
    "class ProtectedBank:\n",
    "    \"\"\" Base class for all banks \"\"\"\n",
    "    total_branches = 0\n",
    "\n",
    "    def __init__(self, name, city, money_on_hand = 10000):\n",
    "        self.name = name\n",
    "        self.city = city\n",
    "        self.no_of_transactions = 0\n",
    "        self.__money_on_hand = money_on_hand\n",
    "        Bank.preferred_currency = \"USD\"\n",
    "\n",
    "    def how_much_in_vault(self):\n",
    "        # print(\"$ in vault: \", moneyOnHand) - throws error now\n",
    "        return self.__money_on_hand\n",
    "\n",
    "    def get_money_on_hand(self):\n",
    "        return self.__money_on_hand\n",
    "\n",
    "    def set_money_on_hand(self, newMoney):\n",
    "        if newMoney < 10000:\n",
    "            raise Exception(\"Banks must reserve 10000\")\n",
    "        self.__money_on_hand = newMoney\n",
    "\n",
    "    money_on_hand = property(get_money_on_hand, set_money_on_hand)\n",
    "    \n",
    "pb2 = ProtectedBank(\"Fresno Natl Bank\", \"Modesto\", 500000)\n",
    "print(pb2.name)\n",
    "\n",
    "# NOTE: this will throw an error\n",
    "#print(pb2.__money_on_hand)\n",
    "\n",
    "print(pb2.money_on_hand)"
   ]
  },
  {
   "cell_type": "markdown",
   "metadata": {},
   "source": [
    "<hr />\n",
    "<blockquote>Building Up and Integrating get/set and property decorators.\n",
    "    <h3 style=\"color:cornflowerblue;\">Building Up and Integrating get/set and property decorators: building up uses demos.</h3>\n",
    "    <ol>\n",
    "        <li>get and set basics with protected var, requiring use of a get/set method</li>\n",
    "        <li><code>property()</code></li>\n",
    "        <li><code>@</code>property decorator</li>\n",
    "        <li>@setter and @deleter</li>\n",
    "        <li>bank example, redux, as credit union - dot operator syntax on vars</li>\n",
    "        <li>static and class methods</li>\n",
    "    </ol>\n",
    "</blockquote>"
   ]
  },
  {
   "cell_type": "markdown",
   "metadata": {},
   "source": [
    "<hr />\n",
    "<p><span style=\"color:red;\">Example 1:</span>  Using <code>get</code> and <code>set</code> methods for private variables.\n",
    "e.g., <code>getA()</code> method returns the value of the private instance \n",
    "    attribute <code>__a</code>, while <code>setA()</code>\n",
    "    method assigned the value to <code>__a</code> attribute.</p>"
   ]
  },
  {
   "cell_type": "code",
   "execution_count": 13,
   "metadata": {},
   "outputs": [
    {
     "name": "stdout",
     "output_type": "stream",
     "text": [
      "Alpha\n",
      "Beta\n"
     ]
    }
   ],
   "source": [
    "# --------------------------------\n",
    "#  1. GET AND SET TECHNIQUES\n",
    "# --------------------------------\n",
    "\n",
    "class F:\n",
    "    def __init__(self, a = \"Alpha\"):\n",
    "        self.__a = a\n",
    "    def setA(self, a):\n",
    "        self.__a = a\n",
    "    def getA(self):\n",
    "        return self.__a\n",
    "    \n",
    "f = F()\n",
    "print(f.getA())  # works\n",
    "# print(f.a)  # will not work\n",
    "\n",
    "f.setA(\"Beta\")\n",
    "print(f.getA())"
   ]
  },
  {
   "cell_type": "markdown",
   "metadata": {},
   "source": [
    "<hr />\n",
    "<span style=\"color:red;\">Example 2:</span>  Using <code>property()</code>\n",
    "<p>Using the <code>property(<i>function1, function2</i>)</code> method allows us to access the private variable as if it were public:  <code>g.a = 'Zeta'</code>  - but in fact <u>internally</u> to\n",
    "python invokes getA() and setA().</p>"
   ]
  },
  {
   "cell_type": "code",
   "execution_count": 15,
   "metadata": {},
   "outputs": [
    {
     "name": "stdout",
     "output_type": "stream",
     "text": [
      "calling setA() for a\n",
      "calling getA ... \n",
      "Zeta\n"
     ]
    }
   ],
   "source": [
    "# --------------------------------\n",
    "#  2. PROPERTY()\n",
    "# --------------------------------\n",
    "\n",
    "class F:\n",
    "    def __init__(self):\n",
    "        self.__a = \"\"\n",
    "    def setA(self, a):\n",
    "        print(\"calling setA() for a\")\n",
    "        self.__a = a\n",
    "    def getA(self):\n",
    "        print(\"calling getA ... \")\n",
    "        return self.__a\n",
    "    a = property(getA, setA)\n",
    "\n",
    "g = F()\n",
    "g.a = \"Zeta\"\n",
    "print(g.a)"
   ]
  },
  {
   "cell_type": "markdown",
   "metadata": {},
   "source": [
    "<hr />\n",
    "<span style=\"color:red;\">Example 3</span>:  Using <code>@property decorator</code>\n",
    "<p>\n",
    "    A way of defining properties WITHOUT using the property() function is a <b>decorator</b>.</p>\n",
    "    <p>\n",
    "    DECORATORS allow <ul>\n",
    "        <li><b>defining a function inside another function</b></li>\n",
    "        <li>as \n",
    "            well as allowing a <b>function to return another function</b> (nested functions).</li>\n",
    "</ul>\n",
    "<hr />\n",
    "<h3 style=\"color:red;\">Example of (nested functions) is optional in live session.</h3>\n",
    "<p>\n",
    "The decorator is a function that receives another function as its \n",
    "argument. The point is to extend the behavior of the argument function \n",
    "without modifying the actual function's code.\n",
    "</p>\n",
    "<pre>\n",
    "def functionA(functionB):  # functionB will be decorated.\n",
    "\tdef functionC():  # wrap functionB and extent it.\n",
    "\t\t# add the code to extend the behavior of functionB\n",
    "\t\tfunctionB()\n",
    "\t\treturn functionC\n",
    "</pre>\t\t\n",
    "\n",
    "<p>Pretty confusing, no?</p>\n",
    "<pre>\n",
    "def output(string):\n",
    "\tprint(string)\n",
    "</pre>\n",
    "<hr />\n",
    "<p>Decorator function to modify the behavior of the output(): \n",
    "We&rsquo;ll add some data (\"MY NEW DATA: \") to the result of the output() \n",
    "    function.<br /><b>Carefully</b> map the names of the functions to the \n",
    "demo to understand the syntax.\n",
    "</p>\n",
    "<pre>\n",
    "# decorator function\n",
    "def outputDecorator(functionB):\n",
    "\tdef output_wrapper(str):\n",
    "\t\tprint(\"MY NEW DATA: \", end=\"\")\n",
    "\t\tfunctionB(str)\n",
    "\treturn output_wrapper\n",
    "</pre>\n",
    "<p>Using a decorator to change the behavior of a function. Check the syntax carefully. \n",
    "    This is long-winded so lets try a short-cut next applying the <code>@decorator</code></p>\n",
    "<pre>\n",
    "test = outputDecorator(output)\n",
    "print(test(\"Confusing stuff\"))\n",
    "</pre>\n",
    "Example:"
   ]
  },
  {
   "cell_type": "code",
   "execution_count": 17,
   "metadata": {},
   "outputs": [
    {
     "name": "stdout",
     "output_type": "stream",
     "text": [
      "MY NEW DATA: Confusing stuff\n",
      "None\n"
     ]
    }
   ],
   "source": [
    "# Decorator Example 1\n",
    "def functionA(functionB):       # functionB will be decorated.\n",
    "    def functionC():            # wrap functionB and extent it.\n",
    "        # add the code to extend the behavior of functionB\n",
    "        functionB()\n",
    "        return functionC\n",
    "\n",
    "\"\"\" pretty confusing, no? \"\"\"\n",
    "def output(string):\n",
    "    print(string)\n",
    "\n",
    "\n",
    "# decorator function\n",
    "def outputDecorator(functionB):\n",
    "    def output_wrapper(str):\n",
    "        print(\"MY NEW DATA: \", end=\"\")\n",
    "        functionB(str)\n",
    "    return output_wrapper\n",
    "\n",
    "test = outputDecorator(output)\n",
    "print(test(\"Confusing stuff\"))"
   ]
  },
  {
   "cell_type": "markdown",
   "metadata": {},
   "source": [
    "<hr />\n",
    "<p><span style=\"color:red;\">Example 4: Another decorator example</span></p>\n",
    "<p>The <code>@decorator</code> syntax is applied to your function, e.g., \n",
    "    <code>@myfunction</code> to associate or &ldquo;decorate&rdquo; the function.  In this example, we alter behavior of our output() function with the outputDecorator() function.  Here's an example:</p>\n",
    "<pre>\n",
    "@outputDecorator\n",
    "def output(string):\n",
    "\tprint(string)\n",
    "</pre>\n",
    "\n",
    "<p>Applying the <code>@outputDecorator</code> \n",
    "call the output() function directly and get \n",
    "the extended behavior without messing with \n",
    "the original code of output(); e.g., \n",
    "    <code>output(\"what a crazy language\")</code>\n",
    "    </p>"
   ]
  },
  {
   "cell_type": "markdown",
   "metadata": {},
   "source": [
    "<hr />\n",
    "<p style=\"color:cornflowerblue;\">Making a private var act like a public one.</p>\n",
    "<p>The property() function above has its own @property decorator.  <br />\n",
    "    Here the @property decorator defines the a property in the F class:\n",
    "   </p>\n",
    "   <hr />\n",
    "<p>Below there are two methods with the same name a() but \n",
    "a different # of parameters (aka method overloading).</p>\n",
    "<p>\n",
    "    <b>Acting like a get</b>  The <code>a(self)</code> function has the @property decorator that turns \n",
    "the a(self) method into a GET method!  The name of the property is the method name only (a).\n",
    "</p>\n",
    "<p>\n",
    "    <b>Acting like a set</b>  Next <code>a(self, data)</code> is assigned a to the private attribute __a.<br />\n",
    "    Make this into a SET method using <code>@a.set</code>.\n",
    "</p>\n",
    "<pre>\n",
    "class F:\n",
    "\tdef __init__(self):\n",
    "\t\tself.__a = \"\"\n",
    "        \n",
    "\t@property\n",
    "\tdef a(self):\n",
    "\t\treturn self.__a\n",
    "\t\n",
    "    @a.setter\n",
    "\tdef a(self, data):\n",
    "\t\tself.__a = data\n",
    "</pre>\n",
    "Example is below:"
   ]
  },
  {
   "cell_type": "code",
   "execution_count": 19,
   "metadata": {},
   "outputs": [
    {
     "name": "stdout",
     "output_type": "stream",
     "text": [
      "FISH\n",
      "这让我很头疼！\n"
     ]
    }
   ],
   "source": [
    "class F:\n",
    "    def __init__(self):\n",
    "        self.__a = \"FISH\"\n",
    "        \n",
    "    @property # ACTS LIKE A GET\n",
    "    def a(self):\n",
    "        return self.__a\n",
    "\n",
    "    @a.setter\n",
    "    def a(self, data):\n",
    "        self.__a = data\n",
    "        \n",
    "f3 = F()\n",
    "# otherwise would need f3.setA(5)\n",
    "print(f3.a)\n",
    "\n",
    "f3.a = \"这让我很头疼！\"\n",
    "print(f3.a)"
   ]
  },
  {
   "cell_type": "markdown",
   "metadata": {},
   "source": [
    "<p style=\"height:50px;\"><hr />\n",
    "<span style=\"color:red;\">Example 5:</span> Build on the rest of the default behaviors of <ul>\n",
    "    <li>property()</li>\n",
    "    <li>getter, setter</li>\n",
    "    <li>deleter</li>\n",
    "    <li>docstring</li></ul>\n",
    "    \n",
    "<p>We can invoke a <b>delete</b> behavior by using the reserved word (<code>del</code>):\n",
    "<pre>\n",
    "class F:\n",
    "\t\"\"\" this is a docstring for F. \"\"\"\n",
    "\tdef __init__(self):\n",
    "\t\tself.__a = \"\"\n",
    "\n",
    "\t@property\n",
    "\tdef a(self):\n",
    "\t\treturn self.__a\n",
    "\n",
    "    @a.setter\n",
    "\tdef a(self, data):\n",
    "\t\tself.__a = data\n",
    "\t\n",
    "    @a.deleter\n",
    "\tdef a(self):\n",
    "\t\tprint(\"Deleting ... \")\n",
    "\t\tdel self.__a\n",
    "</pre>"
   ]
  },
  {
   "cell_type": "code",
   "execution_count": 20,
   "metadata": {},
   "outputs": [
    {
     "name": "stdout",
     "output_type": "stream",
     "text": [
      "हैलो, अविकी\n",
      "\n",
      "And we bid her a fond farewell ... \n",
      "\t\t ... Deleting the value in a.  Bye!\n"
     ]
    }
   ],
   "source": [
    "class F:\n",
    "    \"\"\" this is a docstring for F. \"\"\"\n",
    "    def __init__(self):\n",
    "        self.__a = \"\"\n",
    "    @property\n",
    "    def a(self):\n",
    "        return self.__a\n",
    "    @a.setter\n",
    "    def a(self, data):\n",
    "        self.__a = data\n",
    "    @a.deleter\n",
    "    def a(self):\n",
    "        print(\"\\t\\t ... Deleting the value in a.  Bye!\")\n",
    "        del self.__a\n",
    "        \n",
    "f5 = F()\n",
    "f5.a = \"हैलो, अविकी\"  # hello, Avik\n",
    "print(f5.a)\n",
    "\n",
    "print(\"\\nAnd we bid her a fond farewell ... \")\n",
    "del(f5.a)\n",
    "# print(f5.a)  # because f5.a is gone, this line causes error."
   ]
  },
  {
   "cell_type": "markdown",
   "metadata": {},
   "source": [
    "<hr />\n",
    "<p>\n",
    "    <span style=\"color:red;\">Final Example</span>: applying @property and .setter to our bank example, now operating as a credit union!</p>\n",
    "    <blockquote><i>Fun optional tech note:</i> we can bypass all this by going up the class hierarchy from our instance (like BoM) to the parent (Bank).  Notice the <i>single</i> underscore in front of the Class name.  This shows our parent Class is a protected variable from Python's own base Object class.  E.g.: <code>BoM._Bank__money_on_hand = 0</code></blockquote>"
   ]
  },
  {
   "cell_type": "code",
   "execution_count": 21,
   "metadata": {},
   "outputs": [
    {
     "name": "stdout",
     "output_type": "stream",
     "text": [
      "50000\n",
      "100000\n",
      "200000\n"
     ]
    }
   ],
   "source": [
    "class CreditUnion:\n",
    "    def __init__(self, money_on_hand = 50):\n",
    "        self.__a = 0\n",
    "        self.__money_on_hand = money_on_hand\n",
    "\n",
    "    @property # acts like a get\n",
    "    def a(self):\n",
    "        return self.__a\n",
    "    @a.setter\n",
    "    def a(self, data):\n",
    "        self.__a = data\n",
    "        \n",
    "    @property\n",
    "    def money_on_hand(self):\n",
    "        return self.__money_on_hand\n",
    "    \n",
    "    # ALLOWS US TO USE public variable TYPE SYNTAX (dot operator)\n",
    "    @money_on_hand.setter\n",
    "    def money_on_hand(self, data):\n",
    "        self.__money_on_hand = data\n",
    "        \n",
    "cu = CreditUnion()\n",
    "# a is protected so I should have a special get and set method ...\n",
    "# like get_a()\n",
    "# and then cu.get_a()\n",
    "# using a decorator gives us direct, dot-operator access...\n",
    "cu.a = 50000\n",
    "print(cu.a)\n",
    "\n",
    "cu.money_on_hand = 100000\n",
    "print(cu.money_on_hand)\n",
    "\n",
    "cu.money_on_hand = cu.money_on_hand + 100000\n",
    "print(cu.money_on_hand)\n"
   ]
  },
  {
   "cell_type": "markdown",
   "metadata": {},
   "source": [
    "<hr />\n",
    "<h2 style=\"color:cornflowerblue;\">Other methods: static and class info</h2>\n"
   ]
  },
  {
   "cell_type": "code",
   "execution_count": 22,
   "metadata": {},
   "outputs": [],
   "source": [
    "\"\"\" ___________________________________\n",
    "Example using CLASSMETHOD and STATIC\n",
    "\"\"\"\n",
    "\n",
    "class ProtectedBanks:\n",
    "    \"\"\" Base class for all ProtectedBanks \"\"\"\n",
    "    __total_branches = 0\n",
    "\n",
    "    def __init__(self, name, city, money_on_hand = 10000):\n",
    "        self.name = name\n",
    "        self.city = city\n",
    "        self.no_of_transactions = 0\n",
    "        self.__money_on_hand = money_on_hand\n",
    "        ProtectedBanks.__total_branches += 1\n",
    "        ProtectedBanks.preferred_currency = \"USD\"\n",
    "\n",
    "    def how_much_in_vault(self):\n",
    "        # print(\"$ in vault: \", moneyOnHand) - throws error now\n",
    "        return self.__money_on_hand\n",
    "\n",
    "    @classmethod\n",
    "    def get_total_branches(cls):\n",
    "        return cls.__total_branches\n",
    "    \n",
    "    @staticmethod\n",
    "    def convert_from_USD_to_Yuan(amount):\n",
    "        return amount * 0.16\n"
   ]
  },
  {
   "cell_type": "code",
   "execution_count": 23,
   "metadata": {},
   "outputs": [
    {
     "ename": "NameError",
     "evalue": "name 'mybank' is not defined",
     "output_type": "error",
     "traceback": [
      "\u001b[0;31m---------------------------------------------------------------------------\u001b[0m",
      "\u001b[0;31mNameError\u001b[0m                                 Traceback (most recent call last)",
      "Input \u001b[0;32mIn [23]\u001b[0m, in \u001b[0;36m<module>\u001b[0;34m\u001b[0m\n\u001b[0;32m----> 1\u001b[0m \u001b[43mmybank\u001b[49m\u001b[38;5;241m.\u001b[39mconvert_from_USD_to_Yuan(\u001b[38;5;241m5000\u001b[39m)\n",
      "\u001b[0;31mNameError\u001b[0m: name 'mybank' is not defined"
     ]
    }
   ],
   "source": [
    "mybank.convert_from_USD_to_Yuan(5000)"
   ]
  },
  {
   "cell_type": "code",
   "execution_count": 24,
   "metadata": {},
   "outputs": [],
   "source": [
    "class encapsulateDemoToHideData:\n",
    "    def __init__(self, a):  # constructor\n",
    "        # this is aprivate variable or property in python\n",
    "        # the left dunder __ indicates this\n",
    "        self.__a = a\n",
    "        \n",
    "    # to get the properties using an option - try this getter\n",
    "    def get_a(self):\n",
    "        return self.__a\n",
    "    # change the value ...\n",
    "    def set_a(self, a):\n",
    "        self.__a = a"
   ]
  },
  {
   "cell_type": "code",
   "execution_count": 25,
   "metadata": {},
   "outputs": [
    {
     "name": "stdout",
     "output_type": "stream",
     "text": [
      "10\n",
      "45\n"
     ]
    }
   ],
   "source": [
    "mydemo = encapsulateDemoToHideData(10)\n",
    "print(mydemo.get_a())\n",
    "\n",
    "mydemo.set_a(45)\n",
    "print(mydemo.get_a())"
   ]
  },
  {
   "cell_type": "markdown",
   "metadata": {},
   "source": [
    "<hr /><h2>Now the same WITHOUT a getter/setter.</h2>\n",
    "<p>This accesses the private variable directly, using dot notation.\n",
    "</p>\n",
    "<p>To protect your data use private vars and implement get/set.</p>"
   ]
  },
  {
   "cell_type": "code",
   "execution_count": 26,
   "metadata": {},
   "outputs": [
    {
     "name": "stdout",
     "output_type": "stream",
     "text": [
      "50\n"
     ]
    }
   ],
   "source": [
    "class demoPrivate:\n",
    "    def __init__(self, a):\n",
    "        self.a = a\n",
    "\n",
    "# this will return the value WITHOUT a getter/setter\n",
    "dp = demoPrivate(50)\n",
    "print(dp.a)"
   ]
  },
  {
   "cell_type": "markdown",
   "metadata": {},
   "source": [
    "<h2>Using Properties and Decorators</h2>\n",
    "<p>Use when you want to have some conditions to set the value of an attribute.  E.g., say you want to control the value of data passed as a parameter - here say we want even and positive, else default to 2.\n",
    "</p>"
   ]
  },
  {
   "cell_type": "code",
   "execution_count": 27,
   "metadata": {},
   "outputs": [],
   "source": [
    "class demoClass1:\n",
    "    \"\"\" calls the set_a() method to set value \n",
    "    by checking certain conditions \"\"\"\n",
    "    \n",
    "    def __init__(self, a):\n",
    "        self.set_a(a)\n",
    "        \n",
    "    # getter method to set the properties\n",
    "    def get_a(self):\n",
    "        return self.__a     # notice the left dunder\n",
    "        \n",
    "    def set_a(self, a):\n",
    "        # check condition\n",
    "        if a > 0 and a % 2 == 0:\n",
    "            self.__a = a\n",
    "        else:\n",
    "            self.__a = 2"
   ]
  },
  {
   "cell_type": "code",
   "execution_count": 28,
   "metadata": {},
   "outputs": [
    {
     "name": "stdout",
     "output_type": "stream",
     "text": [
      "10\n"
     ]
    }
   ],
   "source": [
    "dc1 = demoClass1(10)\n",
    "print(dc1.get_a())"
   ]
  },
  {
   "cell_type": "code",
   "execution_count": 29,
   "metadata": {},
   "outputs": [],
   "source": [
    "\"\"\" USING THE @PROPERTY DECORATOR \"\"\"\n",
    "class propertyDemo1:\n",
    "    def __init__(self, var):\n",
    "        self.a = var    # init the attribute\n",
    "    \n",
    "    @property\n",
    "    def a(self):\n",
    "        return self.__a\n",
    "    \n",
    "    # the attribute name and the method name must be the same\n",
    "    # which is used to set the var for the attribute\n",
    "    @a.setter\n",
    "    def a(self, var):\n",
    "        if var > 0 and var % 2 == 0:\n",
    "            self.__a = var\n",
    "        else:\n",
    "            self.__a = 2\n"
   ]
  },
  {
   "cell_type": "markdown",
   "metadata": {},
   "source": [
    "<p>@property is used to get the value of a private attribute <b>without</b> using any getter methods.  We have to put an @property in front of the method where we return the private var.</p>\n",
    "<p>To set the value of the private variable, we use the @method_name.setter in front of the method.  We have to use it as the setter.\n",
    "</p>\n",
    "<p>Demo below</p>"
   ]
  },
  {
   "cell_type": "code",
   "execution_count": 30,
   "metadata": {},
   "outputs": [
    {
     "name": "stdout",
     "output_type": "stream",
     "text": [
      "2\n"
     ]
    }
   ],
   "source": [
    "pd1 = propertyDemo1(47)\n",
    "print(pd1.a)  # should return 47\n",
    "\n",
    "# the @a.setter will set the value of a by checking the conditions."
   ]
  },
  {
   "cell_type": "markdown",
   "metadata": {},
   "source": [
    "<hr /><p>A final bit of fun.  Not all objects have to look like humans or dogs.  What about coding activities?  Here's an example of renaming files from an OOP p.o.v.</p>"
   ]
  },
  {
   "cell_type": "code",
   "execution_count": 33,
   "metadata": {},
   "outputs": [],
   "source": [
    "import os\n",
    "\n",
    "class RenameFileCommand(object):\n",
    "    def __init__(self, from_name, to_name):\n",
    "        self._from = from_name\n",
    "        self._to = to_name\n",
    "\n",
    "    def execute(self):\n",
    "        os.rename(self._from, self._to)\n",
    "\n",
    "    def undo(self):\n",
    "        os.rename(self._to, self._from)\n",
    "\n",
    "class History(object):\n",
    "    def __init__(self):\n",
    "        self._commands = list()\n",
    "\n",
    "    def execute(self, command):\n",
    "        self._commands.append(command)\n",
    "        command.execute()\n",
    "\n",
    "    def undo(self):\n",
    "        self._commands.pop().undo()\n",
    "\n",
    "history = History()\n",
    "history.execute(RenameFileCommand('docs/cv.txt', 'docs/cv-en.txt'))\n",
    "history.execute(RenameFileCommand('docs/cv1.txt', 'docs/cv-ru.txt'))\n",
    "# history.undo()\n",
    "history.undo()"
   ]
  },
  {
   "cell_type": "markdown",
   "metadata": {},
   "source": [
    "<hr /><p style=\"font-size:9px;\">End of the notebook.</p>"
   ]
  }
 ],
 "metadata": {
  "kernelspec": {
   "display_name": "Python 3 (ipykernel)",
   "language": "python",
   "name": "python3"
  },
  "language_info": {
   "codemirror_mode": {
    "name": "ipython",
    "version": 3
   },
   "file_extension": ".py",
   "mimetype": "text/x-python",
   "name": "python",
   "nbconvert_exporter": "python",
   "pygments_lexer": "ipython3",
   "version": "3.8.5"
  }
 },
 "nbformat": 4,
 "nbformat_minor": 4
}
