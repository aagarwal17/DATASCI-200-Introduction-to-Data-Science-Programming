{
 "cells": [
  {
   "cell_type": "markdown",
   "metadata": {},
   "source": [
    "# Unit 6 Live Session - Breakout Activities\n",
    "\n",
    "## Activity 1 -  Packages and Modules"
   ]
  },
  {
   "cell_type": "markdown",
   "metadata": {},
   "source": [
    "For this breakout activity, you will build your first package and first module as a team!  Please start this activity by choosing two people who will email to the group their solutions to HW 5 (the homework on functions).  We will use these functions to build modules and packages!\n",
    "\n",
    "#### Modules\n",
    "\n",
    "First, let's create two modules. Start by creating two .py files in the same directory as this notebook.  Name one \"wraps.py\" and the other \"piggy.py\".\n",
    "\n",
    "-  Inside wraps.py, save each of the functions one member of your team wrote for problem 5-1-1, \"Nested Functions\".  Import your \"wraps.py\" module, and call each of the functions below:"
   ]
  },
  {
   "cell_type": "code",
   "execution_count": null,
   "metadata": {},
   "outputs": [],
   "source": [
    "import wraps\n",
    "\n",
    "wraps.example_base_func(10)\n",
    "wraps.wraps_example_base_func(10) # note this function calls example_base_function without wraps. prefix\n",
    "wraps.sum_digits(10)\n",
    "wraps.diff_sum_digits(10)\n",
    "wraps.wraps_diff_sum_digits(10)"
   ]
  },
  {
   "cell_type": "markdown",
   "metadata": {},
   "source": [
    "\n",
    "- Insides piggy.py, save two different versions (e.g., one from each student shared) of the pig-latin function.  Make sure to give them unique names!  Below, import and call each of the pig latin functions!"
   ]
  },
  {
   "cell_type": "code",
   "execution_count": null,
   "metadata": {},
   "outputs": [],
   "source": [
    "import piggy\n",
    "\n",
    "piggy.to_piglatin_1(\"Hello there\")\n",
    "piggy.to_piglatin_2(\"Bye there\")"
   ]
  },
  {
   "cell_type": "markdown",
   "metadata": {},
   "source": [
    "#### Packages!\n",
    "\n",
    "Please restart your kernel before completing this problem to clear out your imports from above.\n",
    "\n",
    "Now, let's make a package!  Create a subfolder, name it whatever you would like.  Make a copy of each of your modules inside this subfolder.  Then, make an \\__init__.py file.\n",
    "\n",
    "Use the \"help()\" command below to display the contents of your package and of each module in the package"
   ]
  },
  {
   "cell_type": "code",
   "execution_count": 1,
   "metadata": {},
   "outputs": [
    {
     "name": "stdout",
     "output_type": "stream",
     "text": [
      "Help on package my_piggy_package:\n",
      "\n",
      "NAME\n",
      "    my_piggy_package\n",
      "\n",
      "PACKAGE CONTENTS\n",
      "    piggy\n",
      "    wraps\n",
      "\n",
      "FILE\n",
      "    c:\\users\\richard\\desktop\\berkeley w200 2018 fall\\live session 6 - 2018-10-11\\my_piggy_package\\__init__.py\n",
      "\n",
      "\n"
     ]
    }
   ],
   "source": [
    "import my_piggy_package\n",
    "help(my_piggy_package)"
   ]
  },
  {
   "cell_type": "code",
   "execution_count": 2,
   "metadata": {},
   "outputs": [
    {
     "name": "stdout",
     "output_type": "stream",
     "text": [
      "Help on module my_piggy_package.wraps in my_piggy_package:\n",
      "\n",
      "NAME\n",
      "    my_piggy_package.wraps\n",
      "\n",
      "FUNCTIONS\n",
      "    diff_sum_digits(x)\n",
      "        Returns the value of the input minus the sum of the input\n",
      "    \n",
      "    example_base_func(x)\n",
      "        Returns the value of the input * -1\n",
      "    \n",
      "    sum_digits(num)\n",
      "        Returns the sum of all the digits of the input\n",
      "    \n",
      "    wraps_diff_sum_digits(x)\n",
      "        Returns the final single digit of the input\n",
      "    \n",
      "    wraps_example_base_func(x)\n",
      "\n",
      "FILE\n",
      "    c:\\users\\richard\\desktop\\berkeley w200 2018 fall\\live session 6 - 2018-10-11\\my_piggy_package\\wraps.py\n",
      "\n",
      "\n"
     ]
    }
   ],
   "source": [
    "from my_piggy_package import wraps\n",
    "help(wraps)"
   ]
  },
  {
   "cell_type": "code",
   "execution_count": 3,
   "metadata": {},
   "outputs": [
    {
     "name": "stdout",
     "output_type": "stream",
     "text": [
      "Help on module my_piggy_package.piggy in my_piggy_package:\n",
      "\n",
      "NAME\n",
      "    my_piggy_package.piggy\n",
      "\n",
      "FUNCTIONS\n",
      "    is_consonant(letter)\n",
      "        Returns if the inputted letter is a consonant\n",
      "    \n",
      "    to_piglatin_1(snippet)\n",
      "        converts a word or a sentence to piglatin\n",
      "    \n",
      "    to_piglatin_2(snippet)\n",
      "        converts a word or a sentence to piglatin\n",
      "\n",
      "FILE\n",
      "    c:\\users\\richard\\desktop\\berkeley w200 2018 fall\\live session 6 - 2018-10-11\\my_piggy_package\\piggy.py\n",
      "\n",
      "\n"
     ]
    }
   ],
   "source": [
    "from my_piggy_package import piggy\n",
    "help(piggy)"
   ]
  },
  {
   "cell_type": "markdown",
   "metadata": {},
   "source": [
    "Run each function, from the package."
   ]
  },
  {
   "cell_type": "code",
   "execution_count": 4,
   "metadata": {},
   "outputs": [
    {
     "data": {
      "text/plain": [
       "-10"
      ]
     },
     "execution_count": 4,
     "metadata": {},
     "output_type": "execute_result"
    },
    {
     "data": {
      "text/plain": [
       "'trivial example'"
      ]
     },
     "execution_count": 4,
     "metadata": {},
     "output_type": "execute_result"
    },
    {
     "data": {
      "text/plain": [
       "1"
      ]
     },
     "execution_count": 4,
     "metadata": {},
     "output_type": "execute_result"
    },
    {
     "data": {
      "text/plain": [
       "9"
      ]
     },
     "execution_count": 4,
     "metadata": {},
     "output_type": "execute_result"
    },
    {
     "data": {
      "text/plain": [
       "9"
      ]
     },
     "execution_count": 4,
     "metadata": {},
     "output_type": "execute_result"
    },
    {
     "data": {
      "text/plain": [
       "'Ellohay erethay.'"
      ]
     },
     "execution_count": 4,
     "metadata": {},
     "output_type": "execute_result"
    },
    {
     "data": {
      "text/plain": [
       "'Ebyay erethay.'"
      ]
     },
     "execution_count": 4,
     "metadata": {},
     "output_type": "execute_result"
    }
   ],
   "source": [
    "wraps.example_base_func(10)\n",
    "wraps.wraps_example_base_func(10) # note this function calls example_base_function without wraps. prefix\n",
    "wraps.sum_digits(10)\n",
    "wraps.diff_sum_digits(10)\n",
    "wraps.wraps_diff_sum_digits(10)\n",
    "\n",
    "piggy.to_piglatin_1(\"Hello there\")\n",
    "piggy.to_piglatin_2(\"Bye there\")"
   ]
  },
  {
   "cell_type": "markdown",
   "metadata": {},
   "source": [
    "***Discuss***: What is the purpose of \\__init__.py?"
   ]
  },
  {
   "cell_type": "markdown",
   "metadata": {},
   "source": [
    "**Discuss**: What does the command \"sys.path()\" do?"
   ]
  },
  {
   "cell_type": "markdown",
   "metadata": {},
   "source": [
    "Please go to several of the folders that you find when you run the link below.  Can you find the *numpy* package?"
   ]
  },
  {
   "cell_type": "code",
   "execution_count": 1,
   "metadata": {},
   "outputs": [
    {
     "name": "stdout",
     "output_type": "stream",
     "text": [
      "/Users/gb/Documents/UCB-DataSci/Fa23/w6/activity\n",
      "/Library/Frameworks/Python.framework/Versions/3.11/lib/python311.zip\n",
      "/Library/Frameworks/Python.framework/Versions/3.11/lib/python3.11\n",
      "/Library/Frameworks/Python.framework/Versions/3.11/lib/python3.11/lib-dynload\n",
      "\n",
      "/Library/Frameworks/Python.framework/Versions/3.11/lib/python3.11/site-packages\n"
     ]
    }
   ],
   "source": [
    "import sys\n",
    "for place in sys.path:\n",
    "    print(place)"
   ]
  },
  {
   "cell_type": "markdown",
   "metadata": {},
   "source": [
    "**Discuss** Please open the \\__init__ file in the numpy package.  What do you see?"
   ]
  },
  {
   "cell_type": "markdown",
   "metadata": {
    "collapsed": true
   },
   "source": [
    "numpy package is in site-packages folder.  numpy's __init__.py file contains package help information."
   ]
  }
 ],
 "metadata": {
  "anaconda-cloud": {},
  "hide_input": false,
  "kernelspec": {
   "display_name": "Python 3 (ipykernel)",
   "language": "python",
   "name": "python3"
  },
  "language_info": {
   "codemirror_mode": {
    "name": "ipython",
    "version": 3
   },
   "file_extension": ".py",
   "mimetype": "text/x-python",
   "name": "python",
   "nbconvert_exporter": "python",
   "pygments_lexer": "ipython3",
   "version": "3.11.4"
  },
  "latex_envs": {
   "LaTeX_envs_menu_present": false,
   "autocomplete": true,
   "bibliofile": "biblio.bib",
   "cite_by": "apalike",
   "current_citInitial": 1,
   "eqLabelWithNumbers": false,
   "eqNumInitial": 1,
   "hotkeys": {
    "equation": "Ctrl-E",
    "itemize": "Ctrl-I"
   },
   "labels_anchors": false,
   "latex_user_defs": false,
   "report_style_numbering": false,
   "user_envs_cfg": true
  }
 },
 "nbformat": 4,
 "nbformat_minor": 1
}
