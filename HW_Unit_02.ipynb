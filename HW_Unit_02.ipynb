{
 "cells": [
  {
   "cell_type": "markdown",
   "metadata": {},
   "source": [
    "## Unit 2 Assignment - DATASCI200 Introduction to Data Science Programming, UC Berkeley MIDS"
   ]
  },
  {
   "cell_type": "markdown",
   "metadata": {},
   "source": [
    "Write code in this Jupyter Notebook to solve the following problems. Please upload this **Notebook** with your solutions to your GitHub repository and gradescope.\n",
    "\n",
    "Assignment due date: 11:59PM PT the night before the Week 3 Live Session."
   ]
  },
  {
   "cell_type": "markdown",
   "metadata": {},
   "source": [
    "## Objectives:\n",
    "\n",
    "- Demonstrate how to obtain user input into a Python script\n",
    "- Demonstrate outputting useful information to the user in the correct format\n",
    "- Use Python numerical and string variables to calculate values and output these to the user\n",
    "- Demonstrate use of the while loop and if statements"
   ]
  },
  {
   "cell_type": "markdown",
   "metadata": {},
   "source": [
    "## General Guidelines:\n",
    "\n",
    "- In each code block, do NOT delete the ### comment at the top of a cell (it's needed for the auto-grading!)\n",
    "  - Full autograder tests and results are on gradescope.\n",
    "  - You will get the full 100 points from the autograder for this assignment.\n",
    "  - You may upload and run the autograder as many times as needed in your time window to get full points\n",
    "  - The assignment needs to be named HW_Unit_02.ipynb to be graded from the autograder!\n",
    "  - The examples given are samples of how we will test/grade your code.\n",
    "    - Please ensure your code outputs the exact same information / format!\n",
    "    - In addition to the given example, the autograder will test other examples\n",
    "    - Each autograder test tells you what input it is using\n",
    "  - Once complete, the autograder will show each tests, if that test is passed or failed, and your total score\n",
    "  - The autograder fails for a couple of reasons:\n",
    "    - Your code crashes with that input (for example: `Test Failed: string index out of range`)\n",
    "    - Your code output does not match the 'correct' output (for example: `Test Failed: '1 2 3 2 1' != '1 4 6 4 1'`)\n",
    "- Please format your input and output strings to be user friendly. See Module 2.12.2. For example, in the first problem below, format the tip to two decimal places like 15.25 instead of 15.25000001.\n",
    "- Limited user input validation and error checking is encouraged on this assignment. Each question below will indicate the type of input that you can expect. (for example, if the question states the input will be an integer you can expect the user to input an integer and do not need to check to ensure it is an integer versus a float or a string)\n",
    "- Adding comments in your code is strongly suggested but won't be graded.\n",
    "- The examples given are samples of how we will test/grade your code. Please ensure your scripts output the same information.\n",
    "- If you are stuck on a problem or do not understand a question - please come to office hours or ask questions to the class Google group (please don't post your code though). If it is a coding problem send a private email to all of the instructors at: mids-python-instructors@googlegroups.com.\n",
    "- We also have a TA tutors for extra help and 1 on 1 sessions!\n",
    "- Hints are given in some of the questions; these are optional so you do NOT need to use the hint (or code your answer that way) as long as your code meets the requirements of the problem.\n",
    "- You may use any libraries from the Python Standard Library for this assignment: https://docs.python.org/3/library/"
   ]
  },
  {
   "cell_type": "markdown",
   "metadata": {},
   "source": [
    "## Grading Rubric\n",
    "\n",
    "General grading rubric guidelines / philosophy:\n",
    "\n",
    "- The total possible points will be shown for each question\n",
    "- Please read each question carefully to understand the requirements\n",
    "- Points for each question are rewarded based on how well your code fulfills those requirements\n",
    "- Some problems have an example given to help show what is needed and how to format the answer\n",
    "- For the first question (2-1) below, a detailed grading rubric is given as an example.\n",
    "- For the rest of the questions, its up to you to determine the requirements and code them!"
   ]
  },
  {
   "cell_type": "markdown",
   "metadata": {},
   "source": [
    "### 2-1. Tip Calculator (20 points)\n",
    "\n",
    "Below, you can see the script we wrote to compute the tip for a meal. Fix it so that it works correctly. Also change the last print lines to format the output to 2 decimal places. Expect the input to be a **number.** \n",
    "\n",
    "Example Grading Rubric:\n",
    "- 5 points: fixing the crash so the program works with int numbers (for example: 10)\n",
    "- 5 points: fixing the crash so the program works with float numbers (for example: 4.99)\n",
    "- 5 points: formatting the tip output correctly to 2 decimal places\n",
    "- 5 points: formatting the total output correctly to 2 decimal places\n",
    "\n",
    "Example:\n",
    "\n",
    "```\n",
    "Enter the price of a meal: 10\n",
    "A 16% tip would be: 1.60\n",
    "The total including tip would be: 11.60\n",
    "```"
   ]
  },
  {
   "cell_type": "code",
   "execution_count": 47,
   "metadata": {},
   "outputs": [
    {
     "name": "stdout",
     "output_type": "stream",
     "text": [
      "A 16% tip would be: 1.6\n",
      "The total including tip would be: 11.6\n"
     ]
    }
   ],
   "source": [
    "### Q2-1 Grading Tag: Please put your entire solution in this cell. Don't edit this line.\n",
    "\n",
    "price = float(input(\"Enter the price of a meal: \"))\n",
    "\n",
    "tip = price * 0.16\n",
    "total = price + tip\n",
    "\n",
    "print(f\"A 16% tip would be: {tip:.2f}\")\n",
    "print(f\"The total including tip would be: {total:.2f}\")"
   ]
  },
  {
   "cell_type": "markdown",
   "metadata": {},
   "source": [
    "### 2-2. Gas Pump Informer (20 points)\n",
    "\n",
    "Write a script that prompts the user for a **number** of gallons of gasoline. Reprint that value, along with its conversion to other measurements:\n",
    "\n",
    "- Equivalent number of liters (format to 4 decimals)\n",
    "- Number of barrels of oil required to produce it (format to 3 decimals)\n",
    "- Price in U.S. dollars (format to 2 decimals)\n",
    "\n",
    "Figures to use:\n",
    "\n",
    "- 1 gallon is equivalent to 3.7854 liters.\n",
    "- 1 barrel of oil produces 19.5 gallons of gas.\n",
    "- The average price of gas is approximately $4.31 per gallon.\n",
    "\n",
    "Example:\n",
    "\n",
    "```\n",
    "Please enter a number of gallons of gasoline: 10\n",
    "10 gallons of gasoline is equivalent to 37.8540 liters\n",
    "Requires 0.513 barrels of oil to produce\n",
    "The price in U.S. dollars is approximately $43.10\n",
    "```"
   ]
  },
  {
   "cell_type": "code",
   "execution_count": 22,
   "metadata": {},
   "outputs": [
    {
     "name": "stdout",
     "output_type": "stream",
     "text": [
      "10.0 gallons of gasoline is equivalent to 37.8540 liters\n",
      "Requires 0.513 barrels of oil to produce\n",
      "The price in U.S. dollars is approximately $43.10\n"
     ]
    }
   ],
   "source": [
    "### Q2-2 Grading Tag: Please put your entire solution in this cell. Don't edit this line.\n",
    "numGals = float(input(\"Please enter a number of gallons of gasoline: \"))\n",
    "print(f'{numGals} gallons of gasoline is equivalent to {numGals*3.7854:.4f} liters')\n",
    "print(f'Requires {numGals/19.5:.3f} barrels of oil to produce')\n",
    "print(f'The price in U.S. dollars is approximately ${numGals*4.31:.2f}')"
   ]
  },
  {
   "cell_type": "markdown",
   "metadata": {},
   "source": [
    "### 2-3. Number Averager (20 points)\n",
    "\n",
    "Write a script that prompts the user for **two numbers**, a and b. Then, prompt the user to enter a type of average out of the three options below. Make it so the user would just type in a **number** 1, 2 or 3 for the average (i.e. 1 for arithmetic mean, 2 for geometric mean, or 3 for root-mean-square). This numerical selection is an example of how to give the user a simple response that will get around potential spelling errors and head off user frustration. This design decision makes the user interaction more robust. Output the correct average, based on what the user selected. Format the answer to four decimal places.\n",
    "\n",
    "1. The arithmetic mean:  $(a + b) / 2 $\n",
    "2. The geometric mean:  $\\sqrt{ab}$\n",
    "3. The root-mean-square: $\\sqrt{\\frac{a^2 + b^2}{2}}$\n",
    "\n",
    "Example:\n",
    "```\n",
    "Please provide the first number to average: 1\n",
    "Please provide the second number to average: 2\n",
    "Please select the type of average.\n",
    "    1. The arithmetic mean: (a + b)/2\n",
    "    2. The geometric mean: sqrt(a * b)\n",
    "    3. The root-mean-square: sqrt((a^2 + b^2)/2)\n",
    "Enter a number (1, 2 or 3) from the list above: 1\n",
    "\n",
    "The arithmetic mean is: 1.5000\n",
    "```"
   ]
  },
  {
   "cell_type": "code",
   "execution_count": 21,
   "metadata": {},
   "outputs": [
    {
     "name": "stdout",
     "output_type": "stream",
     "text": [
      "Please select the type of average.\n",
      "\n",
      "      \t1. The average mean: (a+b)/2\n",
      "\n",
      "      \t2. The geomtric mean: sqrt(a*b)\n",
      "\n",
      "      \t3. The root-mean-square: sqrt((a^2 + b^2)/2)\n",
      "Invalid number inputted (choices were 1, 2, or 3)\n"
     ]
    }
   ],
   "source": [
    "### Q2-3 Grading Tag: Please put your entire solution in this cell. Don't edit this line.\n",
    "num1 = float(input(\"Please enter the first number to average: \"))\n",
    "num2 = float(input(\"Please enter the second number to average: \"))\n",
    "print(\"\"\"Please select the type of average.\\n\n",
    "      \\t1. The average mean: (a+b)/2\\n\n",
    "      \\t2. The geometric mean: sqrt(a*b)\\n\n",
    "      \\t3. The root-mean-square: sqrt((a^2 + b^2)/2)\"\"\")\n",
    "choiceSelected = int(input(\"Enter a number (1, 2, or 3) from the list above: \"))\n",
    "\n",
    "if choiceSelected == 1:\n",
    "      print(f\"The arithmetic mean is: {(num1+num2)/2:.4f}\")\n",
    "elif choiceSelected == 2:\n",
    "      print(f\"The geometric mean is: {(num1*num2)**(1/2):.4f}\")\n",
    "elif choiceSelected == 3:\n",
    "      print(f\"The root-mean-square is: {((num1**2 + num2**2)/2)**(1/2):.4f}\")\n",
    "else:\n",
    "      print(\"Invalid number inputted (choices were 1, 2, or 3)\")\n"
   ]
  },
  {
   "cell_type": "markdown",
   "metadata": {},
   "source": [
    "### 2-4. Income Tax (20 points)\n",
    "\n",
    "The mythical island nation of Laskoatu has a rather simple tax code.  The first 1000 dollars of income is taxed at 5%.  The next 1000 dollars is taxed at 10%.  Any income beyond the first 2000 dollars is taxed at 15%.  Complete the following script so that it asks the user for his or her income (a **number**) and outputs the amount of tax owed. Format numbers to 2 decimal places.\n",
    "\n",
    "Example:\n",
    "```\n",
    "Please enter your income: 1500\n",
    "\n",
    "The tax owed is: $100.00 \n",
    "```"
   ]
  },
  {
   "cell_type": "code",
   "execution_count": 33,
   "metadata": {},
   "outputs": [
    {
     "name": "stdout",
     "output_type": "stream",
     "text": [
      "The tax owed is: $100.00\n"
     ]
    }
   ],
   "source": [
    "### Q2-4 Grading Tag: Please put your entire solution in this cell. Don't edit this line.\n",
    "income = float(input(\"Please enter your income: \"))\n",
    "if 0 <= income <= 1000:\n",
    "    print(f\"The tax owed is: ${income*0.05:.2f}\")\n",
    "elif 1000 < income <= 2000:\n",
    "    print(f\"The tax owed is: ${1000*0.05 + (income-1000)*0.10:.2f}\")\n",
    "elif income > 2000:\n",
    "    print(f\"The tax owed is: ${1000*0.05 + 1000*0.10 + (income-2000)*0.15:.2f}\")\n",
    "else:\n",
    "    print(\"Invalid income inputted (eg: negative number)\")"
   ]
  },
  {
   "cell_type": "markdown",
   "metadata": {},
   "source": [
    "### 2-5. Palindrome (20 points)\n",
    "\n",
    "Write a script that prompts the user for a name (this input will be a **1 word string**). Using a while loop that counts downwards, print the letters of the name reversed (hint: you can use print(var, end='') in each iteration of the loop). You cannot use the 'reverse' function or the string slicing [::-1] method for this problem! You should use s.lower() and s.upper(), as appropriate, to change the string to lowercase and print it out with only the first letter of the reversed word in uppercase. If the name is the same forward and backwards, print \"Palindrome!\" on the next line. Make sure your code prints the sample examples exactly as shown below.\n",
    "\n",
    "Hint: You can use string concatenation in place of the reverse or string slicing [::-1] methods.\n",
    "\n",
    "Examples:\n",
    "```\n",
    "Enter your name: Paul\n",
    "Luap\n",
    "\n",
    "Enter your name: ANA\n",
    "Ana\n",
    "Palindrome!\n",
    "```"
   ]
  },
  {
   "cell_type": "code",
   "execution_count": 46,
   "metadata": {},
   "outputs": [
    {
     "name": "stdout",
     "output_type": "stream",
     "text": [
      "Racecar\n",
      "Palindrome!\n"
     ]
    }
   ],
   "source": [
    "### Q2-5 Grading Tag: Please put your entire solution in this cell. Don't edit this line.\n",
    "name = str(input(\"Please enter your name: \"))\n",
    "reversedName = \"\"\n",
    "counter = len(name)\n",
    "while counter > 0:\n",
    "    if counter == len(name):\n",
    "        reversedName += name[counter-1].upper()\n",
    "    else:\n",
    "        reversedName += name[counter-1].lower()\n",
    "    counter -= 1\n",
    "print(reversedName)\n",
    "if reversedName.lower() == name.lower():\n",
    "    print(\"Palindrome!\")\n"
   ]
  },
  {
   "cell_type": "markdown",
   "metadata": {},
   "source": [
    "## If you have feedback for this homework, please submit it using the link below:\n",
    "\n",
    "http://goo.gl/forms/74yCiQTf6k"
   ]
  }
 ],
 "metadata": {
  "kernelspec": {
   "display_name": "py3jp",
   "language": "python",
   "name": "python3"
  },
  "language_info": {
   "codemirror_mode": {
    "name": "ipython",
    "version": 3
   },
   "file_extension": ".py",
   "mimetype": "text/x-python",
   "name": "python",
   "nbconvert_exporter": "python",
   "pygments_lexer": "ipython3",
   "version": "3.11.5"
  }
 },
 "nbformat": 4,
 "nbformat_minor": 2
}
