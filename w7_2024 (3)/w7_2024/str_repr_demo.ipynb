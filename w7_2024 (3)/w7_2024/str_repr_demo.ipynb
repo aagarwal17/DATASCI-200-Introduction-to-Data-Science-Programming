{
 "cells": [
  {
   "cell_type": "markdown",
   "metadata": {},
   "source": [
    "<h2 style=\"background-color: #003262; color:white; border-radius: 4px; padding:12px;\">\n",
    "Topic 7: OOP in general and accessing Python&rsquo;s objects/variables: str and repr</h2>"
   ]
  },
  {
   "cell_type": "markdown",
   "metadata": {},
   "source": [
    "<p style=\"font-size: 22px; font-family: Baskerville; line-height: 24px; color:red;\"><i>Constructor and Bank Example</i>: <br />\n",
    "    <code style=\"font-size:18px;\">__str__</code> and <code  style=\"font-size:18px;\">__repr__</code> versus <br />\n",
    "    <code style=\"font-size:18px;\">__str()__</code> and <code style=\"font-size:18px;\">__repr()__</code>\n",
    "</p>"
   ]
  },
  {
   "cell_type": "markdown",
   "metadata": {},
   "source": [
    "<p>These are two windows into an object.  <code>__str__</code> is intended for human-end users of the objects and useful for logging or running records about your data.  The <code>__repr__</code> is intended for programmers and a way to show data about the object itself.  In practice some coders just use the same string output for both; others don't.  But that's the rationale behind them both.</p>\n",
    "<br />\n",
    "<p style=\"font-size:22px;\">Given this example using our Bank class ... </p>\n",
    "<ul>\n",
    "    <li>We&rsquo;ll add a way to get more access and info into our own defined classes.</li>\n",
    "    <li>Rather than access the attribute directly, it&rsquo;s preferred to use a method version, e.g., <code><i>x</i>.__str__()</code>.  (Why? cause Python lets us be sloppy in coding to get the job done but there&rsquo;s also the syntactically consistent, preferred ways that support the concepts of OOD.)</li>\n",
    "</ul>    "
   ]
  },
  {
   "cell_type": "code",
   "execution_count": 2,
   "metadata": {},
   "outputs": [],
   "source": [
    "class Bank:\n",
    "    \"\"\" Base class for all banks \"\"\"\n",
    "    total_branches = 0                             # NOTE: Class Attribute\n",
    "    \n",
    "    def __init__(self, name, city, street):\n",
    "        self.name = name\n",
    "        self.city = city\n",
    "        self.street = street\n",
    "        self.no_of_transactions = 0                # NOTE: Instance Attribute\n",
    "        Bank.preferred_currency = \"USD\"            # NOTE: Class attribute\n",
    "        \n",
    "        \n",
    "    # Notice that str and repr are redefined.    \n",
    "    def __str__(self):\n",
    "        return f'This branch is in {self.city}, on {self.street}. '+\\\n",
    "        'Passez chez nous!  来吧！ चलो! '\n",
    "    \n",
    "    def __repr__(self):\n",
    "        # note: if we return (str(self) - we call the actual __str__!)\n",
    "        #return str(self)\n",
    "        bankinfo = str(Bank.__dict__)\n",
    "        stmt = \"\\nThe repr is for programmers, so how 'bout coder stuff? \\n\" + bankinfo\n",
    "        return stmt\n",
    "    \n",
    "    # python prefers\n",
    "    # our_local_branch()\n",
    "    def ourLocalBranch(self, CountryInfo):\n",
    "        self.localBranchInfo = CountryInfo\n",
    "        print(\"Now adding the local info to this bank.\")\n",
    "        print(\"* Hey, Muggsie, I'm in the vault! \", CountryInfo.getCountryInfo(\"[Inside the Bank]\"))\n",
    "\n",
    "    \n",
    "class CountryInfo:\n",
    "    \"\"\" begin to internationalize our data \"\"\"\n",
    "    def __init__(self, engName, isoName, localName):\n",
    "        self.engName = engName\n",
    "        self.isoName = isoName\n",
    "        self.localName = localName\n",
    "        \n",
    "    def getCountryInfo(self, id=\"[Outside on the Champs Elysées - in Class]\"):\n",
    "        return id + \" getCountryInfo called: \"+self.engName + \" (\"+self.isoName+\") \"+self.localName"
   ]
  },
  {
   "cell_type": "code",
   "execution_count": 3,
   "metadata": {},
   "outputs": [
    {
     "name": "stdout",
     "output_type": "stream",
     "text": [
      "\n",
      " ---------------------------------------- \n",
      "Calling str:\n",
      "<bound method Bank.__str__ of \n",
      "The repr is for programmers, so how 'bout coder stuff? \n",
      "{'__module__': '__main__', '__doc__': ' Base class for all banks ', 'total_branches': 0, '__init__': <function Bank.__init__ at 0x10b2fdb20>, '__str__': <function Bank.__str__ at 0x10b2fe700>, '__repr__': <function Bank.__repr__ at 0x10b2fe660>, 'ourLocalBranch': <function Bank.ourLocalBranch at 0x10b2fe7a0>, '__dict__': <attribute '__dict__' of 'Bank' objects>, '__weakref__': <attribute '__weakref__' of 'Bank' objects>, 'preferred_currency': 'USD'}> \n",
      "\n",
      "\n",
      " ---------------------------------------- \n",
      "Calling str():\n",
      "This branch is in Dexter, on Jones St.. Passez chez nous!  来吧！ चलो!  \n",
      "\n",
      "\n",
      " ---------------------------------------- \n",
      "Calling repr:\n",
      "<bound method Bank.__repr__ of \n",
      "The repr is for programmers, so how 'bout coder stuff? \n",
      "{'__module__': '__main__', '__doc__': ' Base class for all banks ', 'total_branches': 0, '__init__': <function Bank.__init__ at 0x10b2fdb20>, '__str__': <function Bank.__str__ at 0x10b2fe700>, '__repr__': <function Bank.__repr__ at 0x10b2fe660>, 'ourLocalBranch': <function Bank.ourLocalBranch at 0x10b2fe7a0>, '__dict__': <attribute '__dict__' of 'Bank' objects>, '__weakref__': <attribute '__weakref__' of 'Bank' objects>, 'preferred_currency': 'USD'}> \n",
      "\n",
      "\n",
      " ---------------------------------------- \n",
      "Calling repr():\n",
      "\n",
      "The repr is for programmers, so how 'bout coder stuff? \n",
      "{'__module__': '__main__', '__doc__': ' Base class for all banks ', 'total_branches': 0, '__init__': <function Bank.__init__ at 0x10b2fdb20>, '__str__': <function Bank.__str__ at 0x10b2fe700>, '__repr__': <function Bank.__repr__ at 0x10b2fe660>, 'ourLocalBranch': <function Bank.ourLocalBranch at 0x10b2fe7a0>, '__dict__': <attribute '__dict__' of 'Bank' objects>, '__weakref__': <attribute '__weakref__' of 'Bank' objects>, 'preferred_currency': 'USD'} \n",
      "\n",
      "0\n"
     ]
    }
   ],
   "source": [
    "b = Bank(\"Fresno\", \"Dexter\", \"Jones St.\")\n",
    "\n",
    "print(\"\\n\",\"-\"*40, \"\\nCalling str:\")\n",
    "print(b.__str__, \"\\n\")\n",
    "\n",
    "print(\"\\n\",\"-\"*40, \"\\nCalling str():\")\n",
    "print(b.__str__(), \"\\n\")\n",
    "\n",
    "print(\"\\n\",\"-\"*40, \"\\nCalling repr:\")\n",
    "print(b.__repr__, \"\\n\")\n",
    "\n",
    "print(\"\\n\",\"-\"*40, \"\\nCalling repr():\")\n",
    "print(b.__repr__(), \"\\n\")\n",
    "\n",
    "print(Bank.total_branches)"
   ]
  },
  {
   "cell_type": "markdown",
   "metadata": {},
   "source": [
    "<hr />\n",
    "<p style=\"padding:10px; border-radius:5px; background-color:#3B7EA1; color:white;\">\n",
    "<h2>Additional Examples of str and repr</h2></p>\n",
    "<p>The next few cells demonstrate the differences and similarities of str and repr.</p>"
   ]
  },
  {
   "cell_type": "markdown",
   "metadata": {},
   "source": [
    "<hr />\n",
    "<p>For some fun, notice here there's a class defined for country information (called CountryInfo).  There's a method in that class called getCountryInfo().  Because Banks can be anywhere they might need local info ... so we could create an instance of the CountryInfo class and include inside the Bank branch.  Notice the two calls to the \"getCountryInfo()\" method and see which is called when and how.\n",
    "</p>\n",
    "<hr />\n",
    "<h2>Passing an instance of a class as a parameter to another class</h2>"
   ]
  },
  {
   "cell_type": "code",
   "execution_count": 11,
   "metadata": {},
   "outputs": [
    {
     "name": "stdout",
     "output_type": "stream",
     "text": [
      "---------------------------------------- \n",
      "\n",
      "\n",
      "Now adding the local info to this bank.\n",
      "* our_local_branch method:  [Inside the Bank Class] getCountryInfo called: France (FR) République française\n",
      "\n",
      "Data from inside the CountryInfo object:  [Outside on the Champs Elysées - in Class] getCountryInfo called: France (FR) République française\n"
     ]
    }
   ],
   "source": [
    "print(\"-\"*40,\"\\n\\n\")\n",
    "b = Bank(\"BNParis\",\"Paris\", \"rue du Nul\")\n",
    "info = CountryInfo(\"France\", \"FR\", \"République française\")\n",
    "\n",
    "b.ourLocalBranch(info)\n",
    "print(\"\\nData from inside the CountryInfo object: \", info.getCountryInfo())"
   ]
  },
  {
   "cell_type": "code",
   "execution_count": 12,
   "metadata": {},
   "outputs": [
    {
     "name": "stdout",
     "output_type": "stream",
     "text": [
      "---------------------------------------- \n",
      "\n",
      "\n",
      "Now adding the local info to this bank.\n",
      "* our_local_branch method:  [Inside the Bank Class] getCountryInfo called: France (FR) République française\n",
      "\n",
      "Data from inside the CountryInfo object:  [Outside on the Champs Elysées - in Class] getCountryInfo called: France (FR) République française\n"
     ]
    }
   ],
   "source": [
    "class Bank:\n",
    "    \n",
    "    def __init__(self, name, city, street):\n",
    "        self.name = name\n",
    "        self.city = city\n",
    "        self.street = street\n",
    "        \n",
    "    def __str__(self):\n",
    "        return f'This branch is in {self.city}, on {self.street}.'\n",
    "    \n",
    "    def __repr__(self):\n",
    "        # note: if we return (str(self) - we call the actual __str__!)\n",
    "        #return str(self)\n",
    "        bankinfo = str(Bank.__dict__)\n",
    "        return bankinfo\n",
    "    \n",
    "    # python prefers\n",
    "    # our_local_branch() style of method names, using _\n",
    "    def ourLocalBranch(self, CountryInfo):\n",
    "        self.localBranchInfo = CountryInfo\n",
    "        print(\"Now adding the local info to this bank.\")\n",
    "        print(\"* our_local_branch method: \", CountryInfo.getCountryInfo(\"[Inside the Bank Class]\"))\n",
    "\n",
    "# NEXT CLASS we'll make CHILD CLASSES inheriting BANK\n",
    "        \n",
    "        \n",
    "class CountryInfo:\n",
    "    \"\"\" begin to internationalize our data \"\"\"\n",
    "    def __init__(self, engName, isoName, localName):\n",
    "        self.engName = engName\n",
    "        self.isoName = isoName\n",
    "        self.localName = localName\n",
    "        \n",
    "    def getCountryInfo(self, id=\"[Outside on the Champs Elysées - in Class]\"):\n",
    "        return id + \" getCountryInfo called: \"+self.engName + \" (\"+self.isoName+\") \"+self.localName\n",
    "\n",
    "# -----------------------------------------------------\n",
    "#RECAP\n",
    "# can you use __str__ and __repr__ and __str__() and __repr__()?\n",
    "# do you understand the structure of class objects?\n",
    "b1 = Bank(\"Ethan\",\"Smithville\", \"Jones St.\")\n",
    "b2 = Bank(\"Iris\", \"Tulare\", \"Maple Lane\")\n",
    "\n",
    "print(\"-\"*40,\"\\n\\n\")\n",
    "b = Bank(\"BNParis\",\"Paris\", \"rue du Nul\")\n",
    "info = CountryInfo(\"France\", \"FR\", \"République française\")\n",
    "\n",
    "b.ourLocalBranch(info)\n",
    "print(\"\\nData from inside the CountryInfo object: \", info.getCountryInfo())"
   ]
  },
  {
   "cell_type": "markdown",
   "metadata": {},
   "source": [
    "<div style=\"background-color: brown; padding:10px; color:white;\">\n",
    "    <p>What you learned:</p>\n",
    "    <ul>\n",
    "        <li>examples of python's dunder use</li>\n",
    "        <li>behaviors of __str__ and __repr__</li>\n",
    "        <li>adding a new Class to our code</li>\n",
    "        <li>behaviors of __str()__ and __repr()__</li>\n",
    "        <li>Overwriting the default behaviors of pythons dunder vars [leads to using magic methods]</li>\n",
    "    </ul>\n",
    "</div>\n",
    "<hr />"
   ]
  },
  {
   "cell_type": "code",
   "execution_count": null,
   "metadata": {},
   "outputs": [],
   "source": []
  }
 ],
 "metadata": {
  "kernelspec": {
   "display_name": "Python 3 (ipykernel)",
   "language": "python",
   "name": "python3"
  },
  "language_info": {
   "codemirror_mode": {
    "name": "ipython",
    "version": 3
   },
   "file_extension": ".py",
   "mimetype": "text/x-python",
   "name": "python",
   "nbconvert_exporter": "python",
   "pygments_lexer": "ipython3",
   "version": "3.11.4"
  }
 },
 "nbformat": 4,
 "nbformat_minor": 4
}
