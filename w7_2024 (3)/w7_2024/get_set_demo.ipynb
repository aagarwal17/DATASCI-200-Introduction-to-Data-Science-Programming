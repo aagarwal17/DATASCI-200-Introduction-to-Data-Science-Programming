{
 "cells": [
  {
   "cell_type": "markdown",
   "metadata": {},
   "source": [
    "<h2 style=\"background-color: #003262; color:white; border-radius: 4px; padding: 8px;\">\n",
    "Topic 7: OOP in general and accessing Python&rsquo;s objects/variables.</h2>\n",
    "</h1>\n",
    "<p style=\"font-size:9px;\">Updated Feb 18, 2023; Oct 8, 2023</p>\n",
    "<h3>Review of accessing variables from other classes.</h3>\n",
    "<p>Introduces the use of the </p>\n",
    "    <ol>\n",
    "        <li>dot operator to access variables</li>\n",
    "        <li>protecting (hiding) variables from others</li>\n",
    "        <li>get/set approach for accessing variables</li>\n",
    "        <li>@ property decorators</li>\n",
    "    </ol>"
   ]
  },
  {
   "cell_type": "markdown",
   "metadata": {},
   "source": [
    "<hr />\n",
    "<p style=\"padding:10px; border-radius:5px; background-color:#3B7EA1; color:white;\"><i>Example 1:</i> self and accessing data via the <b>dot</b> operator.</p>"
   ]
  },
  {
   "cell_type": "code",
   "execution_count": 5,
   "metadata": {},
   "outputs": [
    {
     "name": "stdout",
     "output_type": "stream",
     "text": [
      "\n",
      "Using dot operator\n",
      "x from A: 5\n",
      "x from B: 20\n",
      "Updated x from A:  99\n",
      "\n",
      "\n"
     ]
    }
   ],
   "source": [
    "class A:\n",
    "    def __init__(self):\n",
    "        self.x = 5\n",
    "        \n",
    "class B:\n",
    "    def __init__(self, x):\n",
    "        self.x = x\n",
    "        \n",
    "class C:\n",
    "    def __init__(self, x):\n",
    "        self.x = x\n",
    "        \n",
    "class Main:\n",
    "\n",
    "    a = A() #hidden var x... = 5\n",
    "    b = B(20)  # pass a value to B x = 20\n",
    "    \n",
    "    print(\"\\nUsing dot operator\")\n",
    "    print(f\"x from A: {a.x}\")\n",
    "    print(f\"x from B: {b.x}\")\n",
    "    \n",
    "    # update a's version of x:\n",
    "    a.x = 99\n",
    "    print(\"Updated x from A: \", a.x)\n",
    "    \n",
    "    print(\"\\n\")\n",
    "\n",
    "# --------------- Notice the use of __name__ and __main__\n",
    "if __name__ == \"__main__\":\n",
    "    main = Main()"
   ]
  },
  {
   "cell_type": "markdown",
   "metadata": {},
   "source": [
    "<p style=\"padding:10px; border-radius:5px; background-color:#3B7EA1; color:white;\"><i>Example 2: use of multiple dot operators to navigate back\n",
    "through the object chain</i></p>\n",
    "<pre>\n",
    "# access from Main\n",
    "print(a.x)\n",
    "print(b.x)\n",
    "print(b.c.x)\n",
    "</pre>"
   ]
  },
  {
   "cell_type": "code",
   "execution_count": 6,
   "metadata": {},
   "outputs": [
    {
     "name": "stdout",
     "output_type": "stream",
     "text": [
      "\n",
      "Access c from B:  100\n",
      "5\n",
      "20\n",
      "\n",
      "\n",
      "100\n"
     ]
    }
   ],
   "source": [
    "# demo 2: Note B's instance of C\n",
    "\n",
    "class A:\n",
    "    def __init__(self):\n",
    "        self.x = 5\n",
    "        \n",
    "class B:\n",
    "    def __init__(self, x):\n",
    "        self.x = x\n",
    "        self.c = C(100)\n",
    "        \n",
    "        print(\"\\nAccess c from B: \",self.c.x)\n",
    "        \n",
    "class C:\n",
    "    def __init__(self, x):\n",
    "        self.x = x\n",
    "        \n",
    "class Main:\n",
    "\n",
    "    a = A()\n",
    "    b = B(20)\n",
    "    \n",
    "    # access from Main\n",
    "    print(a.x)\n",
    "    print(b.x)\n",
    "    print(\"\\n\")\n",
    "    print(b.c.x)\n",
    "\n",
    "# --------------- notice we can run w/o the __name__\n",
    "# but a best practice is to use it.\n",
    "main = Main()"
   ]
  },
  {
   "cell_type": "markdown",
   "metadata": {},
   "source": [
    "<hr /><p style=\"padding:10px; border-radius:5px; background-color:#3B7EA1; color:white;\"><i>Example 3: making variables private or protected</i></p>\n",
    "<p>Besides the dot operator, we can use a left dunder to protect variables from others&rsquo; use.  Even though we can still gain access, \n",
    "    Python offers a way to hide variables from parts of code and \n",
    "    from other programmers.\n",
    "</p>\n",
    "<p>This <b>introduces the idea of get/set</b>.</p>"
   ]
  },
  {
   "cell_type": "code",
   "execution_count": 1,
   "metadata": {},
   "outputs": [
    {
     "name": "stdout",
     "output_type": "stream",
     "text": [
      "\n",
      "Access c from B:  100\n",
      "\n",
      "GETting protected version of a.x\n",
      "\tby using a GET method: 5\n",
      "\n",
      "SETting protected version of a.x\n",
      "\tby using a SET method: 42\n",
      "\n",
      "Getting unprotected b with dot: 20\n",
      "\n",
      "\n"
     ]
    }
   ],
   "source": [
    "# demo 3:\n",
    "# Protecting Variables from others' access\n",
    "\n",
    "class A:\n",
    "    def __init__(self):\n",
    "        self.__x = 5\n",
    "        \n",
    "    def getA_valueOfX(self):\n",
    "        return self.__x\n",
    "        \n",
    "    def setA_valueOfX(self, v):\n",
    "        self.__x = v\n",
    "        \n",
    "class B:\n",
    "    def __init__(self, x):\n",
    "        self.x = x\n",
    "        self.c = C(100)\n",
    "        \n",
    "        print(\"\\nAccess c from B: \",self.c.x)\n",
    "        \n",
    "class C:\n",
    "    def __init__(self, x):\n",
    "        self.x = x\n",
    "        \n",
    "class Main:\n",
    "\n",
    "    a = A()\n",
    "    b = B(20)\n",
    "    \n",
    "    # access from Main\n",
    "    # now a.x throws an error\n",
    "    # print(a.x)\n",
    "    # so need a get/set method to retrieve it.\n",
    "    print(\"\\nGETting protected version of a.x\")\n",
    "    print(\"\\tby using a GET method: \", end=\"\")\n",
    "    print(a.getA_valueOfX())\n",
    "    \n",
    "    print(\"\\nSETting protected version of a.x\")\n",
    "    print(\"\\tby using a SET method: \", end=\"\")\n",
    "    a.setA_valueOfX(42)\n",
    "    \n",
    "    print(a.getA_valueOfX())\n",
    "    \n",
    "    print(\"\\nGetting unprotected b with dot: \", end=\"\")\n",
    "    print(b.x)\n",
    "    print(\"\\n\")\n",
    "\n",
    "# ---------------\n",
    "main = Main()\n",
    "\n",
    "# can't go a.x = 50 any more!"
   ]
  },
  {
   "cell_type": "markdown",
   "metadata": {},
   "source": [
    "<hr />\n",
    "<p style=\"padding:10px; border-radius:5px; background-color:#3B7EA1; color:white;\"><i>Example 4: decorators</i></p>\n",
    "<p>In this demo we can get around protection using <b>decorators</b> and __doc__ for doc string.  Note that there are <b>many get/set</b> techniques.  We&rsquo;ll review them carefully next week.</p>"
   ]
  },
  {
   "cell_type": "code",
   "execution_count": 8,
   "metadata": {},
   "outputs": [
    {
     "name": "stdout",
     "output_type": "stream",
     "text": [
      "5\n",
      "None\n"
     ]
    }
   ],
   "source": [
    "# demo 4:\n",
    "# Getting around protection using decorators\n",
    "# and __doc__ for docstring\n",
    "\n",
    "class A:\n",
    "    \"\"\" this class A demos the get and set idea \"\"\"\n",
    "    def __init__(self):\n",
    "        self.__x = 5\n",
    "        \n",
    "    def getA_valueOfX(self):\n",
    "        return self.__x\n",
    "        \n",
    "    def setA_valueOfX(self, v):\n",
    "        self.__x = v\n",
    "\n",
    "    # using property() to override get/set\n",
    "    # note the variable affected (the x)\n",
    "    x = property(getA_valueOfX, setA_valueOfX)\n",
    "    \n",
    "        \n",
    "class Main:\n",
    "    a = A()\n",
    "    print(a.x)\n",
    "\n",
    "# ---------------\n",
    "main = Main()\n",
    "\n",
    "print(main.__doc__)"
   ]
  },
  {
   "cell_type": "markdown",
   "metadata": {},
   "source": [
    "<hr />\n",
    "<p style=\"padding:10px; border-radius:5px; background-color:#3B7EA1; color:white;\"><i>Example 5:</i> getting around protecting using the @ property decorator</p>\n",
    "<ol>\n",
    "    <li>Getting around protection using @ property decorator</li>\n",
    "    <li>@property by itself acts like a GET by default</li>\n",
    "    <li>@<i>&lt;variablename&gt;</i>.setter SETs</li>\n",
    "    <li>@<i>&lt;variablename&gt;</i>.deleter is a DEL</li>\n",
    "</ol>"
   ]
  },
  {
   "cell_type": "code",
   "execution_count": 1,
   "metadata": {},
   "outputs": [
    {
     "name": "stdout",
     "output_type": "stream",
     "text": [
      "9999\n"
     ]
    },
    {
     "data": {
      "text/plain": [
       "'\\nif __name__ == \"__main__\":\\n    main()\\n\\n    main = Main()\\n\\n'"
      ]
     },
     "execution_count": 1,
     "metadata": {},
     "output_type": "execute_result"
    }
   ],
   "source": [
    "# demo 5:\n",
    "# Getting around protection using @ property decorator\n",
    "# @property by itself acts like a GET\n",
    "# @<variablename>.setter SETs\n",
    "# @<variablename>.deleter is a DEL\n",
    "# added second variable to A for demo of specific control\n",
    "\n",
    "class A:\n",
    "    def __init__(self):\n",
    "        self.__x = 5\n",
    "        self.__y = \"hello\"\n",
    "        \n",
    "    @property # acts like a get  x.getter?  (no, alas)\n",
    "    def x(self):\n",
    "        return self.__x\n",
    "\n",
    "    @x.setter\n",
    "    def x(self, newvalue):\n",
    "        self.__x = newvalue\n",
    "\n",
    "    @x.deleter\n",
    "    def x(self):\n",
    "        del self.__a\n",
    "\n",
    "class Main:  # Chessboard \n",
    "\n",
    "    a = A()\n",
    "    a.x = 9999\n",
    "    print(a.x)\n",
    "\n",
    "# ---------------\n",
    "main = Main()\n",
    "\n",
    "# a front door - to control access\n",
    "# not required, but conceptually better for OOP\n",
    "\"\"\"\n",
    "if __name__ == \"__main__\":\n",
    "    main()\n",
    "\n",
    "    main = Main()\n",
    "\n",
    "\"\"\""
   ]
  },
  {
   "cell_type": "markdown",
   "metadata": {},
   "source": [
    "<p>The goal here is to get a sense of the framework of all classes.  Next we see how the classes we define inherit lots of attributes and methods from python's object.  Use these \"dunder\" and \"magic methods\" to peek inside the objects and to overwrite default behaviors.</p>"
   ]
  },
  {
   "cell_type": "markdown",
   "metadata": {},
   "source": [
    "<hr />\n",
    "<h2>End of Page 3 for this week.</h2>\n",
    "<p>For more advanced and other implementations of this week&rsquo;s lesson, visit this \n",
    "    <a href=\"Sp23_week-07-appendix.ipynb\" target=\"new\">Appendix page</a>.</p>\n",
    "<hr />"
   ]
  }
 ],
 "metadata": {
  "kernelspec": {
   "display_name": "Python 3 (ipykernel)",
   "language": "python",
   "name": "python3"
  },
  "language_info": {
   "codemirror_mode": {
    "name": "ipython",
    "version": 3
   },
   "file_extension": ".py",
   "mimetype": "text/x-python",
   "name": "python",
   "nbconvert_exporter": "python",
   "pygments_lexer": "ipython3",
   "version": "3.11.4"
  }
 },
 "nbformat": 4,
 "nbformat_minor": 4
}
