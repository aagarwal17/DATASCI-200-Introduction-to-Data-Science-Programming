{
 "cells": [
  {
   "cell_type": "code",
   "execution_count": 1,
   "metadata": {},
   "outputs": [
    {
     "data": {
      "text/html": [
       "<script src=\"js/showNotes.js\"></script>\n"
      ],
      "text/plain": [
       "<IPython.core.display.HTML object>"
      ]
     },
     "metadata": {},
     "output_type": "display_data"
    }
   ],
   "source": [
    "%%html\n",
    "<script src=\"js/showNotes.js\"></script>"
   ]
  },
  {
   "cell_type": "markdown",
   "metadata": {},
   "source": [
    "<p style=\"font-size:9px;\"><b>updated 2/17/24</b> [&copy; 2023-4 gb]</p>\n",
    "<img src=\"images/ischool-banner.png\" />\n",
    "<p>&nbsp;</p>\n",
    "<p style=\"height: 100px;color:#3B7EA1; font-size:24px; vertical-align:top; text-align:left;\">\n",
    "    Computing for Data Science\n",
    "    <img style=\"width:20%; vertical-align:top; float: left; padding-right: 20px; display: block; margin-left: 0; margin-right: auto;\" \n",
    "         src=\"images/ucb_logo.png\"/>\n",
    "</p>"
   ]
  },
  {
   "cell_type": "markdown",
   "metadata": {},
   "source": [
    "<hr />\n",
    "<h1 style=\"font-size:36; color: #003262;\">Week 7: Syllabus Topics</h1>\n",
    "<table width=\"100%\">\n",
    "    <tr>\n",
    "<td style=\"text-align:left; vertical-align:top;\">\n",
    "<ol start=\"7\">\n",
    "<li>\n",
    "    <ul  style='background-color: #FDB515;'>\n",
    "        <li>Classes</li>\n",
    "        <li>Attributes, Binding</li>\n",
    "        <li>Initializing and Control</li>\n",
    "        <li>&UnderBar;&UnderBar;str&UnderBar;&UnderBar; and &UnderBar;&UnderBar;repr&UnderBar;&UnderBar;\n",
    "        </li>\n",
    "    </ul>\n",
    "</li>\n",
    "<li>\n",
    "    <ul>\n",
    "        <li>Object-Oriented Programming</li>\n",
    "        <li>Inheritance</li>\n",
    "        <li>Polymorphism</li>\n",
    "        <li>Magic Methods</li>\n",
    "    </ul>\n",
    "</li>\n",
    "<li>\n",
    "    <ul>\n",
    "    <li>PyData Ecosystem and Numpy</li>\n",
    "    <li>Boolean selection and types</li>\n",
    "    <li>Vectorization &amp; Multidimensional Arrays</li>\n",
    "    <li>Slicing and combining</li>\n",
    "    <li>Linear model in matrix form, Numpy</li>\n",
    "    </ul>\n",
    "</li>\n",
    "</ol>\n",
    "</td>\n",
    "<td style=\"text-align:left; vertical-align:top;\">\n",
    "<ol start=\"10\">\n",
    "<li>\n",
    "    <ul>\n",
    "        <li>Pandas &amp; Data Analysis</li>\n",
    "        <li>Series and Data Frames</li>\n",
    "        <li>Bracket index, log &amp; iloc</li>\n",
    "        <li>Functions and DataFrames</li>\n",
    "        <li>Sorting</li>\n",
    "    </ul>\n",
    "</li>\n",
    "<li>\n",
    "    <ul>\n",
    "        <li>Datasets and EDA</li>\n",
    "        <li>Fixing Data Issues (Cleansing)</li>\n",
    "        <li>Answering Questions</li>\n",
    "    </ul>\n",
    "</li>\n",
    "<li>\n",
    "    <ul>\n",
    "        <li>Plotting &amp; Visualization</li>\n",
    "        <li>Libraries (Matplotlib, Seaborn, etc.)</li>\n",
    "        <li>Plot features</li>\n",
    "    </ul>\n",
    "</li>\n",
    "</ol>\n",
    "</td>\n",
    "</tr>\n",
    "</table>"
   ]
  },
  {
   "cell_type": "markdown",
   "metadata": {},
   "source": [
    "<p style=\"font-size: 16px; line-height: 22px; color: #3B7EA1;\">\n",
    "    Check-In:  how was last week?\n",
    "</p>"
   ]
  },
  {
   "cell_type": "markdown",
   "metadata": {},
   "source": [
    "<hr />\n",
    "    <p>\n",
    "        <img src=\"images/IntroIcon.png\" style=\"float:left; padding:10px; width:50px; text-align:top;\"/>\n",
    "        <span  style=\"color: #3B7EA1;font-size:24px;\">Introduction</span>\n",
    "    </p>\n",
    "    <p>This week we intro some main points about object oriented design, the idea of <b>inheritance</b>, <code>__init__</code>, and <code>super()</code></p>\n",
    "    <p>Let&rsquo;s start with a discussion example and then work thru an example of a Bank.</p>\n",
    "<img src=\"images/bankaccount.jpg\">"
   ]
  },
  {
   "cell_type": "markdown",
   "metadata": {},
   "source": [
    "<hr />\n",
    "<h2 style=\"background-color: #003262; color:white; border-radius: 4px; padding: 8px;\">\n",
    "    Object-Oriented Design &amp; Classes\n",
    "</h2>\n",
    "<a href=\"w7_images/classdiagram1.png\" target=\"new\">\n",
    "<img style=\"width: 100%;\" src=\"images/classdiagram1.png\" /></a>\n",
    "<h3><i>Terms used in OOP</i></h3>\n",
    "<p>OOP Terms: [<a href=\"oopterms.html\" target=\"new\">show definitions</a>]</p>"
   ]
  },
  {
   "cell_type": "markdown",
   "metadata": {},
   "source": [
    "<h2 style=\"color:#003262;\">About Classes</h2>\n",
    "<ol style=\"line-height:24px;\">\n",
    "    <li>Represent <b>things-in-the-world</b>: build objects from primitive and complex data types.</li>\n",
    "<li>Classes are self-contained (<b>encapsulated</b>), meaning they hold all the specific characteristics of an object as well as all its behaviors (aka <b>methods</b>).</li>\n",
    "    <li>Define the shared elements/behaviors in a <b>parent class</b>: <code>class <span style='color:maroon;'>Person</span></code></li>\n",
    "    <li>Classes are created when you create them: aka <i>constructor</i>.  Python will auto-construct classes but best practices is to be specific: use the <code>__init__</code>.</li>\n",
    "    <li>Build on those properties in <b>child classes</b> (<i>inheritance</i>), e.g., <code>class <span style='color:olive;'>Student</span>(<span style='color:maroon;'>Person</span>)</code></li>\n",
    "    <li>Child classes can call upon the parent's (super) class constructors: e.g., <code>super().__init__()</code></li>\n",
    "    <li><b>Contruct</b> as many copies of the parent or child as you need: e.g., all students share properties as persons.  Note the real-world point: students have different properties/behaviors than profs and administrators.  E.g., <br />\n",
    "        <code>student1 = Student()</code><br />\n",
    "        <code>student2 = Student()</code>\n",
    "    </li>\n",
    "    <li>Group other behaviors in appropriate classes: e.g., have a class for handling messages to the users (e.g., a Message class)</li>\n",
    "    <li>Need some context to group them all: say a School class where the other classes interact.</li>\n",
    "    <li>Preferrably a single main-doorway to the program: a <b>main</b> statement <br /><code>if __name__ == \"__main__\"</code><br /> and then <i>instantiate</i> the code by creating the School program</li>\n",
    "    </ol>"
   ]
  },
  {
   "cell_type": "markdown",
   "metadata": {},
   "source": [
    "<img src=\"uml-ood.png\">"
   ]
  },
  {
   "cell_type": "markdown",
   "metadata": {},
   "source": [
    "<hr />\n",
    "<h3 style=\"color:#003262;\">Read this code and identify all parts.</h3>\n",
    "<ul>\n",
    "    <li>Notice the syntax,</li>\n",
    "    <li>the use of <code>self</code>,</li>\n",
    "    <li>the dot-operator,</li>\n",
    "    <li>and how classes are instantiated (e.g., s = Student())</li>\n",
    "    <li>notice the use of <code>__str__</code> and <code>__repr__</code>, <code>__str__()</code>, and <code>__repr__()</code></li>\n",
    "</ul>"
   ]
  },
  {
   "cell_type": "code",
   "execution_count": 30,
   "metadata": {},
   "outputs": [
    {
     "name": "stdout",
     "output_type": "stream",
     "text": [
      "\u001b[H\u001b[2JWelcome, Samantha Stevens, to the class of 2028.\n",
      "Samantha Stevens\n",
      "\n",
      "System Message: \n",
      "     Uncle Arthur welcomes You! \n",
      "\n",
      "This is a test. 2028\n",
      "\n",
      "System Message: \n",
      "     This is from test in student - called if gradyear < 2030 \n",
      "\n"
     ]
    }
   ],
   "source": [
    "import os\n",
    "\n",
    "# ----------------- PERSON\n",
    "class Person:\n",
    "    \"\"\" class Person accepts two parameters, fname and lname \"\"\"\n",
    "    def __init__(self, fname, lname):\n",
    "        self.firstname = fname\n",
    "        self.lastname = lname\n",
    "\n",
    "    def printname(self):\n",
    "        print(self.firstname, self.lastname)\n",
    "        \n",
    "    def preferred_language(self):\n",
    "        return \"en\"\n",
    "    \n",
    "     # Notice that str and repr are redefined.    \n",
    "    def __str__(self):\n",
    "        \"\"\" the _str__ var is usually intended to show to the end-user \"\"\"\n",
    "        return f'This is the Person base class for {self.firstname} {self.lastname}'\n",
    "    \n",
    "    def __repr__(self):\n",
    "        \"\"\" repr is thought of as reserved for programmers' info.\n",
    "        Note: if we return (str(self) - we call the actual __str__!)\n",
    "        return str(self)\n",
    "        \"\"\"\n",
    "        personinfo = str(Person.__dict__)\n",
    "        stmt = \"\\nThe repr is for programmers, so how 'bout coder stuff? \\n\" + personinfo\n",
    "        return stmt\n",
    "\n",
    "# ---------- STUDENT (child of PERSON)\n",
    "class Student(Person):\n",
    "    \"\"\" Student inherits from Person.\n",
    "        Student takes 3 parameters.  As a demo, we call super() to pass \n",
    "        2 parameters to the Parent class \n",
    "    \"\"\"\n",
    "    def __init__(self, fname, lname, year):  # for the student class ...\n",
    "        \n",
    "        super().__init__(fname, lname)       # to pass to the parent - Person has 2 parameters (fname, lname); \n",
    "                                             # Student requires 3 (fname, lname, year)\n",
    "        \n",
    "        self.graduationyear = year\n",
    "\n",
    "    def welcome(self):\n",
    "        print(f\"Welcome, {self.firstname} {self.lastname}, to the class of {self.graduationyear}.\")\n",
    "\n",
    "    def test(self):\n",
    "        print(\"This is a test.\", self.graduationyear)\n",
    "        if self.graduationyear < 2030:\n",
    "            msg = Msg()\n",
    "            msg.set_msg('This is from test in student - called if gradyear < 2030')\n",
    "            msg.get_msg()\n",
    "\n",
    "# ------------- MESSAGE CLASS\n",
    "class Msg:\n",
    "    \"\"\" Message (Msg) class takes a single parameter; has a default value \"\"\"\n",
    "    def __init__(self, s = \"curious\"):\n",
    "        self.s = s\n",
    "        # print(s)\n",
    "    def set_msg(self, new_msg):\n",
    "        self.s = new_msg\n",
    "    def get_msg(self):\n",
    "        return print(\"\\nSystem Message: \\n    \",self.s, \"\\n\")\n",
    "\n",
    "# ----------- MAIN OF PROGRAM\n",
    "class Main:  # can call it anything you want\n",
    "    \"\"\" the main part of the script \"\"\"\n",
    "    os.system(\"clear\")\n",
    "    s = Student(\"Samantha\", \"Stevens\", 2028)\n",
    "    s.welcome()\n",
    "    s.printname()\n",
    "    \n",
    "    m = Msg()\n",
    "    m.set_msg(\"Uncle Arthur welcomes You!\")\n",
    "    m.get_msg()\n",
    "    \n",
    "    p = Person(\"Doja\", \"Cat\")\n",
    "    s.test()\n",
    "\n",
    "# ----------- START PROGRAM HERE\n",
    "if __name__ == \"__main__\":\n",
    "    \"\"\" here are the entrances to the program - use either, both work equally well \n",
    "    but there's a difference - once is an instance of main; the other is the sole \n",
    "    object, Main \"\"\"\n",
    "\n",
    "    main = Main()  # you don't need the word \"Main\" here - could call it \"MyApp\" or anything.\n",
    "    # or equally, just Main()   "
   ]
  },
  {
   "cell_type": "markdown",
   "metadata": {},
   "source": [
    "<hr/>\n",
    "<p><b>Parent &amp; Child Methods</b>.  Notice these two outputs: the first (Student) can use methods from Parent.  But Parent cannot call Child&rsquo;s methods.</p>"
   ]
  },
  {
   "cell_type": "code",
   "execution_count": 4,
   "metadata": {},
   "outputs": [
    {
     "name": "stdout",
     "output_type": "stream",
     "text": [
      "tom jones\n"
     ]
    },
    {
     "data": {
      "text/plain": [
       "'en'"
      ]
     },
     "execution_count": 4,
     "metadata": {},
     "output_type": "execute_result"
    }
   ],
   "source": [
    "ss = Student(\"tom\", \"jones\", 50)\n",
    "ss.printname()  # NOTICE that printname() belongs to the PARENT!\n",
    "ss.preferred_language() # also from Parent"
   ]
  },
  {
   "cell_type": "code",
   "execution_count": 5,
   "metadata": {},
   "outputs": [
    {
     "ename": "AttributeError",
     "evalue": "'Person' object has no attribute 'welcome'",
     "output_type": "error",
     "traceback": [
      "\u001b[0;31m---------------------------------------------------------------------------\u001b[0m",
      "\u001b[0;31mAttributeError\u001b[0m                            Traceback (most recent call last)",
      "Cell \u001b[0;32mIn[5], line 3\u001b[0m\n\u001b[1;32m      1\u001b[0m \u001b[38;5;66;03m# This will throw an exception - do you know why?\u001b[39;00m\n\u001b[1;32m      2\u001b[0m pp \u001b[38;5;241m=\u001b[39m Person(\u001b[38;5;124m\"\u001b[39m\u001b[38;5;124mjane\u001b[39m\u001b[38;5;124m\"\u001b[39m,\u001b[38;5;124m\"\u001b[39m\u001b[38;5;124mayre\u001b[39m\u001b[38;5;124m\"\u001b[39m)\n\u001b[0;32m----> 3\u001b[0m \u001b[43mpp\u001b[49m\u001b[38;5;241;43m.\u001b[39;49m\u001b[43mwelcome\u001b[49m()   \u001b[38;5;66;03m# welcome() BELONGS TO THE CHILD and Parent cannot use it.\u001b[39;00m\n",
      "\u001b[0;31mAttributeError\u001b[0m: 'Person' object has no attribute 'welcome'"
     ]
    }
   ],
   "source": [
    "# This will throw an exception - do you know why?\n",
    "pp = Person(\"jane\", \"ayre\")\n",
    "pp.welcome()   # welcome() BELONGS TO THE CHILD and Parent cannot use it."
   ]
  },
  {
   "cell_type": "markdown",
   "metadata": {},
   "source": [
    "<p><b>__str__, __repr__</b> Demo.  Notice the command and different outputs.</p>"
   ]
  },
  {
   "cell_type": "code",
   "execution_count": 16,
   "metadata": {},
   "outputs": [
    {
     "name": "stdout",
     "output_type": "stream",
     "text": [
      "\n",
      " ---------------------------------------- \n",
      "Calling str:\n",
      "<bound method Person.__str__ of \n",
      "The repr is for programmers, so how 'bout coder stuff? \n",
      "{'__module__': '__main__', '__init__': <function Person.__init__ at 0x107c9f240>, 'printname': <function Person.printname at 0x107c9e200>, 'preferred_language': <function Person.preferred_language at 0x107c9dc60>, '__str__': <function Person.__str__ at 0x107c9e8e0>, '__repr__': <function Person.__repr__ at 0x108214040>, '__dict__': <attribute '__dict__' of 'Person' objects>, '__weakref__': <attribute '__weakref__' of 'Person' objects>, '__doc__': None}>\n",
      "\n",
      " ---------------------------------------- \n",
      "Calling str():\n",
      "This is the Person base class for Teddy Roosevelt\n",
      "\n",
      " ---------------------------------------- \n",
      "Calling repr:\n",
      "<bound method Person.__repr__ of \n",
      "The repr is for programmers, so how 'bout coder stuff? \n",
      "{'__module__': '__main__', '__init__': <function Person.__init__ at 0x107c9f240>, 'printname': <function Person.printname at 0x107c9e200>, 'preferred_language': <function Person.preferred_language at 0x107c9dc60>, '__str__': <function Person.__str__ at 0x107c9e8e0>, '__repr__': <function Person.__repr__ at 0x108214040>, '__dict__': <attribute '__dict__' of 'Person' objects>, '__weakref__': <attribute '__weakref__' of 'Person' objects>, '__doc__': None}>\n",
      "\n",
      " ---------------------------------------- \n",
      "Calling repr():\n",
      "\n",
      "The repr is for programmers, so how 'bout coder stuff? \n",
      "{'__module__': '__main__', '__init__': <function Person.__init__ at 0x107c9f240>, 'printname': <function Person.printname at 0x107c9e200>, 'preferred_language': <function Person.preferred_language at 0x107c9dc60>, '__str__': <function Person.__str__ at 0x107c9e8e0>, '__repr__': <function Person.__repr__ at 0x108214040>, '__dict__': <attribute '__dict__' of 'Person' objects>, '__weakref__': <attribute '__weakref__' of 'Person' objects>, '__doc__': None}\n"
     ]
    }
   ],
   "source": [
    "p = Person(\"Teddy\", \"Roosevelt\")\n",
    "\n",
    "print(\"\\n\",\"-\"*40, \"\\nCalling str:\")\n",
    "print(p.__str__)\n",
    "\n",
    "print(\"\\n\",\"-\"*40, \"\\nCalling str():\")\n",
    "print(p.__str__())\n",
    "\n",
    "print(\"\\n\",\"-\"*40, \"\\nCalling repr:\")\n",
    "print(p.__repr__)\n",
    "\n",
    "print(\"\\n\",\"-\"*40, \"\\nCalling repr():\")\n",
    "print(p.__repr__())"
   ]
  },
  {
   "cell_type": "markdown",
   "metadata": {},
   "source": [
    "<blockquote><h2>Optional side note about super() versus init:</h2>\n",
    "<pre>\n",
    "class Base(object):\n",
    "    def __init__(self):\n",
    "        print(\"Base\")\n",
    "</pre>\n",
    "<p>Method 1: Using parent reference directly:</p>\n",
    "<pre>\n",
    "class ChildA(Base):\n",
    "    def __init__(self):\n",
    "        Base.__init__(self)\n",
    "        print(\"Child A init.\")\n",
    "</pre>\n",
    "<p>Method 2: Using super() with a child class:</p>\n",
    "<pre>\n",
    "class ChildB(Base):\n",
    "    def __init__(self):\n",
    "        print(\"Child B Init.\")\n",
    "        super(ChildB, self).__init__()\n",
    "</pre>\n",
    "<p>Method 3: using super()</p>\n",
    "<pre>\n",
    "class ChildC(Base):\n",
    "    def __init__(self):\n",
    "        super().__init__()\n",
    "        print(\"Child C\")\n",
    "</pre>\n",
    "<hr />\n",
    "<p>All work the same ... but the super() is more reliable when there&rsquo;s multiple inheritance, due to something called Method Resolution Order (MRO) ... For us don't worry about it - but if you do use multiple inheritance then use super():</p>\n",
    "<pre>\n",
    "class X:\n",
    "    def __ini__(self):\n",
    "        print(\"Base 1\")\n",
    "        super().__init__()\n",
    "class X(BaseA, BaseB):\n",
    "    super().__init__()\n",
    "</pre>\n",
    "</blockquote>"
   ]
  },
  {
   "cell_type": "markdown",
   "metadata": {},
   "source": [
    "<p></p>\n",
    "<hr />\n",
    "<h2 style=\"background-color: #003262; color:white; border-radius: 4px; padding: 8px;\">\n",
    "Practice: Constructor and Bank Example\n",
    "</h2>\n",
    "<p>After coding the class, when we call it in our code we \"construct\" it, using the <code>__init__</code> command.  The constructor requests of the OS whether there is a congituous block of RAM large enough to hold the object.  If so, create it.</p>\n",
    "<p>In the below example of Bank, see if you can identify each line&rsquo;s purpose.</p>"
   ]
  },
  {
   "cell_type": "markdown",
   "metadata": {},
   "source": [
    "<p><b style=\"color: #3B7EA1;\">Use-case scenario:</b> We want to create an object for banking.  Consequently we start off by creating a class for &ldquo;Bank&rdquo; ... then we can create endless banks and extend the type of banks&rsquo; specific needs.</p>\n",
    "\n",
    "<p>Notice this example: <code>BoM = Bank(\"Bank of Monterey\", \"Monterey\")</code>\n",
    "</p>\n",
    "<ol>\n",
    "    <li>The <b>base class</b> is \"class Bank\".</li>\n",
    "    <li><b>Instantiate</b> an individual copy of a bank from the base: \n",
    "        <code>BoM = Bank(\"BoM\", \"Seaside\")</code>\n",
    "    </li>\n",
    "    <li>Review the <b>type</b> of an object and see the dunder \n",
    "        <code>__main__</code>:\n",
    "        <pre>&lt;BoM&gt; has type <code>'__main__.Bank'</code>\n",
    "        </pre>\n",
    "    </li>\n",
    "    <li>We can modify <b>all</b> instances by changing a Class attribute: \n",
    "        <code>Bank.preferred_currency = \"EUR\"</code>\n",
    "    </li>\n",
    "    <li>Modify an <b>individual instance</b>: \n",
    "        <code>BoM.preferred_curency = 'CDN'</code>\n",
    "    </li>\n",
    "</ol>\n",
    "<hr />\n",
    "<p style=\"color:maroon;\">Optional - a glimpse into the many windows into our objects.</p>\n",
    "<p>But note the <code>__str__</code> and <code>__repr__</code> attributes that all of our objects inherit and which we can overwrite. </p>"
   ]
  },
  {
   "cell_type": "markdown",
   "metadata": {},
   "source": [
    "<p>Notice each part of the class definition, the use of <code>self</code>, parameters and default parameters that are passinto the class.</p>\n",
    "<p>Notice, too, the <u>two instances</u> of a bank.</p>\n",
    "<hr />\n",
    "<p><b>1</b> Define the Class:</p>"
   ]
  },
  {
   "cell_type": "code",
   "execution_count": 25,
   "metadata": {},
   "outputs": [],
   "source": [
    "# DEFINE A CLASS\n",
    "class Bank:\n",
    "    \"\"\" Base class for all banks \"\"\"\n",
    "    total_branches = 0                     # NOTE: Class Attribute\n",
    "\n",
    "    def __init__(self, name, city, money_on_hand = 10000):\n",
    "        self.name = name\n",
    "        self.city = city\n",
    "        self.no_of_transactions = 0        # Instance Attribute\n",
    "        self.money_on_hand = money_on_hand\n",
    "        Bank.total_branches += 1\n",
    "        Bank.preferred_currency = \"USD\"    # Class attribute\n",
    "                                           # See the reference to Bank Class\n",
    "        \n",
    "    def showBankInfo(self):                # add a method to get data \n",
    "        print(self.name, self.city)\n",
    "\n",
    "    def how_much_in_vault(self):\n",
    "        print(\"$ in vault: \", self.money_on_hand)\n",
    "\n",
    "    def add_money(self, amount):\n",
    "        self.money_on_hand += amount\n",
    "        self.no_of_transactions += 1"
   ]
  },
  {
   "cell_type": "code",
   "execution_count": 26,
   "metadata": {},
   "outputs": [
    {
     "data": {
      "text/plain": [
       "0"
      ]
     },
     "execution_count": 26,
     "metadata": {},
     "output_type": "execute_result"
    }
   ],
   "source": [
    "Bank.total_branches"
   ]
  },
  {
   "cell_type": "markdown",
   "metadata": {},
   "source": [
    "<hr />\n",
    "<p><b>2</b> Create Instances of the Bank Class:</p>"
   ]
  },
  {
   "cell_type": "code",
   "execution_count": 27,
   "metadata": {},
   "outputs": [
    {
     "name": "stdout",
     "output_type": "stream",
     "text": [
      "Berkeley\n",
      "San Francisco\n",
      "\n",
      "After moving the bank to the Valley:  Bakersfield\n",
      "2\n",
      "2\n"
     ]
    }
   ],
   "source": [
    "# TWO INSTANCES of the Bank()\n",
    "bankOfAmerica = Bank(\"BoA\", \"Berkeley\")\n",
    "wellsFargo = Bank(\"WF\", \"San Francisco\")\n",
    "\n",
    "# ACCESSING THE ATTRIBUTES using a dot operator\n",
    "print(bankOfAmerica.city)\n",
    "print(wellsFargo.city)\n",
    "\n",
    "# UPDATING A VALUE\n",
    "bankOfAmerica.city = \"Bakersfield\"\n",
    "print(\"\\nAfter moving the bank to the Valley: \", bankOfAmerica.city)\n",
    "\n",
    "# how many banks are there?\n",
    "print(Bank.total_branches)\n",
    "print(bankOfAmerica.total_branches)"
   ]
  },
  {
   "cell_type": "markdown",
   "metadata": {},
   "source": [
    "<hr />\n",
    "<p>Recall from week 1 the python object hierarchy.  Our classes <i>inherit</i> all python's classes and our entire program is a protected variable.  Therefore we can access lots of information about our program, our classes, doc strings, and more, just as if we were querying python&rsquo;s built-in objects.</p>"
   ]
  },
  {
   "cell_type": "code",
   "execution_count": 6,
   "metadata": {},
   "outputs": [
    {
     "data": {
      "text/plain": [
       "['__class__',\n",
       " '__delattr__',\n",
       " '__dict__',\n",
       " '__dir__',\n",
       " '__doc__',\n",
       " '__eq__',\n",
       " '__format__',\n",
       " '__ge__',\n",
       " '__getattribute__',\n",
       " '__getstate__',\n",
       " '__gt__',\n",
       " '__hash__',\n",
       " '__init__',\n",
       " '__init_subclass__',\n",
       " '__le__',\n",
       " '__lt__',\n",
       " '__module__',\n",
       " '__ne__',\n",
       " '__new__',\n",
       " '__reduce__',\n",
       " '__reduce_ex__',\n",
       " '__repr__',\n",
       " '__setattr__',\n",
       " '__sizeof__',\n",
       " '__str__',\n",
       " '__subclasshook__',\n",
       " '__weakref__',\n",
       " 'add_money',\n",
       " 'city',\n",
       " 'how_much_in_vault',\n",
       " 'money_on_hand',\n",
       " 'name',\n",
       " 'no_of_transactions',\n",
       " 'preferred_currency',\n",
       " 'showBankInfo',\n",
       " 'total_branches']"
      ]
     },
     "execution_count": 6,
     "metadata": {},
     "output_type": "execute_result"
    }
   ],
   "source": [
    "BoM = Bank(\"Bank of Monterey\", \"Monterey\")\n",
    "dir(BoM)  # this is a class method"
   ]
  },
  {
   "cell_type": "markdown",
   "metadata": {},
   "source": [
    "<hr />\n",
    "<p><b>3</b> Use the dunder vars to learn about the class&rsquo;s properties</p>"
   ]
  },
  {
   "cell_type": "code",
   "execution_count": 7,
   "metadata": {},
   "outputs": [
    {
     "name": "stdout",
     "output_type": "stream",
     "text": [
      "Get all the attributes ... \n",
      "{'name': 'Bank of Monterey', 'city': 'Monterey', 'no_of_transactions': 0, 'money_on_hand': 10000}\n",
      "\n",
      "Our object is an instance of what class?\n",
      "<class '__main__.Bank'>\n",
      "\n",
      "  Base class for all banks \n"
     ]
    }
   ],
   "source": [
    "print(\"Get all the attributes ... \")\n",
    "print(BoM.__dict__)  # this is an attribute information\n",
    "\n",
    "print(\"\\nOur object is an instance of what class?\")\n",
    "print(BoM.__class__)\n",
    "\n",
    "print(\"\\n\", BoM.__doc__)  # docstring"
   ]
  },
  {
   "cell_type": "markdown",
   "metadata": {},
   "source": [
    "<hr />\n",
    "<p><b>4</b> Demo of using the objects&rsquo; docstrings and built-in info/help ? of the class.</p>"
   ]
  },
  {
   "cell_type": "code",
   "execution_count": 9,
   "metadata": {},
   "outputs": [],
   "source": [
    "# How about getting class documentation?\n",
    "# You'll notice a box appear at the bottom of \n",
    "# the Notebook.\n",
    "\n",
    "?Bank"
   ]
  },
  {
   "cell_type": "markdown",
   "metadata": {},
   "source": [
    "<hr />\n",
    "<p>Before proceeding to the breakout room, it&rsquo;s worth working through the get/set and str/repr notebooks.</p>\n",
    "<p><b>Optional</b> detailed review of \n",
    "    <ol>\n",
    "        <li><a href=\"get_set_demo.ipynb\" target=\"new\">get/set</a> (for Week 8, too)</li>\n",
    "        <li><a href=\"str_repr_demo.ipynb\" target=\"new\">str and repr</a></li>\n",
    "        <li><a href=\"singly_linked_list_and_frequencies.ipynb\" target=\"new\">counting frequencies &amp; singly-linked list</a></li>\n",
    "    </ol>\n",
    "</p>    \n",
    "<p style=\"background-color: #003262; color:white; border-radius: 4px; padding: 8px; font-size:24px;\">Breakout Room\n",
    "</p>\n",
    "<ul>\n",
    "    <li><a href=\"activity/week_07_activity.ipynb\" target=\"new\">Week 7 Activity</a></li>\n",
    "    <li><a href=\"activity/week_07_activity_solution.ipynb\" target=\"new\">Week 7 Solution</a>\n",
    "    </li>\n",
    "</ul>\n",
    "<a href=\"MidtermReview.ipynb\" target=\"new\">Midterm Review</a>"
   ]
  },
  {
   "cell_type": "markdown",
   "metadata": {},
   "source": [
    "<hr />\n",
    "<div style=\"background-color:#C4820E;color:white; padding:5px;\">\n",
    "    <strong>Appendix</strong>: Optional: Appendix about handling errors: assert, DEBUG, *arg and **kwarg &amp; logging errors.</div>\n",
    "</p>\n",
    "\n"
   ]
  }
 ],
 "metadata": {
  "kernelspec": {
   "display_name": "Python 3 (ipykernel)",
   "language": "python",
   "name": "python3"
  },
  "language_info": {
   "codemirror_mode": {
    "name": "ipython",
    "version": 3
   },
   "file_extension": ".py",
   "mimetype": "text/x-python",
   "name": "python",
   "nbconvert_exporter": "python",
   "pygments_lexer": "ipython3",
   "version": "3.11.4"
  }
 },
 "nbformat": 4,
 "nbformat_minor": 4
}
