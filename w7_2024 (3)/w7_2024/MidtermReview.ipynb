{
 "cells": [
  {
   "cell_type": "markdown",
   "id": "4ed17100",
   "metadata": {},
   "source": [
    "<h1>Midterm Review</h1>\n",
    "<p>You have 2 weeks to start/complete; 48-hour window.  Suggest dividing the test into two (since it is already) and working on each part individually.\n",
    "</p>\n",
    "<p>Here are some review ideas ... </p>"
   ]
  },
  {
   "cell_type": "markdown",
   "id": "f547293d",
   "metadata": {},
   "source": [
    "<p>What do you know about controlling the flow the data?  You know about if... elif ... what about for and while loops?</p>"
   ]
  },
  {
   "cell_type": "markdown",
   "id": "22ab9c0d",
   "metadata": {},
   "source": [
    "<p>What you like or not like about IDEs?  Is Jupyter one?</p>"
   ]
  },
  {
   "cell_type": "markdown",
   "id": "e8bd84bb",
   "metadata": {},
   "source": [
    "<p>On the job we might just write the code in a hurry ... expecting the code to run from top of the file to the bottom and stop.  Okay ... but ... about functions?  Python&rsquo;s own or our own?  Benefits?</p>"
   ]
  },
  {
   "cell_type": "markdown",
   "id": "0369e95b",
   "metadata": {},
   "source": [
    "<p>Containers! We have a bunch of variable types [int, char, boolean, string, float, list, dictionary, tuple, set] ... what do you know about their mutability?  Why use one over another?</p>\n",
    "<p>What do you know about Python's treatment of floats, ints?</p>"
   ]
  },
  {
   "cell_type": "markdown",
   "id": "8e2f2ac2",
   "metadata": {},
   "source": [
    "<p>Why would you use a set?  A list?  A dictionary?  A tuple?  What are some of the pros and cons of each? And how might two of them work together to get a task done efficiently?</p>"
   ]
  },
  {
   "cell_type": "markdown",
   "id": "68e5db8c",
   "metadata": {},
   "source": [
    "<p>Give an example of &Theta;(n)</p>"
   ]
  },
  {
   "cell_type": "markdown",
   "id": "90d4e3c2",
   "metadata": {},
   "source": [
    "<p>What's the &Theta; of a for loop?  Two for loops?  An if in the for loop?  What if you had a for loop with a conditional?</p>"
   ]
  },
  {
   "cell_type": "markdown",
   "id": "7ad94931",
   "metadata": {},
   "source": [
    "<p>Strings!  How are you with String processing?  Comfortable with extract sub-sets? </p>"
   ]
  },
  {
   "cell_type": "markdown",
   "id": "9755f15a",
   "metadata": {},
   "source": [
    "<p>Are functions required to return something?</p>"
   ]
  },
  {
   "cell_type": "markdown",
   "id": "bdc41c85",
   "metadata": {},
   "source": [
    "<p>What about extracting matching data from a larger set of data?</p>"
   ]
  },
  {
   "cell_type": "markdown",
   "id": "441a135c",
   "metadata": {},
   "source": [
    "<p>How might you use a delimter?</p>"
   ]
  },
  {
   "cell_type": "markdown",
   "id": "1ee080bb",
   "metadata": {},
   "source": [
    "<p>What are some of the __xxxx___ variables you've encountered?  What about __doc__?</p>"
   ]
  },
  {
   "cell_type": "markdown",
   "id": "0726349e",
   "metadata": {},
   "source": [
    "<p>Objects!  In OOP what's the other name for a Parent class?  And if the child constructor requires 3 parameters and the parent class requires 2 parameters, can the child still invoke the Parent()?</p>"
   ]
  }
 ],
 "metadata": {
  "kernelspec": {
   "display_name": "Python 3 (ipykernel)",
   "language": "python",
   "name": "python3"
  },
  "language_info": {
   "codemirror_mode": {
    "name": "ipython",
    "version": 3
   },
   "file_extension": ".py",
   "mimetype": "text/x-python",
   "name": "python",
   "nbconvert_exporter": "python",
   "pygments_lexer": "ipython3",
   "version": "3.11.4"
  }
 },
 "nbformat": 4,
 "nbformat_minor": 5
}
